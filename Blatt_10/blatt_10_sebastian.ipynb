{
 "cells": [
  {
   "cell_type": "code",
   "execution_count": 1,
   "metadata": {},
   "outputs": [],
   "source": [
    "import numpy as np\n",
    "import matplotlib.pyplot as plt\n",
    "np.random.seed(1)"
   ]
  },
  {
   "cell_type": "markdown",
   "metadata": {},
   "source": [
    "### Aufgabe 28: Entfaltung in zwei Intervallen\n",
    "\n",
    "#### a.)\n",
    "\n",
    "Element $A_{ij}$ ist die Wahrscheinlichkeit ein Ereignis $x$ aus Bin $j$ nach\n",
    "dem Messprozess als $y$ im Bin $i$ zu finden.\n",
    "\n",
    "$$\\begin{aligned}\n",
    "g &= \\left(g_1, g_2\\right)^T\\\\\n",
    "f &= \\left(f_1, f_2\\right)^T\\\\\n",
    "g_i &= \\sum^2_{j = 1} A_{ij}f_i\\\\\n",
    "\\mathbf{A} &=\n",
    "\\begin{pmatrix}\n",
    "1 - \\epsilon & \\epsilon\\\\\n",
    "\\epsilon & 1 - \\epsilon\\\\\n",
    "\\end{pmatrix}\\\\\n",
    "\\end{aligned}$$"
   ]
  },
  {
   "cell_type": "markdown",
   "metadata": {},
   "source": [
    "---\n",
    "#### b.)\n",
    "\n",
    "$f$ erhält man durch Umformen der obigen Gleichung von $g$.\n",
    "\n",
    "$$\\begin{aligned}\n",
    "\\mathbf{A}^{-1} &= \\frac{1}{1 - 2\\epsilon}\n",
    "\\begin{pmatrix}\n",
    "1 - \\epsilon & -\\epsilon\\\\\n",
    "-\\epsilon & 1 - \\epsilon\\\\\n",
    "\\end{pmatrix}\\\\\n",
    "f &= \\mathbf{A}^{-1}g = \\frac{1}{1 - 2\\epsilon}\n",
    "\\begin{pmatrix}\n",
    "g_1 - \\epsilon(g_1 + g_2)\\\\\n",
    "g_2 - \\epsilon(g_1 + g_2)\\\\\n",
    "\\end{pmatrix}\\\\\n",
    "\\end{aligned}$$"
   ]
  },
  {
   "cell_type": "markdown",
   "metadata": {},
   "source": [
    "---\n",
    "#### c.)\n",
    "\n",
    "$$\\begin{aligned}\n",
    "\\sigma_{g1} &= \\sqrt{g_1}\\\\\n",
    "\\sigma_{g2} &= \\sqrt{g_2}\\\\\n",
    "\\mathbf{V}[g] &=\n",
    "\\begin{pmatrix}\n",
    "\\sigma_{g1}^2 & 0\\\\\n",
    "0 & \\sigma_{g2}^2\\\\\n",
    "\\end{pmatrix}\n",
    "=\n",
    "\\begin{pmatrix}\n",
    "g_1 & 0\\\\\n",
    "0 & g_2\\\\\n",
    "\\end{pmatrix}\\\\\\\\\n",
    "\\mathbf{V}[f] &= \\mathbf{A}^{-1}\\mathbf{V}[g]\\left(\\mathbf{A}^{-1}\\right)^T\\\\\\\\\n",
    "\\mathbf{V}[f] &= \\frac{1}{(1 -2\\epsilon)^2}\n",
    "\\begin{pmatrix}\n",
    "\\epsilon^2(g_1 + g_2) + g_1(1-2\\epsilon) & -\\epsilon(1 - \\epsilon)(g_1 + g_2)\\\\\n",
    "-\\epsilon(1 - \\epsilon)(g_1 + g_2) & \\epsilon^2(g_1 + g_2) + g_2(1-2\\epsilon)\\\\\n",
    "\\end{pmatrix}\n",
    "\\end{aligned}$$"
   ]
  },
  {
   "cell_type": "markdown",
   "metadata": {},
   "source": [
    "---\n",
    "#### d.)\n",
    "$$\\begin{aligned}\n",
    "\\rho &= \\frac{cov[f_1,f_2]}{\\sigma_{f1}\\sigma_{f2}} = \\frac{-\\epsilon(1-\\epsilon)(g_1 + g_2)}{\\sqrt{[\\epsilon^2(g_1 + g_2) + g_1(1-2\\epsilon)] [\\epsilon^2(g_1 + g_2) + g_2(1-2\\epsilon)]}}\n",
    "\\end{aligned}$$\n",
    "\n",
    "Nun folgt die Programmierung der obigen Formeln."
   ]
  },
  {
   "cell_type": "code",
   "execution_count": 2,
   "metadata": {},
   "outputs": [],
   "source": [
    "g_1 = 200\n",
    "g_2 = 169\n",
    "g = np.array([g_1, g_2])\n",
    "\n",
    "def Aufgabe_28(e):\n",
    "    \n",
    "    A = np.array([[1-e, e],[e, 1-e]])\n",
    "    inv_A = np.linalg.inv(A)\n",
    "    \n",
    "    f = inv_A @ g\n",
    "    \n",
    "    print(f'f = {f}\\n\\n')\n",
    "    \n",
    "    V_g = np.array([[g[0], 0], [0, g[1]]])\n",
    "    V_f = inv_A @ V_g @ inv_A.T\n",
    "\n",
    "    print(f'Kovarianzmatrix von f =\\n{V_f}\\n\\n')\n",
    "    \n",
    "    sigma_f1 = np.sqrt(V_f[0,0])\n",
    "    sigma_f2 = np.sqrt(V_f[1,1])\n",
    "    \n",
    "    print(f'Fehler von f_1 = {sigma_f1}\\n')\n",
    "    print(f'Fehler von f_2 = {sigma_f2}\\n\\n')\n",
    "    \n",
    "    cov_f = V_f[0,1]\n",
    "    rho = cov_f / (sigma_f1 * sigma_f2)\n",
    "\n",
    "    print(f'Korrelationskoeffizient von f_1 und f_2 =\\n{rho}')"
   ]
  },
  {
   "cell_type": "code",
   "execution_count": 3,
   "metadata": {},
   "outputs": [
    {
     "name": "stdout",
     "output_type": "stream",
     "text": [
      "f = [203.875 165.125]\n",
      "\n",
      "\n",
      "Kovarianzmatrix von f =\n",
      "[[255.765625 -51.890625]\n",
      " [-51.890625 217.015625]]\n",
      "\n",
      "\n",
      "Fehler von f_1 = 15.99267410410154\n",
      "\n",
      "Fehler von f_2 = 14.731450200166988\n",
      "\n",
      "\n",
      "Korrelationskoeffizient von f_1 und f_2 =\n",
      "-0.22025324331796553\n"
     ]
    }
   ],
   "source": [
    "Aufgabe_28(0.1)"
   ]
  },
  {
   "cell_type": "markdown",
   "metadata": {},
   "source": [
    "---\n",
    "#### e.)"
   ]
  },
  {
   "cell_type": "code",
   "execution_count": 4,
   "metadata": {},
   "outputs": [
    {
     "name": "stdout",
     "output_type": "stream",
     "text": [
      "f = [262. 107.]\n",
      "\n",
      "\n",
      "Kovarianzmatrix von f =\n",
      "[[ 2476. -2214.]\n",
      " [-2214.  2321.]]\n",
      "\n",
      "\n",
      "Fehler von f_1 = 49.759421218498936\n",
      "\n",
      "Fehler von f_2 = 48.17675788178364\n",
      "\n",
      "\n",
      "Korrelationskoeffizient von f_1 und f_2 =\n",
      "-0.9235591729158679\n"
     ]
    }
   ],
   "source": [
    "Aufgabe_28(e=0.4)"
   ]
  },
  {
   "cell_type": "markdown",
   "metadata": {},
   "source": [
    "Die Fehler sind viel größer als in Aufgabenteil `d.)` und der Korrelationskoeffizient ist nahezu -1."
   ]
  },
  {
   "cell_type": "markdown",
   "metadata": {},
   "source": [
    "---\n",
    "#### f.)"
   ]
  },
  {
   "cell_type": "code",
   "execution_count": 5,
   "metadata": {},
   "outputs": [],
   "source": [
    "#Aufgabe_28(e=0.5) # divergiert, da durch Null geteilt wird"
   ]
  },
  {
   "cell_type": "markdown",
   "metadata": {},
   "source": [
    "Die Inverse von $\\mathbf{A}$ lässt sich für $\\epsilon = 0,5$ nicht mehr berechnen, da durch Null geteilt werden würde.\n",
    "In diesem Fall kann nicht mehr unterschieden werden in welchen Bin ein gemessenes Ereigniss eingeordenen werden soll. Für den Limes $\\epsilon\\rightarrow0,5$ konvergiert der Korrelationskoeffizient $\\rho\\rightarrow -1$."
   ]
  },
  {
   "cell_type": "markdown",
   "metadata": {},
   "source": [
    "---\n",
    "### Aufgabe 29: Entfaltung mit quadratischen Matrizen\n",
    "\n",
    "#### a.)\n",
    "\n",
    "Die Matrix $\\mathbf{A}$ wird durch Aufsummieren einzelner Diagonalmatrizen erstellt."
   ]
  },
  {
   "cell_type": "code",
   "execution_count": 6,
   "metadata": {},
   "outputs": [],
   "source": [
    "def A(dimension, e):\n",
    "    return e * (np.eye(dimension, k=-1) + np.eye(dimension, k=1)) + np.identity(dimension) * ([1 - e] + [1 - 2 * e] * (dimension - 2) + [1 - e])"
   ]
  },
  {
   "cell_type": "code",
   "execution_count": 7,
   "metadata": {},
   "outputs": [],
   "source": [
    "d = 20\n",
    "e = 0.23\n",
    "A = A(dimension=d, e=e)"
   ]
  },
  {
   "cell_type": "markdown",
   "metadata": {},
   "source": [
    "---\n",
    "#### b.)"
   ]
  },
  {
   "cell_type": "code",
   "execution_count": 8,
   "metadata": {},
   "outputs": [],
   "source": [
    "f = np.array([193, 485, 664, 763, 804, 805, 779, 736, 684, 626,\n",
    "              566, 508, 452, 400, 351, 308, 268, 233, 202, 173])"
   ]
  },
  {
   "cell_type": "code",
   "execution_count": 9,
   "metadata": {},
   "outputs": [],
   "source": [
    "g = A @ f"
   ]
  },
  {
   "cell_type": "markdown",
   "metadata": {},
   "source": [
    "`Gemessene` Werte von $g$ errechnen, durch ziehen aus einer Poisson-Verteilung mit den Bininhalten als Erwartungswerte."
   ]
  },
  {
   "cell_type": "code",
   "execution_count": 10,
   "metadata": {},
   "outputs": [],
   "source": [
    "g_gemessen = []\n",
    "for n in g:\n",
    "    g_gemessen += list(np.random.poisson(n, 1))\n",
    "g_gemessen = np.array(g_gemessen).reshape(len(g_gemessen))"
   ]
  },
  {
   "cell_type": "code",
   "execution_count": 11,
   "metadata": {},
   "outputs": [
    {
     "data": {
      "image/png": "[encoded data removed]",
      "text/plain": [
       "<Figure size 504x504 with 1 Axes>"
      ]
     },
     "metadata": {
      "needs_background": "light"
     },
     "output_type": "display_data"
    }
   ],
   "source": [
    "plt.figure(figsize=[7,7])\n",
    "\n",
    "plt.plot(range(len(g)), g, 'x', color='C0', label='Wahrheit')\n",
    "plt.plot(range(len(g_gemessen)), g_gemessen, 'x', color='C1', label='MC')\n",
    "plt.errorbar(x=range(len(g_gemessen)), y=g_gemessen, yerr=np.sqrt(g_gemessen), fmt='x', color='C1')\n",
    "plt.xlim(min(range(len(g))) - 0.1, max(range(len(g))) + 0.1)\n",
    "plt.legend()\n",
    "plt.xticks(range(len(g)))\n",
    "plt.xlim(-0.5, len(g) - 0.5)\n",
    "plt.ylabel(r'$g$')\n",
    "plt.xlabel(r'Index von $g_i$')\n",
    "\n",
    "plt.show()"
   ]
  },
  {
   "cell_type": "markdown",
   "metadata": {},
   "source": [
    "---\n",
    "#### c.)\n",
    "\n",
    "Eigenwerte und Eigenvektoren bestimmen."
   ]
  },
  {
   "cell_type": "code",
   "execution_count": 12,
   "metadata": {},
   "outputs": [],
   "source": [
    "D, U = np.linalg.eig(A)"
   ]
  },
  {
   "cell_type": "markdown",
   "metadata": {},
   "source": [
    "$$\\mathbf{A} = \\mathbf{U}\\mathbf{D}\\mathbf{U}^{-1}$$\n",
    "\n",
    "$\\mathbf{D}$ ist eine Diagonalmatrix mit den Eigenwerten auf der Diagonale und $\\mathbf{U}$\n",
    "ist die Transformationsmatrix in die Eigenbasis.\n",
    "\n",
    "Faltungsgleichung in Diagonalbasis bringen:\n",
    "\n",
    "$$\\begin{aligned}\n",
    "g &= \\mathbf{A}f = \\mathbf{U}\\mathbf{D}\\mathbf{U}^{-1}f\\\\\n",
    "\\Leftrightarrow \\underbrace{\\mathbf{U}^{-1}g}_{:=c} &= \\mathbf{D}\\underbrace{\\mathbf{U}^{-1}f}_{:=b}\\\\\n",
    "\\Rightarrow c &= \\mathbf{D}b\n",
    "\\end{aligned}$$\n",
    "\n",
    "Der Vorteil der Darstellung in der Diagonalbasis liegt darin, dass die Transformation der Komponenten von $b$ und $c$\n",
    "unabhängig voneinander durchgeführt wird, da $\\mathbf{D}$ diagonal ist."
   ]
  },
  {
   "cell_type": "code",
   "execution_count": 13,
   "metadata": {},
   "outputs": [],
   "source": [
    "sort_D = np.argsort(np.abs(D))[::-1]\n",
    "D = D[sort_D]\n",
    "U = U[:, sort_D]\n",
    "U_inv = np.linalg.inv(U)\n",
    "D_inv = 1 / D * np.identity(len(D))"
   ]
  },
  {
   "cell_type": "markdown",
   "metadata": {},
   "source": [
    "---\n",
    "#### d.)\n"
   ]
  },
  {
   "cell_type": "code",
   "execution_count": 14,
   "metadata": {},
   "outputs": [],
   "source": [
    "c = U_inv @ g_gemessen\n",
    "b_entfalten = D_inv @ c"
   ]
  },
  {
   "cell_type": "markdown",
   "metadata": {},
   "source": [
    "Da die Komponenten von $g$ poisson-verteilt sind, sind die $\\sigma_g = \\sqrt{g}$."
   ]
  },
  {
   "cell_type": "markdown",
   "metadata": {},
   "source": [
    "Kovarianzmatrix von $b$ aus den gemessenen $g$-Werten."
   ]
  },
  {
   "cell_type": "code",
   "execution_count": 15,
   "metadata": {},
   "outputs": [],
   "source": [
    "V_g_gemessen = np.identity(len(g_gemessen)) * g_gemessen\n",
    "V_c_gemessen = U_inv @ V_g_gemessen @ U_inv.T\n",
    "V_b_gemessen = D_inv @ V_c_gemessen @ D_inv.T"
   ]
  },
  {
   "cell_type": "markdown",
   "metadata": {},
   "source": [
    "Die Entfaltenen Koeffizienten $b$ mit den zugehörigen Standardabweichungen normieren. "
   ]
  },
  {
   "cell_type": "code",
   "execution_count": 16,
   "metadata": {},
   "outputs": [],
   "source": [
    "b_entfalten_norm = abs(b_entfalten / np.sqrt(np.diag(V_b_gemessen)))"
   ]
  },
  {
   "cell_type": "code",
   "execution_count": 17,
   "metadata": {},
   "outputs": [
    {
     "data": {
      "image/png": "[encoded data removed]",
      "text/plain": [
       "<Figure size 504x504 with 1 Axes>"
      ]
     },
     "metadata": {
      "needs_background": "light"
     },
     "output_type": "display_data"
    }
   ],
   "source": [
    "plt.figure(figsize=[7, 7])\n",
    "\n",
    "plt.plot(b_entfalten_norm, 'x', label='Entfaltung')\n",
    "plt.plot([-0.5, 19.5], [1, 1], 'r-', label='1')\n",
    "plt.yscale('symlog')\n",
    "plt.xticks(range(len(b_entfalten_norm)))\n",
    "plt.xlim(-0.5, 19.5)\n",
    "plt.xlabel('Index')\n",
    "plt.ylabel(r'$b_{entfalten, normiert}$', fontsize='x-large')\n",
    "plt.legend()\n",
    "\n",
    "plt.show()"
   ]
  },
  {
   "cell_type": "markdown",
   "metadata": {},
   "source": [
    "Die Koeffizienten $b_j$ unterhalb von eins Schwanken sehr stark und folgen keiner offensichtlichen Verteilung. Die Werte erscheinen willkürlich und somit falsch."
   ]
  },
  {
   "cell_type": "markdown",
   "metadata": {},
   "source": [
    "---\n",
    "#### e.)\n",
    "\n",
    "Alle Koeffizienten mit einem Index $> 10$ werden vernachlässigt."
   ]
  },
  {
   "cell_type": "code",
   "execution_count": 18,
   "metadata": {},
   "outputs": [],
   "source": [
    "b_regualrisiert = np.copy(b_entfalten)\n",
    "b_regualrisiert[10:] = 0"
   ]
  },
  {
   "cell_type": "code",
   "execution_count": 19,
   "metadata": {},
   "outputs": [],
   "source": [
    "f_reguarisiert_entfalten = U @ b_regualrisiert\n",
    "f_entfalten = U @ b_entfalten"
   ]
  },
  {
   "cell_type": "code",
   "execution_count": 20,
   "metadata": {},
   "outputs": [
    {
     "data": {
      "image/png": "[encoded data removed]",
      "text/plain": [
       "<Figure size 504x504 with 1 Axes>"
      ]
     },
     "metadata": {
      "needs_background": "light"
     },
     "output_type": "display_data"
    }
   ],
   "source": [
    "plt.figure(figsize=[7, 7])\n",
    "\n",
    "plt.plot(f_entfalten, 'x', label='Unregularisiert')\n",
    "plt.plot(f, '-', label='Wahrheit')\n",
    "plt.errorbar(x=range(len(f_reguarisiert_entfalten)), y=f_reguarisiert_entfalten, yerr=np.sqrt(f_reguarisiert_entfalten), fmt='x', label='Regularisiert')\n",
    "plt.errorbar(x=range(len(f_entfalten)), y=f_entfalten, yerr=np.sqrt(f_entfalten), fmt='x', label='Unregularisiert')\n",
    "plt.xlabel('Index')\n",
    "plt.ylabel(r'$f$')\n",
    "plt.legend()\n",
    "\n",
    "plt.show()"
   ]
  },
  {
   "cell_type": "markdown",
   "metadata": {},
   "source": [
    "Die unregularisierte Verteilung weist starke Oszillationen um die wahren Werte auf. Im Vergleich dazu ist schwingt die regulierte Verteilung kaum.\n",
    "\n",
    "Bei den Standardabweichungen waren wir uns nicht sicher, wie diese bei der Regularisierung transformiert werden müssen."
   ]
  },
  {
   "cell_type": "markdown",
   "metadata": {},
   "source": [
    "---\n",
    "### Aufgabe 30\n",
    "\n",
    "#### a.)"
   ]
  },
  {
   "cell_type": "code",
   "execution_count": 21,
   "metadata": {},
   "outputs": [],
   "source": [
    "import pandas as pd\n",
    "import sklearn\n",
    "from sklearn.model_selection import train_test_split, cross_val_score\n",
    "from sklearn.ensemble import RandomForestClassifier, RandomForestRegressor"
   ]
  },
  {
   "cell_type": "code",
   "execution_count": 22,
   "metadata": {},
   "outputs": [],
   "source": [
    "df = pd.read_hdf('image_parameters_smd_reduced.hdf5')"
   ]
  },
  {
   "cell_type": "code",
   "execution_count": 23,
   "metadata": {},
   "outputs": [],
   "source": [
    "df['label'] = df['corsika_run_header_particle_id'] == 1"
   ]
  },
  {
   "cell_type": "markdown",
   "metadata": {},
   "source": [
    "Die MC-Wahrheit soll aus dem Datensatz entfernt werden. Es werden somit die Attribute der Gesamtenergie und die Teilchenindizierung, sowie die Event-Nummer und die Event-ID weggelassen."
   ]
  },
  {
   "cell_type": "code",
   "execution_count": 24,
   "metadata": {},
   "outputs": [],
   "source": [
    "X = df.drop(columns=['corsika_event_header_total_energy', 'corsika_run_header_particle_id', 'event_num', 'run_id'])"
   ]
  },
  {
   "cell_type": "code",
   "execution_count": 25,
   "metadata": {},
   "outputs": [],
   "source": [
    "train, test = sklearn.model_selection.train_test_split(X, test_size=0.2)"
   ]
  },
  {
   "cell_type": "markdown",
   "metadata": {},
   "source": [
    "---\n",
    "#### b.)"
   ]
  },
  {
   "cell_type": "code",
   "execution_count": 26,
   "metadata": {},
   "outputs": [],
   "source": [
    "y_train = train['label']\n",
    "y_test = test['label']\n",
    "\n",
    "X_train = train.drop(columns=['label'])\n",
    "X_test = test.drop(columns=['label'])"
   ]
  },
  {
   "cell_type": "code",
   "execution_count": 27,
   "metadata": {},
   "outputs": [
    {
     "name": "stdout",
     "output_type": "stream",
     "text": [
      "n = 1\n",
      "ROC AUC Random Forest 0.602 +/- 0.005\n",
      "Accuracy 0.601 +/- 0.005\n",
      "\n",
      "n = 10\n",
      "ROC AUC Random Forest 0.624 +/- 0.002\n",
      "Accuracy 0.624 +/- 0.002\n",
      "\n",
      "n = 100\n",
      "ROC AUC Random Forest 0.620 +/- 0.004\n",
      "Accuracy 0.620 +/- 0.004\n",
      "\n"
     ]
    }
   ],
   "source": [
    "from sklearn.model_selection import cross_validate\n",
    "from sklearn.metrics import roc_curve, roc_auc_score, make_scorer, accuracy_score\n",
    "\n",
    "for n in [1, 10, 100]:\n",
    "    rf = RandomForestClassifier(n_estimators=n, max_depth=2, random_state=0)\n",
    "    score = cross_validate(rf, X_train, y_train, scoring=make_scorer(roc_auc_score), cv=5)\n",
    "    print(f'n = {n}')\n",
    "    print('ROC AUC Random Forest {:0.3f} +/- {:0.3f}'.format(score['test_score'].mean(), score['test_score'].std()))\n",
    "    score = cross_validate(rf, X_train, y_train, scoring=make_scorer(accuracy_score), cv=5)\n",
    "    print('Accuracy {:0.3f} +/- {:0.3f}\\n'.format(score['test_score'].mean(), score['test_score'].std()))"
   ]
  },
  {
   "cell_type": "markdown",
   "metadata": {},
   "source": [
    "Die Accuracy des Random Forest ist für 10 Bäume am größten."
   ]
  },
  {
   "cell_type": "markdown",
   "metadata": {},
   "source": [
    "---\n",
    "#### c.)\n",
    "\n",
    "Trainieren des RandomForest auf den Trainingsdaten mit der Funktion `fit`.\n",
    "Berechnen der Vorhersage des trainierten RandomForest auf den Testdatensatz mit mit Hilfe der Funkiton `predict_proba`."
   ]
  },
  {
   "cell_type": "code",
   "execution_count": 28,
   "metadata": {},
   "outputs": [],
   "source": [
    "rf.fit(X_train, y_train)\n",
    "\n",
    "y_prediction_proba = rf.predict_proba(X_test)"
   ]
  },
  {
   "cell_type": "markdown",
   "metadata": {},
   "source": [
    "---\n",
    "#### d.)\n",
    "\n",
    "Erstellen der `ROC-Kurve` und der `AUC`. "
   ]
  },
  {
   "cell_type": "code",
   "execution_count": 29,
   "metadata": {},
   "outputs": [
    {
     "data": {
      "image/png": "[encoded data removed]",
      "text/plain": [
       "<Figure size 720x720 with 1 Axes>"
      ]
     },
     "metadata": {
      "needs_background": "light"
     },
     "output_type": "display_data"
    }
   ],
   "source": [
    "auc = roc_auc_score(y_test, y_prediction_proba[:, 1])\n",
    "fpr, tpr, thresholds = roc_curve(y_test, y_prediction_proba[:, 1])\n",
    "\n",
    "plt.figure(figsize=[10,10])\n",
    "\n",
    "plt.scatter(fpr, tpr, c=thresholds)\n",
    "plt.plot(fpr, tpr, '--', color='gray', alpha=0.5)\n",
    "plt.text(0.5, 0.5, f'AuC ROC: {auc:0.03f}')\n",
    "\n",
    "plt.show()"
   ]
  },
  {
   "cell_type": "code",
   "execution_count": null,
   "metadata": {},
   "outputs": [],
   "source": []
  }
 ],
 "metadata": {
  "kernelspec": {
   "display_name": "Python 3",
   "language": "python",
   "name": "python3"
  },
  "language_info": {
   "codemirror_mode": {
    "name": "ipython",
    "version": 3
   },
   "file_extension": ".py",
   "mimetype": "text/x-python",
   "name": "python",
   "nbconvert_exporter": "python",
   "pygments_lexer": "ipython3",
   "version": "3.6.7"
  }
 },
 "nbformat": 4,
 "nbformat_minor": 2
}
