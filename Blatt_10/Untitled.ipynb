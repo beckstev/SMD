{
 "cells": [
  {
   "cell_type": "markdown",
   "metadata": {},
   "source": [
    "# Übungszettel Nr. 10\n",
    "\n",
    "__Abgabe von Kusurmann, Pape und Becker__\n",
    "   "
   ]
  },
  {
   "cell_type": "code",
   "execution_count": 1,
   "metadata": {},
   "outputs": [],
   "source": [
    "import numpy as np \n",
    "import pandas as pd\n",
    "import matplotlib.pyplot as plt\n",
    "\n",
    "np.random.seed(8)"
   ]
  },
  {
   "cell_type": "markdown",
   "metadata": {},
   "source": [
    "## Aufgabe 29"
   ]
  },
  {
   "cell_type": "code",
   "execution_count": 2,
   "metadata": {},
   "outputs": [],
   "source": [
    "epsilon = 0.23"
   ]
  },
  {
   "cell_type": "code",
   "execution_count": 3,
   "metadata": {},
   "outputs": [],
   "source": [
    "def generate_A(dim, epsilon):\n",
    "    A = np.zeros([dim, dim])\n",
    "\n",
    "    np.fill_diagonal(A[1:], epsilon)\n",
    "    np.fill_diagonal(A[:, 1:], epsilon)\n",
    "    np.fill_diagonal(A, 1 - 2 * epsilon)\n",
    "    \n",
    "    A[0][0] = 1 - epsilon\n",
    "    A[dim - 1][dim -1] = 1 - epsilon\n",
    "    \n",
    "    return A"
   ]
  },
  {
   "cell_type": "markdown",
   "metadata": {},
   "source": [
    "### Aufgabenteil b)"
   ]
  },
  {
   "cell_type": "code",
   "execution_count": 4,
   "metadata": {},
   "outputs": [],
   "source": [
    "f = np.array([193, 485, 664, 763, 804, 805, 779, 736, 684, 626,\n",
    "             566, 508, 452, 400, 351, 308, 268, 233, 202, 173])"
   ]
  },
  {
   "cell_type": "code",
   "execution_count": 5,
   "metadata": {},
   "outputs": [],
   "source": [
    "A = generate_A(len(f), epsilon)"
   ]
  },
  {
   "cell_type": "code",
   "execution_count": 6,
   "metadata": {},
   "outputs": [],
   "source": [
    "g = A @ f"
   ]
  },
  {
   "cell_type": "code",
   "execution_count": 7,
   "metadata": {},
   "outputs": [],
   "source": [
    "g_exp = np.zeros(len(g))"
   ]
  },
  {
   "cell_type": "code",
   "execution_count": 8,
   "metadata": {},
   "outputs": [],
   "source": [
    "for i in range(len(g)):\n",
    "    g_exp[i] = np.random.poisson(g[i])"
   ]
  },
  {
   "cell_type": "markdown",
   "metadata": {},
   "source": [
    "### Aufgabenteil c)"
   ]
  },
  {
   "cell_type": "markdown",
   "metadata": {},
   "source": [
    "Die neue Faltungsgleichung lautet: \n",
    "\n",
    "$$\n",
    "g = \\mathbf{UDU^{-1}}f\n",
    "$$\n",
    "Der Vorteil einer Transformation ist das wir nun $\\mathbf{U}$ rüber zu $g$ packen können und auch \n",
    "$\\mathbf{U}^{-1}$ mit f verwursten werden kann."
   ]
  },
  {
   "cell_type": "code",
   "execution_count": 9,
   "metadata": {},
   "outputs": [],
   "source": [
    "A_eval, A_evec = np.linalg.eig(A) #Eigenwerte, Eigenvektoren"
   ]
  },
  {
   "cell_type": "code",
   "execution_count": 10,
   "metadata": {},
   "outputs": [],
   "source": [
    "eval_sort_index = np.argsort(np.abs(A_eval))[::-1]\n"
   ]
  },
  {
   "cell_type": "markdown",
   "metadata": {},
   "source": [
    "Sortiere die Eigenwerte und Eigenvektoren"
   ]
  },
  {
   "cell_type": "code",
   "execution_count": 11,
   "metadata": {},
   "outputs": [
    {
     "data": {
      "text/plain": [
       "array([1.        , 0.99433664, 0.977486  , 0.949863  , 0.91214782,\n",
       "       0.86526912, 0.81038122, 0.74883563, 0.68214782, 0.61195985,\n",
       "       0.54      , 0.46804015, 0.39785218, 0.33116437, 0.26961878,\n",
       "       0.21473088, 0.16785218, 0.130137  , 0.102514  , 0.08566336])"
      ]
     },
     "execution_count": 11,
     "metadata": {},
     "output_type": "execute_result"
    }
   ],
   "source": [
    "A_eval = A_eval[eval_sort_index]\n",
    "A_evec = A_evec.T[eval_sort_index].T\n",
    "\n",
    "A_eval"
   ]
  },
  {
   "cell_type": "code",
   "execution_count": 12,
   "metadata": {},
   "outputs": [],
   "source": [
    "U = A_evec\n",
    "D = np.diag(A_eval)"
   ]
  },
  {
   "cell_type": "markdown",
   "metadata": {},
   "source": [
    "### Aufgabenteil d)"
   ]
  },
  {
   "cell_type": "code",
   "execution_count": 13,
   "metadata": {},
   "outputs": [],
   "source": [
    "U_inv = np.linalg.inv(U)"
   ]
  },
  {
   "cell_type": "code",
   "execution_count": 14,
   "metadata": {},
   "outputs": [],
   "source": [
    "c = U_inv @ g\n",
    "b = U_inv @ f\n",
    "\n",
    "cov = np.diag(g_exp)\n",
    "\n",
    "cov_traf = U_inv @ cov @ U_inv.T"
   ]
  },
  {
   "cell_type": "code",
   "execution_count": 15,
   "metadata": {},
   "outputs": [],
   "source": [
    "b_exp = np.linalg.inv(D) @ U_inv @ g_exp"
   ]
  },
  {
   "cell_type": "code",
   "execution_count": 16,
   "metadata": {},
   "outputs": [],
   "source": [
    "b_exp = np.abs(b_exp / np.sqrt(g_exp))"
   ]
  },
  {
   "cell_type": "code",
   "execution_count": 17,
   "metadata": {},
   "outputs": [],
   "source": [
    "index = range(len(b_exp))"
   ]
  },
  {
   "cell_type": "code",
   "execution_count": 18,
   "metadata": {},
   "outputs": [
    {
     "data": {
      "image/png": "[encoded data removed]",
      "text/plain": [
       "<Figure size 432x288 with 1 Axes>"
      ]
     },
     "metadata": {
      "needs_background": "light"
     },
     "output_type": "display_data"
    }
   ],
   "source": [
    "plt.plot(index, b_exp, '.')\n",
    "plt.yscale('symlog')"
   ]
  },
  {
   "cell_type": "markdown",
   "metadata": {},
   "source": [
    "### Aufgabenteil e)\n"
   ]
  },
  {
   "cell_type": "code",
   "execution_count": 19,
   "metadata": {},
   "outputs": [],
   "source": [
    "b_exp = np.linalg.inv(D) @ U_inv @ g_exp"
   ]
  },
  {
   "cell_type": "code",
   "execution_count": 20,
   "metadata": {},
   "outputs": [],
   "source": [
    "f_exp = U @ b_exp"
   ]
  },
  {
   "cell_type": "code",
   "execution_count": 21,
   "metadata": {},
   "outputs": [],
   "source": [
    "b_exp[np.diagonal(D) < 0.3] = 0 \n",
    "f_exp_reg = U @ b_exp"
   ]
  },
  {
   "cell_type": "code",
   "execution_count": 22,
   "metadata": {},
   "outputs": [
    {
     "data": {
      "text/plain": [
       "<matplotlib.legend.Legend at 0x7f3df43d9400>"
      ]
     },
     "execution_count": 22,
     "metadata": {},
     "output_type": "execute_result"
    },
    {
     "data": {
      "image/png": "[encoded data removed]",
      "text/plain": [
       "<Figure size 432x288 with 1 Axes>"
      ]
     },
     "metadata": {
      "needs_background": "light"
     },
     "output_type": "display_data"
    }
   ],
   "source": [
    "plt.plot(index, f_exp,'.', label='Normal')\n",
    "plt.plot(index, f_exp_reg, '.', label='Reg')\n",
    "plt.plot(index, f, '.', label='Wahrheit')\n",
    "\n",
    "plt.legend()"
   ]
  },
  {
   "cell_type": "markdown",
   "metadata": {},
   "source": [
    "## Aufgabe 30"
   ]
  },
  {
   "cell_type": "code",
   "execution_count": 23,
   "metadata": {},
   "outputs": [],
   "source": [
    "from sklearn.decomposition import PCA\n",
    "from sklearn.model_selection import train_test_split\n",
    "from sklearn.ensemble import RandomForestClassifier\n",
    "from sklearn.preprocessing import StandardScaler\n",
    "from sklearn.model_selection import cross_validate\n",
    "from sklearn import metrics"
   ]
  },
  {
   "cell_type": "code",
   "execution_count": 24,
   "metadata": {},
   "outputs": [],
   "source": [
    "df = pd.read_hdf('./image_parameters_smd_reduced.hdf5')"
   ]
  },
  {
   "cell_type": "code",
   "execution_count": 25,
   "metadata": {},
   "outputs": [],
   "source": [
    "labels = np.zeros(len(df['corsika_run_header_particle_id'].values))"
   ]
  },
  {
   "cell_type": "code",
   "execution_count": 26,
   "metadata": {},
   "outputs": [],
   "source": [
    "labels[df['corsika_run_header_particle_id'].values ==1] = 1"
   ]
  },
  {
   "cell_type": "code",
   "execution_count": 27,
   "metadata": {},
   "outputs": [],
   "source": [
    "df['Label'] = labels"
   ]
  },
  {
   "cell_type": "code",
   "execution_count": 28,
   "metadata": {},
   "outputs": [],
   "source": [
    "center_of_gravity = df['concentration_cog'].values\n",
    "center = df['concentration_core'].values"
   ]
  },
  {
   "cell_type": "code",
   "execution_count": 29,
   "metadata": {},
   "outputs": [],
   "source": [
    "df_test = df \n",
    "df_test = df_test.drop(['run_id', 'event_num', 'corsika_run_header_particle_id', 'Label'], axis=1)\n",
    "#for i in df_test:\n",
    " #   for j in df_test:\n",
    "  #      if i != j:\n",
    "   #         plt.scatter(df[i], df[j], c=labels, s=2, alpha=0.6, cmap='winter')\n",
    "    #        plt.xlabel(i)\n",
    "     #       plt.ylabel(j)\n",
    "      #      plt.show()\n",
    "       # else:\n",
    "        #    pass\n",
    "\n",
    "# Features: \n",
    "# concentration_cog\n",
    "# photoncharge_shower_mean\n",
    "# concentration_two_pixel\n",
    "# leakage1\n",
    "# size\n",
    "# width\n",
    "# photoncharge_shower_variance\n",
    "# length\n",
    "# skewness_long"
   ]
  },
  {
   "cell_type": "code",
   "execution_count": 30,
   "metadata": {},
   "outputs": [],
   "source": [
    "df_features = df[['concentration_cog', 'photoncharge_shower_mean', 'concentration_two_pixel', 'leakage1', 'size', 'width', 'photoncharge_shower_variance', 'length', 'skewness_long', 'Label']]"
   ]
  },
  {
   "cell_type": "markdown",
   "metadata": {},
   "source": [
    "Standatisiere erstmal meine ganzen Daten (https://stackabuse.com/random-forest-algorithm-with-python-and-scikit-learn/)"
   ]
  },
  {
   "cell_type": "code",
   "execution_count": 31,
   "metadata": {},
   "outputs": [],
   "source": [
    "traningset, testset = train_test_split(df_features, test_size=0.2)\n",
    "\n",
    "sc = StandardScaler()  \n",
    "trainset_norm = sc.fit_transform(traningset.drop('Label', axis=1).values)\n",
    "\n",
    "testset_norm = sc.transform(testset.drop('Label', axis=1).values)"
   ]
  },
  {
   "cell_type": "markdown",
   "metadata": {},
   "source": [
    "### Aufgabenteil b)"
   ]
  },
  {
   "cell_type": "markdown",
   "metadata": {},
   "source": [
    "Überprüfe wie viele $n_{estimators}$ benötigt werden."
   ]
  },
  {
   "cell_type": "code",
   "execution_count": 32,
   "metadata": {},
   "outputs": [
    {
     "name": "stdout",
     "output_type": "stream",
     "text": [
      "n_estimators = 1\n",
      "Mean: 0.62 +/- 0.0048  \n",
      "\n",
      "n_estimators = 10\n",
      "Mean: 0.65 +/- 0.0019  \n",
      "\n",
      "n_estimators = 100\n",
      "Mean: 0.66 +/- 0.0011  \n",
      "\n"
     ]
    }
   ],
   "source": [
    "for n_est in [1, 10, 100]:\n",
    "    tree = RandomForestClassifier(n_estimators=n_est, random_state=0, max_depth=5)\n",
    "    \n",
    "    score = cross_validate(tree, trainset_norm, traningset['Label'],\n",
    "                       scoring=metrics.make_scorer(metrics.roc_auc_score),\n",
    "                       cv=5, n_jobs=4, return_train_score=True)\n",
    "    \n",
    "    print(f'n_estimators = {n_est}')\n",
    "    print(f\"Mean: {score['train_score'].mean():.2} +/- {score['train_score'].std():.2} \",'\\n')"
   ]
  },
  {
   "cell_type": "markdown",
   "metadata": {},
   "source": [
    "Es lohnt sich anscheinend 10 Bäume zu verwenden.\n",
    "Traniere einen neuen Tree"
   ]
  },
  {
   "cell_type": "code",
   "execution_count": 33,
   "metadata": {},
   "outputs": [
    {
     "data": {
      "text/plain": [
       "RandomForestClassifier(bootstrap=True, class_weight=None, criterion='gini',\n",
       "            max_depth=5, max_features='auto', max_leaf_nodes=None,\n",
       "            min_impurity_decrease=0.0, min_impurity_split=None,\n",
       "            min_samples_leaf=1, min_samples_split=2,\n",
       "            min_weight_fraction_leaf=0.0, n_estimators=10, n_jobs=None,\n",
       "            oob_score=False, random_state=0, verbose=0, warm_start=False)"
      ]
     },
     "execution_count": 33,
     "metadata": {},
     "output_type": "execute_result"
    }
   ],
   "source": [
    "clf = RandomForestClassifier(n_estimators=10, random_state=0, max_depth=5)\n",
    "\n",
    "clf.fit(trainset_norm, traningset['Label'])"
   ]
  },
  {
   "cell_type": "markdown",
   "metadata": {},
   "source": [
    "Prediction des Testdatensatzes"
   ]
  },
  {
   "cell_type": "code",
   "execution_count": 34,
   "metadata": {},
   "outputs": [],
   "source": [
    "predicted_label = clf.predict(testset_norm)\n",
    "predicted_label_score = clf.predict_proba(testset_norm)"
   ]
  },
  {
   "cell_type": "markdown",
   "metadata": {},
   "source": [
    "Teste die Prediction"
   ]
  },
  {
   "cell_type": "code",
   "execution_count": 54,
   "metadata": {},
   "outputs": [
    {
     "data": {
      "text/plain": [
       "<matplotlib.legend.Legend at 0x7f3dec8c8fd0>"
      ]
     },
     "execution_count": 54,
     "metadata": {},
     "output_type": "execute_result"
    },
    {
     "data": {
      "image/png": "[encoded data removed]",
      "text/plain": [
       "<Figure size 432x288 with 1 Axes>"
      ]
     },
     "metadata": {
      "needs_background": "light"
     },
     "output_type": "display_data"
    }
   ],
   "source": [
    "fpr, tpr, threshold = metrics.roc_curve(testset['Label'].values, predicted_label_score[:,1])\n",
    "\n",
    "roc_score = metrics.roc_auc_score(testset['Label'].values, predicted_label_score[:,1])\n",
    "\n",
    "x = np.linspace(0, 1, 100)\n",
    "\n",
    "plt.plot(fpr, tpr, marker='.', label='RandomForest')\n",
    "plt.plot(x, x, label = 'Raten')\n",
    "\n",
    "plt.title(f'Area under curve: {roc_score:.2}')\n",
    "plt.xlabel('fpr')\n",
    "plt.ylabel('tpr')\n",
    "plt.legend()"
   ]
  },
  {
   "cell_type": "code",
   "execution_count": 52,
   "metadata": {},
   "outputs": [
    {
     "ename": "IndexError",
     "evalue": "too many indices for array",
     "output_type": "error",
     "traceback": [
      "\u001b[0;31m---------------------------------------------------------------------------\u001b[0m",
      "\u001b[0;31mIndexError\u001b[0m                                Traceback (most recent call last)",
      "\u001b[0;32m<ipython-input-52-630a89c4bfe8>\u001b[0m in \u001b[0;36m<module>\u001b[0;34m\u001b[0m\n\u001b[0;32m----> 1\u001b[0;31m \u001b[0mprint\u001b[0m\u001b[0;34m(\u001b[0m\u001b[0mmetrics\u001b[0m\u001b[0;34m.\u001b[0m\u001b[0mclassification_report\u001b[0m\u001b[0;34m(\u001b[0m\u001b[0mtestset\u001b[0m\u001b[0;34m[\u001b[0m\u001b[0;34m'Label'\u001b[0m\u001b[0;34m]\u001b[0m\u001b[0;34m.\u001b[0m\u001b[0mvalues\u001b[0m\u001b[0;34m,\u001b[0m \u001b[0mpredicted_label\u001b[0m\u001b[0;34m[\u001b[0m\u001b[0;34m:\u001b[0m\u001b[0;34m,\u001b[0m\u001b[0;36m1\u001b[0m\u001b[0;34m]\u001b[0m\u001b[0;34m)\u001b[0m\u001b[0;34m)\u001b[0m\u001b[0;34m\u001b[0m\u001b[0;34m\u001b[0m\u001b[0m\n\u001b[0m\u001b[1;32m      2\u001b[0m \u001b[0mprint\u001b[0m\u001b[0;34m(\u001b[0m\u001b[0mmetrics\u001b[0m\u001b[0;34m.\u001b[0m\u001b[0maccuracy_score\u001b[0m\u001b[0;34m(\u001b[0m\u001b[0mtestset\u001b[0m\u001b[0;34m[\u001b[0m\u001b[0;34m'Label'\u001b[0m\u001b[0;34m]\u001b[0m\u001b[0;34m.\u001b[0m\u001b[0mvalues\u001b[0m\u001b[0;34m,\u001b[0m \u001b[0mpredicted_label\u001b[0m\u001b[0;34m)\u001b[0m\u001b[0;34m)\u001b[0m\u001b[0;34m\u001b[0m\u001b[0;34m\u001b[0m\u001b[0m\n",
      "\u001b[0;31mIndexError\u001b[0m: too many indices for array"
     ]
    }
   ],
   "source": [
    "print(metrics.classification_report(testset['Label'].values, predicted_label[:,1]))\n",
    "print(metrics.accuracy_score(testset['Label'].values, predicted_label))"
   ]
  },
  {
   "cell_type": "code",
   "execution_count": 37,
   "metadata": {},
   "outputs": [
    {
     "data": {
      "text/plain": [
       "array([0.52998863, 0.51452784, 0.53628418, ..., 0.53174194, 0.52998863,\n",
       "       0.53628418])"
      ]
     },
     "execution_count": 37,
     "metadata": {},
     "output_type": "execute_result"
    }
   ],
   "source": [
    "predicted_label_score.max(axis=1)"
   ]
  },
  {
   "cell_type": "code",
   "execution_count": 51,
   "metadata": {},
   "outputs": [
    {
     "data": {
      "text/plain": [
       "array([0.52998863, 0.51452784, 0.53628418, ..., 0.53174194, 0.52998863,\n",
       "       0.53628418])"
      ]
     },
     "execution_count": 51,
     "metadata": {},
     "output_type": "execute_result"
    }
   ],
   "source": [
    "predicted_label_score[:,1]"
   ]
  },
  {
   "cell_type": "code",
   "execution_count": 56,
   "metadata": {},
   "outputs": [
    {
     "data": {
      "text/plain": [
       "(array([0., 0., 0., 0., 0., 0., 0., 0., 0., 0., 0., 0., 0., 0., 0., 0., 0.,\n",
       "        0., 0., 0., 0., 0., 0., 0., 0., 0., 0., 0., 0., 0., 0., 0., 0., 0.,\n",
       "        0., 1., 0., 0., 0., 0., 0., 0., 0., 0., 0., 0., 0., 0., 0.]),\n",
       " array([0.        , 0.02040816, 0.04081633, 0.06122449, 0.08163265,\n",
       "        0.10204082, 0.12244898, 0.14285714, 0.16326531, 0.18367347,\n",
       "        0.20408163, 0.2244898 , 0.24489796, 0.26530612, 0.28571429,\n",
       "        0.30612245, 0.32653061, 0.34693878, 0.36734694, 0.3877551 ,\n",
       "        0.40816327, 0.42857143, 0.44897959, 0.46938776, 0.48979592,\n",
       "        0.51020408, 0.53061224, 0.55102041, 0.57142857, 0.59183673,\n",
       "        0.6122449 , 0.63265306, 0.65306122, 0.67346939, 0.69387755,\n",
       "        0.71428571, 0.73469388, 0.75510204, 0.7755102 , 0.79591837,\n",
       "        0.81632653, 0.83673469, 0.85714286, 0.87755102, 0.89795918,\n",
       "        0.91836735, 0.93877551, 0.95918367, 0.97959184, 1.        ]),\n",
       " <a list of 49 Patch objects>)"
      ]
     },
     "execution_count": 56,
     "metadata": {},
     "output_type": "execute_result"
    },
    {
     "data": {
      "image/png": "[encoded data removed]",
      "text/plain": [
       "<Figure size 432x288 with 1 Axes>"
      ]
     },
     "metadata": {
      "needs_background": "light"
     },
     "output_type": "display_data"
    }
   ],
   "source": [
    "plt.hist(roc_score, bins=np.linspace(0, 1))"
   ]
  },
  {
   "cell_type": "code",
   "execution_count": 62,
   "metadata": {},
   "outputs": [
    {
     "data": {
      "text/plain": [
       "(array([ 662.,  493.,  653.,  618., 6262., 2039.,  917.,  356.,    0.]),\n",
       " array([0.        , 0.11111111, 0.22222222, 0.33333333, 0.44444444,\n",
       "        0.55555556, 0.66666667, 0.77777778, 0.88888889, 1.        ]),\n",
       " <a list of 9 Patch objects>)"
      ]
     },
     "execution_count": 62,
     "metadata": {},
     "output_type": "execute_result"
    },
    {
     "data": {
      "image/png": "[encoded data removed]",
      "text/plain": [
       "<Figure size 432x288 with 1 Axes>"
      ]
     },
     "metadata": {
      "needs_background": "light"
     },
     "output_type": "display_data"
    }
   ],
   "source": [
    "plt.hist(predicted_label_score[:,1], bins=np.linspace(0, 1, 10))"
   ]
  },
  {
   "cell_type": "code",
   "execution_count": null,
   "metadata": {},
   "outputs": [],
   "source": []
  }
 ],
 "metadata": {
  "kernelspec": {
   "display_name": "Python 3",
   "language": "python",
   "name": "python3"
  },
  "language_info": {
   "codemirror_mode": {
    "name": "ipython",
    "version": 3
   },
   "file_extension": ".py",
   "mimetype": "text/x-python",
   "name": "python",
   "nbconvert_exporter": "python",
   "pygments_lexer": "ipython3",
   "version": "3.7.1"
  }
 },
 "nbformat": 4,
 "nbformat_minor": 2
}
