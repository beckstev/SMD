{
 "cells": [
  {
   "cell_type": "markdown",
   "metadata": {},
   "source": [
    "## Blatt 08"
   ]
  },
  {
   "cell_type": "markdown",
   "metadata": {},
   "source": [
    "### Aufgabe 24: _F-Praktikum_\n"
   ]
  },
  {
   "cell_type": "code",
   "execution_count": null,
   "metadata": {},
   "outputs": [],
   "source": [
    "import numpy as np\n",
    "import matplotlib.pyplot as plt\n",
    "from uncertainties import ufloat\n",
    "from uncertainties import unumpy as unp\n",
    "np.random.seed(8)"
   ]
  },
  {
   "cell_type": "code",
   "execution_count": null,
   "metadata": {},
   "outputs": [],
   "source": [
    "psi = np.linspace(0, 11, 12) * 30 * np.pi / 180\n",
    "asy = np.array([-0.032,0.010,0.057,0.068,0.076,0.080,\n",
    "                0.031,0.005,-0.041,-0.090,-0.088,-0.074])"
   ]
  },
  {
   "cell_type": "code",
   "execution_count": null,
   "metadata": {},
   "outputs": [],
   "source": [
    "def f_1(psi):\n",
    "    return np.cos(psi)\n",
    "\n",
    "def f_2(psi):\n",
    "    return np.sin(psi)"
   ]
  },
  {
   "cell_type": "markdown",
   "metadata": {},
   "source": [
    "#### a.)\n",
    "\n",
    "Bestimmen der Designmatrix $\\mathbf{A}$."
   ]
  },
  {
   "cell_type": "code",
   "execution_count": null,
   "metadata": {},
   "outputs": [],
   "source": [
    "A = np.array([f_1(psi), f_2(psi)]).T\n",
    "\n",
    "print(f'Designmatrix A = \\n{np.round(A, 4)}.')"
   ]
  },
  {
   "cell_type": "markdown",
   "metadata": {},
   "source": [
    "---\n",
    "#### b.)\n",
    "\n",
    "Berechnen des Lösungsvektors $\\mathbf{\\hat{a}}$, mit der Methode der kleinsten Quadrate."
   ]
  },
  {
   "cell_type": "code",
   "execution_count": null,
   "metadata": {},
   "outputs": [],
   "source": [
    "a_hut = np.linalg.inv(A.T @ A) @ A.T @ asy\n",
    "print(f'Der Lösungsvektor ist: {a_hut}.')"
   ]
  },
  {
   "cell_type": "markdown",
   "metadata": {},
   "source": [
    "---\n",
    "#### c.)\n",
    "\n",
    "Berechnen der Kovarianzmatrix $\\mathbf{V}[\\mathbf{\\hat{a}}]$ und den Fehlern von $a_1$ und $a_2$ und Korrelationskoeffizienten.\n",
    "Die Messdaten der Asymmetrie haben einen Messfehler von $\\pm 0,011$."
   ]
  },
  {
   "cell_type": "code",
   "execution_count": null,
   "metadata": {},
   "outputs": [],
   "source": [
    "fehler = 0.011\n",
    "a_1_value = a_hut[0]\n",
    "a_2_value = a_hut[1]\n",
    "V_y = fehler **2 * np.identity(12)"
   ]
  },
  {
   "cell_type": "code",
   "execution_count": null,
   "metadata": {},
   "outputs": [],
   "source": [
    "V_a = np.linalg.inv(A.T @ A) @ A.T @ V_y @ A @ np.linalg.inv(A.T @ A)\n",
    "\n",
    "print(f'Die Kovarianzmatrix V[a_hut] ist: \\n{V_a}.')"
   ]
  },
  {
   "cell_type": "markdown",
   "metadata": {},
   "source": [
    "Die Elemente der Nebendiagonalen sind quasi Null. Deshalb sind cie Fehler von $a_1$ und $a_2$ die Wurzeln der Hauptdiagonalelemente."
   ]
  },
  {
   "cell_type": "code",
   "execution_count": null,
   "metadata": {},
   "outputs": [],
   "source": [
    "err_a1 = np.sqrt(np.diag(V_a)[0])\n",
    "err_a2 = np.sqrt(np.diag(V_a)[1])\n",
    "\n",
    "a_1 = ufloat(a_1_value, err_a1)\n",
    "a_2 = ufloat(a_2_value, err_a2)\n",
    "\n",
    "print(f'a_1: {a_1}\\na_2: {a_2}')"
   ]
  },
  {
   "cell_type": "code",
   "execution_count": null,
   "metadata": {},
   "outputs": [],
   "source": [
    "rho_a = V_a[0,1] / (V_a[0,0] * V_a[1,1])\n",
    "\n",
    "print(f'Der Korrelationskoeffizient von a_1 und a_2 ist: {rho_a:.3}, also quasi 0.')"
   ]
  },
  {
   "cell_type": "markdown",
   "metadata": {},
   "source": [
    "---\n",
    "#### d.)\n",
    "\n",
    "Berechnen von $A_0$ und $\\delta$, sowie deren Fehler und Korrelationen aus $a_1$ und $a_2$.\n",
    "\n",
    "$$f(\\psi) = A_0\\cos{(\\psi+\\delta)} = \\underbrace{A_0\\cos{(\\delta)}}_{a_1}\\cos{(\\psi)}+\\underbrace{(-A_0\\sin{(\\delta))}}_{a_2}\\sin{(\\psi)}\n",
    "$$\n",
    "\n",
    "$$\\begin{aligned}\n",
    "\\delta &= \\arctan{\\left(-\\frac{a_2}{a_1}\\right)}\\\\\n",
    "A_0 &= \\frac{a_1}{\\cos{(\\delta)}} = -\\frac{a_2}{\\sin{(\\delta)}} = \\sqrt{a_1^2 + a_2^2}\n",
    "\\end{aligned}$$"
   ]
  },
  {
   "cell_type": "code",
   "execution_count": null,
   "metadata": {},
   "outputs": [],
   "source": [
    "delta = unp.arctan(-a_2 / a_1) \n",
    "A_0 = a_1 / unp.cos(delta)\n",
    "\n",
    "print(f'A_0 = {A_0},\\ndelta = {delta}')"
   ]
  },
  {
   "cell_type": "markdown",
   "metadata": {},
   "source": [
    "Für die Berechnung der Korrelation zwischen $A_0$ und $\\delta$ wird die Formel $\\mathrm{JVJ^T}$ für die Transformation mehrerer Variablen verwendet. Dabei ist $\\mathrm{J}$\n",
    "die Jacobimatrix. Die Elemente auf der Nebendiagonale der Korelationsmatrix $\\mathrm{V}$ sind quasi Null, wie oben gezeigt wurde. Für die folgende Rechnung wird jedoch mit den exakten Werten gerechnet. \n",
    "\n",
    "$$\n",
    "\\begin{aligned}\n",
    "\\mathrm{J} &= \n",
    "\\begin{pmatrix}\n",
    "    \\frac{a_1}{\\sqrt{a_1^2 + a_2^2}} & \\frac{a_2}{\\sqrt{a_1^2 + a_2^2}} \\\\\n",
    "    \\frac{a_2}{a_1^2 + a_2^2} & \\frac{-a_1}{a_1^2 + a_2^2} \\\\\n",
    "\\end{pmatrix}\\\\\n",
    "\\\\\n",
    "\\mathrm{V} &\\approx\n",
    "\\begin{pmatrix}\n",
    "    \\sigma_{a_1}^2 & 0 \\\\\n",
    "    0 & \\sigma_{a_2}^2 \\\\\n",
    "\\end{pmatrix}\\\\\n",
    "\\\\\n",
    "\\mathrm{JVJ^T} &= \\frac{1}{a_1^2 + a_2^2}\n",
    "\\begin{pmatrix}\n",
    "    a_1^2\\sigma_{a_1}^2 + a_2^2 \\sigma_{a_2}^2 & \\frac{a_1a_2}{\\sqrt{a_1^2 + a_2^2}}\\left(\\sigma_{a_1}^2 - \\sigma_{a_2}^2\\right) \\\\\n",
    "    \\frac{a_1a_2}{\\sqrt{a_1^2 + a_2^2}}\\left(\\sigma_{a_1}^2 - \\sigma_{a_2}^2\\right) & a_2^2\\sigma_{a_1}^2 + a_1^2 \\sigma_{a_2}^2 \\\\\n",
    "\\end{pmatrix}\\\\\n",
    "\\end{aligned}\n",
    "$$"
   ]
  },
  {
   "cell_type": "code",
   "execution_count": null,
   "metadata": {},
   "outputs": [],
   "source": [
    "J = np.array([[a_1.n/(a_1.n**2 + a_2.n**2)**(1/2), a_2.n/(a_1.n**2 + a_2.n**2)**(1/2)],\n",
    "             [a_2.n/(a_1.n**2 + a_2.n**2), -a_1.n/(a_1.n**2 + a_2.n**2)]])\n",
    "\n",
    "V_A_0_delta = J@V_a@J.T\n",
    "\n",
    "print(f'Kovarianzmatrix = {V_A_0_delta}')"
   ]
  },
  {
   "cell_type": "code",
   "execution_count": null,
   "metadata": {},
   "outputs": [],
   "source": [
    "cov_A_0_delta = V_A_0_delta[0, 1]\n",
    "\n",
    "rho_A_0_delta = cov_A_0_delta / (V_A_0_delta[0,0]**2 * V_A_0_delta[1,1]**2)\n",
    "\n",
    "print(f'V[A_0, delta] =\\n {V_A_0_delta}\\n\\nKorrelationskoeffizient = {rho_A_0_delta}')"
   ]
  },
  {
   "cell_type": "markdown",
   "metadata": {},
   "source": [
    "Die Kovarianzmatrix ist aufgrund von numerischen Rauschens nicht symmetrisch."
   ]
  },
  {
   "cell_type": "markdown",
   "metadata": {},
   "source": [
    "---\n",
    "## Aufgabe 22\n",
    "\n",
    "$$y = a_0 + a_1 x,$$\n",
    "\n",
    "mit $a_0 = 1,0\\pm0,2$ und $a_1 = 1,0\\pm0,2$.\n",
    "Die Größen sind miteinander korreliert, wobei $\\rho = -0,8$ ist.\n",
    "\n",
    "\n",
    "#### a.)"
   ]
  },
  {
   "cell_type": "markdown",
   "metadata": {},
   "source": [
    "$$ \\sigma_{y}={\\sqrt {\\sum _{i=1}^{m}\\left({\\frac {\\partial y}{\\partial x_{i}}}\\cdot \\sigma_{i}\\right)^{2}+2\\underbrace {\\sum _{i=1}^{m-1}\\sum _{k=i+1}^{m}\\left({\\frac {\\partial y}{\\partial x_{i}}}\\right)\\left({\\frac {\\partial y}{\\partial x_{k}}}\\right)\\cdot \\text{cov}(x_{i},x_{k})} _{\\mathrm {Korrelationsterme} }}}$$\n",
    "\n",
    "Korrelierte Variablen:\n",
    "\n",
    "Benutze $\\rho = \\frac{\\text{cov}(a_0, a_1)}{\\sigma_{a_0}\\sigma_{a_1}}$, um damit $\\text{cov}(a_0, a_1)$ auszudrücken.\n",
    "\n",
    "$$\\sigma_y(x) = \\sqrt{\\sigma_{a_0}^2 + (\\sigma_{a_1}x)^2 + 2x\\rho\\sigma_{a_0}\\sigma_{a_1}}$$\n",
    "\n",
    "Unkorrelierte Variablen:\n",
    "\n",
    "$$\\sigma_y(x) = \\sqrt{\\sigma_{a_0}^2 + (\\sigma_{a_1}x)^2}$$"
   ]
  },
  {
   "cell_type": "markdown",
   "metadata": {},
   "source": [
    "---\n",
    "#### b.)\n",
    "\n",
    "Numerisches Bestimmen der Korrelation."
   ]
  },
  {
   "cell_type": "code",
   "execution_count": null,
   "metadata": {},
   "outputs": [],
   "source": [
    "def y(a_0, a_1, x):\n",
    "    return a_0 + a_1 * x\n",
    "\n",
    "a_0 = 1\n",
    "a_1 = 1\n",
    "\n",
    "rho = -0.8\n",
    "sigma_a0 = 0.2\n",
    "sigma_a1 = 0.2\n",
    "\n",
    "cov_a0_a1 = rho * sigma_a0 * sigma_a1\n",
    "cov = np.array([[sigma_a0**2, cov_a0_a1], [cov_a0_a1, sigma_a1**2]])\n",
    "\n",
    "#  Monte Carlo simulierte normalverteilte Zahlen für die korrelierten Parameter a0 und a1 \n",
    "\n",
    "a = np.random.multivariate_normal(np.array([a_0, a_1]), cov, 10000)\n",
    "\n",
    "#  Monte Carlo simulierte normalverteilte Zahlen für unkorrelierten Parameter a0 und a1 \n",
    "\n",
    "a_unkorreliert = np.random.multivariate_normal(np.array([a_0, a_1]), np.array([[sigma_a0**2, 0], [0, sigma_a1**2]]), 10000)"
   ]
  },
  {
   "cell_type": "markdown",
   "metadata": {},
   "source": [
    "Plotten der Ergebnisse."
   ]
  },
  {
   "cell_type": "code",
   "execution_count": null,
   "metadata": {},
   "outputs": [],
   "source": [
    "plt.figure(figsize=[15,7.5])\n",
    "plt.subplot(1,2,1)\n",
    "plt.scatter(a[:,0], a[:,1], alpha=0.5, s=3, label='korrelierte Parameter', color='C0')\n",
    "plt.xlabel(r'$a_0$')\n",
    "plt.ylabel(r'$a_1$')\n",
    "plt.legend()\n",
    "\n",
    "plt.subplot(1,2,2)\n",
    "plt.scatter(a_unkorreliert[:,0], a_unkorreliert[:,1], alpha=0.5, s=3, label='unkorrelierte Parameter', color='C1')\n",
    "plt.xlabel(r'$a_0$')\n",
    "plt.ylabel(r'$a_1$')\n",
    "plt.legend()\n",
    "plt.show()"
   ]
  },
  {
   "cell_type": "markdown",
   "metadata": {},
   "source": [
    "---\n",
    "#### c.)\n",
    "\n",
    "Bestimmen der Vorhersage für feste $x = -3, 0, 3$.\n",
    "\n",
    "Zuerst die analytische Berechnung von $\\sigma_y$:"
   ]
  },
  {
   "cell_type": "code",
   "execution_count": null,
   "metadata": {},
   "outputs": [],
   "source": [
    "x = np.array([-3, 0, 3])"
   ]
  },
  {
   "cell_type": "code",
   "execution_count": null,
   "metadata": {},
   "outputs": [],
   "source": [
    "def sigma_y_korr(sigma_a0, sigma_a1, rho, x):\n",
    "    return np.sqrt(sigma_a0**2 + (sigma_a1 * x)**2 + 2 * sigma_a0 * sigma_a1 * rho * x)\n",
    "\n",
    "def sigma_y_unkorr(sigma_a0, sigma_a1, x):\n",
    "    return np.sqrt(sigma_a0**2 + (sigma_a1 * x)**2)"
   ]
  },
  {
   "cell_type": "code",
   "execution_count": null,
   "metadata": {},
   "outputs": [],
   "source": [
    "print('-'*50, '\\n\\nFür korrelierte Parameter:\\n')\n",
    "for i in x:\n",
    "    sigma_y = sigma_y_korr(sigma_a0, sigma_a1, rho, i)\n",
    "    print(f'Fehler von y für x = {i} : {sigma_y}')"
   ]
  },
  {
   "cell_type": "markdown",
   "metadata": {},
   "source": [
    "---"
   ]
  },
  {
   "cell_type": "code",
   "execution_count": null,
   "metadata": {},
   "outputs": [],
   "source": [
    "print('-'*50, '\\n\\nFür unkorrelierte Parameter:\\n')\n",
    "for i in x:\n",
    "    sigma_y = sigma_y_unkorr(sigma_a0, sigma_a1, i)\n",
    "    print(f'Fehler von y für x = {i} : {sigma_y}')"
   ]
  },
  {
   "cell_type": "markdown",
   "metadata": {},
   "source": [
    "---\n",
    "Nun die numerische Berechnung von $\\sigma_y$"
   ]
  },
  {
   "cell_type": "code",
   "execution_count": null,
   "metadata": {},
   "outputs": [],
   "source": [
    "print('-'*50, '\\n\\nFür korrelierte Parameter:\\n')\n",
    "for i in x:\n",
    "    y_korr = y(a[:,0], a[:,1], i)\n",
    "    sigma_y = np.std(y_korr)\n",
    "    print(f'Fehler von y für x = {i} : {sigma_y}')"
   ]
  },
  {
   "cell_type": "code",
   "execution_count": null,
   "metadata": {},
   "outputs": [],
   "source": [
    "print('-'*50, '\\n\\nFür unkorrelierte Parameter:\\n')\n",
    "for i in x:\n",
    "    y_unkorr = y(a_unkorreliert[:,0], a_unkorreliert[:,1], i)\n",
    "    sigma_y = np.std(y_unkorr)\n",
    "    print(f'Fehler von y für x = {i} : {sigma_y}')"
   ]
  },
  {
   "cell_type": "markdown",
   "metadata": {},
   "source": [
    "__Vergleich :__ \n",
    "Die analytischen Werte wurden mit den numerisch berechneten bis auf die dritte Nachkommastelle approximiert.\n",
    "Allgemein gilt, je mehr Werte aus der Monte Carlo Simulation entnommen werden, desto näher stimmen die numerischen mit den analytisch erechneten Werten überein."
   ]
  },
  {
   "cell_type": "markdown",
   "metadata": {},
   "source": [
    "---\n",
    "## Aufgabe 23 Teilchenspuren\n",
    "\n",
    "In einem Teilchenphysikexperiment stehen 2 Ebenen von Driftkammern senkrecht zur\n",
    "z-Achse an den Positionen z 1 und z 2 (kein Magnetfeld, Vakuum). Sie messen die jeweilige\n",
    "x-Position (x 1 und x 2 ) eines hindurchfliegenden geladenen Teilchens mit den Fehlern σ x 1\n",
    "und σ x 2 ohne Korrelation.\n",
    "\n",
    "#### a.)\n",
    "Es werden die $x$-Positionen berechnet, mit den Fehlern $\\sigma_{x_1}$ und $\\sigma_{x_2}$.\n",
    "\n",
    "$$x = az + b,$$\n",
    "\n",
    "für $z = z_1$ ist $x = x_1$ und für $z = z_2$ ist $x = x_2$.\n",
    "\n",
    "$$\n",
    "\\begin{aligned}\n",
    "\\Rightarrow b &= x_1 - az_1\\\\\n",
    "\\Rightarrow a &= \\frac{x_2 - x_1}{z_2 - z_1}\\\\\n",
    "\\Rightarrow b &= x_1 - \\frac{x_2 - x_1}{z_2 - z_1}\\cdot z_1\\\\\n",
    "x(z) &= \\frac{x_2 - x_1}{z_2 - z_1}(z - z_1)  + x_1\n",
    "\\end{aligned}$$\n",
    "\n",
    "Da die Messfehler in $x$ unkorreliert sind ergibt sich die Kovarianzmatrix der Messdaten zu:\n",
    "\n",
    "$$\\mathrm{V}[\\vec{x}] = \n",
    "\\begin{pmatrix}\n",
    "    \\sigma_{x1}^2 & 0 \\\\\n",
    "    0 & \\sigma_{x2}^2 \\\\\n",
    "\\end{pmatrix}\n",
    "$$\n",
    "\n",
    "Die Kovarianzmatrix von $a$ und $b$ wird wie folgt berechnet:\n",
    "\n",
    "$$\\mathrm{V}[\\hat{x}] =(A^TA)^{-1}A^TV[\\vec{x}]A(A^TA)^{-1}$$\n",
    "\n",
    "Mit den einzelnen Größen:\n",
    "\n",
    "$$A =\n",
    "\\begin{pmatrix}\n",
    "    1 & z_1 \\\\\n",
    "    1 & z_2 \\\\\n",
    "\\end{pmatrix}\n",
    "$$\n",
    "\n",
    "$$A^T =\n",
    "\\begin{pmatrix}\n",
    "    1 & 1 \\\\\n",
    "    z_1 & z_2 \\\\\n",
    "\\end{pmatrix}\n",
    "$$\n",
    "\n",
    "$$(A^TA)^{-1} = \\frac{1}{(z_1 - z_2)^2}\n",
    "\\begin{pmatrix}\n",
    "    z_1^2 + z_2^2 & -z_1 - z_2 \\\\\n",
    "    -z_1 - z_2 & 2 \\\\\n",
    "\\end{pmatrix}\n",
    "$$\n",
    "\n",
    "$$\\mathrm{V}[\\hat{x}] = \\frac{1}{(z_1 - z_2)^2}\n",
    "\\begin{pmatrix}\n",
    "    (\\sigma_{x_2}^2z_1^2 + \\sigma_{x_1}^2z_2^2) & -\\sigma_{x_1}^2z_2 - \\sigma_{x_2}^2z_1 \\\\\n",
    "    -\\sigma_{x_1}^2z_2 - \\sigma_{x_2}^2z_1 & (\\sigma_{x_1}^2 + \\sigma_{x_2}^2) \\\\\n",
    "\\end{pmatrix}$$\n",
    "\n",
    "Für $a$ und $b$ liefert die Gaußschefehlerfortpflanzung:\n",
    "\n",
    "$$\n",
    "\\begin{aligned}\n",
    "\\sigma_a &= \\sqrt{\\left(\\frac{1}{z_2 - z_1}\\right)^2 (\\sigma_{x_2}^2 + \\sigma_{x_1}^2)}\\\\\n",
    "\\sigma_b &= \\sqrt{\\left(\\frac{1}{z_2 - z_1}\\right)^2 (z_1^2\\sigma_{x_2}^2 + z_2^2\\sigma_{x_1}^2)}\\\\\n",
    "\\end{aligned}$$\n",
    "\n",
    "Es tritt kein Korrelationsterm auf, da $x_1$ und $x_2$ unkorrliert sind.\n",
    "\n",
    "$$\\rho = \\frac{\\text{cov}(a,b)}{\\sigma_a\\sigma_b} = - \\frac{z_2\\sigma_{x1}^2 + z_1\\sigma_{x2}^2}{\\sqrt{(\\sigma_{x_2}^2 + \\sigma_{x_2}^2)(z_1\\sigma_{x_2}^2 + z_2\\sigma_{x_1}^2)}}$$\n",
    "\n",
    "---\n",
    "\n",
    "#### b.)\n",
    "\n",
    "Fehler von $x_3$ mit Korrelation:\n",
    "\n",
    "$$\n",
    "\\begin{aligned}\n",
    "x_3 &= az_3 + b\\\\\n",
    "\\sigma_{x3} &= \\sqrt{z_3^2\\sigma_a^2 + \\sigma_b^2 + 2z_3\\text{cov}(a,b)}\n",
    "\\end{aligned}\n",
    "$$\n",
    "\n",
    "---\n",
    "\n",
    "#### c.)\n",
    "\n",
    "Fehler von $x_3$ ohne Korrelation:\n",
    "\n",
    "$$\\sigma_{x3} = \\sqrt{z_3^2\\sigma_a^2 + \\sigma_b^2}$$"
   ]
  },
  {
   "cell_type": "code",
   "execution_count": null,
   "metadata": {},
   "outputs": [],
   "source": []
  }
 ],
 "metadata": {
  "kernelspec": {
   "display_name": "Python 3",
   "language": "python",
   "name": "python3"
  },
  "language_info": {
   "codemirror_mode": {
    "name": "ipython",
    "version": 3
   },
   "file_extension": ".py",
   "mimetype": "text/x-python",
   "name": "python",
   "nbconvert_exporter": "python",
   "pygments_lexer": "ipython3",
   "version": "3.6.6"
  }
 },
 "nbformat": 4,
 "nbformat_minor": 2
}
