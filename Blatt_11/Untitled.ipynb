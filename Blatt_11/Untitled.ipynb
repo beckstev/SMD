{
 "cells": [
  {
   "cell_type": "markdown",
   "metadata": {},
   "source": [
    "# SMD Übungszettel Nr. 11\n",
    "\n",
    "__Abgabe von: Kusurmann, Pape und Becker__"
   ]
  },
  {
   "cell_type": "code",
   "execution_count": 3,
   "metadata": {},
   "outputs": [],
   "source": [
    "import numpy as np\n",
    "import pandas as pd\n",
    "import matplotlib.pyplot as plt\n",
    "from scipy.stats import chi2, poisson\n",
    "import math\n",
    "import scipy\n",
    "\n",
    "np.random.seed(8)"
   ]
  },
  {
   "cell_type": "markdown",
   "metadata": {},
   "source": [
    "## Aufgabe 32\n",
    "\n",
    "Der $\\chi^2$ Test ist definiert als:\n",
    "\n",
    "$$\n",
    "\\chi^2 = \\sum_{i=1}^{N} \\frac{\\left(y_i - \\bar{y}\\right)^2}{\\sigma_i^2}\n",
    "$$"
   ]
  },
  {
   "cell_type": "code",
   "execution_count": 2,
   "metadata": {},
   "outputs": [
    {
     "name": "stdout",
     "output_type": "stream",
     "text": [
      "Anzahl der Freiheitsgrade: 6\n"
     ]
    }
   ],
   "source": [
    "y = np.array([31.6, 32.2, 31.2, 31.9, 31.3, 30.8, 31.3])\n",
    "y_A = 31.3 \n",
    "y_B = 30.7\n",
    "sigma = 0.5\n",
    "df = len(y) - 1 \n",
    "\n",
    "print(f'Anzahl der Freiheitsgrade: {df}')"
   ]
  },
  {
   "cell_type": "code",
   "execution_count": 3,
   "metadata": {},
   "outputs": [
    {
     "name": "stdout",
     "output_type": "stream",
     "text": [
      "Chi_A lautet: 6.08\n",
      "Chi_B lautet: 21.92\n"
     ]
    }
   ],
   "source": [
    "chi_A = sum((y - y_A)**2 / sigma**2)\n",
    "chi_B = sum((y - y_B)**2 / sigma**2)\n",
    "\n",
    "print(f\"Chi_A lautet: {chi_A:.12}\")\n",
    "print(f\"Chi_B lautet: {chi_B:.12}\")"
   ]
  },
  {
   "cell_type": "code",
   "execution_count": 4,
   "metadata": {},
   "outputs": [
    {
     "name": "stdout",
     "output_type": "stream",
     "text": [
      "Die Wahrscheinlichkeit Chi_A oder einen Größeren Wert zu messen liegt bei: 0.41\n",
      "Die Wahrscheinlichkeit Chi_B oder einen Größeren Wert zu messen liegt bei: 0.0013\n"
     ]
    }
   ],
   "source": [
    "p_A = 1 - chi2.cdf(chi_A, df)\n",
    "p_B = 1 - chi2.cdf(chi_B, df)\n",
    "\n",
    "print(f\"Die Wahrscheinlichkeit Chi_A oder einen Größeren Wert zu messen liegt bei: {p_A:.2}\")\n",
    "print(f\"Die Wahrscheinlichkeit Chi_B oder einen Größeren Wert zu messen liegt bei: {p_B:.2}\")\n"
   ]
  },
  {
   "cell_type": "markdown",
   "metadata": {},
   "source": [
    "Aus einem $\\chi^2$ Diagramm (siehe Blobel, S.81) kann nun die Wahrscheinlichkeit abgelesen werden oder mit `scipy.stats.chi2.cdf` berchnet werden, dass \n",
    "in der Verteilung Werte auftreten die mindestens so groß sind wie der Mittelwert oder größer:\n",
    "\n",
    "Für $\\chi^2_A$ ist $1-P \\approx 0.41 \\approx 41\\% $.\n",
    "\n",
    "Für $\\chi^2_B$ ist $1-P \\approx 0.0013 \\approx 0.13\\% $.\n",
    "\n",
    "Bei einem Konfidenzniveau von $95\\%$ verlangt man $1-P = 0.05$\n",
    "Daraus folgt das die Hypothese $B$ falsch ist. \n",
    "\n",
    "Zusätzlich kann das Ergebnis mit einer $\\chi^2$-Tabelle geprüft werden. \n",
    "Für eine Signifikanz von $5\\%$ darf $\\chi^2$ nicht größer gleich $12.59$ sein."
   ]
  },
  {
   "cell_type": "markdown",
   "metadata": {},
   "source": [
    "## Aufgabe Nr. 33"
   ]
  },
  {
   "cell_type": "markdown",
   "metadata": {},
   "source": [
    "### Aufgabenteil a)"
   ]
  },
  {
   "cell_type": "markdown",
   "metadata": {},
   "source": [
    "Die Varianz und der Mittelwert der Poisson Verteilung ist durch $\\lambda$ gegeben. \n",
    "Somit sollte eine hoge Ähnlichkeit zwischen Gauß und Poisson gegeben sein, wenn\n",
    "$\\mu=\\sigma^2=\\lambda$ gewählt wird."
   ]
  },
  {
   "cell_type": "markdown",
   "metadata": {},
   "source": [
    "### Aufgabenteil b)"
   ]
  },
  {
   "cell_type": "code",
   "execution_count": 26,
   "metadata": {},
   "outputs": [],
   "source": [
    "def kol_smir_test(hist_A, hist_B, alpha):\n",
    "    dist_max = max(np.abs(np.cumsum(hist_A[0]) - np.cumsum(hist_B[0])))\n",
    "    size_of_A, size_of_B = len(hist_A[0]), len(hist_A[0])\n",
    "    \n",
    "    d_test = np.sqrt(size_of_A * size_of_B / (size_of_A + size_of_B)) * dist_max\n",
    "    K_alpha = np.sqrt(1/2 * np.log(2 / alpha))  \n",
    "    \n",
    "    return d_test > K_alpha "
   ]
  },
  {
   "cell_type": "markdown",
   "metadata": {},
   "source": [
    "### Aufgabenteil c)"
   ]
  },
  {
   "cell_type": "code",
   "execution_count": 31,
   "metadata": {},
   "outputs": [
    {
     "name": "stdout",
     "output_type": "stream",
     "text": [
      "Alpha: 0.05\n",
      "Unterscheidbar für lambdar = 10: False. \n",
      "\n",
      "Alpha: 0.025\n",
      "Unterscheidbar für lambdar = 10: False. \n",
      "\n",
      "Alpha: 0.001\n",
      "Unterscheidbar für lambdar = 7: False. \n",
      "\n"
     ]
    },
    {
     "data": {
      "image/png": "[encoded data removed]",
      "text/plain": [
       "<Figure size 432x288 with 1 Axes>"
      ]
     },
     "metadata": {
      "needs_background": "light"
     },
     "output_type": "display_data"
    }
   ],
   "source": [
    "number_of_numbers = 10000\n",
    "for alpha in (0.05, 0.025, 0.001):\n",
    "    for lambdar in range(1, 30, 1):\n",
    "\n",
    "        poisson = np.random.poisson(lam=lambdar, size=number_of_numbers)\n",
    "        gaussian = np.floor(np.random.normal(loc=lambdar, scale=np.sqrt(lambdar), size=number_of_numbers))\n",
    "    \n",
    "        bins = np.linspace(lambdar - 4*np.sqrt(lambdar), lambdar + 4*np.sqrt(lambdar), 100)\n",
    "    \n",
    "        poisson_hist = plt.hist(poisson, bins=bins, label='Poisson', density=True);\n",
    "        gaussian_hist = plt.hist(gaussian, bins=bins, label='Gaussian', density=True);\n",
    "        plt.legend();\n",
    "        plt.title(f'{lambdar}')\n",
    "        #if lambdar % 5 == 0:\n",
    "         #   plt.show()\n",
    "    \n",
    "        unterscheidbar = kol_smir_test(poisson_hist, gaussian_hist,alpha)\n",
    "    \n",
    "\n",
    "        if unterscheidbar == False:\n",
    "            print(f'Alpha: {alpha}')\n",
    "            print(f'Unterscheidbar für lambdar = {lambdar}: {unterscheidbar}. \\n')\n",
    "            break\n",
    "        plt.clf()"
   ]
  },
  {
   "cell_type": "markdown",
   "metadata": {},
   "source": [
    "## Aufgabe 34"
   ]
  },
  {
   "cell_type": "markdown",
   "metadata": {},
   "source": [
    "### Aufgabenteil a)"
   ]
  },
  {
   "cell_type": "markdown",
   "metadata": {},
   "source": [
    "Wir betrachten Poisson verteilte Daten: $$p(x) = \\frac{\\lambda^x}{x!}\\exp(-\\lambda).$$\n",
    "Die Likelihood Funktion kann geschrieben werden als:\n",
    "\n",
    "$$\\begin{aligned}\n",
    "L(\\lambda) = \\Pi_{i} p(\\lambda|x_i) &= \\Pi_{i}^N \\frac{\\lambda^{x_i}}{x_i!}\\exp(-\\lambda)\\\\\n",
    "&=\\exp(-N\\lambda)\\left( \\frac{\\Pi_{i}^N\\lambda^{x_i}}{\\Pi_i^N  x_i!} \\right)\\\\\n",
    "&=\\frac{\\exp(-N\\lambda)}{\\Gamma}\\lambda^{\\Sigma_i^N x_i}, \\quad \\text{mit} \\, \\Gamma:=\\Pi_{i}^N{x_i!}\n",
    "\\end{aligned}$$\n",
    "\n",
    "Bestimme das Maximum von $L$:\n",
    "\n",
    "$$\\begin{aligned}\n",
    "\\frac{\\partial}{\\partial \\lambda} L(\\lambda) = \\frac{\\exp(-N\\lambda)}{\\Gamma}\\left((\\Sigma_i^N x_i)\\lambda^{(\\Sigma_i^N x_i) - 1} - N\\lambda^{\\Sigma_i^N x_i}\\right)&\\overset{!}{=}0\\\\\n",
    "\\Rightarrow \\quad (\\Sigma_i^N x_i)\\lambda^{(\\Sigma_i^N x_i) - 1} - N\\lambda^{\\Sigma_i^N x_i} &= 0\\\\\n",
    "\\Leftrightarrow \\quad (\\Sigma_i^N x_i)\\lambda^{(\\Sigma_i^N x_i) - 1} &=  N\\lambda^{\\Sigma_i^N x_i}\\\\\n",
    "\\Leftrightarrow \\quad \\lambda &= \\frac{\\Sigma_i^N x_i}{N}= \\bar{x}\n",
    "\\end{aligned}$$"
   ]
  },
  {
   "cell_type": "code",
   "execution_count": 7,
   "metadata": {},
   "outputs": [],
   "source": [
    "def poi(x, lam):\n",
    "    return lam**(x)/math.factorial(x) * np.exp(-lam)"
   ]
  },
  {
   "cell_type": "code",
   "execution_count": 32,
   "metadata": {},
   "outputs": [
    {
     "name": "stdout",
     "output_type": "stream",
     "text": [
      "Die wahrscheinlichste Zählrate lautet: 4218.0\n"
     ]
    }
   ],
   "source": [
    "x = np.array([4135, 4202, 4203, 4218, 4227, 4231, 4310])\n",
    "lam = x.mean()\n",
    "day = np.arange(0, len(x))\n",
    "print(f'Die wahrscheinlichste Zählrate lautet: {lam}')"
   ]
  },
  {
   "cell_type": "markdown",
   "metadata": {},
   "source": [
    "### Aufgabenteil c)"
   ]
  },
  {
   "cell_type": "code",
   "execution_count": 35,
   "metadata": {},
   "outputs": [],
   "source": [
    "def logL(parameters):\n",
    "    m = parameters[0]\n",
    "    b = parameters[1]\n",
    "    \n",
    "    return len(x) * b + np.sum(m * day - x * np.log(m * day + b)) "
   ]
  },
  {
   "cell_type": "code",
   "execution_count": 50,
   "metadata": {},
   "outputs": [
    {
     "name": "stdout",
     "output_type": "stream",
     "text": [
      "m: 2.2e+01, b: 4.2e+03\n"
     ]
    },
    {
     "data": {
      "text/plain": [
       "Text(0.5, 0, 'Days')"
      ]
     },
     "execution_count": 50,
     "metadata": {},
     "output_type": "execute_result"
    },
    {
     "data": {
      "image/png": "[encoded data removed]",
      "text/plain": [
       "<Figure size 432x288 with 1 Axes>"
      ]
     },
     "metadata": {
      "needs_background": "light"
     },
     "output_type": "display_data"
    }
   ],
   "source": [
    "params = scipy.optimize.minimize(logL, [0, lam])\n",
    "\n",
    "\n",
    "print(f\"m: {params['x'][0]:.2}, b: {params['x'][1]:.2}\")\n",
    "\n",
    "plt.plot(day, x, '.', label='Daten')\n",
    "plt.plot(day, params['x'][0] * day + params['x'][1], label='Fit')\n",
    "plt.legend()\n",
    "plt.ylabel('Counts')\n",
    "plt.xlabel('Days')"
   ]
  },
  {
   "cell_type": "markdown",
   "metadata": {},
   "source": [
    "### Aufgabenteil c)"
   ]
  },
  {
   "cell_type": "code",
   "execution_count": 53,
   "metadata": {},
   "outputs": [
    {
     "name": "stderr",
     "output_type": "stream",
     "text": [
      "/home/beckstev/.local/anaconda3/lib/python3.7/site-packages/ipykernel_launcher.py:1: RuntimeWarning: overflow encountered in power\n",
      "  \"\"\"Entry point for launching an IPython kernel.\n",
      "/home/beckstev/.local/anaconda3/lib/python3.7/site-packages/ipykernel_launcher.py:1: RuntimeWarning: divide by zero encountered in log\n",
      "  \"\"\"Entry point for launching an IPython kernel.\n"
     ]
    },
    {
     "data": {
      "text/plain": [
       "inf"
      ]
     },
     "execution_count": 53,
     "metadata": {},
     "output_type": "execute_result"
    }
   ],
   "source": [
    "chi_square = -2*np.sum(np.log((params['x'][0] * x + params['x'][1])/lam**(x) * np.exp(-(params['x'][0] * x + params['x'][1])+lam)))\n",
    "\n",
    "chi_square"
   ]
  },
  {
   "cell_type": "markdown",
   "metadata": {},
   "source": [
    "## Aufgabe 35"
   ]
  },
  {
   "cell_type": "markdown",
   "metadata": {},
   "source": [
    "### Aufagbenteil a)"
   ]
  },
  {
   "cell_type": "markdown",
   "metadata": {},
   "source": [
    "Der Likelihood Quotienten Test lautet\n",
    "\n",
    "$$\n",
    "\\Gamma = \\frac{\\mathrm{sup}_{\\theta_0\\in\\Theta_0} L(\\theta|x)}{\\mathrm{sup}_{\\theta\\in\\Theta} L(\\theta|x)}.\n",
    "$$\n",
    "\n",
    "In unserem Fall ist $\\Theta$ gegeben als zwei dimensionaler Parameterraum: $\\Theta = (\\mu,\\sigma)= \\{\\mu\\} \\otimes \\{\\sigma\\}$.\n",
    "Die Nullhypothese legt $\\mu$ auf $\\mu_0$ fest, lässt aber $\\sigma$ beliebig ($\\Theta_0 = (\\mu_0, \\sigma)$). Somit kann das  Suprema der Likelihood-Funktion $\\mathrm{sup}_{\\theta_0\\in\\Theta_0} L(\\theta|x)$ gefunden werden, wenn das Maximum von $L$ bzgl $\\sigma$ bei gegebenen $\\mu_0$ bestimmt wird. \n",
    "\n",
    "Wir betrachten eine Normalverteilung: \n",
    "$$\n",
    "p(x)=\\frac{1}{\\sqrt{2\\pi\\sigma^2}} \\exp\\left(-\\frac{1}{2} \\frac{\\left(x-\\mu\\right)^2}{\\sigma^2}\\right)\n",
    "$$\n",
    "\n",
    "Bei der Maximierung der Likelihood Funktion bietet sich an die Log-Likelihood-Funktion zu verwenden. \n",
    "Aus der bekannten Berechnung folgt für die Varianz bei $N$ Messwerten:\n",
    "\n",
    "$$\n",
    "\\sigma^2 = \\frac{1}{N} \\sum_i^{N} \\left(x_i - \\mu\\right)^2 = \\frac{1}{N} \\sum_i^{N} \\left(x_i - \\mu_0\\right)^2 \\qquad (1)\n",
    "$$\n",
    "\n",
    "Um $\\mathrm{sup}_{\\theta_0\\in\\Theta} L(\\theta|x)$ zu bilden, muss $L$ bzgl. $\\mu$ und $\\sigma$ maximiert werden. \n",
    "Es folgt für $\\mu$:\n",
    "\n",
    "$$\n",
    "\\mu = \\frac{1}{N} \\sum_i^N x_i = \\bar{x}\n",
    "$$ \n",
    "\n",
    "Und somit mit Gleichung $(1)$ für $\\sigma^2$:\n",
    "\n",
    "$$\n",
    "\\sigma^2 = \\frac{1}{N} \\sum_i^{N} \\left(x_i - \\bar{x}\\right)^2\n",
    "$$"
   ]
  },
  {
   "cell_type": "code",
   "execution_count": null,
   "metadata": {},
   "outputs": [],
   "source": []
  },
  {
   "cell_type": "markdown",
   "metadata": {},
   "source": [
    "## Aufgabe 36"
   ]
  },
  {
   "cell_type": "markdown",
   "metadata": {},
   "source": [
    "### Aufgabenteil e)"
   ]
  },
  {
   "cell_type": "code",
   "execution_count": 9,
   "metadata": {},
   "outputs": [],
   "source": [
    "n = np.array([111, 188, 333])\n",
    "m = np.array([15, 36, 30])\n",
    "\n",
    "N = n.sum()\n",
    "M = m.sum()\n",
    "\n",
    "chi_square = 1/(N*M) * ((N*m-M*n)**2/(n+m)).sum()"
   ]
  },
  {
   "cell_type": "code",
   "execution_count": 10,
   "metadata": {},
   "outputs": [
    {
     "data": {
      "text/plain": [
       "0.014778524417997208"
      ]
     },
     "execution_count": 10,
     "metadata": {},
     "output_type": "execute_result"
    }
   ],
   "source": [
    "1 - chi2.cdf(chi_square, 2)"
   ]
  },
  {
   "cell_type": "markdown",
   "metadata": {},
   "source": [
    "Hypothese wird für $0.01$ verworfen"
   ]
  },
  {
   "cell_type": "code",
   "execution_count": null,
   "metadata": {},
   "outputs": [],
   "source": []
  }
 ],
 "metadata": {
  "kernelspec": {
   "display_name": "Python 3",
   "language": "python",
   "name": "python3"
  },
  "language_info": {
   "codemirror_mode": {
    "name": "ipython",
    "version": 3
   },
   "file_extension": ".py",
   "mimetype": "text/x-python",
   "name": "python",
   "nbconvert_exporter": "python",
   "pygments_lexer": "ipython3",
   "version": "3.7.1"
  }
 },
 "nbformat": 4,
 "nbformat_minor": 2
}
