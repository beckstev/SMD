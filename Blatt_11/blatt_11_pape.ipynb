{
 "cells": [
  {
   "cell_type": "code",
   "execution_count": 1,
   "metadata": {},
   "outputs": [],
   "source": [
    "import numpy as np\n",
    "import matplotlib.pyplot as plt\n",
    "from uncertainties import ufloat\n",
    "import uncertainties.unumpy as unp\n",
    "from uncertainties.unumpy import (nominal_values as noms, std_devs as stds)\n",
    "from scipy.optimize import curve_fit\n",
    "np.random.seed(0)"
   ]
  },
  {
   "cell_type": "markdown",
   "metadata": {},
   "source": [
    "## Blatt 11"
   ]
  },
  {
   "cell_type": "markdown",
   "metadata": {},
   "source": [
    "### Aufgabe 32: $\\chi^2$-Test\n",
    "#### a.)"
   ]
  },
  {
   "cell_type": "code",
   "execution_count": 2,
   "metadata": {},
   "outputs": [],
   "source": [
    "x = [31.6, 32.2, 31.2, 31.9, 31.3, 30.8, 31.3]\n",
    "err = np.ones(len(x)) * 0.5\n",
    "\n",
    "messwerte = unp.uarray(x, err)"
   ]
  },
  {
   "cell_type": "code",
   "execution_count": 3,
   "metadata": {},
   "outputs": [],
   "source": [
    "def chi_square(y, modell):\n",
    "    return np.sum((noms(y) - modell)**2 / stds(y)**2)"
   ]
  },
  {
   "cell_type": "code",
   "execution_count": 4,
   "metadata": {},
   "outputs": [
    {
     "name": "stdout",
     "output_type": "stream",
     "text": [
      "Chi-Squadrat-Wert des Modells aus a.): 6.080000000000007\n"
     ]
    }
   ],
   "source": [
    "print(f'Chi-Squadrat-Wert des Modells aus a.): {chi_square(messwerte, 31.3)}')"
   ]
  },
  {
   "cell_type": "markdown",
   "metadata": {},
   "source": [
    "Für $n = 7$ Freiheitsgerade und einer Signifikanz von 5\\% ist der $\\chi^2$-Wert mit\n",
    "14,07 tabelliert. Das bedeutet, dass das gefundene Modell angenommen ist."
   ]
  },
  {
   "cell_type": "markdown",
   "metadata": {},
   "source": [
    "---\n",
    "#### b.)"
   ]
  },
  {
   "cell_type": "code",
   "execution_count": 5,
   "metadata": {},
   "outputs": [
    {
     "name": "stdout",
     "output_type": "stream",
     "text": [
      "Chi-Squadrat-Wert das Modell aus b.): 21.920000000000073\n"
     ]
    }
   ],
   "source": [
    "print(f'Chi-Squadrat-Wert das Modell aus b.): {chi_square(messwerte, 30.7)}')"
   ]
  },
  {
   "cell_type": "markdown",
   "metadata": {},
   "source": [
    "Somit ist das Modell für 5\\% Signifikanz nicht angenommen."
   ]
  },
  {
   "cell_type": "markdown",
   "metadata": {},
   "source": [
    "---\n",
    "### Aufgabe 33\n",
    "#### a.)"
   ]
  },
  {
   "cell_type": "markdown",
   "metadata": {},
   "source": [
    "Gauß-Verteilung:\n",
    "$$\n",
    "\\begin{aligned}\n",
    "F_{\\mu,\\sigma}(x) &= \\frac{1}{\\sqrt{2\\pi\\sigma^2}}\\cdot\\exp{\\left(-\\frac{(x - \\mu)^2}{2\\sigma^2}\\right)}\n",
    "\\end{aligned}\n",
    "$$\n",
    "\n",
    "Poisson-Verteilung:\n",
    "$$\n",
    "\\begin{aligned}\n",
    "F_{\\lambda }(k) &= \\frac {\\lambda ^{k}}{k!}\\cdot \\exp{(-\\lambda)}\n",
    "\\end{aligned}\n",
    "$$\n",
    "\n",
    "Die Varianz einer Poisson-Verteilung ist ihr Erwartungswert $\\sigma = \\lambda$.\n",
    "Somit müssen die Parameter der Gauß-Verteilung folgendermaßen gewählt werden:\n",
    "\n",
    "$$\n",
    "\\begin{aligned}\n",
    "\\sigma &= \\sqrt{\\lambda}\\\\\n",
    "\\mu &= \\lambda\n",
    "\\end{aligned}\n",
    "$$"
   ]
  },
  {
   "cell_type": "code",
   "execution_count": 6,
   "metadata": {},
   "outputs": [
    {
     "data": {
      "image/png": "[encoded data removed]",
      "text/plain": [
       "<Figure size 432x288 with 1 Axes>"
      ]
     },
     "metadata": {
      "needs_background": "light"
     },
     "output_type": "display_data"
    }
   ],
   "source": [
    "l = 10\n",
    "def poisson(x):\n",
    "    return l**x / np.math.factorial(x) * np.exp(-l)\n",
    "x = np.linspace(0, 20, 5000)\n",
    "plt.plot(x, [poisson(np.round(n)) for n in x])\n",
    "plt.show()"
   ]
  },
  {
   "cell_type": "markdown",
   "metadata": {},
   "source": [
    "---\n",
    "#### b.)"
   ]
  },
  {
   "cell_type": "code",
   "execution_count": 7,
   "metadata": {},
   "outputs": [],
   "source": [
    "def k_s_test(test_statistik_1, test_statistik_2):\n",
    "    return max(np.abs(np.cumsum(test_statistik_1) - np.cumsum(test_statistik_2)))"
   ]
  },
  {
   "cell_type": "markdown",
   "metadata": {},
   "source": [
    "---\n",
    "#### c.)"
   ]
  },
  {
   "cell_type": "code",
   "execution_count": 8,
   "metadata": {},
   "outputs": [],
   "source": [
    "def gauß_poisson(lambda_, n):\n",
    "    return np.round(np.random.normal(lambda_, np.sqrt(lambda_), n)), np.random.poisson(lambda_, n)"
   ]
  },
  {
   "cell_type": "code",
   "execution_count": 9,
   "metadata": {},
   "outputs": [],
   "source": [
    "def when_gausian_equals_poisson(alpha, len_test_arrays, iteration_steps):\n",
    "    K_alpha = np.sqrt(np.log(2 / alpha) / 2)\n",
    "    for lambda_ in np.arange(iteration_steps) + 1:\n",
    "        gauß, poisson = gauß_poisson(lambda_, len_test_arrays)\n",
    "        gauß, bin_edge_gauß = np.histogram(gauß, bins=np.linspace(lambda_ - 5 * lambda_, lambda_ + 5 * lambda_, 101), density=True)\n",
    "        poisson, bin_edge_poisson = np.histogram(poisson, bins=np.linspace(lambda_ - 5 * lambda_, lambda_ + 5 * lambda_, 101), density=True)\n",
    "        d_max = k_s_test(gauß, poisson)\n",
    "        if np.sqrt(len_test_arrays / 2) * d_max < K_alpha:\n",
    "            print(f'alpha = {alpha}:\\n\\nErwartungswert = {lambda_}\\n\\nd_max = {d_max}')\n",
    "            plt.title(f'lambda = {lambda_}')\n",
    "            plt.plot(np.cumsum(gauß), color='C0', label='Kumulierter Gauß')\n",
    "            plt.plot(np.cumsum(poisson), color='C1', label='Kumulierter Poisson')\n",
    "            plt.legend()\n",
    "            plt.show()\n",
    "            break"
   ]
  },
  {
   "cell_type": "code",
   "execution_count": 10,
   "metadata": {},
   "outputs": [
    {
     "name": "stdout",
     "output_type": "stream",
     "text": [
      "alpha = 0.05:\n",
      "\n",
      "Erwartungswert = 11\n",
      "\n",
      "d_max = 0.018181818181818174\n"
     ]
    },
    {
     "data": {
      "image/png": "[encoded data removed]",
      "text/plain": [
       "<Figure size 432x288 with 1 Axes>"
      ]
     },
     "metadata": {
      "needs_background": "light"
     },
     "output_type": "display_data"
    }
   ],
   "source": [
    "when_gausian_equals_poisson(alpha=0.05, len_test_arrays=10000, iteration_steps=1000)"
   ]
  },
  {
   "cell_type": "markdown",
   "metadata": {},
   "source": [
    "---\n",
    "#### d.)"
   ]
  },
  {
   "cell_type": "code",
   "execution_count": 11,
   "metadata": {},
   "outputs": [
    {
     "name": "stdout",
     "output_type": "stream",
     "text": [
      "alpha = 0.025:\n",
      "\n",
      "Erwartungswert = 8\n",
      "\n",
      "d_max = 0.020750000000000025\n"
     ]
    },
    {
     "data": {
      "image/png": "[encoded data removed]",
      "text/plain": [
       "<Figure size 432x288 with 1 Axes>"
      ]
     },
     "metadata": {
      "needs_background": "light"
     },
     "output_type": "display_data"
    }
   ],
   "source": [
    "when_gausian_equals_poisson(alpha=0.025, len_test_arrays=10000, iteration_steps=1000)"
   ]
  },
  {
   "cell_type": "code",
   "execution_count": 12,
   "metadata": {},
   "outputs": [
    {
     "name": "stdout",
     "output_type": "stream",
     "text": [
      "alpha = 0.01:\n",
      "\n",
      "Erwartungswert = 13\n",
      "\n",
      "d_max = 0.009000000000000008\n"
     ]
    },
    {
     "data": {
      "image/png": "[encoded data removed]",
      "text/plain": [
       "<Figure size 432x288 with 1 Axes>"
      ]
     },
     "metadata": {
      "needs_background": "light"
     },
     "output_type": "display_data"
    }
   ],
   "source": [
    "when_gausian_equals_poisson(alpha=0.01, len_test_arrays=10000, iteration_steps=1000)"
   ]
  },
  {
   "cell_type": "markdown",
   "metadata": {},
   "source": [
    "---\n",
    "### Aufgabe 34: Ballon-Experiment\n",
    "#### a.)"
   ]
  },
  {
   "cell_type": "code",
   "execution_count": 13,
   "metadata": {},
   "outputs": [],
   "source": [
    "tag = np.arange(7) + 1\n",
    "counts = np.array([4135, 4202, 4203, 4218, 4227, 4231, 4310])\n",
    "t = 1\n",
    "zählrate = np.round(counts / t)"
   ]
  },
  {
   "cell_type": "markdown",
   "metadata": {},
   "source": [
    "Zählrate $\\Phi$ ist konstant.\n",
    "$$N = \\Phi\\cdot t$$\n",
    "mit eine konstanten Zeit $t = 1$h.\n",
    "\n",
    "Die Messung ist Poisson-verteilt.\n",
    "\n",
    "$$P(x) = \\frac{\\Phi^x}{x!}\\exp{(-\\Phi)}$$\n",
    "\n",
    "Die Likelihood-Funktion hat die Gestalt\n",
    "\n",
    "$$L = \\prod_{i=1}^{n}P(x_i).$$\n",
    "\n",
    "$$\\log{L} = \\sum_{i=1}^{n}\\left(x_i\\log{(\\Phi)} -\\log{(x_i!)} - \\Phi\\right)$$\n",
    "\n",
    "Die Ableitung von $\\log{L}$ nach $\\Phi$ führt auf\n",
    "\n",
    "$$\\frac{\\text{d}\\log{L}}{\\text{d}\\Phi}=\\sum_{i=1}^{n}\\left(\\frac{x_i}{\\Phi} - 1\\right).$$\n",
    "\n",
    "Die Maximierung führt auf\n",
    "$$\\Phi = \\frac{1}{n}\\sum_{i=1}^{n}x_i.$$\n",
    "\n",
    "Für die gegebene Verteilung der Counts bedeutet das"
   ]
  },
  {
   "cell_type": "code",
   "execution_count": 14,
   "metadata": {},
   "outputs": [
    {
     "name": "stdout",
     "output_type": "stream",
     "text": [
      "Zählrate = 4218 counts / h\n"
     ]
    }
   ],
   "source": [
    "phi = np.round(np.mean(zählrate))\n",
    "print(f'Zählrate = {phi:.0f} counts / h')"
   ]
  },
  {
   "cell_type": "markdown",
   "metadata": {},
   "source": [
    "---\n",
    "#### b.)"
   ]
  },
  {
   "cell_type": "markdown",
   "metadata": {},
   "source": [
    "Nehme an, dass die Flussrate linear mit der Zeit ansteigt\n",
    "\n",
    "$$\\Phi(t) = \\Gamma\\cdot t + b.$$\n",
    "\n",
    "Aus der Likelihood-Methode folgt\n",
    "\n",
    "$$\n",
    "\\begin{aligned}\n",
    "\\frac{\\text{d}\\log{L}}{\\text{d}\\Gamma} &= \\left(\\sum_{i=1}^n\\frac{x_it_i}{\\Gamma t_i + b} - t_i\\right)\\\\\n",
    "\\frac{\\text{d}\\log{L}}{\\text{d}b} &= \\left(\\sum_{i=1}^n\\frac{x_i}{\\Gamma t_i + b} - 1\\right).\n",
    "\\end{aligned}\n",
    "$$\n",
    "\n",
    "$$\n",
    "\\log{L} = \\sum_{i=1}^{n}\\left(x_i\\log{(\\Gamma\\cdot t + b)} -\\log{(x_i!)} - (\\Gamma\\cdot t + b)\\right)\n",
    "$$"
   ]
  },
  {
   "cell_type": "code",
   "execution_count": 15,
   "metadata": {},
   "outputs": [
    {
     "name": "stdout",
     "output_type": "stream",
     "text": [
      "Die Parameter, welche die Likelihood-Funktion maximieren lauten Gamma = 23 und b = 4127.\n"
     ]
    }
   ],
   "source": [
    "from scipy.optimize import minimize\n",
    "\n",
    "log_likelihood_gamma_b = lambda x: - np.sum(counts * np.log(x[0] * tag + x[1]) - (x[0] * tag + x[1]))\n",
    "\n",
    "bnds = ((15, 40), (4000, 4500))\n",
    "\n",
    "gamma, b = minimize(log_likelihood_gamma_b, x0=[20, 4000], bounds=bnds).x\n",
    "\n",
    "print(f'Die Parameter, welche die Likelihood-Funktion maximieren lauten Gamma = {gamma:.0f} und b = {b:.0f}.')"
   ]
  },
  {
   "cell_type": "markdown",
   "metadata": {},
   "source": [
    "---\n",
    "\n",
    "Zum Vergleichen wird ein linearer Fit gemacht."
   ]
  },
  {
   "cell_type": "code",
   "execution_count": 16,
   "metadata": {},
   "outputs": [],
   "source": [
    "def lin(t, m, b):\n",
    "    return t * m + b"
   ]
  },
  {
   "cell_type": "code",
   "execution_count": 17,
   "metadata": {},
   "outputs": [],
   "source": [
    "params, covariance = curve_fit(lin, tag, counts)"
   ]
  },
  {
   "cell_type": "code",
   "execution_count": 18,
   "metadata": {},
   "outputs": [
    {
     "data": {
      "image/png": "[encoded data removed]",
      "text/plain": [
       "<Figure size 432x288 with 1 Axes>"
      ]
     },
     "metadata": {
      "needs_background": "light"
     },
     "output_type": "display_data"
    },
    {
     "name": "stdout",
     "output_type": "stream",
     "text": [
      "Für Gamma ergibt sich über einen linearen Fit der Wert 22, b = 4131\n"
     ]
    }
   ],
   "source": [
    "plt.plot(tag, lin(tag, *params))\n",
    "plt.plot(tag, counts, 'k.')\n",
    "plt.show()\n",
    "print(f'Für Gamma ergibt sich über einen linearen Fit der Wert {params[0]:.0f}, b = {params[1]:.0f}')"
   ]
  },
  {
   "cell_type": "markdown",
   "metadata": {},
   "source": [
    "Der Fit führt auf die nahezu gleiche Parameter wie die Maximierung der Likelihood-Funktion.\n",
    "\n",
    "---\n",
    "#### c.)\n",
    "\n",
    "Die Likelihood-Funktionen werden durch einander geteilt.\n",
    "\n",
    "\n",
    "$$\n",
    "\\begin{aligned}\n",
    "L_{\\Phi} &= \\prod_{i=1}^{n}\\frac{\\Phi^{x_i}}{x_i!}\\exp{(-\\Phi)}\\\\\n",
    "L_{\\Gamma\\cdot t_i + b} &= \\prod_{i=1}^{n}\\frac{(\\Gamma\\cdot t_i + b)^{x_i}}{x_i!}\\exp{(-(\\Gamma\\cdot t_i + b))}\\\\\n",
    "\\frac{L_{\\Phi}}{L_{\\Gamma\\cdot t_i + b}} &= \\prod_{i=1}^{n}\\frac{\\Phi^{x_i}}{(\\Gamma\\cdot t_i + b)^{x_i}}\\exp{(\\Gamma\\cdot t_i + b - \\Phi)}\n",
    "\\end{aligned}\n",
    "$$\n",
    "\n",
    "Mit dem Wilks Theorem folgt\n",
    "\n",
    "$$\n",
    "-2\\log{\\left(\\frac{L_{\\Phi}}{L_{\\Gamma\\cdot t_i + b}}\\right)} = -2 \\sum_{i=1}^n\\left(x_i\\log{\\Phi} - x_i\\log{(\\Gamma\\cdot t_i + b)}  + \\Gamma\\cdot t_i + b - \\Phi\\right)\n",
    "$$"
   ]
  },
  {
   "cell_type": "code",
   "execution_count": 19,
   "metadata": {},
   "outputs": [
    {
     "name": "stdout",
     "output_type": "stream",
     "text": [
      "Likelihood_quotient = 3.1103823054254462\n"
     ]
    }
   ],
   "source": [
    "quotient_wilks = lambda x: -2 * np.sum(counts * np.log(x[0]) - counts * np.log(x[1] * tag + x[2]) + x[1] * tag + x[2] - x[0])\n",
    "\n",
    "print(f'Likelihood_quotient = {quotient_wilks([phi, gamma, b])}')"
   ]
  },
  {
   "cell_type": "markdown",
   "metadata": {},
   "source": [
    "Die Anzahl der Freiheitsgrade ist die Differenz der Dimensionalität des $L_{\\Phi}$-\n",
    "und des $L_{\\Gamma t_i + b}$-Raums.\n",
    "\n",
    "Bei $df = 1$ Freiheitsgeraden entspricht der gefundene Likelihood-Quotient, der nach dem Wilks-Theorem $\\chi^2$-verteit ist einer Signifikanz von $\\alpha = 0,05$."
   ]
  },
  {
   "cell_type": "markdown",
   "metadata": {},
   "source": [
    "---\n",
    "#### d.)"
   ]
  },
  {
   "cell_type": "code",
   "execution_count": 20,
   "metadata": {},
   "outputs": [],
   "source": [
    "tag = np.append(np.arange(7) + 1, 14)\n",
    "counts = np.array([4135, 4202, 4203, 4218, 4227, 4231, 4310, 4402])"
   ]
  },
  {
   "cell_type": "code",
   "execution_count": 21,
   "metadata": {},
   "outputs": [
    {
     "name": "stdout",
     "output_type": "stream",
     "text": [
      "Konstante Zählrate: 4241.0\n"
     ]
    }
   ],
   "source": [
    "phi = np.round(np.mean(counts))\n",
    "print(f'Konstante Zählrate: {phi}')"
   ]
  },
  {
   "cell_type": "code",
   "execution_count": 22,
   "metadata": {},
   "outputs": [
    {
     "name": "stdout",
     "output_type": "stream",
     "text": [
      "Die Parameter, welche die Likelihood-Funktion maximieren lauten Gamma = 19 und b = 4142.\n"
     ]
    }
   ],
   "source": [
    "bnds = ((15, 40), (4000, 4500))\n",
    "\n",
    "gamma, b = minimize(log_likelihood_gamma_b, x0=[20, 4000], bounds=bnds).x\n",
    "\n",
    "print(f'Die Parameter, welche die Likelihood-Funktion maximieren lauten Gamma = {gamma:.0f} und b = {b:.0f}.')"
   ]
  },
  {
   "cell_type": "code",
   "execution_count": 23,
   "metadata": {},
   "outputs": [
    {
     "name": "stdout",
     "output_type": "stream",
     "text": [
      "Likelihood_quotient = 9.973057380500904\n"
     ]
    }
   ],
   "source": [
    "print(f'Likelihood_quotient = {quotient_wilks([phi, gamma, b])}')"
   ]
  },
  {
   "cell_type": "markdown",
   "metadata": {},
   "source": [
    "Bei $df = 1$ Freiheitsgeraden entspricht der gefundene Likelihood-Quotient, der nach dem Wilks-Theorem $\\chi^2$-verteit ist einer Signifikanz von $\\alpha = 0,001$."
   ]
  },
  {
   "cell_type": "code",
   "execution_count": null,
   "metadata": {},
   "outputs": [],
   "source": []
  }
 ],
 "metadata": {
  "kernelspec": {
   "display_name": "Python 3",
   "language": "python",
   "name": "python3"
  },
  "language_info": {
   "codemirror_mode": {
    "name": "ipython",
    "version": 3
   },
   "file_extension": ".py",
   "mimetype": "text/x-python",
   "name": "python",
   "nbconvert_exporter": "python",
   "pygments_lexer": "ipython3",
   "version": "3.6.7"
  }
 },
 "nbformat": 4,
 "nbformat_minor": 2
}
