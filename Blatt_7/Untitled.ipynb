{
 "cells": [
  {
   "cell_type": "markdown",
   "metadata": {},
   "source": [
    "# SMD Übungunszettel Nr. 7\n",
    "\n",
    "Abgabe von: __Pape, Kusurmann und Becker__"
   ]
  },
  {
   "cell_type": "code",
   "execution_count": 1,
   "metadata": {},
   "outputs": [],
   "source": [
    "import numpy as np \n",
    "import matplotlib.pyplot as plt\n",
    "import pandas as pd\n",
    "from collections import Counter\n",
    "\n",
    "np.random.seed(43)"
   ]
  },
  {
   "cell_type": "markdown",
   "metadata": {},
   "source": [
    "## Aufgabe 19\n",
    "\n",
    "### Aufgabenteil a)\n",
    "\n",
    "Die Startmittelpunkte sind: \n",
    "$$\n",
    " \\vec{m}_1 = \\begin{pmatrix} 3 \\\\ 4 \\end{pmatrix}, \\quad \\vec{m}_2 = \\begin{pmatrix} 3 \\\\ 7 \\end{pmatrix}, \\quad \\vec{m}_3 = \\begin{pmatrix} 7 \\\\ 4 \\end{pmatrix}\n",
    "$$\n",
    "Überprüfe zu welchen Mittelpunkt der Punkt $\\vec{x} = \\begin{pmatrix} 5 \\\\ 1 \\end{pmatrix}$ gehöhrt:\n",
    "$$\\begin{aligned}\n",
    "\\vec{d}_1 &= \\begin{pmatrix} 3 \\\\ 4 \\end{pmatrix} -  \\begin{pmatrix} 5 \\\\ 1 \\end{pmatrix} =  \\begin{pmatrix} -2 \\\\ 3 \\end{pmatrix}, \\quad \\left| \\vec{d}_1 \\right| = \\sqrt{13} \\\\\n",
    "\\vec{d}_3 &= \\begin{pmatrix} 7 \\\\ 4 \\end{pmatrix} -  \\begin{pmatrix} 5 \\\\ 1 \\end{pmatrix} =  \\begin{pmatrix} 2 \\\\ 3 \\end{pmatrix}, \\quad \\left| \\vec{d}_1 \\right| = \\sqrt{13} = \\left| \\vec{d}_1 \\right|\n",
    "\\end{aligned}$$\n",
    "Beide Mittelpunkte besitzen den gleichen Abstand zum  Punkt $\\vec{x}$. Aus diesem Grund packe ich den Punkt zur Menge $3$. \n",
    "\n",
    "Berechnung der neuen Mittelpunkte: \n",
    "$$ \\begin{aligned}\n",
    "\\vec{m}_1 = \\frac{1}{5} \\begin{pmatrix} 12 \\\\ 15 \\end{pmatrix}, \\quad \n",
    "\\vec{m}_2 = \\begin{pmatrix} 1 \\\\ 4 \\end{pmatrix}, \\quad \n",
    "\\vec{m}_3 = \\frac{1}{6} \\begin{pmatrix} 41 \\\\ 21 \\end{pmatrix} \n",
    "\\end{aligned} $$"
   ]
  },
  {
   "cell_type": "markdown",
   "metadata": {},
   "source": [
    "### Aufgabenteil b)\n",
    "__Zweiter Iterationsschritt__\n",
    "\n",
    "Überprüfe zu welchen Mittelpunkt der Punkt $\\vec{x} = \\begin{pmatrix} 1 \\\\ 5 \\end{pmatrix}$ gehöhrt:\n",
    "$$\\begin{aligned}\n",
    "\\vec{d}_1 &= \\frac{1}{5}\\begin{pmatrix} 12 \\\\ 5 \\end{pmatrix} -  \\begin{pmatrix} 1 \\\\ 5 \\end{pmatrix} =  \\frac{1}{5} \\begin{pmatrix} 12 -5 \\\\ 15 - 25  \\end{pmatrix} = \\frac{1}{5}\\begin{pmatrix} 7 \\\\ -10 \\end{pmatrix}, \\quad \\left| \\vec{d}_1 \\right| = \\sqrt{\\frac{49}{25} + 4}  \\\\\n",
    "\\vec{d}_2 &= \\begin{pmatrix} 1 \\\\ 6 \\end{pmatrix} -  \\begin{pmatrix} 1 \\\\ 5 \\end{pmatrix} =  \\begin{pmatrix} 0 \\\\ 1 \\end{pmatrix}, \\quad \\left| \\vec{d}_2 \\right| = 1 < \\left| \\vec{d}_1 \\right|\n",
    "\\end{aligned}$$\n",
    "\n",
    "Überprüfe zu welchen Mittelpunkt der Punkt $\\vec{x} = \\begin{pmatrix} 1 \\\\ 4 \\end{pmatrix}$ gehöhrt:\n",
    "$$\\begin{aligned}\n",
    "\\vec{d}_1 &= \\frac{1}{5}\\begin{pmatrix} 12 \\\\ 5 \\end{pmatrix} -  \\begin{pmatrix} 1 \\\\ 4 \\end{pmatrix} =  \\frac{1}{5} \\begin{pmatrix} 12 -5 \\\\ 5 - 20  \\end{pmatrix} = \\frac{1}{5}\\begin{pmatrix} 7 \\\\ -5 \\end{pmatrix}, \\quad \\left| \\vec{d}_1 \\right| = \\sqrt{\\frac{49}{25} + 1}  \\\\\n",
    "\\vec{d}_2 &= \\begin{pmatrix} 1 \\\\ 6 \\end{pmatrix} -  \\begin{pmatrix} 1 \\\\ 4 \\end{pmatrix} =  \\begin{pmatrix} 0 \\\\ 2 \\end{pmatrix}, \\quad \\left| \\vec{d}_2 \\right| = 2 < \\left| \\vec{d}_1 \\right|\n",
    "\\end{aligned}$$\n",
    "\n",
    "Überprüfe zu welchen Mittelpunkt der Punkt $\\vec{x} = \\begin{pmatrix} 5 \\\\ 1 \\end{pmatrix}$ gehöhrt:\n",
    "$$\\begin{aligned}\n",
    "\\vec{d}_1 &= \\frac{1}{5}\\begin{pmatrix} 12 \\\\ 5 \\end{pmatrix} -  \\begin{pmatrix} 5 \\\\ 1 \\end{pmatrix} =  \\frac{1}{5} \\begin{pmatrix} 12 -25 \\\\ 15 - 5  \\end{pmatrix} = \\frac{1}{5}\\begin{pmatrix} -13 \\\\ 10 \\end{pmatrix}, \\quad \\left| \\vec{d}_1 \\right| = \\sqrt{\\frac{169}{25} + 4}  \\\\\n",
    "\\vec{d}_3 &= \\frac{1}{6}\\begin{pmatrix} 41 \\\\ 21 \\end{pmatrix} -  \\begin{pmatrix} 5 \\\\ 1 \\end{pmatrix} =  \\frac{1}{6} \\begin{pmatrix} 41 -30 \\\\ 21 -6  \\end{pmatrix} = \\frac{1}{6}\\begin{pmatrix} 11 \\\\ 15 \\end{pmatrix}, \\quad \\left| \\vec{d}_3 \\right| = \\sqrt{\\frac{121}{36} + \\frac{225}{36}} >  \\left| \\vec{d}_1 \\right|  \\\\\n",
    "\\end{aligned}$$\n",
    "\n",
    "Berechne die neuen Mittelpunkte:\n",
    "$$ \\begin{aligned}\n",
    "\\vec{m}_1 = \\frac{1}{4} \\begin{pmatrix} 11 \\\\ 10\\end{pmatrix}, \\quad \n",
    "\\vec{m}_2 = \\frac{1}{2} \\begin{pmatrix} 2 \\\\ 11 \\end{pmatrix}, \\quad \n",
    "\\vec{m}_3 = \\frac{1}{6} \\begin{pmatrix} 41 \\\\ 21 \\end{pmatrix} \n",
    "\\end{aligned} $$\n",
    "\n",
    "__Dritter Iterationsschritt__\n",
    "\n",
    "Überprüfe zu welchen Mittelpunkt der Punkt $\\vec{x} = \\begin{pmatrix} 1 \\\\ 4 \\end{pmatrix}$ gehöhrt:\n",
    "$$\\begin{aligned}\n",
    "\\vec{d}_1 &= \\frac{1}{4}\\begin{pmatrix} 11 \\\\ 10 \\end{pmatrix} -  \\begin{pmatrix} 1 \\\\ 4 \\end{pmatrix} =  \\frac{1}{4} \\begin{pmatrix} 11 - 4 \\\\ 10 - 16  \\end{pmatrix} = \\frac{1}{4}\\begin{pmatrix} 7 \\\\ -6 \\end{pmatrix}, \\quad \\left| \\vec{d}_1 \\right| = \\sqrt{\\frac{49}{16} + \\frac{36}{16}}  \\\\\n",
    "\\vec{d}_2 &= \\frac{1}{2}\\begin{pmatrix} 2 \\\\ 11 \\end{pmatrix} -  \\begin{pmatrix} 1 \\\\ 4 \\end{pmatrix} =  \\frac{1}{2}\\begin{pmatrix} 0 \\\\ 3 \\end{pmatrix}, \\quad \\left| \\vec{d}_2 \\right| = \\frac{3}{2} < \\left| \\vec{d}_1 \\right|\n",
    "\\end{aligned}$$\n",
    "\n",
    "Überprüfe zu welchen Mittelpunkt der Punkt $\\vec{x} = \\begin{pmatrix} 5 \\\\ 1 \\end{pmatrix}$ gehöhrt:\n",
    "$$\\begin{aligned}\n",
    "\\vec{d}_1 &= \\frac{1}{4}\\begin{pmatrix} 11 \\\\ 10 \\end{pmatrix} -  \\begin{pmatrix} 5 \\\\ 1 \\end{pmatrix} =  \\frac{1}{4} \\begin{pmatrix} 11 - 20 \\\\ 10 - 16  \\end{pmatrix} = \\frac{1}{4}\\begin{pmatrix} -9 \\\\ -6 \\end{pmatrix}, \\quad \\left| \\vec{d}_1 \\right| = \\sqrt{\\frac{81}{16} + \\frac{36}{16}}  \\\\\n",
    "\\vec{d}_3 &= \\frac{1}{6}\\begin{pmatrix} 41 \\\\ 21 \\end{pmatrix} -  \\begin{pmatrix} 5 \\\\ 1 \\end{pmatrix} =  \\frac{1}{6}\\begin{pmatrix} 11 \\\\ 15 \\end{pmatrix}, \\quad \\left| \\vec{d}_3 \\right| = \\sqrt{\\frac{121}{36} + \\frac{225}{36}} > \\left| \\vec{d}_1 \\right|\n",
    "\\end{aligned}$$\n",
    "\n",
    "Berechne die neuen Mittelpunkte:\n",
    "$$ \\begin{aligned}\n",
    "\\vec{m}_1 =  \\begin{pmatrix} 1 \\\\ 5 \\end{pmatrix}, \\quad \n",
    "\\vec{m}_2 = \\frac{1}{4} \\begin{pmatrix} 15 \\\\ 7 \\end{pmatrix}, \\quad \n",
    "\\vec{m}_3 = \\frac{1}{5} \\begin{pmatrix} 36 \\\\ 2 \\end{pmatrix} \n",
    "\\end{aligned} $$\n",
    "\n",
    "__Vierter Iterationsschritt__\n",
    "\n",
    "Überprüfe zu welchen Mittelpunkt der Punkt $\\vec{x} = \\begin{pmatrix} 6 \\\\ 2 \\end{pmatrix}$ gehöhrt:\n",
    "$$\\begin{aligned}\n",
    "\\vec{d}_1 &= \\frac{1}{4}\\begin{pmatrix} 15 \\\\ 7 \\end{pmatrix} -  \\begin{pmatrix} 6 \\\\ 2 \\end{pmatrix} =  \\frac{1}{4} \\begin{pmatrix} 15 - 24 \\\\ 7 -8  \\end{pmatrix} = \\frac{1}{4}\\begin{pmatrix} -9 \\\\ -1 \\end{pmatrix}, \\quad \\left| \\vec{d}_1 \\right| = \\sqrt{\\frac{81}{16} + \\frac{1}{16}}  \\\\\n",
    "\\vec{d}_3 &= \\frac{1}{5}\\begin{pmatrix} 36 \\\\ 20 \\end{pmatrix} -  \\begin{pmatrix} 6 \\\\ 2 \\end{pmatrix} =  \\frac{1}{5}\\begin{pmatrix} 6 \\\\ 10 \\end{pmatrix}, \\quad \\left| \\vec{d}_3 \\right| = \\sqrt{\\frac{36}{25} + 4} > \\left| \\vec{d}_1 \\right|\n",
    "\\end{aligned}$$\n",
    "\n",
    "Berechne die neuen Mittelpunkte:\n",
    "$$ \\begin{aligned}\n",
    "\\vec{m}_1 = \\frac{1}{5} \\begin{pmatrix} 21 \\\\ 9 \\end{pmatrix}, \\quad \n",
    "\\vec{m}_2 =  \\begin{pmatrix} 1 \\\\ 5 \\end{pmatrix}, \\quad \n",
    "\\vec{m}_3 = \\frac{1}{2} \\begin{pmatrix} 15 \\\\ 9 \\end{pmatrix} \n",
    "\\end{aligned} $$\n",
    "\n",
    "__Fünfter Iterationsschritt__\n",
    "\n",
    "Überprüfe zu welchen Mittelpunkt der Punkt $\\vec{x} = \\begin{pmatrix} 6 \\\\ 3 \\end{pmatrix}$ gehöhrt:\n",
    "$$\\begin{aligned}\n",
    "\\vec{d}_1 &= \\frac{1}{5}\\begin{pmatrix} 21 \\\\ 9 \\end{pmatrix} -  \\begin{pmatrix} 6 \\\\ 3 \\end{pmatrix} =  \\frac{1}{5} \\begin{pmatrix} 21 - 30 \\\\ 9 - 15  \\end{pmatrix} = \\frac{1}{5}\\begin{pmatrix} -9 \\\\ -6 \\end{pmatrix}, \\quad \\left| \\vec{d}_1 \\right| = \\sqrt{\\frac{81}{25} + \\frac{36}{25}}  \\\\\n",
    "\\vec{d}_3 &= \\frac{1}{2}\\begin{pmatrix} 15 \\\\ 9 \\end{pmatrix} -  \\begin{pmatrix} 6 \\\\ 3 \\end{pmatrix} =  \\frac{1}{4}\\begin{pmatrix} -3 \\\\ -3 \\end{pmatrix}, \\quad \\left| \\vec{d}_3 \\right| = \\sqrt{\\frac{18}{4}} < \\left| \\vec{d}_1 \\right|\n",
    "\\end{aligned}$$\n",
    "\n",
    "Die dazugehörige Skizze:"
   ]
  },
  {
   "cell_type": "markdown",
   "metadata": {},
   "source": [
    "<d1>\n",
    "<img style=\"transform: rotate(90deg);\" src=\"./gruppierung.jpg\", width=800,height=600>\n",
    "</d1>"
   ]
  },
  {
   "cell_type": "markdown",
   "metadata": {},
   "source": [
    "### Aufgabenteil c)\n",
    "Der Algorithmus konvergiert nach 5 Iterationsschritten (siehe oben).\n",
    "Die erhaltende Gruppierung war nicht zu erwarten. Man hätte eher erwartet, dass die drei Punkte links, unten die 6 Punkte und rechts die 3 Punkte zu einer Domäne zusammentun."
   ]
  },
  {
   "cell_type": "markdown",
   "metadata": {},
   "source": [
    "## Aufgabe 20\n",
    "Noch ein informativer [Link](http://www.cbcity.de/tutorial-neuronale-netze-einfach-erklaert)\n",
    "### Aufgabenteil a)\n",
    "Die _Lossfunktion_ ist ein Maß dafür wie viel Information/Wahrheit bei zum Beispiel einem Schnitt verloren geht.\n",
    "Hier bei gibt es verschiedene Defintionen für eine Lossfunktion. Allgemein soll eine Operation die Lossfunktion minimieren, also die maximale Information/Wahrheit erhalten. Aus diesem Grund wird die Lossfunktion dazu verwendet, um den z.B. den geeignetes Schnitt aus einer Vielzahl von möglichen Schnitten zu ermittelt.\n",
    "\n",
    "### Aufgabenteil b)\n",
    "Durch ausprobieren oder durch das analytische bestimmen des Minimas. \n",
    "\n",
    "### Aufgabenteil c)\n",
    "Die Aktivierungsfunktion steuert, unter Berücksichtigung des Inputs, wie aktiv das Neuron ist.\n",
    "Hierbei muss der Input auch einen bestimmten Schwellwert überschreiten, bevor das Neuro überhaupt aktiviert wird.\n",
    "Durch die Aktivierungsfunktion wird somit das erstmal schon mal Noise vom Signal getrennt? Die Aktivierungsfunktionen tragen auch zum _lernen_ des Netzwerks bei. Aktivierungsfunktion der letzten Neuronenebene muss zum gewünschten Output passen.\n",
    "Beispiele:\n",
    "- lineare Funktion\n",
    "- Sigmoid Funktion\n",
    "- Leaky ReLU\n",
    "\n",
    "### Aufgabenteil d)\n",
    "Man verwendete linerare Transformationen $f=\\mathbf{W}x_i +  b$, um Daten zu klassifizieren. \n",
    "Hierbei ist $\\mathbf{W}\\in \\mathbb{R}^{N\\times M}$ die Dimensionalität der Matrix, gegeben durch die Anzahl der Eingangsneuronen $N$ und der Ausgangsneuronen $M$. Somit sind _Neuronen_ nichts anderes als die Dimensionalität der lineraten Transformationen. \n",
    "\n",
    "\n",
    "### Aufgabenteil e)\n",
    "In der Bilderkennung werden Neuronalenetzwerke verwendet, weil hier die hohe Dimensionalität des Eingangssignals\n",
    "verarbeitet und reduziert werden kann.\n",
    "\n",
    "Aber auch bei der Klassufizeriung von Datenpunkte, da diese beliebege dimensionale Fitfunktionen annehmen können und somit Daten geschickt transformieren und dann fitten. \n"
   ]
  },
  {
   "cell_type": "markdown",
   "metadata": {},
   "source": [
    "## Aufgabe 21"
   ]
  },
  {
   "cell_type": "markdown",
   "metadata": {},
   "source": [
    "### Aufgabenteil d)"
   ]
  },
  {
   "cell_type": "code",
   "execution_count": 2,
   "metadata": {},
   "outputs": [],
   "source": [
    "pop_1 = pd.read_hdf('./populationen.hdf5', key='P_0')\n",
    "pop_2 = pd.read_hdf('./populationen.hdf5', key='P_1')\n",
    "\n",
    "pop_1['label'] = np.zeros(pop_1.shape[0])\n",
    "pop_2['label'] = np.ones(pop_2.shape[0])"
   ]
  },
  {
   "cell_type": "code",
   "execution_count": 3,
   "metadata": {},
   "outputs": [],
   "source": [
    "df_pop = pd.concat([pop_1, pop_2], ignore_index=True)"
   ]
  },
  {
   "cell_type": "code",
   "execution_count": 4,
   "metadata": {},
   "outputs": [],
   "source": [
    "def soft_max(x_i, W, b):\n",
    "    f = np.matmul(W, x_i[['x','y']].T).T + b\n",
    "    q = (np.exp(f).T / np.sum(np.exp(f), axis=1).T).T \n",
    "    ''' Gebe einen Vektor Q zurück, hierbei ist q[0] die zu Klasse 1 zugehörige Softmax funktion \n",
    "        und q[1] bezüglich der Klasse 2\n",
    "    '''\n",
    "    \n",
    "    return q"
   ]
  },
  {
   "cell_type": "code",
   "execution_count": 5,
   "metadata": {},
   "outputs": [],
   "source": [
    "def indicator_function(x, grad_c):\n",
    "    #grad_c.loc[grad_c['label']== 0, 'x'] = grad_c[grad_c['label']== 0] -1\n",
    "    #grad_c.loc[ grad_c['label']== 1, 'y'] = grad_c[grad_c['label']== 1] -1\n",
    "    # Hier bin ich mir auch nicht so sicher\n",
    "    grad_c[x['label']== 0]= grad_c[x['label']== 0] - np.array([1,0])\n",
    "    grad_c[x['label']== 1]= grad_c[x['label']== 1] - np.array([0,1]) # ziehe eine eins von den Elementen ab\n",
    "    return grad_c"
   ]
  },
  {
   "cell_type": "code",
   "execution_count": 92,
   "metadata": {},
   "outputs": [],
   "source": [
    "def gradient_cost_function(x, soft_max_f, indicator, W, b):\n",
    "    m = x.shape[0]\n",
    "    grad_c_i = soft_max_f(x, W, b)\n",
    "    grad_c_i = indicator(x, grad_c_i)\n",
    "   \n",
    "    # Die Matritzenmulptilikation ersetzt die Summation\n",
    "    grad_C_W =1 /m * np.matmul(grad_c_i.T, x[['x','y']].values )\n",
    "    grad_C_b = 1 / m * np.sum(grad_c_i, axis=0)\n",
    "    return grad_C_W,  grad_C_b"
   ]
  },
  {
   "cell_type": "code",
   "execution_count": 78,
   "metadata": {},
   "outputs": [],
   "source": [
    "learning_rate = 0.5\n",
    "periodes = 100\n",
    "\n",
    "W = np.random.rand(2, 2)\n",
    "b = np.random.rand(1, 2)\n"
   ]
  },
  {
   "cell_type": "code",
   "execution_count": 86,
   "metadata": {},
   "outputs": [],
   "source": [
    "grad_C_W, grad_C_b = gradient_cost_function(df_pop, soft_max, indicator_function, W, b)"
   ]
  },
  {
   "cell_type": "code",
   "execution_count": null,
   "metadata": {},
   "outputs": [],
   "source": []
  },
  {
   "cell_type": "code",
   "execution_count": 88,
   "metadata": {},
   "outputs": [],
   "source": [
    "W = np.array([[ 1/2, 1/2], [1/2, 1/2]])\n",
    "b= np.array([1, 0])\n",
    "x = pd.DataFrame({'x':[1, 2], 'y':[1, 2], 'label':[0, 1]})"
   ]
  },
  {
   "cell_type": "code",
   "execution_count": 89,
   "metadata": {},
   "outputs": [],
   "source": [
    "alpha, beta  = gradient_cost_function(x, soft_max, indicator_function, W, b)"
   ]
  },
  {
   "cell_type": "code",
   "execution_count": 91,
   "metadata": {},
   "outputs": [
    {
     "data": {
      "text/plain": [
       "(array([[ 0.59658787,  0.59658787],\n",
       "        [-0.59658787, -0.59658787]]), array([ 0.23105858, -0.23105858]))"
      ]
     },
     "execution_count": 91,
     "metadata": {},
     "output_type": "execute_result"
    }
   ],
   "source": [
    "alpha, beta"
   ]
  },
  {
   "cell_type": "markdown",
   "metadata": {},
   "source": []
  }
 ],
 "metadata": {
  "kernelspec": {
   "display_name": "Python 3",
   "language": "python",
   "name": "python3"
  },
  "language_info": {
   "codemirror_mode": {
    "name": "ipython",
    "version": 3
   },
   "file_extension": ".py",
   "mimetype": "text/x-python",
   "name": "python",
   "nbconvert_exporter": "python",
   "pygments_lexer": "ipython3",
   "version": "3.7.0"
  }
 },
 "nbformat": 4,
 "nbformat_minor": 2
}
