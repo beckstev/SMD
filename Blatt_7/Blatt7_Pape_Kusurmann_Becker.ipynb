{
 "cells": [
  {
   "cell_type": "markdown",
   "metadata": {},
   "source": [
    "# SMD Übungunszettel Nr. 7\n",
    "\n",
    "Abgabe von: __Pape, Kusurmann und Becker__"
   ]
  },
  {
   "cell_type": "code",
   "execution_count": 1,
   "metadata": {},
   "outputs": [],
   "source": [
    "import numpy as np \n",
    "import matplotlib.pyplot as plt\n",
    "import pandas as pd\n",
    "from collections import Counter\n",
    "\n",
    "np.random.seed(43)"
   ]
  },
  {
   "cell_type": "markdown",
   "metadata": {},
   "source": [
    "## Aufgabe 19\n",
    "\n",
    "### Aufgabenteil a)\n",
    "\n",
    "Die Startmittelpunkte sind: \n",
    "$$\n",
    " \\vec{m}_1 = \\begin{pmatrix} 3 \\\\ 4 \\end{pmatrix}, \\quad \\vec{m}_2 = \\begin{pmatrix} 3 \\\\ 7 \\end{pmatrix}, \\quad \\vec{m}_3 = \\begin{pmatrix} 7 \\\\ 4 \\end{pmatrix}\n",
    "$$\n",
    "Überprüfe zu welchen Mittelpunkt der Punkt $\\vec{x} = \\begin{pmatrix} 5 \\\\ 1 \\end{pmatrix}$ gehöhrt:\n",
    "$$\\begin{aligned}\n",
    "\\vec{d}_1 &= \\begin{pmatrix} 3 \\\\ 4 \\end{pmatrix} -  \\begin{pmatrix} 5 \\\\ 1 \\end{pmatrix} =  \\begin{pmatrix} -2 \\\\ 3 \\end{pmatrix}, \\quad \\left| \\vec{d}_1 \\right| = \\sqrt{13} \\\\\n",
    "\\vec{d}_3 &= \\begin{pmatrix} 7 \\\\ 4 \\end{pmatrix} -  \\begin{pmatrix} 5 \\\\ 1 \\end{pmatrix} =  \\begin{pmatrix} 2 \\\\ 3 \\end{pmatrix}, \\quad \\left| \\vec{d}_1 \\right| = \\sqrt{13} = \\left| \\vec{d}_1 \\right|\n",
    "\\end{aligned}$$\n",
    "\n",
    "Beide Mittelpunkte besitzen den gleichen Abstand zum  Punkt $\\vec{x}$. Aus diesem Grund packe ich den Punkt zur Menge $3$. \n",
    "\n",
    "Berechnung der neuen Mittelpunkte: \n",
    "$$ \\begin{aligned}\n",
    "\\vec{m}_1 = \\frac{1}{5} \\begin{pmatrix} 12 \\\\ 15 \\end{pmatrix}, \\quad \n",
    "\\vec{m}_2 = \\begin{pmatrix} 1 \\\\ 4 \\end{pmatrix}, \\quad \n",
    "\\vec{m}_3 = \\frac{1}{6} \\begin{pmatrix} 41 \\\\ 21 \\end{pmatrix} \n",
    "\\end{aligned} $$"
   ]
  },
  {
   "cell_type": "markdown",
   "metadata": {},
   "source": [
    "### Aufgabenteil b)\n",
    "__Zweiter Iterationsschritt__\n",
    "\n",
    "Überprüfe zu welchen Mittelpunkt der Punkt $\\vec{x} = \\begin{pmatrix} 1 \\\\ 5 \\end{pmatrix}$ gehöhrt:\n",
    "\n",
    "$$\\begin{aligned}\n",
    "\\vec{d}_1 &= \\frac{1}{5}\\begin{pmatrix} 12 \\\\ 5 \\end{pmatrix} -  \\begin{pmatrix} 1 \\\\ 5 \\end{pmatrix} =  \\frac{1}{5} \\begin{pmatrix} 12 -5 \\\\ 15 - 25  \\end{pmatrix} = \\frac{1}{5}\\begin{pmatrix} 7 \\\\ -10 \\end{pmatrix}, \\quad \\left| \\vec{d}_1 \\right| = \\sqrt{\\frac{49}{25} + 4}  \\\\\n",
    "\\vec{d}_2 &= \\begin{pmatrix} 1 \\\\ 6 \\end{pmatrix} -  \\begin{pmatrix} 1 \\\\ 5 \\end{pmatrix} =  \\begin{pmatrix} 0 \\\\ 1 \\end{pmatrix}, \\quad \\left| \\vec{d}_2 \\right| = 1 < \\left| \\vec{d}_1 \\right|\n",
    "\\end{aligned}$$\n",
    "\n",
    "Überprüfe zu welchen Mittelpunkt der Punkt $\\vec{x} = \\begin{pmatrix} 1 \\\\ 4 \\end{pmatrix}$ gehöhrt:\n",
    "\n",
    "$$\\begin{aligned}\n",
    "\\vec{d}_1 &= \\frac{1}{5}\\begin{pmatrix} 12 \\\\ 5 \\end{pmatrix} -  \\begin{pmatrix} 1 \\\\ 4 \\end{pmatrix} =  \\frac{1}{5} \\begin{pmatrix} 12 -5 \\\\ 5 - 20  \\end{pmatrix} = \\frac{1}{5}\\begin{pmatrix} 7 \\\\ -5 \\end{pmatrix}, \\quad \\left| \\vec{d}_1 \\right| = \\sqrt{\\frac{49}{25} + 1}  \\\\\n",
    "\\vec{d}_2 &= \\begin{pmatrix} 1 \\\\ 6 \\end{pmatrix} -  \\begin{pmatrix} 1 \\\\ 4 \\end{pmatrix} =  \\begin{pmatrix} 0 \\\\ 2 \\end{pmatrix}, \\quad \\left| \\vec{d}_2 \\right| = 2 < \\left| \\vec{d}_1 \\right|\n",
    "\\end{aligned}$$\n",
    "\n",
    "Überprüfe zu welchen Mittelpunkt der Punkt $\\vec{x} = \\begin{pmatrix} 5 \\\\ 1 \\end{pmatrix}$ gehöhrt:\n",
    "\n",
    "$$\\begin{aligned}\n",
    "\\vec{d}_1 &= \\frac{1}{5}\\begin{pmatrix} 12 \\\\ 5 \\end{pmatrix} -  \\begin{pmatrix} 5 \\\\ 1 \\end{pmatrix} =  \\frac{1}{5} \\begin{pmatrix} 12 -25 \\\\ 15 - 5  \\end{pmatrix} = \\frac{1}{5}\\begin{pmatrix} -13 \\\\ 10 \\end{pmatrix}, \\quad \\left| \\vec{d}_1 \\right| = \\sqrt{\\frac{169}{25} + 4}  \\\\\n",
    "\\vec{d}_3 &= \\frac{1}{6}\\begin{pmatrix} 41 \\\\ 21 \\end{pmatrix} -  \\begin{pmatrix} 5 \\\\ 1 \\end{pmatrix} =  \\frac{1}{6} \\begin{pmatrix} 41 -30 \\\\ 21 -6  \\end{pmatrix} = \\frac{1}{6}\\begin{pmatrix} 11 \\\\ 15 \\end{pmatrix}, \\quad \\left| \\vec{d}_3 \\right| = \\sqrt{\\frac{121}{36} + \\frac{225}{36}} >  \\left| \\vec{d}_1 \\right|  \\\\\n",
    "\\end{aligned}$$\n",
    "\n",
    "Berechne die neuen Mittelpunkte:\n",
    "\n",
    "$$ \\begin{aligned}\n",
    "\\vec{m}_1 = \\frac{1}{4} \\begin{pmatrix} 11 \\\\ 10\\end{pmatrix}, \\quad \n",
    "\\vec{m}_2 = \\frac{1}{2} \\begin{pmatrix} 2 \\\\ 11 \\end{pmatrix}, \\quad \n",
    "\\vec{m}_3 = \\frac{1}{6} \\begin{pmatrix} 41 \\\\ 21 \\end{pmatrix} \n",
    "\\end{aligned} $$\n",
    "\n",
    "__Dritter Iterationsschritt__\n",
    "\n",
    "Überprüfe zu welchen Mittelpunkt der Punkt $\\vec{x} = \\begin{pmatrix} 1 \\\\ 4 \\end{pmatrix}$ gehöhrt:\n",
    "\n",
    "$$\\begin{aligned}\n",
    "\\vec{d}_1 &= \\frac{1}{4}\\begin{pmatrix} 11 \\\\ 10 \\end{pmatrix} -  \\begin{pmatrix} 1 \\\\ 4 \\end{pmatrix} =  \\frac{1}{4} \\begin{pmatrix} 11 - 4 \\\\ 10 - 16  \\end{pmatrix} = \\frac{1}{4}\\begin{pmatrix} 7 \\\\ -6 \\end{pmatrix}, \\quad \\left| \\vec{d}_1 \\right| = \\sqrt{\\frac{49}{16} + \\frac{36}{16}}  \\\\\n",
    "\\vec{d}_2 &= \\frac{1}{2}\\begin{pmatrix} 2 \\\\ 11 \\end{pmatrix} -  \\begin{pmatrix} 1 \\\\ 4 \\end{pmatrix} =  \\frac{1}{2}\\begin{pmatrix} 0 \\\\ 3 \\end{pmatrix}, \\quad \\left| \\vec{d}_2 \\right| = \\frac{3}{2} < \\left| \\vec{d}_1 \\right|\n",
    "\\end{aligned}$$\n",
    "\n",
    "Überprüfe zu welchen Mittelpunkt der Punkt $\\vec{x} = \\begin{pmatrix} 5 \\\\ 1 \\end{pmatrix}$ gehöhrt:\n",
    "\n",
    "$$\\begin{aligned}\n",
    "\\vec{d}_1 &= \\frac{1}{4}\\begin{pmatrix} 11 \\\\ 10 \\end{pmatrix} -  \\begin{pmatrix} 5 \\\\ 1 \\end{pmatrix} =  \\frac{1}{4} \\begin{pmatrix} 11 - 20 \\\\ 10 - 16  \\end{pmatrix} = \\frac{1}{4}\\begin{pmatrix} -9 \\\\ -6 \\end{pmatrix}, \\quad \\left| \\vec{d}_1 \\right| = \\sqrt{\\frac{81}{16} + \\frac{36}{16}}  \\\\\n",
    "\\vec{d}_3 &= \\frac{1}{6}\\begin{pmatrix} 41 \\\\ 21 \\end{pmatrix} -  \\begin{pmatrix} 5 \\\\ 1 \\end{pmatrix} =  \\frac{1}{6}\\begin{pmatrix} 11 \\\\ 15 \\end{pmatrix}, \\quad \\left| \\vec{d}_3 \\right| = \\sqrt{\\frac{121}{36} + \\frac{225}{36}} > \\left| \\vec{d}_1 \\right|\n",
    "\\end{aligned}$$\n",
    "\n",
    "Berechne die neuen Mittelpunkte:\n",
    "\n",
    "$$ \\begin{aligned}\n",
    "\\vec{m}_1 =  \\begin{pmatrix} 1 \\\\ 5 \\end{pmatrix}, \\quad \n",
    "\\vec{m}_2 = \\frac{1}{4} \\begin{pmatrix} 15 \\\\ 7 \\end{pmatrix}, \\quad \n",
    "\\vec{m}_3 = \\frac{1}{5} \\begin{pmatrix} 36 \\\\ 2 \\end{pmatrix} \n",
    "\\end{aligned} $$\n",
    "\n",
    "__Vierter Iterationsschritt__\n",
    "\n",
    "Überprüfe zu welchen Mittelpunkt der Punkt $\\vec{x} = \\begin{pmatrix} 6 \\\\ 2 \\end{pmatrix}$ gehöhrt:\n",
    "\n",
    "$$\\begin{aligned}\n",
    "\\vec{d}_1 &= \\frac{1}{4}\\begin{pmatrix} 15 \\\\ 7 \\end{pmatrix} -  \\begin{pmatrix} 6 \\\\ 2 \\end{pmatrix} =  \\frac{1}{4} \\begin{pmatrix} 15 - 24 \\\\ 7 -8  \\end{pmatrix} = \\frac{1}{4}\\begin{pmatrix} -9 \\\\ -1 \\end{pmatrix}, \\quad \\left| \\vec{d}_1 \\right| = \\sqrt{\\frac{81}{16} + \\frac{1}{16}}  \\\\\n",
    "\\vec{d}_3 &= \\frac{1}{5}\\begin{pmatrix} 36 \\\\ 20 \\end{pmatrix} -  \\begin{pmatrix} 6 \\\\ 2 \\end{pmatrix} =  \\frac{1}{5}\\begin{pmatrix} 6 \\\\ 10 \\end{pmatrix}, \\quad \\left| \\vec{d}_3 \\right| = \\sqrt{\\frac{36}{25} + 4} > \\left| \\vec{d}_1 \\right|\n",
    "\\end{aligned}$$\n",
    "\n",
    "Berechne die neuen Mittelpunkte:\n",
    "\n",
    "$$ \\begin{aligned}\n",
    "\\vec{m}_1 = \\frac{1}{5} \\begin{pmatrix} 21 \\\\ 9 \\end{pmatrix}, \\quad \n",
    "\\vec{m}_2 =  \\begin{pmatrix} 1 \\\\ 5 \\end{pmatrix}, \\quad \n",
    "\\vec{m}_3 = \\frac{1}{2} \\begin{pmatrix} 15 \\\\ 9 \\end{pmatrix} \n",
    "\\end{aligned} $$\n",
    "\n",
    "__Fünfter Iterationsschritt__\n",
    "\n",
    "Überprüfe zu welchen Mittelpunkt der Punkt $\\vec{x} = \\begin{pmatrix} 6 \\\\ 3 \\end{pmatrix}$ gehöhrt:\n",
    "\n",
    "$$\\begin{aligned}\n",
    "\\vec{d}_1 &= \\frac{1}{5}\\begin{pmatrix} 21 \\\\ 9 \\end{pmatrix} -  \\begin{pmatrix} 6 \\\\ 3 \\end{pmatrix} =  \\frac{1}{5} \\begin{pmatrix} 21 - 30 \\\\ 9 - 15  \\end{pmatrix} = \\frac{1}{5}\\begin{pmatrix} -9 \\\\ -6 \\end{pmatrix}, \\quad \\left| \\vec{d}_1 \\right| = \\sqrt{\\frac{81}{25} + \\frac{36}{25}}  \\\\\n",
    "\\vec{d}_3 &= \\frac{1}{2}\\begin{pmatrix} 15 \\\\ 9 \\end{pmatrix} -  \\begin{pmatrix} 6 \\\\ 3 \\end{pmatrix} =  \\frac{1}{4}\\begin{pmatrix} -3 \\\\ -3 \\end{pmatrix}, \\quad \\left| \\vec{d}_3 \\right| = \\sqrt{\\frac{18}{4}} < \\left| \\vec{d}_1 \\right|\n",
    "\\end{aligned}$$\n",
    "\n",
    "Die dazugehörige Skizze:"
   ]
  },
  {
   "cell_type": "markdown",
   "metadata": {},
   "source": [
    "<d1>\n",
    "<img style=\"transform: rotate(90deg);\" src=\"./gruppierung.jpg\", width=800,height=600>\n",
    "</d1>"
   ]
  },
  {
   "cell_type": "markdown",
   "metadata": {},
   "source": [
    "### Aufgabenteil c)\n",
    "Der Algorithmus konvergiert nach 5 Iterationsschritten (siehe oben).\n",
    "Die erhaltende Gruppierung war nicht zu erwarten. Man hätte eher erwartet, dass die drei Punkte links, unten die 6 Punkte und rechts die 3 Punkte zu einer Domäne zusammentun."
   ]
  },
  {
   "cell_type": "markdown",
   "metadata": {},
   "source": [
    "## Aufgabe 20\n",
    "Noch ein informativer [Link](http://www.cbcity.de/tutorial-neuronale-netze-einfach-erklaert)\n",
    "### Aufgabenteil a)\n",
    "Die _Lossfunktion_ ist ein Maß dafür wie viel Information/Wahrheit bei zum Beispiel einem Schnitt verloren geht.\n",
    "Hier bei gibt es verschiedene Defintionen für eine Lossfunktion. Allgemein soll eine Operation die Lossfunktion minimieren, also die maximale Information/Wahrheit erhalten. Aus diesem Grund wird die Lossfunktion dazu verwendet, um z.B. den geeignetsten Schnitt aus einer Vielzahl von möglichen Schnitten zu ermittelt.\n",
    "\n",
    "### Aufgabenteil b)\n",
    "Durch Ausprobieren oder durch das analytische Bestimmen des Minimas (folgen des Gradientens). \n",
    "\n",
    "### Aufgabenteil c)\n",
    "Die Aktivierungsfunktion steuert, unter Berücksichtigung des Inputs, wie aktiv das Neuron ist.\n",
    "Hierbei muss der Input auch einen bestimmten Schwellwert überschreiten, bevor das Neuro überhaupt aktiviert wird.\n",
    "\n",
    "Wir haben noch drei __Fragen__ bezgl. Neuronen: \n",
    "\n",
    "- Durch die Aktivierungsfunktion wird somit das erstmal schon mal Noise vom Signal getrennt (stimmt das?). \n",
    "- Die Aktivierungsfunktionen tragen auch zum _lernen_ des Netzwerks bei (könnt ihr das nochmal erklären?).\n",
    "- Aktivierungsfunktion der letzten Neuronenebene muss zum gewünschten Output passen (Wieso?).\n",
    "\n",
    "Beispiele:\n",
    "- lineare Funktion\n",
    "- Sigmoid Funktion\n",
    "- Leaky ReLU\n",
    "\n",
    "### Aufgabenteil d)\n",
    "Im biologischen Sinne ist ein Neuron definiert als eine Nervenzelle die Informationen aufnimmt und verarbeitet. \n",
    "\n",
    "In der Informatik:\n",
    "\n",
    "Man verwendete linerare Transformationen $f=\\mathbf{W}x_i +  b$, um Daten zu klassifizieren. \n",
    "Hierbei ist $\\mathbf{W}\\in \\mathbb{R}^{N\\times M}$ die Dimensionalität der Matrix, gegeben durch die Anzahl der Eingangsneuronen $N$ und der Ausgangsneuronen $M$. Somit sind _Neuronen_ nichts anderes als die Dimensionalität der lineraten Transformationen. Verbunden werden die einzelnen Neuronen somit über das Matrixprodukt.\n",
    "\n",
    "\n",
    "### Aufgabenteil e)\n",
    "In der Bilderkennung werden Neuronalenetzwerke verwendet, weil hier die hohe Dimensionalität/Komplexität des Eingangssignals\n",
    "verarbeitet und reduziert werden kann.\n",
    "\n",
    "Aber auch bei der Klassifizeriung von Datenpunkte, da diese beliebege dimensionale Fitfunktionen annehmen können und somit Daten geschickt transformieren und dann fitten. \n"
   ]
  },
  {
   "cell_type": "markdown",
   "metadata": {},
   "source": [
    "## Aufgabe 21"
   ]
  },
  {
   "cell_type": "markdown",
   "metadata": {},
   "source": [
    "### Aufgabenteil a)\n",
    "$$ \\begin{aligned}\n",
    "\\mathrm{dim}(x_i) &= M\\times 1, \\quad \\mathrm{dim}(C) = 1 \\times 1, \\quad \\mathrm{dim}(W) = K \\times M,  \\quad \\mathrm{dim}(b) = K \\times 1\n",
    "\\end{aligned}$$\n",
    "\n",
    "$$\\begin{aligned}\n",
    "\\nabla_W \\hat{C} = \\sum_i^K \\underbrace{\\frac{\\partial\\hat{C_i}}{\\partial f_{k,i}}}_{\\mathrm{dim} = K\\times 1}\\,\\underbrace{\\frac{\\partial f_{k,i}}{\\partial W}}_{{\\mathrm{dim} = 1\\times M}} \\quad \\Rightarrow \\quad \\mathrm{dim}(\\nabla_W \\hat{C}) = K \\times M\n",
    "\\end{aligned}$$\n",
    "\n",
    "$$\\begin{aligned}\n",
    "\\nabla_b \\hat{C} = \\sum_i^K \\underbrace{\\frac{\\partial\\hat{C_i}}{\\partial f_{k,i}}}_{\\mathrm{dim} = K\\times 1}\\,\\underbrace{\\frac{\\partial f_{k,i}}{\\partial b}}_{{\\mathrm{dim} =  K \\times 1}} \\quad \\Rightarrow \\quad \\mathrm{dim}(\\nabla_b \\hat{C}) = K \\times 1\n",
    "\\end{aligned}$$"
   ]
  },
  {
   "cell_type": "markdown",
   "metadata": {},
   "source": [
    "### Aufgabenteil b)\n",
    "\n",
    "$$\\begin{aligned}\n",
    "\\nabla_{f_a} \\hat{C} &= \\frac{1}{m} \\sum_i^m \\left(-\\sum_k^K\\nabla_{f_a} \\delta(y_i =k) \\,\\log\\left(\\frac{\\exp(f_{k,i})}{\\sum_n \\exp(f_{n,i})}\\right)\\right) \\\\\n",
    "&=  -\\frac{1}{m} \\sum_i^m \\delta(y_i =k)\\left( \\frac{\\sum_n \\exp(f_{n,i})}{\\exp(f_{k,i})\\frac{\\partial f_{k,i}}{\\partial f_{a,i}}}\\frac{\\exp(f_{k,i}) \\frac{\\partial f_{k,i}}{\\partial f_{a,i}} \\sum_j \\exp(f_{j,i}) - \\exp(f_{k,i})^2 \\frac{\\partial f_{k,i}}{\\partial f_{a,i}}}{\\left(\\sum_n \\exp(f_{n,i})\\right)^2} \\right) \\\\\n",
    "mit \\qquad \\frac{\\partial f_{k,i}}{\\partial f_{a,i}}&=\\delta_{a,k} \\\\\n",
    "&= \\frac{1}{m} \\sum_i^m \\left( \\frac{\\exp(f_{a,i})}{\\sum_n \\exp(f_{n,i})} - \\delta(y_i =a)\\right)\n",
    "\\end{aligned}$$"
   ]
  },
  {
   "cell_type": "markdown",
   "metadata": {},
   "source": [
    "### Aufgabenteil c)\n",
    "\n",
    "$$\\begin{aligned}\n",
    "\\nabla_W f_{k,i} = \\nabla_W \\left(W_k \\cdot \\vec{x_i} + b_k\\right) = \\begin{pmatrix} \\vec{0} & \\dots & \\vec{0}& \\underbrace{\\vec{x_i}}_{k_{te}-Spalte} &\\vec{0} & \\dots & \\vec{0} \\end{pmatrix}\n",
    "\\end{aligned}$$\n",
    "\n",
    "Beispiel für\n",
    "\n",
    "$$\\begin{aligned}\n",
    "W= \\begin{pmatrix} a & b & c \\\\ d & e & f \\\\ g & h & i \\end{pmatrix}, \\quad W_2 &= \\begin{pmatrix}  d & e & f \\end{pmatrix}, \\quad \\vec{x} = \\begin{pmatrix} x_1 & x_2 & x_3 \\end{pmatrix}^{\\mathrm{T}} \\\\\n",
    "\\nabla_W f_{2,i} &= \\nabla_W \\underbrace{\\left( dx_1 + ex_2 +fx_3 \\right)}_{=:\\Gamma} =\\begin{pmatrix}  \\frac{\\partial \\Gamma}{\\partial a}  & \\frac{\\partial \\Gamma}{\\partial d} & \\frac{\\partial \\Gamma}{\\partial g} \\\\ \n",
    "\\frac{\\partial \\Gamma}{\\partial b} & \\frac{\\partial \\Gamma}{\\partial e} & \\frac{\\partial \\Gamma}{\\partial h} \\\\ \\frac{\\partial \\Gamma}{\\partial c} & \\frac{\\partial \\Gamma}{\\partial f} & \\frac{\\partial \\Gamma}{\\partial i} \\end{pmatrix} = \\begin{pmatrix} 0 & x_1 & 0 \\\\ 0 & x_2 & 0 \\\\ 0 & x_3 & 0 \\end{pmatrix}\n",
    "\\end{aligned}$$\n",
    "\n",
    "\n",
    "$$\\begin{aligned}\n",
    "\\nabla_b f_{k,i} = \\nabla_W \\left(W_k \\cdot \\vec{x_i} + b_k\\right) = \\begin{pmatrix} 0 \\\\ \\vdots \\\\ 0 \\\\ 1 \\, \\,(k_{te} -Zeile) \\\\ 0 \\\\ \\vdots \\\\ 0 \\end{pmatrix}\n",
    "\\end{aligned}$$"
   ]
  },
  {
   "cell_type": "markdown",
   "metadata": {},
   "source": [
    "### Aufgabenteil d)"
   ]
  },
  {
   "cell_type": "code",
   "execution_count": 2,
   "metadata": {},
   "outputs": [],
   "source": [
    "pop_1 = pd.read_hdf('./populationen.hdf5', key='P_0')\n",
    "pop_2 = pd.read_hdf('./populationen.hdf5', key='P_1')\n",
    "\n",
    "pop_1['label'] = np.zeros(pop_1.shape[0])\n",
    "pop_2['label'] = np.ones(pop_2.shape[0])"
   ]
  },
  {
   "cell_type": "code",
   "execution_count": 3,
   "metadata": {},
   "outputs": [],
   "source": [
    "df_pop = pd.concat([pop_1, pop_2], ignore_index=True)"
   ]
  },
  {
   "cell_type": "code",
   "execution_count": 4,
   "metadata": {},
   "outputs": [],
   "source": [
    "def soft_max(x_i, W, b):\n",
    "    # Berechne f für alle x gleichzeitig\n",
    "    f = np.matmul(W, x_i[['x','y']].T).T + b\n",
    "    \n",
    "    # Berchne aus f die Softmax Funktion\n",
    "    q = (np.exp(f).T / np.sum(np.exp(f), axis=1).T).T \n",
    "   \n",
    "    ''' Gebe einen Vektor q zurück, hierbei ist q[0] die zu Klasse 1 zugehörige Softmax funktion \n",
    "        und q[1] bezüglich der Klasse 2\n",
    "    '''\n",
    "    \n",
    "    return q"
   ]
  },
  {
   "cell_type": "code",
   "execution_count": 5,
   "metadata": {},
   "outputs": [],
   "source": [
    "def indicator_function(x, grad_c):\n",
    "    # Subtrahiere von jedem Element was zu Klasse 0 gehört (1, 0) bzw. wenn es zur Klasse 1 gehört (0, 1).\n",
    "    # Man beachte das ich immer die transponierten Gradienten verwende\n",
    "    grad_c[x['label']== 0]= grad_c[x['label']== 0] - np.array([1,0])\n",
    "    grad_c[x['label']== 1]= grad_c[x['label']== 1] - np.array([0,1])\n",
    "    return grad_c"
   ]
  },
  {
   "cell_type": "code",
   "execution_count": 6,
   "metadata": {},
   "outputs": [],
   "source": [
    "def gradient_cost_function(x, soft_max_f, indicator, W, b):\n",
    "    \n",
    "    m = x.shape[0]\n",
    "    # Berechne den Softmax funktion\n",
    "    grad_c_i = soft_max_f(x, W, b)\n",
    "    # Subtrahiere von den jeweiligen Elementen jeweils 1\n",
    "    grad_c_i = indicator(x, grad_c_i)\n",
    "    # Man hätte die obigen Schritte auch in einem zusammen packen können\n",
    "    \n",
    "    # Die Matritzenmulptilikation ersetzt die Summation\n",
    "    grad_C_W =1 /m * np.matmul(grad_c_i.T, x[['x','y']].values )\n",
    "    grad_C_b = 1 / m * np.sum(grad_c_i, axis=0)\n",
    "    \n",
    "    return grad_C_W,  grad_C_b"
   ]
  },
  {
   "cell_type": "code",
   "execution_count": 7,
   "metadata": {},
   "outputs": [],
   "source": [
    "learning_rate = 0.5\n",
    "periodes = 100\n",
    "\n",
    "W = np.random.rand(2, 2)\n",
    "b = np.random.rand(1, 2)"
   ]
  },
  {
   "cell_type": "code",
   "execution_count": 8,
   "metadata": {},
   "outputs": [],
   "source": [
    "grad_C_W, grad_C_b = gradient_cost_function(df_pop, soft_max, indicator_function, W, b)"
   ]
  },
  {
   "cell_type": "markdown",
   "metadata": {},
   "source": [
    "### Aufgabenteil e)"
   ]
  },
  {
   "cell_type": "code",
   "execution_count": 9,
   "metadata": {},
   "outputs": [],
   "source": [
    "# Geradengleichung\n",
    "def gerade(x, W, b):\n",
    "    return 1/(W[0][1] - W[1][1]) * ((W[1][0] - W[0][0]) * x + b[0][1] - b[0][0])"
   ]
  },
  {
   "cell_type": "code",
   "execution_count": 10,
   "metadata": {},
   "outputs": [],
   "source": [
    "for i in range(periodes):\n",
    "    grad_C_W, grad_C_b = gradient_cost_function(df_pop, soft_max, indicator_function, W, b)\n",
    "    W = W - learning_rate * grad_C_W\n",
    "    b = b - learning_rate * grad_C_b"
   ]
  },
  {
   "cell_type": "code",
   "execution_count": 11,
   "metadata": {},
   "outputs": [
    {
     "data": {
      "text/plain": [
       "<matplotlib.legend.Legend at 0x7f3c52de3b00>"
      ]
     },
     "execution_count": 11,
     "metadata": {},
     "output_type": "execute_result"
    },
    {
     "data": {
      "image/png": "[encoded data removed]",
      "text/plain": [
       "<Figure size 432x288 with 1 Axes>"
      ]
     },
     "metadata": {
      "needs_background": "light"
     },
     "output_type": "display_data"
    }
   ],
   "source": [
    "plt.scatter(df_pop['x'], df_pop['y'], c=df_pop['label'], s=5, label='Popualtionen')\n",
    "\n",
    "plt.plot(df_pop['x'], gerade(df_pop['x'], W, b), label='Trenngerade')\n",
    "\n",
    "plt.xlabel('x')\n",
    "plt.ylabel('y')\n",
    "plt.legend()"
   ]
  }
 ],
 "metadata": {
  "kernelspec": {
   "display_name": "Python 3",
   "language": "python",
   "name": "python3"
  },
  "language_info": {
   "codemirror_mode": {
    "name": "ipython",
    "version": 3
   },
   "file_extension": ".py",
   "mimetype": "text/x-python",
   "name": "python",
   "nbconvert_exporter": "python",
   "pygments_lexer": "ipython3",
   "version": "3.7.0"
  }
 },
 "nbformat": 4,
 "nbformat_minor": 2
}
