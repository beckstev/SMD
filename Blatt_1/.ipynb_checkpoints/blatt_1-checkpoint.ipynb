{
 "cells": [
  {
   "cell_type": "markdown",
   "metadata": {},
   "source": [
    "# SMD-Übungszettel Nr.1\n",
    "\n"
   ]
  },
  {
   "cell_type": "markdown",
   "metadata": {},
   "source": [
    "## Aufgabe 1 "
   ]
  },
  {
   "cell_type": "markdown",
   "metadata": {},
   "source": [
    "### Aufgabenteil a)"
   ]
  },
  {
   "cell_type": "code",
   "execution_count": 40,
   "metadata": {},
   "outputs": [],
   "source": [
    "import numpy as np\n",
    "\n",
    "import matplotlib.pyplot as plt\n",
    "\n",
    "import scipy\n",
    "\n",
    "from scipy.optimize import newton, brentq, minimize"
   ]
  },
  {
   "cell_type": "markdown",
   "metadata": {},
   "source": [
    "Definiere die in der Aufgabe gegeben Funktionen"
   ]
  },
  {
   "cell_type": "code",
   "execution_count": 41,
   "metadata": {},
   "outputs": [],
   "source": [
    "def f(x): \n",
    "    return (x**3 + 1/3) - (x**3 - 1/3)\n",
    "\n",
    "def g(x):\n",
    "    return ( (3 + x**3/3) - (3 - x**3/3)) / x**3\n"
   ]
  },
  {
   "cell_type": "markdown",
   "metadata": {},
   "source": [
    "Definiere die exakten Werte $f_0$ und $g_0$ der Gleichungen:"
   ]
  },
  {
   "cell_type": "code",
   "execution_count": 42,
   "metadata": {},
   "outputs": [],
   "source": [
    "f_0 = 2/3\n",
    "g_0 = 2/3"
   ]
  },
  {
   "cell_type": "markdown",
   "metadata": {},
   "source": [
    "Führe den relativen Fehler ein"
   ]
  },
  {
   "cell_type": "code",
   "execution_count": 43,
   "metadata": {},
   "outputs": [],
   "source": [
    "def rel_error(x_0, x_num):\n",
    "    return ( np.abs(x_0 - x_num) / np.abs(x_0) )"
   ]
  },
  {
   "cell_type": "markdown",
   "metadata": {},
   "source": [
    "Lege den Definititionsbereich fest und plotte den relativen Fehler"
   ]
  },
  {
   "cell_type": "code",
   "execution_count": 44,
   "metadata": {},
   "outputs": [],
   "source": [
    "x = np.logspace(-7,7, 1e6)"
   ]
  },
  {
   "cell_type": "markdown",
   "metadata": {},
   "source": [
    "#### Ergebnisse für f(x)"
   ]
  },
  {
   "cell_type": "code",
   "execution_count": 45,
   "metadata": {},
   "outputs": [
    {
     "name": "stdout",
     "output_type": "stream",
     "text": [
      "f: x value where the relative error is 1%: 41284 \n",
      "\n",
      "f: x value where the relative error is 1, this is equal to f(x) = 0: 165140\n"
     ]
    }
   ],
   "source": [
    "rel_error_array_f = rel_error(f_0, f(x))\n",
    "\n",
    "# x_values where the relative error is smaller than 1%\n",
    "x_where_rel_err_lower_1per_f = x[rel_error_array_f <= 0.01]\n",
    "\n",
    "# Getting the last element of the list because I want to upper limit\n",
    "print('f: x value where the relative error is 1%:',int(x_where_rel_err_lower_1per_f[-1]), '\\n')\n",
    "\n",
    "# x_values where the relative error is one, this equal to f(x) = 0.\n",
    "x_where_rel_err_is_one_f = x[rel_error_array_f == 1]\n",
    "\n",
    "# Getting the first element of the list beacause I want the lower limit\n",
    "print('f: x value where the relative error is 1, this is equal to f(x) = 0:',int(x_where_rel_err_is_one_f[0]))\n",
    "\n",
    "\n"
   ]
  },
  {
   "cell_type": "markdown",
   "metadata": {},
   "source": [
    "#### Ergebnis für g(x)"
   ]
  },
  {
   "cell_type": "code",
   "execution_count": 46,
   "metadata": {},
   "outputs": [
    {
     "name": "stdout",
     "output_type": "stream",
     "text": [
      "g: x value where the relative error is 1%: 1.0967206986851394e-05 \n",
      "\n",
      "g: x value where the relative error is 1, this is equal to f(x) = 0: 8.733452070893184e-06\n"
     ]
    }
   ],
   "source": [
    "rel_error_array_g = rel_error(g_0, g(x))\n",
    "\n",
    "# x_values where the relative error is smaller than 1%\n",
    "x_where_rel_err_lower_1per_g = x[rel_error_array_g <= 0.01]\n",
    "\n",
    "# Getting the last element of the list because I want to upper limit\n",
    "print('g: x value where the relative error is 1%:',x_where_rel_err_lower_1per_g[0], '\\n')\n",
    "\n",
    "# x_values where the relative error is one, this equal to f(x) = 0.\n",
    "x_where_rel_err_is_one_g = x[rel_error_array_g == 1]\n",
    "\n",
    "# Getting the first element of the list beacause I want the lower limit\n",
    "print('g: x value where the relative error is 1, this is equal to f(x) = 0:',x_where_rel_err_is_one_g[-1])"
   ]
  },
  {
   "cell_type": "markdown",
   "metadata": {},
   "source": [
    "## Aufgabenteil b)"
   ]
  },
  {
   "cell_type": "markdown",
   "metadata": {},
   "source": [
    "Plotte die relativen Fehler und führe zusätzlich noch die Grenzen mit ein."
   ]
  },
  {
   "cell_type": "code",
   "execution_count": 47,
   "metadata": {},
   "outputs": [
    {
     "data": {
      "image/png": "[encoded data removed]",
      "text/plain": [
       "<Figure size 432x288 with 1 Axes>"
      ]
     },
     "metadata": {
      "needs_background": "light"
     },
     "output_type": "display_data"
    }
   ],
   "source": [
    "plt.plot(x,rel_error_array_g, label = 'Relativer Fehler von g(x)')\n",
    "plt.plot(x,rel_error_array_f, label = 'Relativer Fehler von f(x)')\n",
    "\n",
    "plt.axhline(0.1, color = 'r', alpha = 0.6, label = '1% Grenze')\n",
    "\n",
    "plt.xscale('log')\n",
    "plt.xlabel('x value')\n",
    "plt.ylabel('relative error')\n",
    "\n",
    "plt.legend()\n",
    "\n",
    "plt.savefig('./results/A1_rel_error.pdf')\n",
    "plt.show()\n"
   ]
  },
  {
   "cell_type": "markdown",
   "metadata": {},
   "source": [
    "Was in dem Plot auffällt ist, dass $f(x)$ ungenau für große $x$ ist. Analog ist $g(x)$ \n",
    "ungenau für kleine $x$. \n",
    "\n",
    "__Erklärung für f(x):__\n",
    "Bei großen Werten für $x$ vernachlässigt der Computer die $\\frac{1}{3}$ und das Resultat ist $f(x)=0$.\n",
    "\n",
    "__Erklärung für g(x):__\n",
    "Bei sehr kleinen Werten für $x$ kommt es mit Zähler von g(x) zur Auslöschung, da $x^3$ noch kleiner wird. Weiterhin sind die Fluktuation (blau gefüllter Bereich), damit zu erklären, \n",
    "dass in $g(x)$ durch $x$ geteilt wird und somit sich der Term an einer Polstelle aufhält."
   ]
  },
  {
   "cell_type": "markdown",
   "metadata": {},
   "source": [
    "## Aufgabe 2"
   ]
  },
  {
   "cell_type": "markdown",
   "metadata": {},
   "source": [
    "### Aufgabenteil a)"
   ]
  },
  {
   "cell_type": "markdown",
   "metadata": {},
   "source": [
    "Verwende die Werte aus der Aufgabenstellung"
   ]
  },
  {
   "cell_type": "code",
   "execution_count": 64,
   "metadata": {},
   "outputs": [],
   "source": [
    "E = 50 #in units of GeV\n",
    "me = 511e-6 # in units of GeV"
   ]
  },
  {
   "cell_type": "code",
   "execution_count": 50,
   "metadata": {},
   "outputs": [],
   "source": [
    "def beta(energy, mass_of_electron):\n",
    "    gamma = energy / mass_of_electron\n",
    "    \n",
    "    return np.sqrt( 1 - 1/gamma**2) \n"
   ]
  },
  {
   "cell_type": "code",
   "execution_count": 51,
   "metadata": {},
   "outputs": [],
   "source": [
    "def nenner(beta, theta):\n",
    "    return 1 - beta**2 * np.cos(theta)**2"
   ]
  },
  {
   "cell_type": "markdown",
   "metadata": {},
   "source": [
    "Numerische Instabilität ensteht unter anderem, wenn durch eine kleine Zeit geteilt wird. \n",
    "Aus diesem Grund schaue ich mir den Nenner des differntiellen Wirkungsquerschnitt $\\sigma$ an.\n",
    "\n",
    "Lege den Definitionsbereich für $\\theta$ fest."
   ]
  },
  {
   "cell_type": "code",
   "execution_count": 96,
   "metadata": {},
   "outputs": [
    {
     "name": "stderr",
     "output_type": "stream",
     "text": [
      "/home/beckstev/.local/anaconda3/lib/python3.7/site-packages/ipykernel_launcher.py:1: DeprecationWarning: object of type <class 'float'> cannot be safely interpreted as an integer.\n",
      "  \"\"\"Entry point for launching an IPython kernel.\n"
     ]
    }
   ],
   "source": [
    "theta = np.linspace(0, 2*np.pi, 2e6)"
   ]
  },
  {
   "cell_type": "code",
   "execution_count": 97,
   "metadata": {},
   "outputs": [
    {
     "name": "stdout",
     "output_type": "stream",
     "text": [
      "1.0000000000006168 9574100918.31634\n"
     ]
    },
    {
     "data": {
      "image/png": "[encoded data removed]",
      "text/plain": [
       "<Figure size 432x288 with 1 Axes>"
      ]
     },
     "metadata": {
      "needs_background": "light"
     },
     "output_type": "display_data"
    }
   ],
   "source": [
    "plt.plot(theta, nenner(beta(E, me), theta),label = 'Nenner')\n",
    "\n",
    "print( 1/max( nenner(beta(E, me), theta)), 1/min( nenner(beta(E, me), theta)))\n",
    "\n",
    "plt.xticks([0, np.pi / 2, np.pi, 3 * np.pi / 2,  2 * np.pi],\n",
    "           [r\"$0$\", r\"$\\frac{1}{2}\\,\\pi$\", r\"$\\pi$\", r\"$\\frac{3}{2}\\,\\pi$\", r\"$2\\pi$\"])\n",
    "plt.ylabel('Wert des Nenners')\n",
    "plt.xlabel(r'$\\theta$')\n",
    "plt.legend()\n",
    "\n",
    "plt.savefig('./results/A2_nenner.pdf')"
   ]
  },
  {
   "cell_type": "markdown",
   "metadata": {},
   "source": [
    "In der obigen Grafik ist deutlich zu erkennen dass der Nenner in Umgebung um $\\theta=n\\pi,\\, n\\in\\mathbb{N}_0$ gegen Null strebt. In der Nähe der Polstellen ist der differentielle Wirkungsquerschnitt $\\sigma$ numerisch instabil. Zusätzlich findet im Nenner eine Subtraktion gleich großer Zahlen statt."
   ]
  },
  {
   "cell_type": "code",
   "execution_count": 98,
   "metadata": {},
   "outputs": [],
   "source": [
    "def differential_crosssection(energy, beta, theta):\n",
    "    alpha = 1/137\n",
    "    s = 4*energy**2\n",
    "    \n",
    "    return alpha**2 / s * ( (2 + np.sin(theta)**2 ) / ( 1 - beta**2 * np.cos(theta)**2 ) ) "
   ]
  },
  {
   "cell_type": "code",
   "execution_count": 99,
   "metadata": {},
   "outputs": [
    {
     "data": {
      "image/png": "[encoded data removed]",
      "text/plain": [
       "<Figure size 432x288 with 1 Axes>"
      ]
     },
     "metadata": {
      "needs_background": "light"
     },
     "output_type": "display_data"
    }
   ],
   "source": [
    "plt.plot(theta, differential_crosssection(E, beta(E, me), theta))\n",
    "plt.xticks([0, np.pi / 2, np.pi, 3 * np.pi / 2,  2 * np.pi],\n",
    "          [r\"$0$\", r\"$\\frac{1}{2}\\,\\pi$\", r\"$\\pi$\", r\"$\\frac{3}{2}\\,\\pi$\", r\"$2\\pi$\"])\n",
    "plt.xlabel(r'$\\theta$')\n",
    "plt.yscale('log')\n",
    "#plt.xlim(np.pi*0.9999, 1.0001*np.pi)"
   ]
  },
  {
   "cell_type": "markdown",
   "metadata": {},
   "source": [
    "In der Grafik oben erkennt man die Auswirkung der Polstellen sehr gut."
   ]
  },
  {
   "cell_type": "markdown",
   "metadata": {},
   "source": [
    "### Aufgabenteil b)\n"
   ]
  },
  {
   "cell_type": "markdown",
   "metadata": {},
   "source": [
    "Ziel ist es den Nenner so umzuformulieren, das dieser numerisch stabiler ist. \n",
    "Verwende dazu\n",
    "\n",
    "$$\n",
    "\\begin{aligned}\n",
    "\\mathrm{Nenner} &= 1 - \\beta^2\\cos^2(\\theta) \\\\\n",
    "\\mathrm{mit} \\\\\n",
    "\\cos^2(\\theta) &= 1- \\sin^2(\\theta)\\\\\n",
    "\\beta^2 &= 1 - \\frac{1}{\\gamma^2}\\\\\n",
    "\\mathrm{folgt} \\\\\n",
    "\\mathrm{Nenner} &=1 - \\left(1 - \\frac{1}{\\gamma^2}\\right)\\left(1- \\sin^2(\\theta)\\right)\\\\\n",
    "&=\\sin^2(\\theta) + \\frac{1}{\\gamma^2} - \\frac{1}{\\gamma^2}\\sin^2(\\theta) \\\\\n",
    "&=\\sin^2(\\theta) + \\frac{1}{\\gamma^2}\\cos^2(\\theta)\n",
    "\\end{aligned}\n",
    "$$\n",
    "\n",
    "Durch den Faktor $\\frac{1}{\\gamma^2}$ wird aber immer noch bei $\\theta = 0,\\pi,\\dots$ durch eine sehr kleine Zahl geteilt. Aus diesem Grund erweitere ich $\\sigma$ mit $\\gamma$\n",
    "\n",
    "$$\n",
    "\\begin{aligned}\n",
    "\\sigma &\\propto \\frac{2+\\sin^2(\\theta)}{\\sin^2(\\theta) + \\frac{1}{\\gamma^2}\\cos^2(\\theta)}\\\\\n",
    "\\Leftrightarrow \\quad &= \\frac{(2+\\sin^2(\\theta))\\gamma^2}{\\gamma^2\\sin^2(\\theta) +\\cos^2(\\theta)}\\\\\n",
    "\\end{aligned}\n",
    "$$\n",
    "\n",
    "Definiere die neuen Funktion in `python`"
   ]
  },
  {
   "cell_type": "code",
   "execution_count": 100,
   "metadata": {},
   "outputs": [],
   "source": [
    "def new_nenner(energy, electron_mass, theta):\n",
    "    gamma = energy / electron_mass\n",
    "    \n",
    "    return gamma**2 * np.sin(theta)**2 + np.cos(theta)\n"
   ]
  },
  {
   "cell_type": "code",
   "execution_count": 101,
   "metadata": {},
   "outputs": [
    {
     "data": {
      "text/plain": [
       "(-0.1, 3.173008580125691)"
      ]
     },
     "execution_count": 101,
     "metadata": {},
     "output_type": "execute_result"
    },
    {
     "data": {
      "image/png": "[encoded data removed]",
      "text/plain": [
       "<Figure size 432x288 with 1 Axes>"
      ]
     },
     "metadata": {
      "needs_background": "light"
     },
     "output_type": "display_data"
    }
   ],
   "source": [
    "plt.plot(theta, new_nenner(E, me, theta))\n",
    "\n",
    "plt.xticks([0, np.pi / 2, np.pi, 3 * np.pi / 2,  2 * np.pi],\n",
    "           [r\"$0$\", r\"$\\frac{1}{2}\\,\\pi$\", r\"$\\pi$\", r\"$\\frac{3}{2}\\,\\pi$\", r\"$2\\pi$\"])\n",
    "\n",
    "plt.xlabel(r'$\\theta$')\n",
    "plt.xlim(-0.1, 1.01*np.pi)\n"
   ]
  },
  {
   "cell_type": "markdown",
   "metadata": {},
   "source": [
    "Führe weiterhin den neuen differentien Quotienten ein"
   ]
  },
  {
   "cell_type": "code",
   "execution_count": 102,
   "metadata": {},
   "outputs": [],
   "source": [
    "def new_differential_crosssection(energy, electron_mass, theta):\n",
    "    alpha = 1 / 137\n",
    "    s = 4*energy**2\n",
    "    gamma = energy / electron_mass\n",
    "    \n",
    "    return alpha**2 / s * ( gamma**2 * (2 + np.sin(theta)**2 ) ) / ( gamma**2 * np.sin(theta)**2 + np.cos(theta)**2)\n",
    "    "
   ]
  },
  {
   "cell_type": "code",
   "execution_count": 111,
   "metadata": {},
   "outputs": [
    {
     "name": "stderr",
     "output_type": "stream",
     "text": [
      "/home/beckstev/.local/anaconda3/lib/python3.7/site-packages/ipykernel_launcher.py:1: DeprecationWarning: object of type <class 'float'> cannot be safely interpreted as an integer.\n",
      "  \"\"\"Entry point for launching an IPython kernel.\n"
     ]
    },
    {
     "data": {
      "image/png": "[encoded data removed]",
      "text/plain": [
       "<Figure size 432x288 with 1 Axes>"
      ]
     },
     "metadata": {
      "needs_background": "light"
     },
     "output_type": "display_data"
    }
   ],
   "source": [
    "theta = np.linspace(np.pi-1e-7, np.pi+1e-7, 1e6)\n",
    "plt.clf()\n",
    "plt.plot(theta,new_differential_crosssection(E, me, theta), label = 'New Crosssection')\n",
    "plt.plot(theta, differential_crosssection(E, beta(E, me), theta), label ='Old Crosssection')\n",
    "\n",
    "plt.xlabel(r'$\\theta$')\n",
    "plt.ylabel('value of the crosssection')\n",
    "plt.legend()\n",
    "plt.yscale('log')\n",
    "plt.savefig('./results/A2_differenz.pdf')\n"
   ]
  },
  {
   "cell_type": "markdown",
   "metadata": {},
   "source": [
    "#### Ergebnis\n",
    "Deutlich zu erkennen sind numerische Effekte, Stufen, bei dem alten Wirkungsquerschnitt. Erst die Stabilisierung von $\\gamma$ führt zu einer glatten Kurve."
   ]
  },
  {
   "cell_type": "markdown",
   "metadata": {},
   "source": [
    "### Aufgabenteil c)"
   ]
  },
  {
   "cell_type": "markdown",
   "metadata": {},
   "source": [
    "Die Konditionszahl einer Funktion $f(x)$ ist definiert als:\n",
    "$$\n",
    "K(x)=\\left|\\,x\\,\\frac{f'(x)}{f(x)}\\,\\right|\n",
    "$$\n",
    "\n",
    "Aus der Quotientenregel folgt für $\\sigma'$:\n",
    "$$\n",
    "\\sigma'=\\frac{\\alpha^2}{s}\\frac{2\\sin(\\theta)\\cos(\\theta)(-3\\beta^2+1)}{\\left(1-\\beta^2\\cos^2(\\theta)\\right)^2}\n",
    "$$"
   ]
  },
  {
   "cell_type": "code",
   "execution_count": 104,
   "metadata": {},
   "outputs": [],
   "source": [
    "def derivation_differntial_crosssection(energy, beta, theta):\n",
    "    alpha = 1/137\n",
    "    s = 4 * energy**2\n",
    "    \n",
    "    return alpha**2 / s *  ( (2*np.sin(theta)*np.cos(theta) * (-3*beta**2+1) )/( (1-beta**2*np.cos(theta)**2)**2 ) )\n",
    "    "
   ]
  },
  {
   "cell_type": "code",
   "execution_count": 105,
   "metadata": {},
   "outputs": [
    {
     "name": "stderr",
     "output_type": "stream",
     "text": [
      "/home/beckstev/.local/anaconda3/lib/python3.7/site-packages/ipykernel_launcher.py:1: DeprecationWarning: object of type <class 'float'> cannot be safely interpreted as an integer.\n",
      "  \"\"\"Entry point for launching an IPython kernel.\n"
     ]
    },
    {
     "data": {
      "text/plain": [
       "array([0.00000000e+00, 1.25663731e-06, 2.51327463e-06, ...,\n",
       "       6.28318279e+00, 6.28318405e+00, 6.28318531e+00])"
      ]
     },
     "execution_count": 105,
     "metadata": {},
     "output_type": "execute_result"
    }
   ],
   "source": [
    "theta = np.linspace(0,2*np.pi, 5e6)\n",
    "theta"
   ]
  },
  {
   "cell_type": "code",
   "execution_count": 106,
   "metadata": {},
   "outputs": [
    {
     "data": {
      "text/plain": [
       "[<matplotlib.lines.Line2D at 0x7f027cdd2f60>]"
      ]
     },
     "execution_count": 106,
     "metadata": {},
     "output_type": "execute_result"
    },
    {
     "data": {
      "image/png": "[encoded data removed]",
      "text/plain": [
       "<Figure size 432x288 with 1 Axes>"
      ]
     },
     "metadata": {
      "needs_background": "light"
     },
     "output_type": "display_data"
    }
   ],
   "source": [
    "K = np.abs(theta * derivation_differntial_crosssection(E, beta(E,me), theta)/differntial_crosssection(E, beta(E,me), theta))\n",
    "\n",
    "\n",
    "plt.plot(theta,K, label = 'Old crosssection' )\n",
    "plt.plot(theta[K>1][::2],K[K>1][::2],'.', alpha=0.01)\n",
    "\n",
    "plt.xticks([0, np.pi / 2, np.pi, 3 * np.pi / 2,  2 * np.pi],\n",
    "           [r\"$0$\", r\"$\\frac{1}{2}\\,\\pi$\", r\"$\\pi$\", r\"$\\frac{3}{2}\\,\\pi$\", r\"$2\\pi$\"])\n",
    "plt.xlim(-0.1,np.pi+0.1)\n",
    "plt.xlabel(r'$\\theta$')\n",
    "plt.ylabel('K')\n",
    "plt.yscale('log')\n",
    "plt.legend()\n",
    "\n"
   ]
  },
  {
   "cell_type": "markdown",
   "metadata": {},
   "source": [
    "Der obige Plot zeigt in orange die Bereiche die eine schlechte Konditionierung respektive \n",
    "$K>1$ besitzen. Der blaue Bereich ist gut Konditioniert $K<1$."
   ]
  },
  {
   "cell_type": "markdown",
   "metadata": {},
   "source": [
    "## Aufgabe 3"
   ]
  },
  {
   "cell_type": "markdown",
   "metadata": {},
   "source": [
    "Bestimmte zunächst die Nomierung $N$.\n",
    "$$\n",
    "\\begin{aligned}\n",
    "1&=\\int_{0}^{\\infty}N\\mathrm{exp}\\left(-\\frac{mv^2}{2\\mathrm{k_B}T}\\right)4\\pi v^2 \\mathrm{d}v \\\\\n",
    "&=4N\\pi\\int_{0}^{\\infty}\\left(\\mathrm{exp}\\left(-\\Gamma v^2\\right)v\\right) v \\mathrm{d}v \\\\\n",
    "\\mathrm{Partielle \\,Integration}\\\\\n",
    "&=4N\\pi\\left( \\left[ -\\frac{1}{2\\Gamma}\\mathrm{exp}\\left(-\\Gamma v^2\\right)v\\right]_{0}^{\\infty} + \\frac{1}{2\\Gamma}\\int_{0}^{\\infty}\\mathrm{exp}\\left(-\\Gamma v^2\\right)\\mathrm{d}v\\right) \\\\\n",
    "&=N\\sqrt{\\frac{\\pi^3}{\\Gamma^3}}\\\\\n",
    "\\Leftrightarrow\\quad N &= \\left(\\frac{m}{2\\mathrm{k_B}T\\pi}\\right)^{\\frac{3}{2}}\n",
    "\\end{aligned}\n",
    "$$"
   ]
  },
  {
   "cell_type": "markdown",
   "metadata": {},
   "source": [
    "### Aufgabenteil a) \n",
    "#### Die wahrscheinlichste Geschwindigkeit $v_m$"
   ]
  },
  {
   "cell_type": "markdown",
   "metadata": {},
   "source": [
    "Der Wert $v_m$ kann berechnet werden, indem der Hochpunkt der Verteilung $f(v)$ gesucht wird:\n",
    "$$\n",
    "f'(v_m)\\overset{!}{=}0\n",
    "$$\n",
    "\n",
    "Dazu die Ableitung der Verteilung:\n",
    "$$\n",
    "f'(v) = 8\\pi N \\mathrm{exp}\\left(-\\Gamma v^2\\right)v\\left(1-v^2\\Gamma\\right)\n",
    "$$\n",
    "Daraus folgt mit der obigen Extremalbedingung für $v_m$:\n",
    "$$\n",
    "v_m = \\pm \\sqrt{\\frac{1}{\\Gamma}} = \\pm \\sqrt{\\frac{2\\mathrm{k_b}T}{m}}\n",
    "$$\n",
    "Der Definitionsbereich der Geschwindigkeit ist $v\\in\\mathbb{R}^+$, deshalb wird nur die positive Lösung betrachtet."
   ]
  },
  {
   "cell_type": "markdown",
   "metadata": {},
   "source": [
    "### Aufgabenteil b)\n",
    "#### Der Mittelwert $\\left<v\\right>$"
   ]
  },
  {
   "cell_type": "markdown",
   "metadata": {},
   "source": [
    "Der Mittelwert einer Verteilung kann im allgemein über die erste Kommulante bestimmt werden:\n",
    "\n",
    "$$\n",
    "\\left<v\\right> = \\int v \\,f(v)\\mathrm{d}v\n",
    "$$"
   ]
  },
  {
   "cell_type": "markdown",
   "metadata": {},
   "source": [
    "$$\n",
    "\\begin{aligned}\n",
    "\\left<v\\right> &= 4\\pi N \\int_{0}^{\\infty} v^3 \\exp\\left(-\\Gamma v^2\\right)\\mathrm{d}v \\\\\n",
    "&=4\\pi N \\left( \\left[\\frac{-v^2}{2\\Gamma} \\exp(-\\Gamma v^2)\\right]_{0}^{\\infty} + \\frac{1}{\\Gamma}\\int_{0}^{\\infty} v\\exp(-\\Gamma v^2) \\mathrm{d}v \\right)\\\\\n",
    "&=4\\pi N \\left[-\\frac{1}{2\\Gamma^2} \\exp(-\\Gamma v^2)\\right]_{0}^{\\infty}\\\\\n",
    "&= \\frac{2\\pi N}{\\Gamma^2} = \\frac{2}{\\sqrt{\\pi}} v_m\n",
    "\\end{aligned}\n",
    "$$"
   ]
  },
  {
   "cell_type": "markdown",
   "metadata": {},
   "source": [
    "### Aufgabenteil c)\n",
    "#### Bestimmung des Medians $v_{0,5}$\n",
    "\n",
    "Berechnet werden kann der Median wie folgt:\n",
    "\n",
    "$$\n",
    "\\int_{0}^{v_{0,5}} f(v)\\mathrm{d}v = \\frac{1}{2}\n",
    "$$\n",
    "\n",
    "Die Lösung der folgenden Aufgabe orrientiert sich an diesem [Paper](https://pubs.acs.org/doi/abs/10.1021/ed061p979?journalCode=jceda8)."
   ]
  },
  {
   "cell_type": "markdown",
   "metadata": {},
   "source": [
    "$$\n",
    "\\begin{aligned}\n",
    "\\frac{1}{2} &=\\int_{0}^{v_{0,5}} 4\\pi N v^2 \\exp\\left(-v^2/v_m\\right) \\mathrm{d}v \\\\\n",
    "&= \\frac{4}{\\sqrt{\\pi}v_m} \\int_{0}^{v_{0,5}} \\frac{v^2}{v_m^2}\\exp\\left(-\\frac{v^2}{v_m^2}\\right)\\mathrm{d}v\\\\\n",
    "\\text{Substitution: } \\qquad  s&:=\\frac{v}{v_m},\\quad v_m\\mathrm{d}s=\\mathrm{d}v\\\\\n",
    "\\frac{1}{2}&=\\frac{4}{\\sqrt{\\pi}}\\int_{0}^{s_{0,5}}s^2\\exp\\left(-s^2\\right)\\mathrm{d}s\\\\\n",
    "\\Leftrightarrow \\qquad \\frac{\\sqrt{\\pi}}{8}&=\\left[\\frac{-s}{2}\\exp\\left(-s^2\\right)\\right]_0^{s_{0,5}} + \\frac{1}{2}\\int_{0}^{s_{0,5}} \\exp\\left(-s^2\\right)\\mathrm{d}s\\\\\n",
    "    &=\\frac{-s_{0,5}}{2}\\exp\\left(-s_{0,5}^2\\right)+\\frac{\\sqrt{\\pi}}{4}\\mathrm{erf}\\left(s_{0,5}\\right)\\\\\n",
    "\\Rightarrow \\qquad g(s_{0,5})&:=\\mathrm{erf}(s_{0,5})-\\frac{2}{\\sqrt{\\pi}}s_{0,5}\\exp\\left(-s_{0,5}^2\\right) - \\frac{1}{2} = 0\n",
    "\\end{aligned}\n",
    "$$"
   ]
  },
  {
   "cell_type": "markdown",
   "metadata": {},
   "source": [
    "Bestimmte numerisch die Nullstelle der Funktion $g(s_{0,5})$.\n"
   ]
  },
  {
   "cell_type": "code",
   "execution_count": 107,
   "metadata": {},
   "outputs": [
    {
     "name": "stdout",
     "output_type": "stream",
     "text": [
      "Die Nullstelle der Funktion g liegt bei: 1.0876520317581668\n"
     ]
    }
   ],
   "source": [
    "def function(s):\n",
    "    return scipy.special.erf(s) - 2/np.sqrt(np.pi) * s * np.exp(-s**2) - 1/2  \n",
    "\n",
    "nullstelle = newton(function,1)\n",
    "\n",
    "print('Die Nullstelle der Funktion g liegt bei:', nullstelle)"
   ]
  },
  {
   "cell_type": "markdown",
   "metadata": {},
   "source": [
    "Mit Hilfe der Nullstelle kann der Median allgemein über die Relation \n",
    "$$\n",
    "\\begin{aligned}\n",
    "s_{0,5}&=\\frac{v_{0,5}}{v_m}\\\\\n",
    "\\Leftrightarrow \\qquad v_{0,5} &=s_{0,5}\\,v_m \\approx 1.088\\,v_m\n",
    "\\end{aligned}\n",
    "$$"
   ]
  },
  {
   "cell_type": "code",
   "execution_count": null,
   "metadata": {},
   "outputs": [],
   "source": []
  }
 ],
 "metadata": {
  "kernelspec": {
   "display_name": "Python 3",
   "language": "python",
   "name": "python3"
  },
  "language_info": {
   "codemirror_mode": {
    "name": "ipython",
    "version": 3
   },
   "file_extension": ".py",
   "mimetype": "text/x-python",
   "name": "python",
   "nbconvert_exporter": "python",
   "pygments_lexer": "ipython3",
   "version": "3.7.0"
  }
 },
 "nbformat": 4,
 "nbformat_minor": 2
}
