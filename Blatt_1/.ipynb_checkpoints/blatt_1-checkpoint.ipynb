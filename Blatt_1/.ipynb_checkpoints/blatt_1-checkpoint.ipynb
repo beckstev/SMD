{
 "cells": [
  {
   "cell_type": "markdown",
   "metadata": {},
   "source": [
    "# SMD-Übungszettel Nr.1\n",
    "\n"
   ]
  },
  {
   "cell_type": "markdown",
   "metadata": {},
   "source": [
    "## Aufgabe 1 "
   ]
  },
  {
   "cell_type": "markdown",
   "metadata": {},
   "source": [
    "### Aufgabenteil a)"
   ]
  },
  {
   "cell_type": "code",
   "execution_count": 1,
   "metadata": {},
   "outputs": [],
   "source": [
    "import numpy as np\n",
    "\n",
    "import matplotlib.pyplot as plt\n"
   ]
  },
  {
   "cell_type": "markdown",
   "metadata": {},
   "source": [
    "Definiere die in der Aufgabe gegeben Funktionen"
   ]
  },
  {
   "cell_type": "code",
   "execution_count": 2,
   "metadata": {},
   "outputs": [],
   "source": [
    "def f(x): \n",
    "    return (x**3 + 1/3) - (x**3 - 1/3)\n",
    "\n",
    "def g(x):\n",
    "    return ( (3 + x**3/3) - (3 - x**3/3)) / x**3\n"
   ]
  },
  {
   "cell_type": "markdown",
   "metadata": {},
   "source": [
    "Definiere die exakten Werte $f_0$ und $g_0$ der Gleichungen:"
   ]
  },
  {
   "cell_type": "code",
   "execution_count": 3,
   "metadata": {},
   "outputs": [],
   "source": [
    "f_0 = 2/3\n",
    "g_0 = 2/3"
   ]
  },
  {
   "cell_type": "markdown",
   "metadata": {},
   "source": [
    "Führe den relativen Fehler ein"
   ]
  },
  {
   "cell_type": "code",
   "execution_count": 4,
   "metadata": {},
   "outputs": [],
   "source": [
    "def rel_error(x_0, x_num):\n",
    "    return ( np.abs(x_0 - x_num) / np.abs(x_0) )"
   ]
  },
  {
   "cell_type": "markdown",
   "metadata": {},
   "source": [
    "Lege den Definititionsbereich fest und plotte den relativen Fehler"
   ]
  },
  {
   "cell_type": "code",
   "execution_count": 5,
   "metadata": {},
   "outputs": [],
   "source": [
    "x = np.logspace(-7,7, 1e6)"
   ]
  },
  {
   "cell_type": "markdown",
   "metadata": {},
   "source": [
    "#### Ergebnisse für f(x)"
   ]
  },
  {
   "cell_type": "code",
   "execution_count": 6,
   "metadata": {},
   "outputs": [
    {
     "name": "stdout",
     "output_type": "stream",
     "text": [
      "x value where the relative error is 1%: 82568 \n",
      "\n",
      "x value where the relative error is 1, this is equal to f(x) = 0: 165140\n"
     ]
    }
   ],
   "source": [
    "rel_error_array_f = rel_error(f_0, f(x))\n",
    "\n",
    "# x_values where the relative error is smaller than 1%\n",
    "x_where_rel_err_lower_1per_f = x[rel_error_array_f <= 0.1]\n",
    "\n",
    "# Getting the last element of the list because I want to upper limit\n",
    "print('x value where the relative error is 1%:',int(x_where_rel_err_lower_1per_f[-1]), '\\n')\n",
    "\n",
    "# x_values where the relative error is one, this equal to f(x) = 0.\n",
    "x_where_rel_err_is_one_f = x[rel_error_array_f == 1]\n",
    "\n",
    "# Getting the first element of the list beacause I want the lower limit\n",
    "print('x value where the relative error is 1, this is equal to f(x) = 0:',int(x_where_rel_err_is_one_f[0]))\n",
    "\n",
    "\n"
   ]
  },
  {
   "cell_type": "markdown",
   "metadata": {},
   "source": [
    "#### Ergebnis für g(x)"
   ]
  },
  {
   "cell_type": "code",
   "execution_count": 7,
   "metadata": {},
   "outputs": [
    {
     "name": "stdout",
     "output_type": "stream",
     "text": [
      "x value where the relative error is 1%: 1.06594311238701e-05 \n",
      "\n",
      "x value where the relative error is 1, this is equal to f(x) = 0: 8.733452070893184e-06\n"
     ]
    }
   ],
   "source": [
    "rel_error_array_g = rel_error(g_0, g(x))\n",
    "\n",
    "# x_values where the relative error is smaller than 1%\n",
    "x_where_rel_err_lower_1per_g = x[rel_error_array_g <= 0.1]\n",
    "\n",
    "# Getting the last element of the list because I want to upper limit\n",
    "print('x value where the relative error is 1%:',x_where_rel_err_lower_1per_g[0], '\\n')\n",
    "\n",
    "# x_values where the relative error is one, this equal to f(x) = 0.\n",
    "x_where_rel_err_is_one_g = x[rel_error_array_g == 1]\n",
    "\n",
    "# Getting the first element of the list beacause I want the lower limit\n",
    "print('x value where the relative error is 1, this is equal to f(x) = 0:',x_where_rel_err_is_one_g[-1])"
   ]
  },
  {
   "cell_type": "markdown",
   "metadata": {},
   "source": [
    "## Aufgabenteil b)"
   ]
  },
  {
   "cell_type": "markdown",
   "metadata": {},
   "source": [
    "Plotte die relativen Fehler und führe zusätzlich noch die Grenzen mit ein."
   ]
  },
  {
   "cell_type": "code",
   "execution_count": 8,
   "metadata": {},
   "outputs": [
    {
     "data": {
      "image/png": "[encoded data removed]",
      "text/plain": [
       "<Figure size 432x288 with 1 Axes>"
      ]
     },
     "metadata": {
      "needs_background": "light"
     },
     "output_type": "display_data"
    }
   ],
   "source": [
    "plt.plot(x,rel_error_array_g, label = 'Relativer Fehler von g(x)')\n",
    "plt.plot(x,rel_error_array_f, label = 'Relativer Fehler von f(x)')\n",
    "\n",
    "plt.axhline(0.1, color = 'r', alpha = 0.6, label = '1% Grenze')\n",
    "\n",
    "plt.xscale('log')\n",
    "plt.xlabel('x value')\n",
    "plt.ylabel('relative error')\n",
    "\n",
    "plt.legend()\n",
    "\n",
    "plt.savefig('./results/A1_rel_error.pdf')\n",
    "plt.show()\n"
   ]
  },
  {
   "cell_type": "markdown",
   "metadata": {},
   "source": [
    "Was in dem Plot auffällt ist, dass $f(x)$ ungenau für große $x$ ist. Analog ist $g(x)$ \n",
    "ungenau für kleine $x$. \n",
    "\n",
    "__Erklärung für f(x):__\n",
    "Bei großen Werten für $x$ vernachlässigt der Computer die $\\frac{1}{3}$ und das Resultat ist $f(x)=0$.\n",
    "\n",
    "__Erklärung für g(x):__\n",
    "Bei sehr kleinen Werten für $x$ kommt es mit Zähler von g(x) zur Auslöschung, da $x^3$ noch kleiner wird. Weiterhin sind die Fluktuation (blau gefüllter Bereich), damit zu erklären, \n",
    "dass in $g(x)$ durch $x$ geteilt wird und somit sich der Term an einer Polstelle aufhält."
   ]
  },
  {
   "cell_type": "markdown",
   "metadata": {},
   "source": [
    "## Aufgabe 2"
   ]
  },
  {
   "cell_type": "markdown",
   "metadata": {},
   "source": [
    "### Aufgabenteil a)"
   ]
  },
  {
   "cell_type": "markdown",
   "metadata": {},
   "source": [
    "Verwende die Werte aus der Aufgabenstellung"
   ]
  },
  {
   "cell_type": "code",
   "execution_count": 9,
   "metadata": {},
   "outputs": [],
   "source": [
    "E = 50e9 #in units of eV\n",
    "me = 511e3 # in units of eV"
   ]
  },
  {
   "cell_type": "code",
   "execution_count": 10,
   "metadata": {},
   "outputs": [],
   "source": [
    "def beta(energy, mass_of_electron):\n",
    "    gamma = energy / mass_of_electron\n",
    "    \n",
    "    return np.sqrt( 1 - 1/gamma**2) \n"
   ]
  },
  {
   "cell_type": "code",
   "execution_count": 11,
   "metadata": {},
   "outputs": [],
   "source": [
    "def nenner(beta, theta):\n",
    "    return 1 - beta**2 * np.cos(theta)**2"
   ]
  },
  {
   "cell_type": "markdown",
   "metadata": {},
   "source": [
    "Numerische Instabilität ensteht unter anderem, wenn durch eine kleine Zeit geteilt wird. \n",
    "Aus diesem Grund schaue ich mir den Nenner des differntiellen Wirkungsquerschnitt $\\sigma$ an.\n",
    "\n",
    "Lege den Definitionsbereich für $\\theta$ fest."
   ]
  },
  {
   "cell_type": "code",
   "execution_count": 94,
   "metadata": {},
   "outputs": [
    {
     "name": "stderr",
     "output_type": "stream",
     "text": [
      "/home/beckstev/.local/anaconda3/lib/python3.7/site-packages/ipykernel_launcher.py:1: DeprecationWarning: object of type <class 'float'> cannot be safely interpreted as an integer.\n",
      "  \"\"\"Entry point for launching an IPython kernel.\n"
     ]
    }
   ],
   "source": [
    "theta = np.linspace(0, 2*np.pi, 2e6)"
   ]
  },
  {
   "cell_type": "code",
   "execution_count": 70,
   "metadata": {},
   "outputs": [
    {
     "name": "stdout",
     "output_type": "stream",
     "text": [
      "1.0000000000006168 9574100918.31634\n"
     ]
    },
    {
     "data": {
      "image/png": "[encoded data removed]",
      "text/plain": [
       "<Figure size 432x288 with 1 Axes>"
      ]
     },
     "metadata": {
      "needs_background": "light"
     },
     "output_type": "display_data"
    }
   ],
   "source": [
    "plt.plot(theta, nenner(beta(E, me), theta),label = 'Nenner')\n",
    "\n",
    "print( 1/max( nenner(beta(E, me), theta)), 1/min( nenner(beta(E, me), theta)))\n",
    "\n",
    "plt.xticks([0, np.pi / 2, np.pi, 3 * np.pi / 2,  2 * np.pi],\n",
    "           [r\"$0$\", r\"$\\frac{1}{2}\\,\\pi$\", r\"$\\pi$\", r\"$\\frac{3}{2}\\,\\pi$\", r\"$2\\pi$\"])\n",
    "plt.ylabel('Wert des Nenners')\n",
    "plt.xlabel(r'$\\theta$')\n",
    "plt.legend()\n",
    "\n",
    "plt.savefig('./results/A2_nenner.pdf')"
   ]
  },
  {
   "cell_type": "markdown",
   "metadata": {},
   "source": [
    "In der obigen Grafik ist deutlich zu erkennen dass der Nenner in Umgebung um $\\theta=n\\pi,\\, n\\in\\mathbb{N}_0$ gegen Null strebt. In der Nähe der Polstellen ist der differentielle Wirkungsquerschnitt $\\sigma$ numerisch instabil. Zusätzlich findet im Nenner eine Subtraktion gleich großer Zahlen statt."
   ]
  },
  {
   "cell_type": "code",
   "execution_count": 71,
   "metadata": {},
   "outputs": [],
   "source": [
    "def differntial_crosssection(energy, beta, theta):\n",
    "    alpha = 1/137\n",
    "    s = 4*energy**2\n",
    "    \n",
    "    return alpha**2 / s * ( (2 + np.sin(theta)**2 ) / ( 1 - beta**2 * np.cos(theta)**2 ) ) "
   ]
  },
  {
   "cell_type": "code",
   "execution_count": 73,
   "metadata": {},
   "outputs": [
    {
     "data": {
      "text/plain": [
       "([<matplotlib.axis.XTick at 0x7fe0d29d52b0>,\n",
       "  <matplotlib.axis.XTick at 0x7fe0d2a03ba8>,\n",
       "  <matplotlib.axis.XTick at 0x7fe0d2a03908>,\n",
       "  <matplotlib.axis.XTick at 0x7fe0d2a525c0>,\n",
       "  <matplotlib.axis.XTick at 0x7fe0d2a52a58>],\n",
       " <a list of 5 Text xticklabel objects>)"
      ]
     },
     "execution_count": 73,
     "metadata": {},
     "output_type": "execute_result"
    },
    {
     "data": {
      "image/png": "[encoded data removed]",
      "text/plain": [
       "<Figure size 432x288 with 1 Axes>"
      ]
     },
     "metadata": {
      "needs_background": "light"
     },
     "output_type": "display_data"
    }
   ],
   "source": [
    "plt.plot(theta, differntial_crosssection(E, beta(E, me), theta))\n",
    "plt.xticks([0, np.pi / 2, np.pi, 3 * np.pi / 2,  2 * np.pi],\n",
    "          [r\"$0$\", r\"$\\frac{1}{2}\\,\\pi$\", r\"$\\pi$\", r\"$\\frac{3}{2}\\,\\pi$\", r\"$2\\pi$\"])\n",
    "plt.xlabel(r'$\\theta$')\n",
    "#plt.xlim(np.pi*0.9999, 1.0001*np.pi)"
   ]
  },
  {
   "cell_type": "markdown",
   "metadata": {},
   "source": [
    "In der Grafik oben erkennt man die Auswirkung der Polstellen sehr gut."
   ]
  },
  {
   "cell_type": "markdown",
   "metadata": {},
   "source": [
    "### Aufgabenteil b)\n"
   ]
  },
  {
   "cell_type": "markdown",
   "metadata": {},
   "source": [
    "Ziel ist es den Nenner so umzuformulieren, das dieser numerisch stabiler ist. \n",
    "Verwende dazu\n",
    "\n",
    "$$\n",
    "\\begin{aligned}\n",
    "\\mathrm{Nenner} &= 1 - \\beta^2\\cos^2(\\theta) \\\\\n",
    "\\mathrm{mit} \\\\\n",
    "\\cos^2(\\theta) &= 1- \\sin^2(\\theta)\\\\\n",
    "\\beta^2 &= 1 - \\frac{1}{\\gamma^2}\\\\\n",
    "\\mathrm{folgt} \\\\\n",
    "\\mathrm{Nenner} &=1 - \\left(1 - \\frac{1}{\\gamma^2}\\right)\\left(1- \\sin^2(\\theta)\\right)\\\\\n",
    "&=\\sin^2(\\theta) + \\frac{1}{\\gamma^2} - \\frac{1}{\\gamma^2}\\sin^2(\\theta) \\\\\n",
    "&=\\sin^2(\\theta) + \\frac{1}{\\gamma^2}\\cos^2(\\theta)\n",
    "\\end{aligned}\n",
    "$$\n",
    "\n",
    "Durch den Faktor $\\frac{1}{\\gamma^2}$ wird aber immer noch bei $\\theta = 0,\\pi,\\dots$ durch eine sehr kleine Zahl geteilt. Aus diesem Grund erweitere ich $\\sigma$ mit $\\gamma$\n",
    "\n",
    "$$\n",
    "\\begin{aligned}\n",
    "\\sigma &\\propto \\frac{2+\\sin^2(\\theta)}{\\sin^2(\\theta) + \\frac{1}{\\gamma^2}\\cos^2(\\theta)}\\\\\n",
    "\\Leftrightarrow \\quad &= \\frac{(2+\\sin^2(\\theta))\\gamma^2}{\\gamma^2\\sin^2(\\theta) +\\cos^2(\\theta)}\\\\\n",
    "\\end{aligned}\n",
    "$$\n",
    "\n",
    "Definiere die neuen Funktion in `python`"
   ]
  },
  {
   "cell_type": "code",
   "execution_count": 87,
   "metadata": {},
   "outputs": [],
   "source": [
    "def new_nenner(energy, electron_mass, theta):\n",
    "    gamma = energy / electron_mass\n",
    "    \n",
    "    return gamma**2*np.sin(theta)**2 + np.cos(theta)\n"
   ]
  },
  {
   "cell_type": "code",
   "execution_count": 89,
   "metadata": {},
   "outputs": [
    {
     "data": {
      "text/plain": [
       "(-0.5, 3.455751918948773)"
      ]
     },
     "execution_count": 89,
     "metadata": {},
     "output_type": "execute_result"
    },
    {
     "data": {
      "image/png": "[encoded data removed]",
      "text/plain": [
       "<Figure size 432x288 with 1 Axes>"
      ]
     },
     "metadata": {
      "needs_background": "light"
     },
     "output_type": "display_data"
    }
   ],
   "source": [
    "plt.plot(theta, new_nenner(E, me, theta))\n",
    "plt.xticks([0, np.pi / 2, np.pi, 3 * np.pi / 2,  2 * np.pi],\n",
    "           [r\"$0$\", r\"$\\frac{1}{2}\\,\\pi$\", r\"$\\pi$\", r\"$\\frac{3}{2}\\,\\pi$\", r\"$2\\pi$\"])\n",
    "\n",
    "plt.xlabel(r'$\\theta$')\n",
    "plt.xlim(-0.5, 1.1*np.pi)\n"
   ]
  },
  {
   "cell_type": "markdown",
   "metadata": {},
   "source": [
    "Führe weiterhin den neuen differentien Quotienten ein"
   ]
  },
  {
   "cell_type": "code",
   "execution_count": 98,
   "metadata": {},
   "outputs": [],
   "source": [
    "def new_differential_crosssection(energy, electron_mass, theta):\n",
    "    alpha = 1 / 137\n",
    "    s = 4*energy**2\n",
    "    gamma = energy / electron_mass\n",
    "    \n",
    "    return alpha**2 / s * ( ( gamma**2 * (2 + np.sin(theta)**2 ) ) / ( gamma**2 *np.sin(theta)**2 + np.cos(theta)\n",
    " ) ) \n",
    "    "
   ]
  },
  {
   "cell_type": "code",
   "execution_count": 113,
   "metadata": {},
   "outputs": [
    {
     "name": "stderr",
     "output_type": "stream",
     "text": [
      "/home/beckstev/.local/anaconda3/lib/python3.7/site-packages/ipykernel_launcher.py:1: DeprecationWarning: object of type <class 'float'> cannot be safely interpreted as an integer.\n",
      "  \"\"\"Entry point for launching an IPython kernel.\n"
     ]
    },
    {
     "data": {
      "image/png": "[encoded data removed]",
      "text/plain": [
       "<Figure size 432x288 with 1 Axes>"
      ]
     },
     "metadata": {
      "needs_background": "light"
     },
     "output_type": "display_data"
    }
   ],
   "source": [
    "theta = np.linspace(np.pi-0.1,np.pi+1,2e6)\n",
    "plt.clf()\n",
    "plt.plot(theta,new_differential_crosssection(E, me, theta), label = 'New Crosssection')\n",
    "plt.plot(theta, differntial_crosssection(E, beta(E, me), theta), label ='Old Crosssection')\n",
    "\n",
    "plt.xlabel(r'$\\theta$')\n",
    "plt.legend()\n",
    "#plt.yscale('log')\n",
    "plt.savefig('./results/A2_test.pdf')\n"
   ]
  },
  {
   "cell_type": "markdown",
   "metadata": {},
   "source": [
    "### Aufgabenteil c)"
   ]
  },
  {
   "cell_type": "markdown",
   "metadata": {},
   "source": [
    "Die Konditionszahl einer Funktion $f(x)$ ist definiert als:\n",
    "$$\n",
    "K(x)=\\left|\\,x\\,\\frac{f'(x)}{f(x)}\\,\\right|\n",
    "$$\n",
    "\n",
    "Aus der Quotientenregel folgt für $\\sigma'$:\n",
    "$$\n",
    "\\sigma'=\\frac{\\alpha^2}{s}\\frac{2\\sin(\\theta)\\cos(\\theta)(-3\\beta^2+1)}{\\left(1-\\beta^2\\cos^2(\\theta)\\right)^2}\n",
    "$$"
   ]
  },
  {
   "cell_type": "code",
   "execution_count": 104,
   "metadata": {},
   "outputs": [],
   "source": [
    "def derivation_differntial_crosssection(energy, beta, theta):\n",
    "    alpha = 1/137\n",
    "    s = 4 * energy**2\n",
    "    \n",
    "    return alpha**2 / s *  ( (2*np.sin(theta)*np.cos(theta) * (-3*beta**2+1) )/( (1-beta**2*np.cos(theta)**2)**2 ) )\n",
    "    "
   ]
  },
  {
   "cell_type": "code",
   "execution_count": 129,
   "metadata": {},
   "outputs": [
    {
     "name": "stderr",
     "output_type": "stream",
     "text": [
      "/home/beckstev/.local/anaconda3/lib/python3.7/site-packages/ipykernel_launcher.py:1: DeprecationWarning: object of type <class 'float'> cannot be safely interpreted as an integer.\n",
      "  \"\"\"Entry point for launching an IPython kernel.\n"
     ]
    },
    {
     "data": {
      "text/plain": [
       "array([0.00000000e+00, 1.25663731e-06, 2.51327463e-06, ...,\n",
       "       6.28318279e+00, 6.28318405e+00, 6.28318531e+00])"
      ]
     },
     "execution_count": 129,
     "metadata": {},
     "output_type": "execute_result"
    }
   ],
   "source": [
    "theta = np.linspace(0,2*np.pi, 5e6)\n",
    "theta"
   ]
  },
  {
   "cell_type": "code",
   "execution_count": 150,
   "metadata": {},
   "outputs": [
    {
     "data": {
      "text/plain": [
       "[<matplotlib.lines.Line2D at 0x7fe0d160c470>]"
      ]
     },
     "execution_count": 150,
     "metadata": {},
     "output_type": "execute_result"
    },
    {
     "data": {
      "image/png": "[encoded data removed]",
      "text/plain": [
       "<Figure size 432x288 with 1 Axes>"
      ]
     },
     "metadata": {
      "needs_background": "light"
     },
     "output_type": "display_data"
    }
   ],
   "source": [
    "K = np.abs(theta * derivation_differntial_crosssection(E, beta(E,me), theta)/differntial_crosssection(E, beta(E,me), theta))\n",
    "\n",
    "plt.plot(theta,K, label = 'Old crosssection' )\n",
    "plt.xticks([0, np.pi / 2, np.pi, 3 * np.pi / 2,  2 * np.pi],\n",
    "           [r\"$0$\", r\"$\\frac{1}{2}\\,\\pi$\", r\"$\\pi$\", r\"$\\frac{3}{2}\\,\\pi$\", r\"$2\\pi$\"])\n",
    "plt.xlim(0,np.pi+0.1)\n",
    "plt.xlabel(r'$\\theta$')\n",
    "plt.ylabel('K')\n",
    "plt.yscale('log')\n",
    "plt.legend()\n",
    "\n",
    "plt.plot(theta[K>1][::2],K[K>1][::2],'.', alpha=0.01)"
   ]
  },
  {
   "cell_type": "markdown",
   "metadata": {},
   "source": [
    "Der obige Plot zeigt in orange die Bereiche die eine schlechte Konditionierung respektive \n",
    "$K>1$ besitzen. Der blaue Bereich ist gut Konditioniert $K<1$."
   ]
  },
  {
   "cell_type": "code",
   "execution_count": null,
   "metadata": {},
   "outputs": [],
   "source": []
  }
 ],
 "metadata": {
  "kernelspec": {
   "display_name": "Python 3",
   "language": "python",
   "name": "python3"
  },
  "language_info": {
   "codemirror_mode": {
    "name": "ipython",
    "version": 3
   },
   "file_extension": ".py",
   "mimetype": "text/x-python",
   "name": "python",
   "nbconvert_exporter": "python",
   "pygments_lexer": "ipython3",
   "version": "3.7.0"
  }
 },
 "nbformat": 4,
 "nbformat_minor": 2
}
