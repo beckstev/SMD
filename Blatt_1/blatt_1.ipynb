{
 "cells": [
  {
   "cell_type": "markdown",
   "metadata": {},
   "source": [
    "# SMD-Übungszettel Nr.1\n",
    "\n"
   ]
  },
  {
   "cell_type": "markdown",
   "metadata": {},
   "source": [
    "## Aufgabe 1 "
   ]
  },
  {
   "cell_type": "markdown",
   "metadata": {},
   "source": [
    "### Aufgabenteil a)"
   ]
  },
  {
   "cell_type": "code",
   "execution_count": 1,
   "metadata": {},
   "outputs": [],
   "source": [
    "import numpy as np\n",
    "\n",
    "import matplotlib.pyplot as plt\n"
   ]
  },
  {
   "cell_type": "markdown",
   "metadata": {},
   "source": [
    "Definiere die in der Aufgabe gegeben Funktionen"
   ]
  },
  {
   "cell_type": "code",
   "execution_count": 2,
   "metadata": {},
   "outputs": [],
   "source": [
    "def f(x): \n",
    "    return (x**3 + 1/3) - (x**3 - 1/3)\n",
    "\n",
    "def g(x):\n",
    "    return ( (3 + x**3/3) - (3 - x**3/3)) / x**3\n"
   ]
  },
  {
   "cell_type": "markdown",
   "metadata": {},
   "source": [
    "Definiere die exakten Werte $f_0$ und $g_0$ der Gleichungen:"
   ]
  },
  {
   "cell_type": "code",
   "execution_count": 3,
   "metadata": {},
   "outputs": [],
   "source": [
    "f_0 = 2/3\n",
    "g_0 = 2/3"
   ]
  },
  {
   "cell_type": "markdown",
   "metadata": {},
   "source": [
    "Führe den relativen Fehler ein"
   ]
  },
  {
   "cell_type": "code",
   "execution_count": 4,
   "metadata": {},
   "outputs": [],
   "source": [
    "def rel_error(x_0, x_num):\n",
    "    return ( np.abs(x_0 - x_num) / np.abs(x_0) )"
   ]
  },
  {
   "cell_type": "markdown",
   "metadata": {},
   "source": [
    "Lege den Definititionsbereich fest und plotte den relativen Fehler"
   ]
  },
  {
   "cell_type": "code",
   "execution_count": 5,
   "metadata": {},
   "outputs": [],
   "source": [
    "x = np.logspace(-7,7, 1e6)"
   ]
  },
  {
   "cell_type": "markdown",
   "metadata": {},
   "source": [
    "#### Ergebnisse für f(x)"
   ]
  },
  {
   "cell_type": "code",
   "execution_count": 6,
   "metadata": {},
   "outputs": [
    {
     "name": "stdout",
     "output_type": "stream",
     "text": [
      "x value where the relative error is 1%: 82568 \n",
      "\n",
      "x value where the relative error is 1, this is equal to f(x) = 0: 165140\n"
     ]
    }
   ],
   "source": [
    "rel_error_array_f = rel_error(f_0, f(x))\n",
    "\n",
    "# x_values where the relative error is smaller than 1%\n",
    "x_where_rel_err_lower_1per_f = x[rel_error_array_f <= 0.1]\n",
    "\n",
    "# Getting the last element of the list because I want to upper limit\n",
    "print('x value where the relative error is 1%:',int(x_where_rel_err_lower_1per_f[-1]), '\\n')\n",
    "\n",
    "# x_values where the relative error is one, this equal to f(x) = 0.\n",
    "x_where_rel_err_is_one_f = x[rel_error_array_f == 1]\n",
    "\n",
    "# Getting the first element of the list beacause I want the lower limit\n",
    "print('x value where the relative error is 1, this is equal to f(x) = 0:',int(x_where_rel_err_is_one_f[0]))\n",
    "\n",
    "\n"
   ]
  },
  {
   "cell_type": "markdown",
   "metadata": {},
   "source": [
    "#### Ergebnis für g(x)"
   ]
  },
  {
   "cell_type": "code",
   "execution_count": 7,
   "metadata": {},
   "outputs": [
    {
     "name": "stdout",
     "output_type": "stream",
     "text": [
      "x value where the relative error is 1%: 1.06594311238701e-05 \n",
      "\n",
      "x value where the relative error is 1, this is equal to f(x) = 0: 8.733452070893184e-06\n"
     ]
    }
   ],
   "source": [
    "rel_error_array_g = rel_error(g_0, g(x))\n",
    "\n",
    "# x_values where the relative error is smaller than 1%\n",
    "x_where_rel_err_lower_1per_g = x[rel_error_array_g <= 0.1]\n",
    "\n",
    "# Getting the last element of the list because I want to upper limit\n",
    "print('x value where the relative error is 1%:',x_where_rel_err_lower_1per_g[0], '\\n')\n",
    "\n",
    "# x_values where the relative error is one, this equal to f(x) = 0.\n",
    "x_where_rel_err_is_one_g = x[rel_error_array_g == 1]\n",
    "\n",
    "# Getting the first element of the list beacause I want the lower limit\n",
    "print('x value where the relative error is 1, this is equal to f(x) = 0:',x_where_rel_err_is_one_g[-1])"
   ]
  },
  {
   "cell_type": "markdown",
   "metadata": {},
   "source": [
    "## Aufgabenteil b)"
   ]
  },
  {
   "cell_type": "markdown",
   "metadata": {},
   "source": [
    "Plotte die relativen Fehler und führe zusätzlich noch die Grenzen mit ein."
   ]
  },
  {
   "cell_type": "code",
   "execution_count": 13,
   "metadata": {},
   "outputs": [
    {
     "data": {
      "image/png": "[encoded data removed]",
      "text/plain": [
       "<Figure size 432x288 with 1 Axes>"
      ]
     },
     "metadata": {
      "needs_background": "light"
     },
     "output_type": "display_data"
    },
    {
     "data": {
      "text/plain": [
       "<Figure size 432x288 with 0 Axes>"
      ]
     },
     "metadata": {},
     "output_type": "display_data"
    }
   ],
   "source": [
    "plt.plot(x,rel_error_array_g, label = 'Relativer Fehler von g(x)')\n",
    "plt.plot(x,rel_error_array_f, label = 'Relativer Fehler von f(x)')\n",
    "\n",
    "plt.axhline(0.1, color = 'r', alpha = 0.6, label = '1% Grenze')\n",
    "\n",
    "plt.xscale('log')\n",
    "plt.xlabel('x value')\n",
    "plt.ylabel('relative error')\n",
    "\n",
    "plt.legend()\n",
    "\n",
    "plt.savefig('./results/rel_error.pdf')\n",
    "plt.show()\n"
   ]
  },
  {
   "cell_type": "markdown",
   "metadata": {},
   "source": [
    "Was in dem Plot auffällt ist, dass $f(x)$ ungenau für große $x$ ist. Analog ist $g(x)$ \n",
    "ungenau für kleine $x$. \n",
    "\n",
    "__Erklärung für f(x):__\n",
    "Bei großen Werten für $x$ vernachlässigt der Computer die $\\frac{1}{3}$ und das Resultat ist $f(x)=0$.\n",
    "\n",
    "__Erklärung für g(x):__\n",
    "Bei sehr kleinen Werten für $x$ kommt es mit Zähler von g(x) zur Auslöschung, da $x^3$ noch kleiner wird. Weiterhin sind die Fluktuation (blau gefüllter Bereich), damit zu erklären, \n",
    "dass in $g(x)$ durch $x$ geteilt wird und somit sich der Term an einer Polstelle aufhält."
   ]
  },
  {
   "cell_type": "markdown",
   "metadata": {},
   "source": [
    "## Aufgabe 2"
   ]
  },
  {
   "cell_type": "code",
   "execution_count": null,
   "metadata": {},
   "outputs": [],
   "source": []
  }
 ],
 "metadata": {
  "kernelspec": {
   "display_name": "Python 3",
   "language": "python",
   "name": "python3"
  },
  "language_info": {
   "codemirror_mode": {
    "name": "ipython",
    "version": 3
   },
   "file_extension": ".py",
   "mimetype": "text/x-python",
   "name": "python",
   "nbconvert_exporter": "python",
   "pygments_lexer": "ipython3",
   "version": "3.7.0"
  }
 },
 "nbformat": 4,
 "nbformat_minor": 2
}
