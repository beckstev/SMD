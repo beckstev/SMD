{
 "cells": [
  {
   "cell_type": "markdown",
   "metadata": {},
   "source": [
    "# SMD-Übungszettel Nr. 5"
   ]
  },
  {
   "cell_type": "markdown",
   "metadata": {},
   "source": [
    "Abgabe von: __Pape, Kusurmann und Becker__"
   ]
  },
  {
   "cell_type": "code",
   "execution_count": 228,
   "metadata": {},
   "outputs": [],
   "source": [
    "import numpy as np \n",
    "import pandas as pd\n",
    "import matplotlib.pyplot as plt\n",
    "import collections\n",
    "\n",
    "np.random.seed(8)"
   ]
  },
  {
   "cell_type": "markdown",
   "metadata": {},
   "source": [
    "## Aufgabe 13"
   ]
  },
  {
   "cell_type": "markdown",
   "metadata": {},
   "source": [
    "### Aufgabenteil a)"
   ]
  },
  {
   "cell_type": "markdown",
   "metadata": {},
   "source": [
    "$$\n",
    "\\Phi = \\Phi_0 \\left(\\frac{E}{A}\\right)^{-\\gamma} \\quad A=\\mathrm{TeV}\n",
    "$$\n",
    "Bestimme zunächst die Transformationsformel.\n",
    "Zunächst die Normierung $\\Phi_0$:\n",
    "\n",
    "$$\\begin{aligned} \n",
    "1&=\\int_{E_0}^{\\infty} \\Phi \\, \\mathrm{d}E\\\\\n",
    "&=\\frac{\\Phi_0}{A^{-\\gamma}(\\gamma+1)}E_0^{-\\gamma+1} \\quad A=\\mathrm{TeV}\\\\\n",
    "\\Leftrightarrow \\quad \\Phi_0&=(\\gamma+E_0^{\\gamma-1}\n",
    "\\end{aligned}$$\n",
    "\n",
    "Nun die Transformationsformel $T(u)$:\n",
    "\n",
    "$$\\begin{aligned}\n",
    "F(E)&=\\int_{E_0}^{E} \\Phi \\, \\mathrm{d}E' \\\\\n",
    "&=\\frac{-\\Phi_0}{A^{-\\gamma}(\\gamma+1)}\\left( E^{-\\gamma+1} - E_0^{-\\gamma+1}\\right) \\overset{!}{=}u\\\\\n",
    "\\Leftrightarrow \\quad T(u)=E&=\\left(-\\frac{A^{-\\gamma}(\\gamma+1)}{\\Phi_0}u + E_0^{-\\gamma+1}\\right)^{\\frac{1}{1-\\gamma}} \\overset{A=1}{=} \\left((-u+1)E_0^{-\\gamma + 1}\\right)^{\\frac{1}{1-\\gamma}}\n",
    "\\end{aligned}$$"
   ]
  },
  {
   "cell_type": "code",
   "execution_count": 90,
   "metadata": {},
   "outputs": [],
   "source": [
    "def transformation(random_number, gamma, E_0, A=1):\n",
    "    return ( (-random_number + 1) * E_0 ** (-gamma +1))**(1/(1-gamma))"
   ]
  },
  {
   "cell_type": "code",
   "execution_count": 92,
   "metadata": {},
   "outputs": [],
   "source": [
    "uniform_random = np.random.uniform(size=int(1e5))\n",
    "gamma = 2.7\n",
    "E_0 =  1\n",
    "\n",
    "random_flux = transformation(uniform_random, gamma, E_0)"
   ]
  },
  {
   "cell_type": "markdown",
   "metadata": {},
   "source": [
    "Darstellung der erstellten Zufalsszahlen in einem Histogramm:"
   ]
  },
  {
   "cell_type": "code",
   "execution_count": 93,
   "metadata": {},
   "outputs": [
    {
     "data": {
      "text/plain": [
       "Text(0,0.5,'P')"
      ]
     },
     "execution_count": 93,
     "metadata": {},
     "output_type": "execute_result"
    },
    {
     "data": {
      "image/png": "[encoded data removed]",
      "text/plain": [
       "<Figure size 432x288 with 1 Axes>"
      ]
     },
     "metadata": {
      "needs_background": "light"
     },
     "output_type": "display_data"
    }
   ],
   "source": [
    "plt.hist(random_flux, density=True, bins=np.linspace(1, 10, 100));\n",
    "plt.xlabel(r'$E\\,/\\,\\mathrm{TeV}$')\n",
    "plt.ylabel('P')"
   ]
  },
  {
   "cell_type": "markdown",
   "metadata": {},
   "source": [
    "Komischer Weise ist $p>1$."
   ]
  },
  {
   "cell_type": "markdown",
   "metadata": {},
   "source": [
    "Abspeichern in Dataframe."
   ]
  },
  {
   "cell_type": "code",
   "execution_count": 114,
   "metadata": {},
   "outputs": [],
   "source": [
    "df = pd.DataFrame(data={'Energy':random_flux})"
   ]
  },
  {
   "cell_type": "markdown",
   "metadata": {},
   "source": [
    "### Aufgabenteil b)"
   ]
  },
  {
   "cell_type": "code",
   "execution_count": 99,
   "metadata": {},
   "outputs": [],
   "source": [
    "def detector_probability(E):\n",
    "    return (1 - np.exp(-E/2))**3"
   ]
  },
  {
   "cell_type": "code",
   "execution_count": 130,
   "metadata": {},
   "outputs": [],
   "source": [
    "yrandom = np.random.uniform(0, 1, int(1e5))\n",
    "\n",
    "df['AcceptanceMask']=(yrandom<detector_probability(random_flux))"
   ]
  },
  {
   "cell_type": "code",
   "execution_count": 144,
   "metadata": {},
   "outputs": [
    {
     "data": {
      "image/png": "[encoded data removed]",
      "text/plain": [
       "<Figure size 432x288 with 1 Axes>"
      ]
     },
     "metadata": {
      "needs_background": "light"
     },
     "output_type": "display_data"
    }
   ],
   "source": [
    "plt.hist(random_flux, density=True, bins=np.linspace(1, 10, 100), alpha=0.6, label='Before');\n",
    "\n",
    "plt.hist(random_flux[df['AcceptanceMask'].values], density=True,\n",
    "         bins=np.linspace(1, 10, 100), alpha=0.6, label='After')\n",
    "\n",
    "plt.xlabel(r'$E\\,/\\,\\mathrm{TeV}$')\n",
    "plt.ylabel('P')\n",
    "plt.legend()\n",
    "plt.xscale('log')\n",
    "plt.yscale('log')"
   ]
  },
  {
   "cell_type": "markdown",
   "metadata": {},
   "source": [
    "Deutlich zuerkennen ist das größere Energien besser berücksichtigt werden bzw. eher gemessen werden, als kleine Energien."
   ]
  },
  {
   "cell_type": "markdown",
   "metadata": {},
   "source": [
    "### Aufgabenteil c)"
   ]
  },
  {
   "cell_type": "code",
   "execution_count": 195,
   "metadata": {},
   "outputs": [],
   "source": [
    "def hits(E):\n",
    "    hits = np.random.normal(10 * E, 2 * E)\n",
    "    if len(hits[hits<0] != 0):\n",
    "        print('Jop')\n",
    "    else:\n",
    "        return hits.astype('int')"
   ]
  },
  {
   "cell_type": "markdown",
   "metadata": {},
   "source": [
    "Noch keine Auffüllfunktion geschrieben."
   ]
  },
  {
   "cell_type": "code",
   "execution_count": 196,
   "metadata": {},
   "outputs": [],
   "source": [
    "df['NumberOfHits']=hits(random_flux)"
   ]
  },
  {
   "cell_type": "markdown",
   "metadata": {},
   "source": [
    "### Aufgabenteil d)"
   ]
  },
  {
   "cell_type": "code",
   "execution_count": 201,
   "metadata": {},
   "outputs": [],
   "source": [
    "def sigma_position(hits):\n",
    "    return 1 / np.log10( hits + 1)"
   ]
  },
  {
   "cell_type": "code",
   "execution_count": 210,
   "metadata": {},
   "outputs": [],
   "source": [
    "mu_x = 7\n",
    "mu_y = 3\n",
    "\n",
    "x_position = np.random.normal(mu_x, sigma_position(df['NumberOfHits'].values))\n",
    "y_position = np.random.normal(mu_y, sigma_position(df['NumberOfHits'].values))"
   ]
  },
  {
   "cell_type": "code",
   "execution_count": 211,
   "metadata": {},
   "outputs": [],
   "source": [
    "df['x'] = x_position\n",
    "df['y'] = y_position"
   ]
  },
  {
   "cell_type": "markdown",
   "metadata": {},
   "source": [
    "### Aufgabenteil e)"
   ]
  },
  {
   "cell_type": "code",
   "execution_count": 215,
   "metadata": {},
   "outputs": [],
   "source": [
    "def hits_noise(number, mu, sigma):\n",
    "    return 10 * np.exp(np.random.normal(mu, sigma, number))"
   ]
  },
  {
   "cell_type": "code",
   "execution_count": 216,
   "metadata": {},
   "outputs": [],
   "source": [
    "mu_hits_noise = 2\n",
    "sigma_hits_noise = 1\n",
    "\n",
    "hits_noise = hits_noise(int(1e7), mu_hits_noise, sigma_hits_noise)"
   ]
  },
  {
   "cell_type": "code",
   "execution_count": 226,
   "metadata": {},
   "outputs": [],
   "source": [
    "def xy_position_noise(number, xmu, ymu, sigma, rho):\n",
    "    x = np.random.normal(xmu, sigma, number)\n",
    "    y = np.random.normal(ymu, sigma, number)\n",
    "    \n",
    "    x_star = np.sqrt(1 - rho**2) * sigma * x + rho * sigma * y + xmu\n",
    "    y_star = sigma * y + ymu\n",
    "    \n",
    "    return x_star, y_star"
   ]
  },
  {
   "cell_type": "code",
   "execution_count": 229,
   "metadata": {},
   "outputs": [],
   "source": [
    "sigma_position_noise = 3\n",
    "rho = 0.5\n",
    "\n",
    "x_noise, y_noise = xy_position_noise(int(1e7), mu_x, \n",
    "                                     mu_y, sigma_position_noise, rho)"
   ]
  },
  {
   "cell_type": "code",
   "execution_count": 248,
   "metadata": {},
   "outputs": [
    {
     "data": {
      "image/png": "[encoded data removed]",
      "text/plain": [
       "<Figure size 432x288 with 1 Axes>"
      ]
     },
     "metadata": {
      "needs_background": "light"
     },
     "output_type": "display_data"
    }
   ],
   "source": [
    "plt.hist2d(x_noise, y_noise, bins=1000, alpha=0.6);\n",
    "\n",
    "#plt.hist2d(x_position, y_position, bins=1000, alpha=0.6);"
   ]
  },
  {
   "cell_type": "code",
   "execution_count": null,
   "metadata": {},
   "outputs": [],
   "source": []
  }
 ],
 "metadata": {
  "kernelspec": {
   "display_name": "Python 3",
   "language": "python",
   "name": "python3"
  },
  "language_info": {
   "codemirror_mode": {
    "name": "ipython",
    "version": 3
   },
   "file_extension": ".py",
   "mimetype": "text/x-python",
   "name": "python",
   "nbconvert_exporter": "python",
   "pygments_lexer": "ipython3",
   "version": "3.7.0"
  }
 },
 "nbformat": 4,
 "nbformat_minor": 2
}
