{
 "cells": [
  {
   "cell_type": "markdown",
   "metadata": {},
   "source": [
    "### Abgabe von Steven Becker, Andrej Kusurmann und Sebastian Pape\n",
    "\n",
    "# SMD-Blatt 2\n",
    "\n",
    "## Aufgabe 5"
   ]
  },
  {
   "cell_type": "code",
   "execution_count": null,
   "metadata": {},
   "outputs": [],
   "source": [
    "import numpy as np\n",
    "import matplotlib.pyplot as plt\n",
    "import scipy.optimize"
   ]
  },
  {
   "cell_type": "code",
   "execution_count": null,
   "metadata": {},
   "outputs": [],
   "source": [
    "np.random.seed(0)\n",
    "\n",
    "# gleichverteilte Zufallszahlen von 0 bis 1\n",
    "random = np.random.uniform(0, 1, 1000)"
   ]
  },
  {
   "cell_type": "markdown",
   "metadata": {},
   "source": [
    "### a.)\n",
    "\n",
    "Gleichverteilte Zufallszahlen in den Grenzen $x_{\\text{min}}$ bis $x_{\\text{max}}$."
   ]
  },
  {
   "cell_type": "code",
   "execution_count": null,
   "metadata": {},
   "outputs": [],
   "source": [
    "# untere Grenze\n",
    "x_min = -100\n",
    "\n",
    "# obere Grenze\n",
    "x_max = 100\n",
    "\n",
    "random_x_min_max = (x_max - x_min) * random + x_min\n",
    "\n",
    "print('Gleichverteilte Zufallszahlen von x_min bis x_max: ')\n",
    "\n",
    "plt.figure(figsize = [15, 7])\n",
    "plt.hist(random_x_min_max);\n",
    "plt.xticks([x_min, 3 / 4 * x_min, 1/2 * x_min, 1/4 * x_min,\n",
    "            0, 1 / 4 * x_max, 1 / 2 * x_max, 3 / 4 * x_max , x_max],\n",
    "           [r'$x_{min}$', 3 / 4 * x_min, 1/2 * x_min, 1/4 * x_min,\n",
    "            0, 1 / 4 * x_max, 1 / 2 * x_max, 3 / 4 * x_max , r\"$x_{max}$\"], fontsize = \"xx-large\");\n",
    "plt.show()"
   ]
  },
  {
   "cell_type": "markdown",
   "metadata": {},
   "source": [
    "### b.)\n",
    "\n",
    "Die Normierungskonstante $N$ der Funktion $f(t)$\n",
    "lautet $N=\\frac{1}{\\tau}$.\n",
    "Die Transformationsvorschrift $T(u)$ für die erzeugten Zufallszahlen $u\\in\\left[0,1\\right)$ erhält man wie folgt:\n",
    "\n",
    "$$\n",
    "\\begin{aligned}\n",
    "F(x)&=\\int_{0}^{x} N \\exp\\left(-\\frac{t}{\\tau}\\right)\\mathrm{d}t\\\\\n",
    "&=-\\left(\\exp\\left(-\\frac{x}{\\tau}\\right)-1\\right)\\\\\n",
    "F(x) &\\overset{!}{=}u\\\\\n",
    "\\Leftrightarrow \\quad x&=-\\tau\\ln(1-u) =T(u)\n",
    "\\end{aligned}\n",
    "$$\n"
   ]
  },
  {
   "cell_type": "code",
   "execution_count": null,
   "metadata": {},
   "outputs": [],
   "source": [
    "tau = 1\n",
    "# Exponentialgesetz\n",
    "def exp_gesetz(tau, t):\n",
    "    return tau * np.exp(-t / tau)\n",
    "\n",
    "# Transformation der gleichverteilten Zufallszahlen\n",
    "def random_exp_gesetz(u):\n",
    "    return -tau *  np.log(1 - u)\n",
    "\n",
    "random_exp_gesetz = random_exp_gesetz(random)"
   ]
  },
  {
   "cell_type": "code",
   "execution_count": null,
   "metadata": {},
   "outputs": [],
   "source": [
    "plt.figure(figsize = [15, 7])\n",
    "plt.hist(random_exp_gesetz);"
   ]
  },
  {
   "cell_type": "markdown",
   "metadata": {},
   "source": [
    "### c.)\n",
    "\n",
    "$$f(x) = N\\cdot x^{-n}$$\n",
    "\n",
    "$$F(x_{max}, x_{min}) = \\int_{x_{min}}^{x_{max}} f(x)\\; \\text{d}x = \\frac{N}{1 - n}\\left(x_{max}^{(1 - n)}- x_{min}^{(1 - n)}\\right) \\stackrel{!}{=} 1$$\n",
    "\n",
    "$$\\Leftrightarrow N = \\frac{1 - n}{x_{max}^{(1 - n)} - x_{min}^{(1 - n)}}$$\n",
    "\n",
    "Die Transformationsformel $T(u)$ der Zufallszahlen $u$ ergibt sich wie folgt:\n",
    "\n",
    "$$F(x, x_{min}) = \\frac{N}{1 - n}\\left(x^{(1 - n)} - x_{min}^{(1 - n)}\\right) \\stackrel{!}{=} u$$\n",
    "\n",
    "$$\\Leftrightarrow x = \\sqrt[1-n]{\\frac{1 - n}{N}u - x_{min}^{(1 - n)}} =T(u)$$\n",
    "\n",
    "Die Transformation funktioniert nur für folgende Defintionsmengen:\n",
    "\n",
    "$$\n",
    "\\begin{aligned}\n",
    "x_{\\mathrm{min}},\\, x_{\\mathrm{max}} \\in \\mathbb{R}^+/\\{0\\} \\quad \\vee \\quad\n",
    "x_{\\mathrm{min}},\\, x_{\\mathrm{max}} \\in \\mathbb{R}^-/\\{0\\}\n",
    "\\end{aligned}\n",
    "$$"
   ]
  },
  {
   "cell_type": "code",
   "execution_count": null,
   "metadata": {},
   "outputs": [],
   "source": [
    "n = 2\n",
    "\n",
    "N = (1 - n) / (x_max**(1 - n) - x_min**(1-n))\n",
    "\n",
    "x_potenzgesetz = ((1 - n) / N * random - x_min**(1-n))**(1 / (1 - n))\n",
    "\n",
    "plt.figure(figsize = [15, 7])\n",
    "plt.hist(x_potenzgesetz[(x_potenzgesetz > -10) & (x_potenzgesetz < 100)]);"
   ]
  },
  {
   "cell_type": "markdown",
   "metadata": {},
   "source": [
    "### d.)\n",
    "\n",
    "Der Faktor $\\frac{1}{\\pi}$ ist die Normierungskonstante der Cauchy-Verteilung.\n",
    "\n",
    "\n",
    "$$\\int f(x) \\text{d}x = \\frac{1}{\\pi}\\,\\arctan{(x)}$$\n",
    "\n",
    "Die Transformationsformel $T(u)$ der Zufallszahlen $u$ ergibt sich wie folgt:\n",
    "\n",
    "$$F(x) = \\int_{-\\infty}^x f(x')\\text{d}x' = \\frac{1}{\\pi}(\\arctan{(x)} + \\frac{\\pi}{2}) \\stackrel{!}{=} u$$\n",
    "\n",
    "$$\\Leftrightarrow x = \\tan{\\left(\\pi\\left[u + \\frac{1}{2}\\right]\\right)} = T(u) $$"
   ]
  },
  {
   "cell_type": "code",
   "execution_count": null,
   "metadata": {},
   "outputs": [],
   "source": [
    "x_cauchy = np.tan(np.pi*(random - 1 / 2))\n",
    "plt.figure(figsize = [15, 7])\n",
    "plt.hist(x_cauchy[(x_cauchy >-10) & (x_cauchy<10)], bins=30);"
   ]
  },
  {
   "cell_type": "markdown",
   "metadata": {},
   "source": [
    "### e.)"
   ]
  },
  {
   "cell_type": "code",
   "execution_count": null,
   "metadata": {},
   "outputs": [],
   "source": [
    "# Plotten der histogrammierten Verteilung\n",
    "data = np.load(\"empirisches_histogramm.npy\")\n",
    "plt.hist(data['bin_mid'], bins = np.linspace(0, 1, 51), weights = data['hist'])\n",
    "plt.show()\n",
    "\n",
    "# Daten der histogrammierten Verteilung in ein numpy array umschreiben\n",
    "data_xy = np.array([np.round(data['bin_mid'], 2), np.round(data['hist'])])\n",
    "\n",
    "# Erzeuge gleichverteilte Zufallszahlen, welche den Randbedingungen der\n",
    "# histogrammierten Verteilung folgen.\n",
    "\n",
    "# Anzahl der erzeugten Zufallszahlen\n",
    "n_anzahl = 100000\n",
    "\n",
    "# Zufallszahlen der x-Achse der histogrammierten Verteilung \n",
    "random_x = np.sort(np.round(np.random.uniform(min(data['bin_mid']),\n",
    "                                              max(data['bin_mid']), n_anzahl), 2))\n",
    "\n",
    "# Zufallszahlen der y-Achse der histogrammierten Verteilung \n",
    "random_y = np.round(np.random.uniform(min(data['hist']),\n",
    "                                      max(data['hist']), n_anzahl))\n",
    "\n",
    "verteilung_x = []\n",
    "verteilung_y = []"
   ]
  },
  {
   "cell_type": "code",
   "execution_count": null,
   "metadata": {},
   "outputs": [],
   "source": [
    "# möglicher Algorithmus für das Neumannsche Rückweisungsverfahren\n",
    "for i in np.flip(range(n_anzahl)):\n",
    "    for n in range(len(data_xy[0])):\n",
    "        if random_x[i] == data_xy[0, n] and random_y[i] <= data_xy[1, n]:\n",
    "            verteilung_x.append(random_x[i])\n",
    "            verteilung_y.append(random_y[i])\n",
    "\n",
    "# Plotten der durch das Neumannsche Rückweisungsverfahren gefilterten Zufallszahlen\n",
    "plt.plot(verteilung_x, verteilung_y, 'rx', label = 'Rekonstruierte Verteilung');\n",
    "# Plotten der Daten der histogrammierten Verteilung zum Vergleichen\n",
    "plt.plot(data['bin_mid'], data['hist'], 'bx', label = 'Ausgansverteilung');\n",
    "plt.legend(loc = 'best')\n",
    "plt.show()"
   ]
  },
  {
   "cell_type": "markdown",
   "metadata": {},
   "source": [
    "__----------------------------------------------------------------------------------------__\n",
    "\n",
    "__----------------------------------------------------------------------------------------__\n",
    "\n",
    "__----------------------------------------------------------------------------------------__\n",
    "\n",
    "## Aufgabe 6\n",
    "\n",
    "$x_n = (a\\cdot x_{n-1} + b) \\mod m$\n",
    "\n",
    "### a.)"
   ]
  },
  {
   "cell_type": "code",
   "execution_count": null,
   "metadata": {},
   "outputs": [],
   "source": [
    "# möglicher Algorithmus des LCG-Verfahren\n",
    "def LCG(a, b, m, x_0):\n",
    "    # erster Rekursionsschritt\n",
    "    x_0.append((a * x_0[0] + b) % m)\n",
    "    # einbinden der Rekursionsvorschrift\n",
    "    while not(x_0[len(x_0) - 1] in x_0[0:len(x_0) - 1]):\n",
    "        x_0.append((a * x_0[len(x_0) - 1] + b) % m)\n",
    "    # Normieren der Verteilung    \n",
    "    return [x / m for x in x_0[0:len(x_0) - 1]]\n",
    "\n",
    "b_a = 3\n",
    "m_a = 1024\n",
    "\n",
    "# Liste für die Periodenlängen der Zufallszahlen für verschiedene a Werte\n",
    "len_random_LCG = []\n",
    "\n",
    "for a_a in range(m_a):\n",
    "    len_random_LCG.append(len(LCG(a_a, b_a, m_a, x_0 = [0])))\n",
    "    \n",
    "LCG_index = []\n",
    "\n",
    "for i in range(m_a):\n",
    "    if len_random_LCG[i] == max(len_random_LCG):\n",
    "        LCG_index.append(i)\n",
    "\n",
    "print(\"a-Werte bei denen der LCG Algorithmus die maximale Periodenlänge erreicht: \", \"\\n\", LCG_index)\n",
    "\n",
    "# Plot der verschiedener a-Werte gegenüber der Periodenlänge.\n",
    "# Zur Übersichtlichkeit werden nur die ersten hundert Startparameter geplottet.\n",
    "plt.figure(figsize = [15, 7]);\n",
    "plt.xlabel('$a$-Werte')\n",
    "plt.ylabel('Periodenlänge')\n",
    "plt.plot(range(m_a), len_random_LCG, \"x\");\n",
    "plt.xlim(0,100);"
   ]
  },
  {
   "cell_type": "code",
   "execution_count": null,
   "metadata": {},
   "outputs": [],
   "source": [
    "# Primfaktorzerlegung von m = 1024\n",
    "def primes(n):\n",
    "    primfac = []\n",
    "    d = 2\n",
    "    while d*d <= n:\n",
    "        while (n % d) == 0:\n",
    "            primfac.append(d)  # supposing you want multiple factors repeated\n",
    "            n //= d\n",
    "        d += 1\n",
    "    if n > 1:\n",
    "       primfac.append(n)\n",
    "    return primfac\n",
    "\n",
    "primes(m_a)\n",
    "# Primefaktoen von m = 1024 sind alle gleich 2\n",
    "# Prüfen der Bedingung, dass jeder von m auch (a-1) teilt\n",
    "print(\n",
    "    'Wenn hinter dem \":\" eine 0 steht ist die Bedingung, für Primfaktorteilung erfüllt: ',\n",
    "    \"\\n\",\n",
    "    [np.remainder((x - 1), primes(m_a)[0])  for x in LCG_index].count(not 0))\n",
    "\n",
    "# Prüfe wenn m / 4 teilbar, dann auch (a-1)\n",
    "\n",
    "print(\"\\n\",\"m ist durch 4 teilbar: \", m_a / 4)\n",
    "print(\"\\n\",\n",
    "      'Wenn hinter dem \":\" eine 0 steht ist (a - 1) für alle a durch 4 teilbar: ',\n",
    "      \"\\n\",\n",
    "      [np.remainder((x - 1), 4)  for x in LCG_index].count(not 0))"
   ]
  },
  {
   "cell_type": "markdown",
   "metadata": {},
   "source": [
    "#### Begründung für die a-Werte mit maximaler Periodenlänge:\n",
    "\n",
    "Die Bedingungen aus der Vorlesung waren:\n",
    "            \n",
    "$b \\neq 0 \\Rightarrow b = 3 \\neq 0$ ist erfüllt\n",
    "\n",
    "$b$ und $m$ sind teilerfremd. Dies ist für $b=3$ und $m = 1024$ ebenfalls gegeben.\n",
    "\n",
    "Jeder Primfaktor von m teilt (a-1) ist ebenfalls erfüllt (siehe Zelle über dieser).\n",
    "\n",
    "Wenn $m$ durch 4 teilbar ist, dann auch $(a-1)$ ist ebenfalls erfüllt für alle gefundenen a-Werte (siehe Zelle über dieser).\n",
    "\n",
    "Somit sind alle Bedingung für die gefundenen a-Werte für maximale Periodenlänge erfüllt.\n",
    "\n",
    "### b.)"
   ]
  },
  {
   "cell_type": "code",
   "execution_count": null,
   "metadata": {},
   "outputs": [],
   "source": [
    "a = 1601\n",
    "b = 3456\n",
    "m = 10000\n",
    "\n",
    "# Erzeugen der Zufallszahlen für verschiedene Startwerte x\n",
    "for x in range(0, 1001, 473):\n",
    "    list_LCG = LCG(a, b, m, x_0 = [x])\n",
    "    # Liste auf 10000 Elemente auffüllen\n",
    "    while len(list_LCG) < m:\n",
    "        list_LCG.extend(LCG(a, b, m, x_0 = [x]))   \n",
    "    plt.figure(figsize = [15, 7])\n",
    "    plt.title(f'Startwert: {x}')\n",
    "    plt.hist(list_LCG, bins = 100)\n",
    "    plt.show()"
   ]
  },
  {
   "cell_type": "markdown",
   "metadata": {},
   "source": [
    "#### Antwort:\n",
    "Nein, der LCG Generator entspricht nicht den Anforderungen an einen guten Zufallszahlengenerator, weil eine Systematik in den \"Zufallszahlen\" deutlich zu erkennen ist.\n",
    "\n",
    "Die Verteilung der generierten Zahlen hängt nicht vom dem Startwert $x_0$ ab.\n",
    "\n",
    "### c.)"
   ]
  },
  {
   "cell_type": "code",
   "execution_count": null,
   "metadata": {},
   "outputs": [],
   "source": [
    "plt.figure(figsize = [15, 15])\n",
    "plt.scatter(list_LCG[::2], list_LCG[1::2]);"
   ]
  },
  {
   "cell_type": "code",
   "execution_count": null,
   "metadata": {},
   "outputs": [],
   "source": [
    "from mpl_toolkits.mplot3d import Axes3D\n",
    "list_3d_plot = list_LCG\n",
    "\n",
    "if (len(list_LCG) % 3) != 0:\n",
    "    list_3d_plot.pop()\n",
    "\n",
    "fig = plt.figure(figsize = [15, 15])\n",
    "ax = Axes3D(fig)\n",
    "ax.view_init(45 , 30)\n",
    "\n",
    "sequence_containing_x_vals = list(range(0, 100))\n",
    "sequence_containing_y_vals = list(range(0, 100))\n",
    "sequence_containing_z_vals = list(range(0, 100))\n",
    "\n",
    "ax.scatter(list_3d_plot[::3], list_3d_plot[1::3], list_3d_plot[2::3]);"
   ]
  },
  {
   "cell_type": "markdown",
   "metadata": {},
   "source": [
    "#### Antwort:\n",
    "\n",
    "In den Streudiagrammen ist eine deutliche Herausbildung von Geraden, bzw. Ebenen zu erkennen.\n",
    "Aus diesem Grund erfüllt der LCG nicht die Anforderungen an einen guten Zufallszahlengenerator.\n",
    "\n",
    "### d.)\n",
    "\n",
    "Histogramme mit Zufallszahlen aus der numpy Funkiton numpy.random.unifofrm()."
   ]
  },
  {
   "cell_type": "code",
   "execution_count": null,
   "metadata": {},
   "outputs": [],
   "source": [
    "random_number = np.random.uniform(0, max(list_LCG), 10000)\n",
    "\n",
    "plt.figure(figsize = [15, 7])\n",
    "plt.hist(random_number, bins = 50);"
   ]
  },
  {
   "cell_type": "code",
   "execution_count": null,
   "metadata": {},
   "outputs": [],
   "source": [
    "plt.figure(figsize = [15, 15])\n",
    "plt.scatter(random_number[::2], random_number[1::2]);"
   ]
  },
  {
   "cell_type": "code",
   "execution_count": null,
   "metadata": {},
   "outputs": [],
   "source": [
    "if (len(random_number) % 3) != 0:\n",
    "    random_number = np.delete(random_number, len(random_number) - 1)\n",
    "\n",
    "fig = plt.figure(figsize = [15, 15])\n",
    "ax = Axes3D(fig)\n",
    "ax.view_init(45 , 30)\n",
    "\n",
    "sequence_containing_x_vals = list(range(0, 100))\n",
    "sequence_containing_y_vals = list(range(0, 100))\n",
    "sequence_containing_z_vals = list(range(0, 100))\n",
    "\n",
    "ax.scatter(random_number[::3], random_number[1::3], random_number[2::3]);"
   ]
  },
  {
   "cell_type": "markdown",
   "metadata": {},
   "source": [
    "### e.)"
   ]
  },
  {
   "cell_type": "code",
   "execution_count": null,
   "metadata": {},
   "outputs": [],
   "source": [
    "for startwert in range(1025):\n",
    "    if LCG(a, b_a, m_a, [startwert]).count(1 / 2) != 1:\n",
    "        print(startwert, LCG(a, b_a, m_a, [startwert]).count(1 / 2))\n",
    "    elif startwert == 1024:\n",
    "        print('Falls vor diesem Output nichts erscheint bedeutet das,',\n",
    "              'dass 1 / 2 für alle Startwerte von 0 bis 1024 nur 1 mal vorkommt.')"
   ]
  },
  {
   "cell_type": "markdown",
   "metadata": {},
   "source": [
    "#### Antwort:\n",
    "\n",
    "Der LCG aus Aufgabenteil $\\textbf{a.)}$ liefert für jeden getesteten Startwert den Wert $\\frac{1}{2}$ genau einmal.\n",
    "Somit ist zu vermuten, dass die Anzahl nicht von dem Startwert abhängt.\n",
    "\n",
    "__----------------------------------------------------------------------------------------__\n",
    "\n",
    "__----------------------------------------------------------------------------------------__\n",
    "\n",
    "__----------------------------------------------------------------------------------------__\n",
    "\n",
    "## Aufgabe 7\n",
    "Zweidimensionale Gaußverteilung mit $$\\mu_x = 4$$\n",
    "\n",
    "$$\\mu_y = 2$$\n",
    "\n",
    "$$\\sigma_x = 1,5$$\n",
    "\n",
    "$$\\text{Cov}(x,y)$$\n",
    "\n",
    "### a.)\n",
    "\n",
    "Der *Korrelationskoeffizient* ist definiert als:\n",
    "\n",
    "$$\n",
    "\\rho(x_i,x_j)=\\frac{\\mathrm{cov}(x_i,x_j)}{\\sigma(x_i)\\sigma(x_j)}\n",
    "$$\n",
    "\n",
    "Mit den Werten aus der Aufgabenstellung folgt somit:"
   ]
  },
  {
   "cell_type": "code",
   "execution_count": null,
   "metadata": {},
   "outputs": [],
   "source": [
    "mu_x = 4\n",
    "mu_y = 2\n",
    "sigma_x = 3.5\n",
    "sigma_y = 1.5\n",
    "cov_x_y = 4.2\n",
    "\n",
    "roh_x_y = cov_x_y / (sigma_x * sigma_y)\n",
    "\n",
    "print('Korrelationskoeffizient: ', roh_x_y)"
   ]
  },
  {
   "cell_type": "markdown",
   "metadata": {},
   "source": [
    "### b.)\n",
    "\n",
    "Ist $f(\\vec{x})$ eine $N$ dimensionale Gaußverteilung mit $\\vec{x}\\in\\mathbb{R}^N$ Zahlen.\n",
    "So lässt sich diese, nach der Vorlesung, schreiben als:\n",
    "\n",
    "$$\n",
    "f(\\vec{x}) = k\\exp\\left(-\\frac{1}{2}(\\vec{x}-\\vec{a})^\\intercal\\,\\mathbf{B}\\,(\\vec{x}-\\vec{a})\\right), \\quad \\mathbf{B}\\in\\mathbb{R}^{N\\times N}\n",
    "$$\n",
    "\n",
    "Die Verteilung lässt sich mit _standitisierten Variabelen_\n",
    "$$\n",
    "u_i = \\frac{x_i-a_i}{\\sigma_i}\n",
    "$$\n",
    "schreiben zu:\n",
    "$$\n",
    "f(\\vec{u}) = k\\exp\\left(-\\frac{1}{2}\\vec{u}^\\intercal\\,\\mathbf{B}\\,\\vec{u}\\right)\n",
    "$$\n",
    "\n",
    "Linien gleicher Wahrscheinlichkeiten unterliegen der Bedingung:\n",
    "\n",
    "$$\n",
    "f(\\vec{u})=\\mathrm{const}\n",
    "$$\n",
    "\n",
    "Aus der Bedingung folgt direkt:\n",
    "\n",
    "$$\n",
    "\\Rightarrow \\quad -\\frac{1}{2}\\vec{u}^\\intercal\\,\\mathbf{B}\\,\\vec{u} = \\mathrm{const}\\qquad (1)\n",
    "$$\n",
    "Die Matrix $\\mathrm{B}$ ist die *inverse Kovarianzmatrix* und kann geschrieben werden als:\n",
    "\n",
    "$$\n",
    "\\mathrm{B} = \\frac{1}{A} \\begin{pmatrix} \\sigma_1^2 & -\\mathrm{cov}(x_1,x_2) & \\dots & -\\mathrm{cov}(x_1,x_N) \\\\ -\\mathrm{cov}(x_1,x_2) & \\sigma_2^2 & \\dots & -\\mathrm{cov}(x_N,x_2) \\\\\n",
    "\\vdots & \\vdots & \\ddots & \\vdots \\\\\n",
    "-\\mathrm{cov}(x_1,x_N) & -\\mathrm{cov}(x_N,x_2) & \\dots & \\sigma_N^2 \n",
    "\\end{pmatrix}\n",
    "$$\n",
    "\n",
    "Hierbei ist der Vorfaktor $\\frac{1}{A}\\in\\mathbb{R}$ der für den Beweis keine weitere Rolle spielt. Rechnerisch ergibt er sich bei der Invertierung der Kovaraianzmatrix.\n",
    "Für man die Vektor- und Matrixmultiplikation in Gleichung __(1)__ aus ergibt sich:\n",
    "\n",
    "$$\n",
    "\\Sigma_i^{N} \\sigma_i^2u_i^2 - \\Sigma_{i,j}^{N} \\mathrm{cov}(x_i,x_j) u_i u_j = \\mathrm{const}\n",
    "$$\n",
    "\n",
    "Das ist eine *Ellipsengleichung*. Somit sind alle Kurven gleicher Wahrscheinlichkeit Ellipsen."
   ]
  },
  {
   "cell_type": "markdown",
   "metadata": {},
   "source": [
    "## c.)"
   ]
  },
  {
   "cell_type": "code",
   "execution_count": null,
   "metadata": {},
   "outputs": [],
   "source": [
    "mu_x = 4\n",
    "mu_y = 2\n",
    "\n",
    "def two_d_gauss(x, y, mu_x, mu_y, sigma_x, sigma_y, cov):\n",
    "    u_x = (x - mu_x) / sigma_x\n",
    "    u_y = (y - mu_y) / sigma_y\n",
    "    rho = cov / (sigma_x * sigma_y)\n",
    "    nomination = 2 * np.pi * sigma_x * sigma_y * np.sqrt(1 - rho**2)\n",
    "    return 1/nomination * np.exp( (-1 / (2 * (1 - rho**2))) *\n",
    "                                 ( u_x**2 + u_y**2 - 2*rho*u_x*u_y))"
   ]
  },
  {
   "cell_type": "markdown",
   "metadata": {},
   "source": [
    "Um die Verteilung zu Plotten generiere ich Zufallszahlen, um diese anschließend oben einzusetzen."
   ]
  },
  {
   "cell_type": "code",
   "execution_count": null,
   "metadata": {},
   "outputs": [],
   "source": [
    "x = np.linspace(-2, 9, 5000)\n",
    "y = np.linspace(-2, 6, 5000)\n",
    "\n",
    "fig = plt.figure(figsize = [15, 15])\n",
    "ax = Axes3D(fig)\n",
    "ax.view_init(45 , 30)\n",
    "\n",
    "X, Y = np.meshgrid(x, y)\n",
    "Z = two_d_gauss(X, Y, mu_x, mu_y, sigma_x, sigma_y, cov_x_y)\n",
    "\n",
    "ax.plot_surface(X, Y, Z);"
   ]
  },
  {
   "cell_type": "markdown",
   "metadata": {},
   "source": [
    "Man erkennt eine Zweidimensionale Gaußglocke, genau wie erwartet.\n",
    "Plotte die Verteilung zusätzlich nochmal als Scatter Plot. Generiere dafür Zufallszahlen die gleich um die Maxima verteilt sind."
   ]
  },
  {
   "cell_type": "code",
   "execution_count": null,
   "metadata": {},
   "outputs": [],
   "source": [
    "x = np.random.uniform(low=-2, high=9, size=100000)\n",
    "y = np.random.uniform(low=-2, high=6, size=100000)\n",
    "Z = two_d_gauss(x, y, mu_x, mu_y, sigma_x, sigma_y, cov_x_y)"
   ]
  },
  {
   "cell_type": "markdown",
   "metadata": {},
   "source": [
    "Um die Ellipse in die Grafik einzuzeichn, müssen wir zunächst die dazugehörige Ellipsengleichung herleiten:\n",
    "\n",
    "$$\\begin{aligned}\n",
    "f(x)&\\overset{!}{=}e^{-\\frac{1}{2}}f_\\mathrm{max}\\\\\n",
    "-\\frac{1}{2(1-\\rho^2)}\\left(u_x^2+u_y^2-2\\rho u_x u_y\\right)&=-\\frac{1}{2}\\\\\n",
    "\\Leftrightarrow \\quad u_x^2+u_y^2-2\\rho u_x u_y &= 1-\\rho^2\n",
    "\\end{aligned}$$"
   ]
  },
  {
   "cell_type": "code",
   "execution_count": null,
   "metadata": {},
   "outputs": [],
   "source": [
    "def ellipsengleichung(x, y, mu_x, mu_y, sigma_x, sigma_y, cov):\n",
    "    u_x = (x - mu_x) / sigma_x\n",
    "    u_y = (y - mu_y) / sigma_y\n",
    "    rho = cov / (sigma_x * sigma_y)\n",
    "    return u_x**2 + u_y**2 - 2*rho*u_x*u_y"
   ]
  },
  {
   "cell_type": "markdown",
   "metadata": {},
   "source": [
    "Suche nun die $x$ und $y$ Werte die die obige Ellipsengleichung erfüllen."
   ]
  },
  {
   "cell_type": "code",
   "execution_count": null,
   "metadata": {},
   "outputs": [],
   "source": [
    "y_ellpise = y[ np.abs(ellipsengleichung(x, y, mu_x, mu_y, sigma_x, sigma_y, cov_x_y) -\n",
    "                      (1-roh_x_y**2)) <=1e-2]\n",
    "x_ellipse = x[ np.abs(ellipsengleichung(x, y, mu_x, mu_y, sigma_x, sigma_y, cov_x_y) -\n",
    "                      (1-roh_x_y**2)) <=1e-2]"
   ]
  },
  {
   "cell_type": "markdown",
   "metadata": {},
   "source": [
    "## e.)\n",
    "\n",
    "Die bedingte Wahrscheinlichkeit $f(x|y)$ bzw. $f(y|x)$ kann mathematisch geschrieben werden als:\n",
    "\n",
    "$$\n",
    "f(x_i|x_j) = \\frac{\\int_{\\mathbb{D}_i} \\int_{\\mathbb{D_j}}\\, f(x_i,x_j) \\mathrm{d}x_j\\mathrm{d}x_i}{\\int_{\\mathbb{D_i}}\\, f(x_i,x_j) \\mathrm{d}x_i}\n",
    "$$\n",
    "\n",
    "Wobei $\\mathbb{D}_i$ der zu $x_i$ gehörige Definitionsbereich.\n",
    "\n",
    "Plotte das Gesamtergebnisse."
   ]
  },
  {
   "cell_type": "code",
   "execution_count": null,
   "metadata": {},
   "outputs": [],
   "source": [
    "plt.figure(figsize = [15, 10])\n",
    "plt.scatter(x, y, c=Z, label='Verteilung')\n",
    "plt.errorbar(mu_x, mu_y, xerr = sigma_x, yerr = sigma_y, alpha=0.6, color='#ffffcc')\n",
    "plt.plot(x_ellipse, y_ellpise, '.', color = '#ffccff', label = 'Ellipse')\n",
    "plt.colorbar()\n",
    "plt.legend(loc = 'lower right')\n",
    "plt.show()"
   ]
  }
 ],
 "metadata": {
  "kernelspec": {
   "display_name": "Python 3",
   "language": "python",
   "name": "python3"
  },
  "language_info": {
   "codemirror_mode": {
    "name": "ipython",
    "version": 3
   },
   "file_extension": ".py",
   "mimetype": "text/x-python",
   "name": "python",
   "nbconvert_exporter": "python",
   "pygments_lexer": "ipython3",
   "version": "3.6.6"
  }
 },
 "nbformat": 4,
 "nbformat_minor": 2
}
