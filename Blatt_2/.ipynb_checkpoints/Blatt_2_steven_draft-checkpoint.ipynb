{
 "cells": [
  {
   "cell_type": "markdown",
   "metadata": {},
   "source": [
    "# SMD-Zettel Nr. 2"
   ]
  },
  {
   "cell_type": "markdown",
   "metadata": {},
   "source": [
    "## Aufgabe 1 "
   ]
  },
  {
   "cell_type": "markdown",
   "metadata": {},
   "source": [
    "### Aufgabenteil a)"
   ]
  },
  {
   "cell_type": "code",
   "execution_count": 1,
   "metadata": {},
   "outputs": [],
   "source": [
    "import numpy as np\n",
    "import matplotlib.pyplot as plt"
   ]
  },
  {
   "cell_type": "markdown",
   "metadata": {},
   "source": [
    "Erstelle die aus der Vorlesung bekannte *LCG Funktion*. \n",
    "Mit dem Parameter `norm` kann eingestellt werden, ob die Zufallszahlen normiert sein sollen.\n",
    "Der Parameter `test_eff` prüft die Periodenlänge der Zufallszahlen (noch langsam). "
   ]
  },
  {
   "cell_type": "code",
   "execution_count": 2,
   "metadata": {},
   "outputs": [],
   "source": [
    "def LCG(N, x_0, a, c, m, norm = False, test_eff = False): \n",
    "    random_numbers = []\n",
    "    \n",
    "    for i in range( int(N) ):\n",
    "        if i != 0:\n",
    "            x_plus = ( (a * random_numbers[-1] + c) % m )\n",
    "            random_numbers.append(x_plus)\n",
    "        else:\n",
    "            x_plus = ( (a * x_0 + c) % m )\n",
    "            random_numbers.append(x_plus)\n",
    "            \n",
    "        if test_eff == True:\n",
    "            if len( np.array(random_numbers[:-1])[ np.array(random_numbers[:-1]) == random_numbers[i]] ) != 0:\n",
    "                print('Doppeltes Element bei i =',i)\n",
    "                return i\n",
    "                break\n",
    "        \n",
    "    if norm == True:\n",
    "        return np.array(random_numbers)/m\n",
    "    \n",
    "    return np.array(random_numbers)"
   ]
  },
  {
   "cell_type": "code",
   "execution_count": 3,
   "metadata": {},
   "outputs": [
    {
     "name": "stdout",
     "output_type": "stream",
     "text": [
      "Doppeltes Element bei i = 512\n"
     ]
    },
    {
     "data": {
      "text/plain": [
       "512"
      ]
     },
     "execution_count": 3,
     "metadata": {},
     "output_type": "execute_result"
    }
   ],
   "source": [
    "LCG(1000, 1, 3, 3, 1024, norm = False, test_eff = True)"
   ]
  },
  {
   "cell_type": "markdown",
   "metadata": {},
   "source": [
    "Generiere für die späteren Aufabenteile Zufallszahlen.\n",
    "Die Parameter sind [hier](https://en.wikipedia.org/wiki/Linear_congruential_generator) entommen worden.\n",
    "Die Periodenlänge wurde zu $>10^5$ bestimmt."
   ]
  },
  {
   "cell_type": "code",
   "execution_count": 4,
   "metadata": {
    "scrolled": false
   },
   "outputs": [],
   "source": [
    "# source: https://en.wikipedia.org/wiki/Linear_congruential_generator\n",
    "x_0 = 1\n",
    "a = 1664525\n",
    "c = 1013904223\n",
    "m = 2**32 #Ausschöpfung des 32 Bit Bereichs + Primzahl\n",
    "\n",
    "numbers = LCG(1e6, x_0, a, c, m, norm = True, test_eff = False)"
   ]
  },
  {
   "cell_type": "markdown",
   "metadata": {},
   "source": [
    "Auf ein festes Intervall $[x_0, x_1]$ können die  _normierten_ Zufallszahlen mittels der Funktion `linear_trafo` transformiert werden."
   ]
  },
  {
   "cell_type": "code",
   "execution_count": 5,
   "metadata": {},
   "outputs": [],
   "source": [
    "def linear_trafo(random_numbers, x_0, x_1):\n",
    "    assert x_1 > x_0\n",
    "    return (x_1 - x_0) * random_numbers + x_0"
   ]
  },
  {
   "cell_type": "markdown",
   "metadata": {},
   "source": [
    "## Aufgabenteil b)"
   ]
  },
  {
   "cell_type": "markdown",
   "metadata": {},
   "source": [
    "Die Normierungskonstante $N$ der Funktion $f(t)$\n",
    "lautet $N=\\frac{1}{\\tau}$.\n",
    "Die Transformationsvorschrift $T(u)$ für die erzeugten Zufallszahlen $u\\in\\left[0,1\\right)$ erhält man wie folgt:\n",
    "\n",
    "$$\n",
    "\\begin{aligned}\n",
    "F(x)&=\\int_{0}^{x} N \\exp\\left(-\\frac{t}{\\tau}\\right)\\mathrm{d}t\\\\\n",
    "&=-\\left(\\exp\\left(-\\frac{x}{\\tau}\\right)-1\\right)\\\\\n",
    "F(x) &\\overset{!}{=}u\\\\\n",
    "\\Leftrightarrow \\quad x&=T(u):=-\\tau\\ln(1-u)\n",
    "\\end{aligned}\n",
    "$$\n",
    "\n"
   ]
  },
  {
   "cell_type": "code",
   "execution_count": 6,
   "metadata": {},
   "outputs": [],
   "source": [
    "def T_b(random_numbers, tau):\n",
    "    return -tau * np.log(1 - random_numbers)"
   ]
  },
  {
   "cell_type": "code",
   "execution_count": 7,
   "metadata": {},
   "outputs": [
    {
     "data": {
      "text/plain": [
       "(array([7.31496e+05, 1.96374e+05, 5.29900e+04, 1.40390e+04, 3.70400e+03,\n",
       "        9.94000e+02, 3.05000e+02, 6.80000e+01, 2.40000e+01, 6.00000e+00]),\n",
       " array([2.61468847e-06, 1.31617744e+01, 2.63235462e+01, 3.94853180e+01,\n",
       "        5.26470899e+01, 6.58088617e+01, 7.89706335e+01, 9.21324053e+01,\n",
       "        1.05294177e+02, 1.18455949e+02, 1.31617721e+02]),\n",
       " <a list of 10 Patch objects>)"
      ]
     },
     "execution_count": 7,
     "metadata": {},
     "output_type": "execute_result"
    },
    {
     "data": {
      "image/png": "[encoded data removed]",
      "text/plain": [
       "<Figure size 432x288 with 1 Axes>"
      ]
     },
     "metadata": {
      "needs_background": "light"
     },
     "output_type": "display_data"
    }
   ],
   "source": [
    "plt.hist(T_b(numbers, 10))"
   ]
  },
  {
   "cell_type": "markdown",
   "metadata": {},
   "source": [
    "## Aufgabenteil c)"
   ]
  },
  {
   "cell_type": "markdown",
   "metadata": {},
   "source": [
    "Die Nomrmierung $N$ der Funktion $f(x)$ lautet\n",
    "$$ N = \\frac{n-1}{x_{\\mathrm{max}}^{-n+1}-x_{\\mathrm{min}}^{-n+1}}$$"
   ]
  },
  {
   "cell_type": "markdown",
   "metadata": {},
   "source": [
    "Die Transformationsformel $T(u)$ der Zufallszahlen $u$ ergibt sich wie folgt:\n",
    "\n",
    "$$\n",
    "\\begin{aligned}\n",
    "F(x)&=\\int_{x_{\\mathrm{min}}}^x N x'^{-n}\\mathrm{d}x'\\\\\n",
    "&=\\frac{1}{ x_{ \\mathrm{max} }^{-n+1} -x_{\\mathrm{min}}^{-n+1} }\\left(x^{-n+1}-x_{\\mathrm{min}}^{-n+1}\\right)\\\\\n",
    "F(x)&\\overset{!}{=}u\\\\\n",
    "\\Leftrightarrow \\quad T(u):=x&=\\left(\\left(x_{ \\mathrm{max} }^{-n+1} -x_{\\mathrm{min}}^{-n+1} \\right)u+x_{\\mathrm{min}}^{1-n}\\right)^{\\frac{1}{1-n}}\n",
    "\\end{aligned}\n",
    "$$\n",
    "\n",
    "Die Transformation funktioniert nur für folgende Defintionsmengen:\n",
    "$$\n",
    "\\begin{aligned}\n",
    "x_{\\mathrm{min}},\\, x_{\\mathrm{max}} \\in \\mathbb{R}^+/\\{0\\} \\quad \\vee \\quad\n",
    "x_{\\mathrm{min}},\\, x_{\\mathrm{max}} \\in \\mathbb{R}^-/\\{0\\}\n",
    "\\end{aligned}\n",
    "$$"
   ]
  },
  {
   "cell_type": "code",
   "execution_count": 8,
   "metadata": {},
   "outputs": [],
   "source": [
    "def T_c(random_numbers, x_min, x_max, n):\n",
    "    assert  (x_max > x_min)\n",
    "    assert n > 1\n",
    "    exponent = 1-n\n",
    "    return ( (x_max**exponent - x_min**exponent) * random_numbers + x_min**exponent )**(1/exponent)"
   ]
  },
  {
   "cell_type": "code",
   "execution_count": 9,
   "metadata": {},
   "outputs": [
    {
     "data": {
      "image/png": "[encoded data removed]",
      "text/plain": [
       "<Figure size 432x288 with 1 Axes>"
      ]
     },
     "metadata": {
      "needs_background": "light"
     },
     "output_type": "display_data"
    }
   ],
   "source": [
    "plt.hist(T_c(numbers, -1, 2, 2));\n",
    "#plt.plot(numbers,T_c(numbers, 1,5,3))"
   ]
  },
  {
   "cell_type": "markdown",
   "metadata": {},
   "source": [
    "## Aufgabenteil d)"
   ]
  },
  {
   "cell_type": "markdown",
   "metadata": {},
   "source": [
    "Die Normierungskonstante $N$ lautet:\n",
    "$$ N=\\frac{1}{\\arctan(x_\\mathrm{max})-\\arctan(x_\\mathrm{min})}$$\n",
    "\n",
    "Für den Speziallfall $x_\\mathrm{min}=-\\infty$ und $x_\\mathrm{max}=\\infty$ ist $N=\\pi$.\n",
    "\n",
    "\n",
    "Die Transformationsformel $T(u)$ der Zufallszahlen $u$ ergibt sich durch folgende Rechnung:\n",
    "\n",
    "$$\\begin{aligned}\n",
    "F(x)&=\\frac{1}{N}\\int_{x_{\\mathrm{min}}}^x\\frac{1}{1+x'^2}\\mathrm{d}x'\\\\\n",
    "&=\\frac{1}{N}\\left( \\arctan(x) - \\arctan(x_{\\mathrm{min}}\\right)\\\\\n",
    "F(x)&\\overset{!}{=} u\\\\\n",
    "\\Leftrightarrow \\quad T(u):=x&=\\tan(\\left(\\arctan(x_\\mathrm{max})-\\arctan(x_\\mathrm{min}\\right)) u + \\arctan(x_{\\mathrm{min}}))\n",
    "\\end{aligned}$$"
   ]
  },
  {
   "cell_type": "code",
   "execution_count": 10,
   "metadata": {},
   "outputs": [],
   "source": [
    "def T_c(random_numbers, x_min, x_max):\n",
    "    assert x_max > x_min\n",
    "    \n",
    "    return np.tan((np.arctan(x_max) - np.arctan(x_min)) * random_numbers + np.arctan(x_min))"
   ]
  },
  {
   "cell_type": "code",
   "execution_count": 11,
   "metadata": {},
   "outputs": [
    {
     "data": {
      "image/png": "[encoded data removed]",
      "text/plain": [
       "<Figure size 432x288 with 1 Axes>"
      ]
     },
     "metadata": {
      "needs_background": "light"
     },
     "output_type": "display_data"
    }
   ],
   "source": [
    "plt.hist(T_c(numbers,-3,3));"
   ]
  },
  {
   "cell_type": "markdown",
   "metadata": {},
   "source": [
    "Importierte die Datei `empirisches_histogramm.npy`. \n",
    "Die in der Datei enthaltente Verteilung wird im Weiteren als $p(x)$ bezeichnet."
   ]
  },
  {
   "cell_type": "code",
   "execution_count": 12,
   "metadata": {},
   "outputs": [],
   "source": [
    "data = np.load(\"./empirisches_histogramm.npy\")"
   ]
  },
  {
   "cell_type": "code",
   "execution_count": 13,
   "metadata": {
    "scrolled": false
   },
   "outputs": [
    {
     "data": {
      "image/png": "[encoded data removed]",
      "text/plain": [
       "<Figure size 432x288 with 1 Axes>"
      ]
     },
     "metadata": {
      "needs_background": "light"
     },
     "output_type": "display_data"
    }
   ],
   "source": [
    "plt.hist(data['bin_mid'], bins=np.linspace(0., 1., 51), weights=data['hist']);"
   ]
  },
  {
   "cell_type": "markdown",
   "metadata": {},
   "source": [
    "Bestimme die maximale Höhe von $p(x)$:"
   ]
  },
  {
   "cell_type": "code",
   "execution_count": 14,
   "metadata": {},
   "outputs": [
    {
     "name": "stdout",
     "output_type": "stream",
     "text": [
      "Maximale Höhe von p(x): 557.0\n"
     ]
    }
   ],
   "source": [
    "p_max = max(data['hist'])\n",
    "print('Maximale Höhe von p(x):',p_max)"
   ]
  },
  {
   "cell_type": "markdown",
   "metadata": {},
   "source": [
    "Verfahre mit dem *Neumann'schen Rückweisungsverfahren*, dazu benötige ich zwei Zufallszahlen $u_1$ und $u_2$. Wobei die Wertebereiche der beiden Zufallszahlen der Verteilung $p(x)$ angepasst werden müssen:\n",
    "\n",
    "$$u_1\\in\\left[0,1\\right], \\quad u_2\\in\\left[0,\\mathrm{max}(p(x))\\right]=\\left[0,557\\right]$$\n"
   ]
  },
  {
   "cell_type": "code",
   "execution_count": 27,
   "metadata": {},
   "outputs": [],
   "source": [
    "u_1 = LCG(1e6, 1, a, c, m, norm = True, test_eff = False)\n",
    "u_2 = linear_trafo(LCG(1e6, 2, a, c, m, norm = True, test_eff = False),0, p_max) "
   ]
  },
  {
   "cell_type": "markdown",
   "metadata": {},
   "source": [
    "Erstelle nun eine Funktion die genau die Zahlen raussucht, die in den Daten aus \n",
    "`empirisches_histogramm.npy` liegen."
   ]
  },
  {
   "cell_type": "code",
   "execution_count": 31,
   "metadata": {},
   "outputs": [],
   "source": [
    "def neumann_random(random_numbers_x, random_numbers_y, real_x_values, real_y_values):\n",
    "    good_number = []\n",
    "    for i in range(len(real_x_values)):\n",
    "        possible_u_1_index = np.abs(u_1 - real_x_values[i]) < 2e-3\n",
    "        possible_u_2_index = random_numbers_y < real_y_values[i]\n",
    "        valid_numbers = random_numbers_x[(possible_u_1_index == True) & (possible_u_2_index == True)]\n",
    "       \n",
    "        good_number.extend(valid_numbers.tolist())\n",
    "\n",
    "    return np.array(good_number) "
   ]
  },
  {
   "cell_type": "code",
   "execution_count": 34,
   "metadata": {},
   "outputs": [
    {
     "name": "stdout",
     "output_type": "stream",
     "text": [
      "527 ms ± 51.1 ms per loop (mean ± std. dev. of 7 runs, 1 loop each)\n"
     ]
    }
   ],
   "source": [
    "good_numbers = neumann_random(u_1, u_2, data['bin_mid'], data['hist'] )\n",
    "print(collections.Counter(good_numbers).most_common(2))"
   ]
  },
  {
   "cell_type": "code",
   "execution_count": 33,
   "metadata": {},
   "outputs": [
    {
     "data": {
      "image/png": "[encoded data removed]",
      "text/plain": [
       "<Figure size 432x288 with 1 Axes>"
      ]
     },
     "metadata": {
      "needs_background": "light"
     },
     "output_type": "display_data"
    }
   ],
   "source": [
    "plt.hist(good_numbers, bins=np.linspace(0., 1., 51));"
   ]
  },
  {
   "cell_type": "markdown",
   "metadata": {},
   "source": [
    "__----------------------------------------------------------------------------------------__\n",
    "\n",
    "__----------------------------------------------------------------------------------------__\n",
    "\n",
    "__----------------------------------------------------------------------------------------__"
   ]
  },
  {
   "cell_type": "markdown",
   "metadata": {},
   "source": [
    "## Aufgabe 2\n",
    "\n",
    "Verwende die in Aufgabenteil definierte Funktion."
   ]
  },
  {
   "cell_type": "code",
   "execution_count": null,
   "metadata": {},
   "outputs": [],
   "source": [
    "def LCG(N, x_0, a, c, m, norm = False, test_eff = False): \n",
    "    random_numbers = []\n",
    "    \n",
    "    for i in range(int(N)):\n",
    "        if i != 0:\n",
    "            x_plus = ( (a * random_numbers[-1] + c) % m )\n",
    "            random_numbers.append(x_plus)\n",
    "        else:\n",
    "            x_plus = ( (a * x_0 + c) % m )\n",
    "            random_numbers.append(x_plus)\n",
    "            \n",
    "        if test_eff == True:\n",
    "            temporary_array = np.array(random_numbers[:-1])\n",
    "            if len( temporary_array[ temporary_array == random_numbers[i]] ) != 0:\n",
    "                print('Doppeltes Element bei i =',i)\n",
    "                return i\n",
    "                break\n",
    "    \n",
    "    if norm == True:\n",
    "        return np.array(random_numbers)/m\n",
    "    \n",
    "    return np.array(random_numbers)\n"
   ]
  },
  {
   "cell_type": "markdown",
   "metadata": {},
   "source": [
    "### Aufgabenteil a)"
   ]
  },
  {
   "cell_type": "code",
   "execution_count": null,
   "metadata": {},
   "outputs": [],
   "source": [
    "b = 3\n",
    "m = 1024"
   ]
  },
  {
   "cell_type": "code",
   "execution_count": null,
   "metadata": {},
   "outputs": [],
   "source": [
    "length_list = []\n",
    "a = []\n",
    "# Schaue mit Startwerte im Breich im Intervall 0-100 in zweier Schritten an.\n",
    "for i in range(0, 100, 1):\n",
    "    \n",
    "    #Da ich test_eff=True gesetzt habe, gibt die Funktion nicht mehr die Zufallszahlen zurück, sondern \n",
    "    # die Periodenlänge\n",
    "    length = LCG(1e4, 1, i, b, m, norm = True, test_eff = True)\n",
    "    length_list.append(length)\n",
    "    a.append(i)   \n",
    "    \n",
    "# Konvertiere noch die Listen zu Numpy arrays\n",
    "\n",
    "length_list = np.array(length_list)\n",
    "a = np.array(a)"
   ]
  },
  {
   "cell_type": "markdown",
   "metadata": {},
   "source": [
    "Die maximale Periodenlänge ist:"
   ]
  },
  {
   "cell_type": "code",
   "execution_count": null,
   "metadata": {},
   "outputs": [],
   "source": [
    "print('Maximale Länge:',max(length_list))"
   ]
  },
  {
   "cell_type": "code",
   "execution_count": null,
   "metadata": {},
   "outputs": [],
   "source": [
    "plt.plot(a,length_list,'.')"
   ]
  },
  {
   "cell_type": "code",
   "execution_count": null,
   "metadata": {},
   "outputs": [],
   "source": [
    "a[length_list == max(length_list)]"
   ]
  },
  {
   "cell_type": "markdown",
   "metadata": {},
   "source": [
    "Die Bedingung aus der Vorlesung war das $(a-1)$ durch $2$ und durch $4$ teilbar sein muss, das ist hier auch erfüllt."
   ]
  },
  {
   "cell_type": "markdown",
   "metadata": {},
   "source": [
    "Lege die Parameter für den Generator nach dem Zettel fest"
   ]
  },
  {
   "cell_type": "code",
   "execution_count": null,
   "metadata": {},
   "outputs": [],
   "source": [
    "a = 1601\n",
    "b = 3456\n",
    "m = 10000"
   ]
  },
  {
   "cell_type": "code",
   "execution_count": null,
   "metadata": {},
   "outputs": [],
   "source": [
    "for i in range(0,1000,50):\n",
    "    random_numbers = LCG(1e4, i, a, b, m, norm = True, test_eff = False)\n",
    "    plt.hist(random_numbers, bins=1000)\n",
    "    plt.title(f'Startwert: {i}')\n",
    "    plt.show()"
   ]
  },
  {
   "cell_type": "markdown",
   "metadata": {},
   "source": [
    "Deutlich zu erkennen ist das sich Ebenen ausbilden. Eine Eigenschaft die sich auch später in den Scatter Plots zeigts."
   ]
  },
  {
   "cell_type": "code",
   "execution_count": null,
   "metadata": {},
   "outputs": [],
   "source": [
    "plt.scatter(random_numbers[0:-1:1], random_numbers[1::1])"
   ]
  },
  {
   "cell_type": "markdown",
   "metadata": {},
   "source": [
    "Dies entspricht keinem guten Zufallszahlengenerator, weil zwei gleichverteilte Zufallszahlen auch wieder einer gleichverteilten Zufallszahl entsprechen sollten. In der obigen Abbildung ekennt man deutlich Ebenenen, was auf eine ungleichverteilte Menge von Zahlen schließen lässt."
   ]
  },
  {
   "cell_type": "code",
   "execution_count": null,
   "metadata": {},
   "outputs": [],
   "source": [
    "from mpl_toolkits.mplot3d import Axes3D\n",
    "for i in range(0,45,20):\n",
    "    for j in range(0,45,20):\n",
    "        fig = plt.figure()\n",
    "        ax = fig. add_subplot (111 , projection ='3d')\n",
    "        ax.view_init(i, j) \n",
    "        ax.scatter(random_numbers[0:-2:1], random_numbers[1:-1:1], random_numbers[2::1], lw=0, s=5)\n",
    "        plt.title(f'Drehung-vertikal: {i}, Drehung-horizontal: {j}')\n",
    "        plt.show()"
   ]
  },
  {
   "cell_type": "markdown",
   "metadata": {},
   "source": [
    "In der dreidimensionalen Darstellung erkennt man die Ungleichmäßige Verteilung noch besser."
   ]
  },
  {
   "cell_type": "code",
   "execution_count": null,
   "metadata": {},
   "outputs": [],
   "source": [
    "for i in range(0,500,50):\n",
    "    np.random.seed(i)\n",
    "    random_numbers_uni = np.random.uniform(size=10000)\n",
    "    plt.hist(random_numbers_uni, bins=1000)\n",
    "    plt.title(f'Startwert: {i}')\n",
    "    plt.show()"
   ]
  },
  {
   "cell_type": "markdown",
   "metadata": {},
   "source": [
    "Die Histogramme unterscheiden sich signifikanter voneinander.\n",
    "Außerdem zeigt sich, das im Gegensatz zu den mit der `LCG` Funktion generierten Zufallszahlen, sich kaum Ebenen aufzeigen. Eine Eigenschaft die sich auch in den `Scatter` Plots zeigt."
   ]
  },
  {
   "cell_type": "code",
   "execution_count": null,
   "metadata": {},
   "outputs": [],
   "source": [
    "plt.scatter(random_numbers_uni[:-1:1],random_numbers_uni[1::1])"
   ]
  },
  {
   "cell_type": "markdown",
   "metadata": {},
   "source": [
    "Deutlich erkennt man das es sich hier wieder um eine gleichverteilte Verteilung handelt."
   ]
  },
  {
   "cell_type": "code",
   "execution_count": null,
   "metadata": {},
   "outputs": [],
   "source": [
    "for i in range(0,45,20):\n",
    "    for j in range(0,45,20):\n",
    "        fig = plt.figure()\n",
    "        ax = fig. add_subplot (111 , projection ='3d')\n",
    "        ax.view_init(i, j) \n",
    "        ax.scatter(random_numbers_uni[0:-2:1], random_numbers_uni[1:-1:1], random_numbers_uni[2::1], lw=0, s=5)\n",
    "        plt.title(f'Drehung-vertikal: {i}, Drehung-horizontal: {j}')\n",
    "        plt.show()"
   ]
  },
  {
   "cell_type": "markdown",
   "metadata": {},
   "source": [
    "Keine Ebenenen zu erkennen, sehr gut."
   ]
  },
  {
   "cell_type": "markdown",
   "metadata": {},
   "source": [
    "### Aufgabenteil e)"
   ]
  },
  {
   "cell_type": "code",
   "execution_count": null,
   "metadata": {},
   "outputs": [],
   "source": [
    "numbers_list = []\n",
    "for i in range(0,100,1):\n",
    "    random_numbers = LCG(1e4, i, a, b, m, norm = True, test_eff = False)\n",
    "    length = len(random_numbers[random_numbers == 1/2])\n",
    "    if length != 0:\n",
    "        print('Möglicher Startwert:',i)\n",
    "    numbers_list.append(length)"
   ]
  },
  {
   "cell_type": "markdown",
   "metadata": {},
   "source": [
    "__Periodenlänge: 650__ !!!???\n",
    "\n",
    "Es fällt auf das der erste Startwert bei dem $\\frac{1}{2}$ erzeugt werden kann $8$ ist und danach alle $16$ Startwerte weiter der Nächste $\\frac{1}{2}$ erzeugen kann."
   ]
  },
  {
   "cell_type": "markdown",
   "metadata": {},
   "source": [
    "# Nummer 3"
   ]
  },
  {
   "cell_type": "markdown",
   "metadata": {},
   "source": [
    "## Aufgabenteil a)\n",
    "Der *Korrelationskoeffizient* ist definiert als:\n",
    "\n",
    "$$\n",
    "\\rho(x_i,x_j)=\\frac{\\mathrm{cov}(x_i,x_j)}{\\sigma(x_i)\\sigma(x_j)}\n",
    "$$\n",
    "\n",
    "Mit den Werten aus der Aufgabenstellung folgt somit:"
   ]
  },
  {
   "cell_type": "code",
   "execution_count": null,
   "metadata": {},
   "outputs": [],
   "source": [
    "cov_ij = 4.2\n",
    "sigma_i = 3.5\n",
    "sigma_j = 1.5"
   ]
  },
  {
   "cell_type": "code",
   "execution_count": null,
   "metadata": {},
   "outputs": [],
   "source": [
    "def korrelation_coe(cov, sigma_i, sigma_j):\n",
    "    return cov/(sigma_i*sigma_j)"
   ]
  },
  {
   "cell_type": "code",
   "execution_count": null,
   "metadata": {},
   "outputs": [],
   "source": [
    "print('Der Korrelationskoeffizient beträgt:', korrelation_coe(cov_ij, sigma_i, sigma_j))"
   ]
  },
  {
   "cell_type": "markdown",
   "metadata": {},
   "source": [
    "## Aufgabenteil b)"
   ]
  },
  {
   "cell_type": "markdown",
   "metadata": {},
   "source": [
    "Ist $f(\\vec{x})$ eine $N$ dimensionale Gaußverteilung mit $\\vec{x}\\in\\mathbb{R}^N$ Zahlen.\n",
    "So lässt sich diese, nach der Vorlesung, schreiben als:\n",
    "\n",
    "$$\n",
    "f(\\vec{x}) = k\\exp\\left(-\\frac{1}{2}(\\vec{x}-\\vec{a})^\\intercal\\,\\mathbf{B}\\,(\\vec{x}-\\vec{a})\\right), \\quad \\mathbf{B}\\in\\mathbb{R}^{N\\times N}\n",
    "$$\n",
    "\n",
    "Die Verteilung lässt sich mit _standitisierten Variabelen_\n",
    "$$\n",
    "u_i = \\frac{x_i-a_i}{\\sigma_i}\n",
    "$$\n",
    "schreiben zu:\n",
    "$$\n",
    "f(\\vec{u}) = k\\exp\\left(-\\frac{1}{2}\\vec{u}^\\intercal\\,\\mathbf{B}\\,\\vec{u}\\right)\n",
    "$$\n",
    "\n",
    "Linien gleicher Wahrscheinlichkeiten unterliegen der Bedingung:\n",
    "\n",
    "$$\n",
    "f(\\vec{u})=\\mathrm{const}\n",
    "$$\n",
    "\n",
    "Aus der Bedingung folgt direkt:\n",
    "\n",
    "$$\n",
    "\\Rightarrow \\quad -\\frac{1}{2}\\vec{u}^\\intercal\\,\\mathbf{B}\\,\\vec{u} = \\mathrm{const}\\qquad (1)\n",
    "$$\n",
    "Die Matrix $\\mathrm{B}$ ist die * inverse Kovarianzmatrix* und kann geschrieben werden als:\n",
    "\n",
    "$$\n",
    "\\mathrm{B} = \\frac{1}{A} \\begin{pmatrix} \\sigma_1^2 & -\\mathrm{cov}(x_1,x_2) & \\dots & -\\mathrm{cov}(x_1,x_N) \\\\ -\\mathrm{cov}(x_1,x_2) & \\sigma_2^2 & \\dots & -\\mathrm{cov}(x_N,x_2) \\\\\n",
    "\\vdots & \\vdots & \\ddots & \\vdots \\\\\n",
    "-\\mathrm{cov}(x_1,x_N) & -\\mathrm{cov}(x_N,x_2) & \\dots & \\sigma_N^2 \n",
    "\\end{pmatrix}\n",
    "$$\n",
    "\n",
    "Hierbei ist der Vorfaktor $\\frac{1}{A}\\in\\mathbb{R}$ der für den Beweis keine weitere Rolle spielt. Rechnerisch ergibt er sich bei der Invertierung der Kovaraianzmatrix.\n",
    "Für man die Vektor- und Matrixmultiplikation in Gleichung __(1)__ aus ergibt sich:\n",
    "\n",
    "$$\n",
    "\\Sigma_i^{N} \\sigma_i^2u_i^2 - \\Sigma_{i,j}^{N} \\mathrm{cov}(x_i,x_j) u_i u_j = \\mathrm{const}\n",
    "$$\n",
    "\n",
    "Das ist eine *Elipssengleichung*. Somit sind alle Kurven gleicher Wahrscheinlichkeit Ellipsen."
   ]
  },
  {
   "cell_type": "markdown",
   "metadata": {},
   "source": [
    "## Aufgabenteil c)"
   ]
  },
  {
   "cell_type": "code",
   "execution_count": null,
   "metadata": {},
   "outputs": [],
   "source": [
    "mu_x = 4\n",
    "mu_y = 2"
   ]
  },
  {
   "cell_type": "code",
   "execution_count": null,
   "metadata": {},
   "outputs": [],
   "source": [
    "def two_d_gauss(x, y, mu_x, mu_y, sigma_x, sigma_y, cov):\n",
    "    u_x = (x - mu_x) / sigma_x\n",
    "    u_y = (y - mu_y) / sigma_y\n",
    "    rho = cov / (sigma_x * sigma_y)\n",
    "    nomination = 2 * np.pi * sigma_x * sigma_y * np.sqrt(1 - rho**2)\n",
    "    return 1/nomination * np.exp( (-1 / (2 * (1 - rho**2))) * ( u_x**2 + u_y**2 - 2*rho*u_x*u_y) )"
   ]
  },
  {
   "cell_type": "markdown",
   "metadata": {},
   "source": [
    "Um die Verteilung zu Plotten generiere ich Zufallszahlen, um diese anschließend oben einzusetzen."
   ]
  },
  {
   "cell_type": "markdown",
   "metadata": {},
   "source": [
    "Man erkennt eine Zweidimensionale Gaußglocke, genau wie erwartet.\n",
    "Plotte die Verteilung zusätzlich nochmal als Scatter Plot. Generiere dafür Zufallszahlen die gleich um die Maxima verteilt sind."
   ]
  },
  {
   "cell_type": "code",
   "execution_count": null,
   "metadata": {},
   "outputs": [],
   "source": [
    "x = np.random.uniform(low=-2, high=9, size=100000)\n",
    "y = np.random.uniform(low=-2, high=6, size=100000)\n",
    "Z = two_d_gauss(x, y, mu_x, mu_y, sigma_i, sigma_j, cov_ij)"
   ]
  },
  {
   "cell_type": "markdown",
   "metadata": {},
   "source": [
    "Um die Ellipse in die Grafik einzuzeichn, müssen wir zunächst die dazugehörige Ellipsengleichung herleiten:\n",
    "\n",
    "$$\\begin{aligned}\n",
    "f(x)&\\overset{!}{=}e^{-\\frac{1}{2}}f_\\mathrm{max}\\\\\n",
    "-\\frac{1}{2(1-\\rho^2)}\\left(u_x^2+u_y^2-2\\rho u_x u_y\\right)&=-\\frac{1}{2}\\\\\n",
    "\\Leftrightarrow \\quad u_x^2+u_y^2-2\\rho u_x u_y &= 1-\\rho^2\n",
    "\\end{aligned}$$"
   ]
  },
  {
   "cell_type": "code",
   "execution_count": null,
   "metadata": {},
   "outputs": [],
   "source": [
    "def ellipsengleichung(x, y, mu_x, mu_y, sigma_x, sigma_y, cov):\n",
    "    u_x = (x - mu_x) / sigma_x\n",
    "    u_y = (y - mu_y) / sigma_y\n",
    "    rho = cov / (sigma_x * sigma_y)\n",
    "    return u_x**2 + u_y**2 - 2*rho*u_x*u_y"
   ]
  },
  {
   "cell_type": "markdown",
   "metadata": {},
   "source": [
    "Suche nun die $x$ und $y$ Werte die die obige Ellipsengleichung erfüllen."
   ]
  },
  {
   "cell_type": "code",
   "execution_count": null,
   "metadata": {},
   "outputs": [],
   "source": [
    "y_ellpise = y[ np.abs(ellipsengleichung(x, y, mu_x, mu_y, sigma_i, sigma_j, cov_ij) - (1-korrelation_coe(cov_ij, sigma_i, sigma_j)**2)) <=1e-2]\n",
    "x_ellipse = x[ np.abs(ellipsengleichung(x, y, mu_x, mu_y, sigma_i, sigma_j, cov_ij) - (1-korrelation_coe(cov_ij, sigma_i, sigma_j)**2)) <=1e-2]"
   ]
  },
  {
   "cell_type": "markdown",
   "metadata": {},
   "source": [
    "## Aufgabenteil d)\n",
    "\n",
    "Die Inverse Kovarianzmatrix (in $2D$) ist gegen durch:\n",
    "\n",
    "$$\n",
    "\\mathbf{B}=\\frac{1}{1+\\rho^2} \\begin{pmatrix} \\sigma_1^2 & -\\mathrm{cov}(x,y) \\\\ -\\mathrm{cov}(x,y) & \\sigma_2^2 \\end{pmatrix}\n",
    "$$\n",
    "Die unkorrelierten Variabielen sind die die Eigenwerte der obigen Matrix:\n",
    "\n",
    "$$\\begin{aligned}\n",
    "0&\\overset{!}{=}\\det(\\mathbf{B}-\\lambda \\mathbf{{I}})\\\\\n",
    "&=\\frac{1}{1+\\rho^2}\\left(\\lambda^2-\\lambda(\\sigma_x^2+\\sigma_y^2)-\\mathrm{cov}(x,y)^2+\\sigma_x^2\\sigma_y^2\\right)\\\\\n",
    "\\Rightarrow \\quad \\lambda_{1/2} &= \\frac{1}{1+\\rho^2}\\frac{\\sigma_x^2+\\sigma_y^2}{2}\\pm\\sqrt{\\left(\\frac{\\sigma_x^2+\\sigma_y^2}{2}\\right)^2+\\mathrm{cov}(x,y)^2-\\sigma_x^2\\sigma_y^2}\n",
    "\\end{aligned}$$"
   ]
  },
  {
   "cell_type": "code",
   "execution_count": null,
   "metadata": {},
   "outputs": [],
   "source": [
    "def new_sigma(sigma_x, sigma_y, cov):\n",
    "    rho =  cov  / (sigma_x + sigma_y)\n",
    "    \n",
    "    lambda_1 = 1 / (1 + rho**2) * (sigma_x**2 + sigma_y**2)/2 + np.sqrt( ( (sigma_x**2 + sigma_y**2) / (2) )**2 + cov**2 - sigma_x**2*sigma_y**2)\n",
    "    lambda_2 = 1 / (1 + rho**2) * (sigma_x**2 + sigma_y**2)/2 - np.sqrt( ( (sigma_x**2 + sigma_y**2) / (2) )**2 + cov**2 - sigma_x**2*sigma_y**2)\n",
    "    \n",
    "    return lambda_1, lambda_2"
   ]
  },
  {
   "cell_type": "code",
   "execution_count": null,
   "metadata": {},
   "outputs": [],
   "source": [
    "new_sigma_x, new_sigma_y =  new_sigma(sigma_i, sigma_j, cov_ij)\n"
   ]
  },
  {
   "cell_type": "markdown",
   "metadata": {},
   "source": [
    "Die transformierten $\\sigma$ haben eine größe von:"
   ]
  },
  {
   "cell_type": "code",
   "execution_count": null,
   "metadata": {},
   "outputs": [],
   "source": [
    "print('Sigma_x` :', new_sigma_x)\n",
    "print('Sigma_y` :', new_sigma_y)"
   ]
  },
  {
   "cell_type": "markdown",
   "metadata": {},
   "source": [
    "### Bestimung der Drehmatrix\n",
    "\n",
    "Allgemein ist eine Drehmatrix gegeben durch:\n",
    "\n",
    "$$\n",
    "\\mathbf{R} = \\begin{pmatrix} \\cos(\\vartheta) & -\\sin(\\vartheta) \\\\ \\sin(\\vartheta) & \\cos(\\vartheta) \\end{pmatrix}\n",
    "$$\n",
    "\n",
    "Wir möchten nun die Matrix $\\mathbf{B}$ Hauptachsentransformieren, dies erfolgt über die folgende Transformationsvorschrift:\n",
    "\n",
    "$$\n",
    "\\begin{pmatrix} \\lambda^1 & 0 \\\\ 0 & \\lambda_2 \\end{pmatrix} = \\mathbf{R}^{-1}\\mathbf{B}\\mathbf{R} =\\mathbf{R}^\\intercal\\mathbf{B}\\mathbf{R} \n",
    "$$\n",
    "\n",
    "Im folgenden werden die Argumente der $\\sin$, $\\cos$ und $\\mathrm{cov}$ Terme weggelassen.\n",
    "\n",
    "$$\\begin{aligned}\n",
    "\\begin{pmatrix} \\lambda_1 & 0 \\\\ 0 & \\lambda_2 \\end{pmatrix} &= \\frac{1}{1+\\rho^2}\n",
    "\\begin{pmatrix} \\cos & \\sin \\\\ -\\sin & \\cos \\end{pmatrix}\n",
    "\\begin{pmatrix} \\sigma_x^2 & -\\mathrm{cov} \\\\ -\\mathrm{cov} & \\sigma_y^2 \\end{pmatrix}\n",
    "\\begin{pmatrix} \\cos & -\\sin \\\\ \\sin & \\cos \\end{pmatrix} \\\\\n",
    "&=\\frac{1}{1+\\rho^2}\\begin{pmatrix} \\cos & \\sin \\\\ -\\sin & \\cos \\end{pmatrix}\n",
    "\\begin{pmatrix} \\sigma_x^2\\cos-\\mathrm{cov}\\sin & -\\sin \\sigma_x^2-\\mathrm{cov}\\cos \\\\\n",
    "-\\mathrm{cov}\\cos+\\sigma_y^2\\sin & \\mathrm{cov}\\sin+\\sigma_y^2\\cos \\end{pmatrix}\\\\\n",
    "&=\\frac{1}{1+\\rho^2}\\begin{pmatrix} \\sigma_x^2\\cos^2-2\\mathrm{cov}\\sin\\cos+\\sigma_y^2\\sin^2 & -\\cos\\sin\\sigma_x^2-\\mathrm{cov}\\cos^2+\\mathrm{cov}\\sin^2+\\sigma_y^2\\sin\\cos \\\\\n",
    "-\\sigma_x^2\\cos\\sin+\\mathrm{cov}\\sin^2-\\mathrm{cov}\\cos^2+\\sigma_y^2\\sin\\cos &\n",
    "\\sin^2\\sigma_x^2+2\\mathrm{cov}\\cos\\sin+\\sigma_y^2\\cos^2 \\end{pmatrix}\n",
    "\\end{aligned}\n",
    "$$\n",
    "\n",
    "Berechne nun den Winkel $\\vartheta$ für das untere linke Matrixelement:\n",
    "\n",
    "$$\\begin{aligned}\n",
    "0&=(\\sigma_y^2-\\sigma_x^2)\\sin\\cos+\\mathrm{cov}(\\sin^2-\\cos^2)\\\\\n",
    "&=\\frac{1}{2}\\sin(2\\vartheta)-\\mathrm{cov}\\cos(2\\vartheta)\\\\\n",
    "\\Leftrightarrow \\quad \\vartheta &=\\frac{1}{2}\\arctan\\left(\\frac{2\\mathrm{cov}}{\\sigma_y^2-\\sigma_x^2}\\right)\n",
    "\\end{aligned}$$"
   ]
  },
  {
   "cell_type": "code",
   "execution_count": null,
   "metadata": {},
   "outputs": [],
   "source": [
    "def drehwinkel(sigma_x, sigma_y, cov):\n",
    "    return 1/2 * np.arctan( (2*cov)/(sigma_y**2-sigma_x**2))"
   ]
  },
  {
   "cell_type": "markdown",
   "metadata": {},
   "source": [
    "Der Drehwinkel liegt bei:"
   ]
  },
  {
   "cell_type": "code",
   "execution_count": null,
   "metadata": {},
   "outputs": [],
   "source": [
    "print('Drehwinkel in Grad:', np.rad2deg(drehwinkel(sigma_i, sigma_j, cov_ij)))"
   ]
  },
  {
   "cell_type": "code",
   "execution_count": null,
   "metadata": {},
   "outputs": [],
   "source": [
    "def rotate(x, alpha): \n",
    "    #function that rotates a given vector x by an angle alpha. \n",
    "    matrix = np.array([[np.cos(alpha), np.sin(alpha)], \n",
    "                       [-np.sin(alpha), np.cos(alpha)]] )\n",
    "    return matrix.dot(x)\n",
    "\n",
    "old_x_axis = np.array([1, 0])\n",
    "old_y_axis = np.array([0, 1])\n",
    "\n",
    "new_x_axis = rotate(old_x_axis, drehwinkel(sigma_i, sigma_j, cov_ij))\n",
    "new_y_axis = rotate(old_y_axis, drehwinkel(sigma_i, sigma_j, cov_ij))"
   ]
  },
  {
   "cell_type": "markdown",
   "metadata": {},
   "source": [
    "## Aufgabenteil e)\n",
    "Die bedingte Wahrscheinlichkeit $f(x|y)$ bzw. $f(y|x)$ kann mathematisch geschrieben werden als:\n",
    "\n",
    "$$\n",
    "f(x_i|x_j) = \\frac{f(x_i,x_j)}{\\int_{\\mathbb{D_i}}\\, f(x_i,x_j) \\mathrm{d}x_i}\n",
    "$$\n",
    "\n",
    "Wobei $\\mathbb{D}_i$ der zu $x_i$ gehörige Definitionsbereich ist.\n",
    "\n",
    "Beginnen wir zunächst mit:\n",
    "$$\\begin{aligned}\n",
    "f(x|y) &= \\frac{f(x,y)}{\\int_{-\\infty}^{\\infty} f(x,y) \\mathrm{d}x}\n",
    "\\end{aligned}$$\n",
    "\n",
    "Die Verteilung $f(x,y)$ ist gegeben durch:\n",
    "\n",
    "$$\\begin{aligned}\n",
    "f(x,y) &= N \\exp\\left( -\\Gamma\\left( \\left(\\frac{x-\\mu_x}{\\sigma_x}\\right)^2 +\\left(\\frac{y-\\mu_y}{\\sigma_y}\\right)^2 - 2\\rho\\left(\\frac{x-\\mu_x}{\\sigma_x}\\right)\\left(\\frac{y-\\mu_y}{\\sigma_y}\\right)\\right)\\right)\\\\\n",
    "mit \\\\\n",
    "N &= \\frac{1}{2\\pi\\sigma_x\\sigma_y\\sqrt{1-\\rho^2}}\\\\\n",
    "\\Gamma &= \\frac{1}{2(1-\\rho^2)}\\\\\n",
    "\\rho &= \\frac{\\mathrm{cov}(x,y)}{\\sigma_x\\sigma_y}\n",
    "\\end{aligned}$$\n",
    "\n",
    "Beginne mit dem Nenner:\n",
    "\n",
    "$$\\begin{aligned}\n",
    "\\int_{-\\infty}^{\\infty} f(x,y) \\,\\mathrm{d}x &= N\\int_{-\\infty}^{\\infty} \\exp\\left( -\\Gamma\\left( \\left(\\frac{x-\\mu_x}{\\sigma_x}\\right)^2 +\\left(\\frac{y-\\mu_y}{\\sigma_y}\\right)^2 - 2\\rho\\left(\\frac{x-\\mu_x}{\\sigma_x}\\right)\\left(\\frac{y-\\mu_y}{\\sigma_y}\\right)\\right)\\right)\\mathrm{d}x \\\\\n",
    "\\mathrm{Subsituition:}\\qquad u_x &= \\frac{x-\\mu_x}{\\sigma_x}, \\quad \\mathrm{d}x=\\sigma_x\\mathrm{d}u_x \\\\\n",
    "&=N\\sigma_x\\int_{-\\infty}^{\\infty}\\exp\\left(-\\Gamma\\left(u_x^2+u_y^2-2\\rho u_x u_y\\right)\\right)\\mathrm{d}u_x\\\\\n",
    "&=N\\sigma_x\\exp\\left(-\\left(\\Gamma+\\Gamma\\rho^2\\right)u_y^2\\right)\\int_{-\\infty}^{\\infty}\\exp\\left(-\\Gamma\\left(u_x-\\rho u_y\\right)^2\\right) \\mathrm{d}u_x\\\\\n",
    "&=N\\sigma_x\\exp\\left(-\\left(\\Gamma+\\Gamma\\rho^2\\right)u_y^2\\right)\\sqrt{\\frac{\\pi}{\\Gamma}}\n",
    "\\end{aligned}$$\n",
    "\n",
    "Damit ergibt sich für die bedingte Wahrscheinlichkeit:\n",
    "\n",
    "$$\\begin{aligned}\n",
    "f(x|y) &= \\frac{f(x,y)}{\\int_{-\\infty}^{\\infty} f(x,y)\\mathrm{d}x}\\\\\n",
    "&=\\frac{N\\exp\\left(-\\Gamma\\left(u_x^2+u_y^2-2\\rho u_x u_y\\right)\\right)\\sqrt{\\Gamma}}{N\\sigma_x\\exp\\left(-\\left(\\Gamma-\\Gamma\\rho^2\\right)u_y^2\\right)\\sqrt{\\pi}}\\\\\n",
    "&=\\frac{1}{\\sigma_x}\\exp\\left(-\\Gamma\\left(u_x-\\rho u_y\\right)^2\\right)\n",
    "\\end{aligned}$$\n",
    "\n",
    "Analog folgt für $f(y|x)$:\n",
    "\n",
    "$$\n",
    "f(y|x)=\\frac{1}{\\sigma_y}\\exp\\left(-\\Gamma\\left(u_y-\\rho u_x\\right)^2\\right)\n",
    "$$\n"
   ]
  },
  {
   "cell_type": "markdown",
   "metadata": {},
   "source": [
    "## Aufgabenteil f)\n",
    "\n",
    "Der bedingte Erwartungswert $E(x_i|x_j)$ ist gegeben durch:\n",
    "\n",
    "$$\n",
    "E(x_i|x_j) = \\int_{\\mathbb{D}_i} x_i\\, f(x_i|x_j)\\,\\mathrm{d}x_i\n",
    "$$\n",
    "\n",
    "Wobei $\\mathbb{D}_i$ der zu $x_i$ gehörige Definitionsbereich ist.\n",
    "\n",
    "Berechne zunächst $E(x|y)$:\n",
    "\n",
    "$$\\begin{aligned}\n",
    "E(x|y) &= \\int_{-\\infty}^{\\infty} x f(x|y)\\mathrm{d}x\\\\\n",
    "&= \\sqrt{\\frac{\\Gamma}{\\pi}}\\int_{-\\infty}^{\\infty} x \\frac{1}{\\sigma_x} \\exp\\left(-\\Gamma(u_x-\\rho u_y\\right)^2\\mathrm{d}x\\\\\n",
    "\\mathrm{Substituiere:}\\qquad u_x&=\\frac{x-\\mu_x}{\\sigma_x}, \\quad \\mathrm{d}x=\\sigma_x\\mathrm{d}u_x\\\\\n",
    "&=\\sqrt{\\frac{\\Gamma}{\\pi}}\\int_{-\\infty}^{\\infty}(u_x\\sigma_x+\\mu_x)\\exp\\left(-\\Gamma(u_x-\\rho u_y\\right)^2\\mathrm{d}u_x\\\\\n",
    "&=\\sqrt{\\frac{\\Gamma}{\\pi}}\\left(\\int_{-\\infty}^{\\infty} u_x \\sigma_x \\exp\\left(-\\Gamma(u_x-\\rho u_y\\right)^2\\mathrm{d}u_x  +\\int_{-\\infty}^{\\infty} \\mu_x \\exp\\left(-\\Gamma(u_x-\\rho u_y\\right)^2\\mathrm{d}u_x\\right)\\\\\n",
    "&=\\rho\\sigma_x u_y + \\mu_x\n",
    "\\end{aligned}$$\n",
    "\n",
    "Analog ergibt sich für $E(y|x)$:\n",
    "\n",
    "$$\n",
    "E(y|x)=\\rho\\sigma_y u_x + \\mu_y\n",
    "$$"
   ]
  },
  {
   "cell_type": "code",
   "execution_count": null,
   "metadata": {},
   "outputs": [],
   "source": [
    "def bedingter_erw(x, y, sigma_x, sigma_y, mu_x, mu_y, cov, condition):\n",
    "    rho = cov / (sigma_x * sigma_y)\n",
    "    u_x = (x - mu_x) / sigma_x\n",
    "    u_y = (y - mu_y) / sigma_y\n",
    "    \n",
    "    if condition == 'x':\n",
    "        return rho * sigma_x * u_y + mu_x\n",
    "    elif condition == 'y':\n",
    "        return rho * sigma_y * u_x + mu_y\n",
    "    else: \n",
    "        print('Wrong condition')\n"
   ]
  },
  {
   "cell_type": "code",
   "execution_count": null,
   "metadata": {},
   "outputs": [],
   "source": [
    "bedingt_erw_x = bedingter_erw(x, y, sigma_i, sigma_j, mu_x, mu_y, cov_ij, 'x')\n",
    "bedingt_erw_y = bedingter_erw(x, y, sigma_i, sigma_j, mu_x, mu_y, cov_ij, 'y')"
   ]
  },
  {
   "cell_type": "code",
   "execution_count": null,
   "metadata": {},
   "outputs": [],
   "source": [
    "def linear_function_from_vector(x, vec, center): \n",
    "    # linear funtion along a vector x\n",
    "    return vec[1] / vec[0] * (x - center[0]) + center[1]\n",
    "\n",
    "xplot = np.linspace(-2, 9, 10000)\n",
    "\n",
    "new_y_axis_values = linear_function_from_vector(xplot, new_y_axis, (mu_x, mu_y))\n",
    "new_x_axis_values = linear_function_from_vector(xplot, new_x_axis, (mu_x, mu_y))\n"
   ]
  },
  {
   "cell_type": "markdown",
   "metadata": {},
   "source": [
    "Plotte das Gesamtergebnisse."
   ]
  },
  {
   "cell_type": "code",
   "execution_count": null,
   "metadata": {},
   "outputs": [],
   "source": [
    "plt.scatter(x, y, c=Z, label='Verteilung')\n",
    "plt.errorbar(mu_x, mu_y, xerr = sigma_i, yerr = sigma_j, alpha=0.6, color='#ffffcc')\n",
    "plt.plot(x_ellipse, y_ellpise, '.', color = '#ffccff', label='Ellipse')\n",
    "\n",
    "plt.plot(bedingt_erw_x, y, '-', color='#00cc00', alpha=0.6, label =r'$E(x|y)$')\n",
    "plt.plot(x, bedingt_erw_y, '-', color='#ffff00', alpha=0.6, label =r'$E(y|x)$')\n",
    "\n",
    "plt.plot(xplot, \n",
    "        linear_function_from_vector(xplot, new_x_axis, (mu_x, mu_y)), \n",
    "        color = 'r', linestyle = '--', label = 'Hauptachsen', alpha=0.6)\n",
    "plt.plot(xplot, \n",
    "        linear_function_from_vector(xplot, new_y_axis, (mu_x, mu_y)), \n",
    "        color = 'r', linestyle = '--', alpha=0.6)\n",
    "\n",
    "plt.xlim(-2, 9)\n",
    "plt.ylim(-2, 6)\n",
    "plt.legend(loc='lower right')"
   ]
  },
  {
   "cell_type": "code",
   "execution_count": null,
   "metadata": {},
   "outputs": [],
   "source": []
  }
 ],
 "metadata": {
  "kernelspec": {
   "display_name": "Python 3",
   "language": "python",
   "name": "python3"
  },
  "language_info": {
   "codemirror_mode": {
    "name": "ipython",
    "version": 3
   },
   "file_extension": ".py",
   "mimetype": "text/x-python",
   "name": "python",
   "nbconvert_exporter": "python",
   "pygments_lexer": "ipython3",
   "version": "3.7.0"
  }
 },
 "nbformat": 4,
 "nbformat_minor": 2
}
