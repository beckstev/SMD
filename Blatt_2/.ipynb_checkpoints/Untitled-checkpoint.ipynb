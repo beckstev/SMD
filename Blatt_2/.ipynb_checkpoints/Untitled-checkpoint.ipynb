{
 "cells": [
  {
   "cell_type": "markdown",
   "metadata": {},
   "source": [
    "# SMD-Zettel Nr. 2"
   ]
  },
  {
   "cell_type": "markdown",
   "metadata": {},
   "source": [
    "## Aufgabe 1 "
   ]
  },
  {
   "cell_type": "markdown",
   "metadata": {},
   "source": [
    "### Aufgabenteil a)"
   ]
  },
  {
   "cell_type": "code",
   "execution_count": 1,
   "metadata": {},
   "outputs": [],
   "source": [
    "import numpy as np\n",
    "import matplotlib.pyplot as plt"
   ]
  },
  {
   "cell_type": "markdown",
   "metadata": {},
   "source": [
    "Erstelle die aus der Vorlesung bekannte *LCG Funktion*. \n",
    "Mit dem Parameter `norm` kann eingestellt werden, ob die Zufallszahlen normiert sein sollen.\n",
    "Der Parameter `test_eff` prüft die Periodenlänge der Zufallszahlen (noch langsam). "
   ]
  },
  {
   "cell_type": "code",
   "execution_count": 2,
   "metadata": {},
   "outputs": [],
   "source": [
    "def LCG(N, x_0, a, c, m, norm = False, test_eff = False): \n",
    "    random_numbers = []\n",
    "    \n",
    "    for i in range( int(N) ):\n",
    "        if i != 0:\n",
    "            x_plus = ( (a * random_numbers[-1] + c) % m )\n",
    "            random_numbers.append(x_plus)\n",
    "        else:\n",
    "            x_plus = ( (a * x_0 + c) % m )\n",
    "            random_numbers.append(x_plus)\n",
    "            \n",
    "        if test_eff == True:\n",
    "            if len( np.array(random_numbers[:-1])[ np.array(random_numbers[:-1]) == random_numbers[i]] ) != 0:\n",
    "                print('Doppeltes Element bei i =',i)\n",
    "                break\n",
    "        \n",
    "    if norm == True:\n",
    "        return np.array(random_numbers)/m\n",
    "    \n",
    "    return np.array(random_numbers)"
   ]
  },
  {
   "cell_type": "markdown",
   "metadata": {},
   "source": [
    "Die Parameter sind [hier](https://en.wikipedia.org/wiki/Linear_congruential_generator) entommen worden.\n",
    "Die Periodenlänge wurde zu $>10^5$ bestimmt."
   ]
  },
  {
   "cell_type": "code",
   "execution_count": 235,
   "metadata": {
    "scrolled": false
   },
   "outputs": [],
   "source": [
    "# source: https://en.wikipedia.org/wiki/Linear_congruential_generator\n",
    "x_0 = 1\n",
    "a = 1664525\n",
    "c = 1013904223\n",
    "m = 2**32 #Ausschöpfung des 32 Bit Bereichs + Primzahl\n",
    "\n",
    "numbers = LCG(1e6, x_0, a, c, m, True, False)"
   ]
  },
  {
   "cell_type": "markdown",
   "metadata": {},
   "source": [
    "Auf ein festes Intervall $[x_0, x_1]$ können die  _normierten_ Zufallszahlen mittels der Funktion `linear_trafo` transformiert werden."
   ]
  },
  {
   "cell_type": "code",
   "execution_count": 4,
   "metadata": {},
   "outputs": [],
   "source": [
    "def linear_trafo(random_numbers, x_0, x_1):\n",
    "    assert x_1 > x_0\n",
    "    return (x_1 - x_0) * random_numbers + x_0"
   ]
  },
  {
   "cell_type": "markdown",
   "metadata": {},
   "source": [
    "## Aufgabenteil b)"
   ]
  },
  {
   "cell_type": "markdown",
   "metadata": {},
   "source": [
    "Die Normierungskonstante $N$ der Funktion $f(t)$\n",
    "lautet $N=\\frac{1}{\\tau}$.\n",
    "Die Transformationsvorschrift $T(u)$ für die erzeugten Zufallszahlen $u\\in\\left[0,1\\right)$ erhält man wie folgt:\n",
    "\n",
    "$$\n",
    "\\begin{aligned}\n",
    "F(x)&=\\int_{0}^{x} N \\exp\\left(-\\frac{t}{\\tau}\\right)\\mathrm{d}t\\\\\n",
    "&=-\\left(\\exp\\left(-\\frac{x}{\\tau}\\right)-1\\right)\\\\\n",
    "F(x) &\\overset{!}{=}u\\\\\n",
    "\\Leftrightarrow \\quad x&=T(u):=-\\tau\\ln(1-u)\n",
    "\\end{aligned}\n",
    "$$\n",
    "\n"
   ]
  },
  {
   "cell_type": "code",
   "execution_count": 5,
   "metadata": {},
   "outputs": [],
   "source": [
    "def T_b(random_numbers, tau):\n",
    "    return -tau * np.log(1 - random_numbers)"
   ]
  },
  {
   "cell_type": "code",
   "execution_count": 6,
   "metadata": {},
   "outputs": [
    {
     "data": {
      "text/plain": [
       "(array([7.31496e+05, 1.96374e+05, 5.29900e+04, 1.40390e+04, 3.70400e+03,\n",
       "        9.94000e+02, 3.05000e+02, 6.80000e+01, 2.40000e+01, 6.00000e+00]),\n",
       " array([2.61468847e-06, 1.31617744e+01, 2.63235462e+01, 3.94853180e+01,\n",
       "        5.26470899e+01, 6.58088617e+01, 7.89706335e+01, 9.21324053e+01,\n",
       "        1.05294177e+02, 1.18455949e+02, 1.31617721e+02]),\n",
       " <a list of 10 Patch objects>)"
      ]
     },
     "execution_count": 6,
     "metadata": {},
     "output_type": "execute_result"
    },
    {
     "data": {
      "image/png": "[encoded data removed]",
      "text/plain": [
       "<Figure size 432x288 with 1 Axes>"
      ]
     },
     "metadata": {
      "needs_background": "light"
     },
     "output_type": "display_data"
    }
   ],
   "source": [
    "plt.hist(T_b(numbers, 10))"
   ]
  },
  {
   "cell_type": "markdown",
   "metadata": {},
   "source": [
    "## Aufgabenteil c)"
   ]
  },
  {
   "cell_type": "markdown",
   "metadata": {},
   "source": [
    "Die Nomrmierung $N$ der Funktion $f(x)$ lautet\n",
    "$$ N = \\frac{n-1}{x_{\\mathrm{max}}^{-n+1}-x_{\\mathrm{min}}^{-n+1}}$$"
   ]
  },
  {
   "cell_type": "markdown",
   "metadata": {},
   "source": [
    "Die Transformationsformel $T(u)$ der Zufallszahlen $u$ ergibt sich wie folgt:\n",
    "\n",
    "$$\n",
    "\\begin{aligned}\n",
    "F(x)&=\\int_{x_{\\mathrm{min}}}^x N x'^{-n}\\mathrm{d}x'\\\\\n",
    "&=\\frac{1}{ x_{ \\mathrm{max} }^{-n+1} -x_{\\mathrm{min}}^{-n+1} }\\left(x^{-n+1}-x_{\\mathrm{min}}^{-n+1}\\right)\\\\\n",
    "F(x)&\\overset{!}{=}u\\\\\n",
    "\\Leftrightarrow \\quad T(u):=x&=\\left(\\left(x_{ \\mathrm{max} }^{-n+1} -x_{\\mathrm{min}}^{-n+1} \\right)u+x_{\\mathrm{min}}\\right)^{\\frac{1}{1-n}}\n",
    "\\end{aligned}\n",
    "$$\n",
    "\n",
    "Die Transformation funktioniert nur für folgende Defintionsmengen:\n",
    "$$\n",
    "\\begin{aligned}\n",
    "x_{\\mathrm{min}},\\, x_{\\mathrm{max}} \\in \\mathbb{R}^+/\\{0\\} \\quad \\vee \\quad\n",
    "x_{\\mathrm{min}},\\, x_{\\mathrm{max}} \\in \\mathbb{R}^-/\\{0\\}\n",
    "\\end{aligned}\n",
    "$$"
   ]
  },
  {
   "cell_type": "code",
   "execution_count": 30,
   "metadata": {},
   "outputs": [],
   "source": [
    "def T_c(random_numbers, x_min, x_max, n):\n",
    "    assert  (x_max > x_min)\n",
    "    assert n > 1\n",
    "    exponent = 1-n\n",
    "    return ( (x_max**exponent - x_min**exponent) * random_numbers + x_min**exponent )**(1/exponent)"
   ]
  },
  {
   "cell_type": "markdown",
   "metadata": {},
   "source": [
    "__Gemischte Vorzeichen funktionieren noch nicht !!!__"
   ]
  },
  {
   "cell_type": "code",
   "execution_count": 39,
   "metadata": {},
   "outputs": [
    {
     "data": {
      "text/plain": [
       "(array([5.00000e+00, 1.50000e+01, 9.99956e+05, 1.70000e+01, 4.00000e+00,\n",
       "        2.00000e+00, 0.00000e+00, 0.00000e+00, 0.00000e+00, 1.00000e+00]),\n",
       " array([-559291.51041892, -333025.16070488, -106758.81099085,\n",
       "         119507.53872319,  345773.88843723,  572040.23815126,\n",
       "         798306.5878653 , 1024572.93757933, 1250839.28729337,\n",
       "        1477105.63700741, 1703371.98672144]),\n",
       " <a list of 10 Patch objects>)"
      ]
     },
     "execution_count": 39,
     "metadata": {},
     "output_type": "execute_result"
    },
    {
     "data": {
      "image/png": "[encoded data removed]",
      "text/plain": [
       "<Figure size 432x288 with 1 Axes>"
      ]
     },
     "metadata": {
      "needs_background": "light"
     },
     "output_type": "display_data"
    }
   ],
   "source": [
    "plt.hist(T_c(numbers, -4,, 2))\n",
    "#plt.plot(numbers,T_c(numbers, 1,5,3))"
   ]
  },
  {
   "cell_type": "markdown",
   "metadata": {},
   "source": [
    "## Aufgabenteil d)"
   ]
  },
  {
   "cell_type": "markdown",
   "metadata": {},
   "source": [
    "Die Normierungskonstante $N$ lautet:\n",
    "$$ N=\\frac{1}{\\arctan(x_\\mathrm{max})-\\arctan(x_\\mathrm{min})}$$\n",
    "\n",
    "Für den Speziallfall $x_\\mathrm{min}=-\\infty$ und $x_\\mathrm{max}=\\infty$ ist $N=\\pi$.\n",
    "\n",
    "\n",
    "Die Transformationsformel $T(u)$ der Zufallszahlen $u$ ergibt sich durch folgende Rechnung:\n",
    "\n",
    "$$\\begin{aligned}\n",
    "F(x)&=\\frac{1}{N}\\int_{x_{\\mathrm{min}}}^x\\frac{1}{1+x'^2}\\mathrm{d}x'\\\\\n",
    "&=\\frac{1}{N}\\left( \\arctan(x) - \\arctan(x_{\\mathrm{min}}\\right)\\\\\n",
    "F(x)&\\overset{!}{=} u\\\\\n",
    "\\Leftrightarrow \\quad T(u):=x&=\\tan(\\left(\\arctan(x_\\mathrm{max})-\\arctan(x_\\mathrm{min}\\right) u + \\arctan(x_{\\mathrm{min}}))\n",
    "\\end{aligned}$$"
   ]
  },
  {
   "cell_type": "code",
   "execution_count": 40,
   "metadata": {},
   "outputs": [],
   "source": [
    "def T_c(random_numbers, x_min, x_max):\n",
    "    assert x_max > x_min\n",
    "    \n",
    "    return np.tan((np.arctan(x_max) - np.arctan(x_min)) * random_numbers + np.arctan(x_min))"
   ]
  },
  {
   "cell_type": "code",
   "execution_count": 48,
   "metadata": {},
   "outputs": [
    {
     "data": {
      "text/plain": [
       "(array([ 29147.,  44988.,  75240., 134001., 216122., 216289., 134562.,\n",
       "         75227.,  45119.,  29305.]),\n",
       " array([-2.99999347e+00, -2.39999892e+00, -1.80000438e+00, -1.20000984e+00,\n",
       "        -6.00015293e-01, -2.07493913e-05,  5.99973794e-01,  1.19996834e+00,\n",
       "         1.79996288e+00,  2.39995743e+00,  2.99995197e+00]),\n",
       " <a list of 10 Patch objects>)"
      ]
     },
     "execution_count": 48,
     "metadata": {},
     "output_type": "execute_result"
    },
    {
     "data": {
      "image/png": "[encoded data removed]",
      "text/plain": [
       "<Figure size 432x288 with 1 Axes>"
      ]
     },
     "metadata": {
      "needs_background": "light"
     },
     "output_type": "display_data"
    }
   ],
   "source": [
    "plt.hist(T_c(numbers,-3,3))"
   ]
  },
  {
   "cell_type": "markdown",
   "metadata": {},
   "source": [
    "## Aufgabenteil e)"
   ]
  },
  {
   "cell_type": "markdown",
   "metadata": {},
   "source": [
    "Importierte die Datei `empirisches_histogramm.npy`. \n",
    "Die in der Datei enthaltente Verteilung wird im Weiteren als $p(x)$ bezeichnet."
   ]
  },
  {
   "cell_type": "code",
   "execution_count": 59,
   "metadata": {},
   "outputs": [],
   "source": [
    "data = np.load(\"./empirisches_histogramm.npy\")"
   ]
  },
  {
   "cell_type": "code",
   "execution_count": 64,
   "metadata": {},
   "outputs": [
    {
     "data": {
      "text/plain": [
       "array([0.01, 0.03, 0.05, 0.07, 0.09, 0.11, 0.13, 0.15, 0.17, 0.19, 0.21,\n",
       "       0.23, 0.25, 0.27, 0.29, 0.31, 0.33, 0.35, 0.37, 0.39, 0.41, 0.43,\n",
       "       0.45, 0.47, 0.49, 0.51, 0.53, 0.55, 0.57, 0.59, 0.61, 0.63, 0.65,\n",
       "       0.67, 0.69, 0.71, 0.73, 0.75, 0.77, 0.79, 0.81, 0.83, 0.85, 0.87,\n",
       "       0.89, 0.91, 0.93, 0.95, 0.97, 0.99])"
      ]
     },
     "execution_count": 64,
     "metadata": {},
     "output_type": "execute_result"
    }
   ],
   "source": [
    "data['bin_mid']"
   ]
  },
  {
   "cell_type": "code",
   "execution_count": 68,
   "metadata": {
    "scrolled": false
   },
   "outputs": [
    {
     "data": {
      "text/plain": [
       "(array([ 38.,  45.,  38.,  55.,  36.,  41.,  35.,  43.,  28.,  44.,  40.,\n",
       "         33.,  35.,  35.,  31.,  43.,  48.,  46.,  59.,  77.,  75., 102.,\n",
       "        119., 165., 208., 207., 250., 309., 414., 414., 435., 441., 489.,\n",
       "        510., 535., 502., 557., 469., 487., 403., 382., 318., 276., 262.,\n",
       "        232., 182., 142., 107.,  93.,  65.]),\n",
       " array([0.  , 0.02, 0.04, 0.06, 0.08, 0.1 , 0.12, 0.14, 0.16, 0.18, 0.2 ,\n",
       "        0.22, 0.24, 0.26, 0.28, 0.3 , 0.32, 0.34, 0.36, 0.38, 0.4 , 0.42,\n",
       "        0.44, 0.46, 0.48, 0.5 , 0.52, 0.54, 0.56, 0.58, 0.6 , 0.62, 0.64,\n",
       "        0.66, 0.68, 0.7 , 0.72, 0.74, 0.76, 0.78, 0.8 , 0.82, 0.84, 0.86,\n",
       "        0.88, 0.9 , 0.92, 0.94, 0.96, 0.98, 1.  ]),\n",
       " <a list of 50 Patch objects>)"
      ]
     },
     "execution_count": 68,
     "metadata": {},
     "output_type": "execute_result"
    },
    {
     "data": {
      "image/png": "[encoded data removed]",
      "text/plain": [
       "<Figure size 432x288 with 1 Axes>"
      ]
     },
     "metadata": {
      "needs_background": "light"
     },
     "output_type": "display_data"
    }
   ],
   "source": [
    "plt.hist(data['bin_mid'], bins=np.linspace(0., 1., 51), weights=data['hist'])"
   ]
  },
  {
   "cell_type": "markdown",
   "metadata": {},
   "source": [
    "Bestimme die maximale Höhe von $p(x)$:"
   ]
  },
  {
   "cell_type": "code",
   "execution_count": 71,
   "metadata": {},
   "outputs": [
    {
     "name": "stdout",
     "output_type": "stream",
     "text": [
      "Maximale Höhe von p(x): 557.0\n"
     ]
    }
   ],
   "source": [
    "p_max = max(data['hist'])\n",
    "print('Maximale Höhe von p(x):',p_max)"
   ]
  },
  {
   "cell_type": "markdown",
   "metadata": {},
   "source": [
    "Verfahre mit dem *Neumann'schen Rückweisungsverfahren*, dazu benötige ich zwei Zufallszahlen $u_1$ und $u_2$. Wobei die Wertebereiche der beiden Zufallszahlen der Verteilung $p(x)$ angepasst werden müssen:\n",
    "\n",
    "$$u_1\\in\\left[0,1\\right], \\quad u_2\\in\\left[0,\\mathrm{max}(p(x))\\right]=\\left[0,557\\right]$$\n"
   ]
  },
  {
   "cell_type": "code",
   "execution_count": 252,
   "metadata": {},
   "outputs": [],
   "source": [
    "u_1 = LCG(1e6, 1, a, c, m, True, False)\n",
    "u_2 = linear_trafo(LCG(1e6, 2, a, c, m, True, False),0, p_max) \n"
   ]
  },
  {
   "cell_type": "code",
   "execution_count": 253,
   "metadata": {},
   "outputs": [],
   "source": [
    "def neumann_random(random_numbers_x, random_numbers_y, real_x_values, real_y_values):\n",
    "    good_number = []\n",
    "    for i in range(len(real_x_values)):\n",
    "       \n",
    "        possible_u_1_index = np.abs(u_1 - real_x_values[i]) < 1e-2\n",
    "\n",
    "        possible_u_2_index = np.abs(random_numbers_y - real_y_values[i]) < 1e0\n",
    "\n",
    "        valid_numbers = random_numbers_x[(possible_u_1_index == True) & (possible_u_2_index == True)]   \n",
    "        good_number.extend(valid_numbers.tolist())\n",
    "        #print(good_number,'\\n\\n----------------------\\n\\n')\n",
    "    return np.array(good_number) "
   ]
  },
  {
   "cell_type": "code",
   "execution_count": 254,
   "metadata": {},
   "outputs": [],
   "source": [
    "good_numbers = neumann_random(u_1, u_2, data['bin_mid'], data['hist'] )"
   ]
  },
  {
   "cell_type": "code",
   "execution_count": 255,
   "metadata": {},
   "outputs": [
    {
     "data": {
      "text/plain": [
       "(array([3469., 3559., 3600., 3391., 3548., 3593., 3470., 3414., 3622.,\n",
       "        3507., 3569., 3539., 3559., 3559., 3496., 3559., 3438., 3527.,\n",
       "        3690., 3446., 3536., 3458., 3491., 3462., 3680., 3464., 3579.,\n",
       "        3474., 3599., 3630., 3520., 3645., 3560., 3448., 3508., 3607.,\n",
       "        3545., 3563., 3505., 3480., 3523., 3652., 3570., 3567., 3724.,\n",
       "        3560., 3582., 3515., 3636., 3493.]),\n",
       " array([0.  , 0.02, 0.04, 0.06, 0.08, 0.1 , 0.12, 0.14, 0.16, 0.18, 0.2 ,\n",
       "        0.22, 0.24, 0.26, 0.28, 0.3 , 0.32, 0.34, 0.36, 0.38, 0.4 , 0.42,\n",
       "        0.44, 0.46, 0.48, 0.5 , 0.52, 0.54, 0.56, 0.58, 0.6 , 0.62, 0.64,\n",
       "        0.66, 0.68, 0.7 , 0.72, 0.74, 0.76, 0.78, 0.8 , 0.82, 0.84, 0.86,\n",
       "        0.88, 0.9 , 0.92, 0.94, 0.96, 0.98, 1.  ]),\n",
       " <a list of 50 Patch objects>)"
      ]
     },
     "execution_count": 255,
     "metadata": {},
     "output_type": "execute_result"
    },
    {
     "data": {
      "image/png": "[encoded data removed]",
      "text/plain": [
       "<Figure size 432x288 with 1 Axes>"
      ]
     },
     "metadata": {
      "needs_background": "light"
     },
     "output_type": "display_data"
    }
   ],
   "source": [
    "plt.hist(good_numbers,bins=np.linspace(0., 1., 51))"
   ]
  },
  {
   "cell_type": "code",
   "execution_count": 113,
   "metadata": {},
   "outputs": [
    {
     "data": {
      "text/plain": [
       "array([ True,  True, False, ...,  True,  True,  True])"
      ]
     },
     "execution_count": 113,
     "metadata": {},
     "output_type": "execute_result"
    }
   ],
   "source": [
    "u_1 < 0.5"
   ]
  },
  {
   "cell_type": "code",
   "execution_count": null,
   "metadata": {},
   "outputs": [],
   "source": []
  }
 ],
 "metadata": {
  "kernelspec": {
   "display_name": "Python 3",
   "language": "python",
   "name": "python3"
  },
  "language_info": {
   "codemirror_mode": {
    "name": "ipython",
    "version": 3
   },
   "file_extension": ".py",
   "mimetype": "text/x-python",
   "name": "python",
   "nbconvert_exporter": "python",
   "pygments_lexer": "ipython3",
   "version": "3.7.0"
  }
 },
 "nbformat": 4,
 "nbformat_minor": 2
}
