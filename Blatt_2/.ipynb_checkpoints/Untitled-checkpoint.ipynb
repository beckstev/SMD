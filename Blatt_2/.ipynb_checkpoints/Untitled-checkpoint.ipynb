{
 "cells": [
  {
   "cell_type": "markdown",
   "metadata": {},
   "source": [
    "# SMD-Zettel Nr. 2"
   ]
  },
  {
   "cell_type": "markdown",
   "metadata": {},
   "source": [
    "## Aufgabe 1 "
   ]
  },
  {
   "cell_type": "markdown",
   "metadata": {},
   "source": [
    "### Aufgabenteil a)"
   ]
  },
  {
   "cell_type": "code",
   "execution_count": 107,
   "metadata": {},
   "outputs": [],
   "source": [
    "import numpy as np\n",
    "import matplotlib.pyplot as plt"
   ]
  },
  {
   "cell_type": "markdown",
   "metadata": {},
   "source": [
    "Erstelle die aus der Vorlesung bekannte *LCG Funktion*. \n",
    "Mit dem Parameter `norm` kann eingestellt werden, ob die Zufallszahlen normiert sein sollen.\n",
    "Der Parameter `test_eff` prüft die Periodenlänge der Zufallszahlen (noch langsam). "
   ]
  },
  {
   "cell_type": "code",
   "execution_count": 89,
   "metadata": {},
   "outputs": [],
   "source": [
    "def LCG(N, x_0, a, c, m, norm = False, test_eff = False): \n",
    "    random_numbers = []\n",
    "    \n",
    "    for i in range( int(N) ):\n",
    "        if i != 0:\n",
    "            x_plus = ( (a * random_numbers[-1] + c) % m )\n",
    "            random_numbers.append(x_plus)\n",
    "        else:\n",
    "            x_plus = ( (a * x_0 + c) % m )\n",
    "            random_numbers.append(x_plus)\n",
    "            \n",
    "        if test_eff == True:\n",
    "            if len( np.array(random_numbers[:-1])[ np.array(random_numbers[:-1]) == random_numbers[i]] ) != 0:\n",
    "                print('Doppeltes Element bei i =',i)\n",
    "                break\n",
    "        \n",
    "    if norm == True:\n",
    "        return np.array(random_numbers)/m\n",
    "    \n",
    "    return np.array(random_numbers)"
   ]
  },
  {
   "cell_type": "markdown",
   "metadata": {},
   "source": [
    "Die Parameter sind [hier](https://en.wikipedia.org/wiki/Linear_congruential_generator) entommen worden.\n",
    "Die Periodenlänge wurde zu $>10^5$ bestimmt."
   ]
  },
  {
   "cell_type": "code",
   "execution_count": 148,
   "metadata": {
    "scrolled": false
   },
   "outputs": [],
   "source": [
    "# source: https://en.wikipedia.org/wiki/Linear_congruential_generator\n",
    "x_0 = 1\n",
    "a = 1664525\n",
    "c = 1013904223\n",
    "m = 2**32 #Ausschöpfung des 32 Bit Bereichs + Primzahl\n",
    "\n",
    "numbers = LCG(1e6, x_0, a, c, m, True, False)"
   ]
  },
  {
   "cell_type": "markdown",
   "metadata": {},
   "source": [
    "Auf ein festes Intervall $[x_0, x_1]$ können die  _normierten_ Zufallszahlen mittels der Funktion `linear_trafo` transformiert werden."
   ]
  },
  {
   "cell_type": "code",
   "execution_count": 149,
   "metadata": {},
   "outputs": [],
   "source": [
    "def linear_trafo(random_numbers, x_0, x_1):\n",
    "    assert x_1 > x_0\n",
    "    return (x_1 - x_0) * random_numbers + x_0"
   ]
  },
  {
   "cell_type": "markdown",
   "metadata": {},
   "source": [
    "## Aufgabenteil b)"
   ]
  },
  {
   "cell_type": "markdown",
   "metadata": {},
   "source": [
    "Die Normierungskonstante $N$ der Funktion $f(t)$\n",
    "lautet $N=\\frac{1}{\\tau}$.\n",
    "Die Transformationsvorschrift $T(u)$ für die erzeugten Zufallszahlen $u\\in\\left[0,1\\right)$ erhält man wie folgt:\n",
    "\n",
    "$$\n",
    "\\begin{aligned}\n",
    "F(x)&=\\int_{0}^{x} N \\exp\\left(-\\frac{t}{\\tau}\\right)\\mathrm{d}t\\\\\n",
    "&=-\\left(\\exp\\left(-\\frac{x}{\\tau}\\right)-1\\right)\\\\\n",
    "F(x) &\\overset{!}{=}u\\\\\n",
    "\\Leftrightarrow \\quad x&=T(u):=-\\tau\\ln(1-u)\n",
    "\\end{aligned}\n",
    "$$\n",
    "\n"
   ]
  },
  {
   "cell_type": "code",
   "execution_count": 152,
   "metadata": {},
   "outputs": [],
   "source": [
    "def T_b(random_numbers, tau):\n",
    "    return -tau * np.log(1 - random_numbers)"
   ]
  },
  {
   "cell_type": "code",
   "execution_count": 153,
   "metadata": {},
   "outputs": [
    {
     "data": {
      "text/plain": [
       "(array([7.31496e+05, 1.96374e+05, 5.29900e+04, 1.40390e+04, 3.70400e+03,\n",
       "        9.94000e+02, 3.05000e+02, 6.80000e+01, 2.40000e+01, 6.00000e+00]),\n",
       " array([2.61468847e-06, 1.31617744e+01, 2.63235462e+01, 3.94853180e+01,\n",
       "        5.26470899e+01, 6.58088617e+01, 7.89706335e+01, 9.21324053e+01,\n",
       "        1.05294177e+02, 1.18455949e+02, 1.31617721e+02]),\n",
       " <a list of 10 Patch objects>)"
      ]
     },
     "execution_count": 153,
     "metadata": {},
     "output_type": "execute_result"
    },
    {
     "data": {
      "image/png": "[encoded data removed]",
      "text/plain": [
       "<Figure size 432x288 with 1 Axes>"
      ]
     },
     "metadata": {
      "needs_background": "light"
     },
     "output_type": "display_data"
    }
   ],
   "source": [
    "plt.hist(T_b(numbers, 10))"
   ]
  },
  {
   "cell_type": "markdown",
   "metadata": {},
   "source": [
    "## Aufgabenteil c)"
   ]
  },
  {
   "cell_type": "markdown",
   "metadata": {},
   "source": [
    "Die Nomrmierung $N$ der Funktion $f(x)$ lautet\n",
    "$$ N = \\frac{n-1}{x_{\\mathrm{max}}^{-n+1}-x_{\\mathrm{min}}^{-n+1}}$$"
   ]
  },
  {
   "cell_type": "markdown",
   "metadata": {},
   "source": [
    "Die Transformationsformel $T(u)$ der Zufallszahlen $u$ ergibt sich wie folgt:\n",
    "\n",
    "$$\n",
    "\\begin{aligned}\n",
    "F(x)&=\\int_{x_{\\mathrm{min}}}^x N x'^{-n}\\mathrm{d}x'\\\\\n",
    "&=\\frac{1}{ x_{ \\mathrm{max} }^{-n+1} -x_{\\mathrm{min}}^{-n+1} }\\left(x^{-n+1}-x_{\\mathrm{min}}^{-n+1}\\right)\\\\\n",
    "F(x)&\\overset{!}{=}u\\\\\n",
    "\\Leftrightarrow \\quad T(u):=x&=\\left(\\left(x_{ \\mathrm{max} }^{-n+1} -x_{\\mathrm{min}}^{-n+1} \\right)u+x_{\\mathrm{min}}\\right)^{\\frac{1}{1-n}}\n",
    "\\end{aligned}\n",
    "$$"
   ]
  },
  {
   "cell_type": "code",
   "execution_count": 172,
   "metadata": {},
   "outputs": [],
   "source": [
    "def T_c(random_numbers, x_min, x_max, n):\n",
    "    assert x_max > x_min\n",
    "    assert n > 1\n",
    "    exponent = 1-n\n",
    "    return ( (x_max**exponent - x_min**exponent) * random_numbers + x_min**exponent )**(1/exponent)"
   ]
  },
  {
   "cell_type": "code",
   "execution_count": 174,
   "metadata": {},
   "outputs": [
    {
     "data": {
      "text/plain": [
       "array([1.13407971, 1.22644511, 1.33711472, ..., 1.3281367 , 1.31980136,\n",
       "       1.04454238])"
      ]
     },
     "execution_count": 174,
     "metadata": {},
     "output_type": "execute_result"
    },
    {
     "data": {
      "image/png": "[encoded data removed]",
      "text/plain": [
       "<Figure size 432x288 with 1 Axes>"
      ]
     },
     "metadata": {
      "needs_background": "light"
     },
     "output_type": "display_data"
    }
   ],
   "source": [
    "plt.hist(T_c(numbers, 2, 3, 3))\n",
    "T_c(numbers, 1,2,2)"
   ]
  },
  {
   "cell_type": "code",
   "execution_count": null,
   "metadata": {},
   "outputs": [],
   "source": []
  }
 ],
 "metadata": {
  "kernelspec": {
   "display_name": "Python 3",
   "language": "python",
   "name": "python3"
  },
  "language_info": {
   "codemirror_mode": {
    "name": "ipython",
    "version": 3
   },
   "file_extension": ".py",
   "mimetype": "text/x-python",
   "name": "python",
   "nbconvert_exporter": "python",
   "pygments_lexer": "ipython3",
   "version": "3.7.0"
  }
 },
 "nbformat": 4,
 "nbformat_minor": 2
}
