{
 "cells": [
  {
   "cell_type": "markdown",
   "metadata": {},
   "source": [
    "# SMD Übungszettel Nr.3"
   ]
  },
  {
   "cell_type": "markdown",
   "metadata": {},
   "source": [
    "__Abagbe von: Pape, Kusurmann, Becker__"
   ]
  },
  {
   "cell_type": "code",
   "execution_count": 1,
   "metadata": {},
   "outputs": [],
   "source": [
    "import numpy as np\n",
    "import matplotlib.pyplot as plt\n",
    "import scipy.optimize \n",
    "from joblib import Parallel, delayed\n",
    "import collections\n",
    "import timeit\n",
    "\n",
    "np.random.seed(8)"
   ]
  },
  {
   "cell_type": "markdown",
   "metadata": {},
   "source": [
    "## Aufgabe 8"
   ]
  },
  {
   "cell_type": "code",
   "execution_count": 2,
   "metadata": {},
   "outputs": [],
   "source": [
    "def neumann_random(random_numbers_x, random_numbers_y, xmin, xmax, number_of_numbers, function):\n",
    "    \n",
    "    while len(random_numbers_x[random_numbers_y <= function(random_numbers_x)]) <number_of_numbers:\n",
    "        more_random_numbers_x = np.random.uniform(xmin, xmax, 2*int(number_of_numbers))\n",
    "        more_random_numbers_y = np.random.uniform(size= 2*int(number_of_numbers))\n",
    "        \n",
    "        random_numbers_x = np.append(random_numbers_x, more_random_numbers_x)\n",
    "        random_numbers_y = np.append(random_numbers_y, more_random_numbers_y)\n",
    "    \n",
    "    valid_random_x = random_numbers_x[random_numbers_y <= function(random_numbers_x)]\n",
    "    return valid_random_x[np.random.randint(0, len(valid_random_x), number_of_numbers)], random_numbers_x"
   ]
  },
  {
   "cell_type": "code",
   "execution_count": 3,
   "metadata": {},
   "outputs": [],
   "source": [
    "def planck_distribution(x):\n",
    "    return 15/np.pi**4 * (x**3) / (np.exp(x) - 1)"
   ]
  },
  {
   "cell_type": "markdown",
   "metadata": {},
   "source": [
    "Bestimmte Maximum der Planckverteilung:\n",
    "\n",
    "$$\\begin{aligned}\n",
    "f(x)&=N\\frac{x^3}{\\exp(x)-1}\\\\\n",
    "f'(x)&=N\\left(\\frac{3x^2(\\exp(x)-1)-x^3\\exp(x)}{\\left(\\exp(x)-1\\right)^2}\\right)\\overset{!}{=}0\\\\\n",
    "\\Rightarrow \\quad h(x)&:=\\exp(x)(3-x)-3=0\n",
    "\\end{aligned}$$\n",
    "\n",
    "Verwende die Funktion `brentq`, um die Nullstellen der Funktion $g(x)$ zu bestimmen."
   ]
  },
  {
   "cell_type": "code",
   "execution_count": 4,
   "metadata": {},
   "outputs": [],
   "source": [
    "def h(x):\n",
    "    return np.exp(x) * (3 - x) - 3"
   ]
  },
  {
   "cell_type": "code",
   "execution_count": 5,
   "metadata": {},
   "outputs": [
    {
     "name": "stdout",
     "output_type": "stream",
     "text": [
      "Maximum der Planck Verteilung 0.21888647009110665\n"
     ]
    }
   ],
   "source": [
    "xmax_planck =  scipy.optimize.brentq(h, 2, 10)\n",
    "max_planck = planck_distribution(xmax_planck)\n",
    "print('Maximum der Planck Verteilung', max_planck)"
   ]
  },
  {
   "cell_type": "code",
   "execution_count": 6,
   "metadata": {},
   "outputs": [
    {
     "name": "stderr",
     "output_type": "stream",
     "text": [
      "/home/beckstev/.local/anaconda3/lib/python3.7/site-packages/ipykernel_launcher.py:2: RuntimeWarning: invalid value encountered in true_divide\n",
      "  \n"
     ]
    },
    {
     "data": {
      "image/png": "[encoded data removed]",
      "text/plain": [
       "<Figure size 864x288 with 1 Axes>"
      ]
     },
     "metadata": {
      "needs_background": "light"
     },
     "output_type": "display_data"
    }
   ],
   "source": [
    "x = np.linspace(0, 20, 1000);\n",
    "plt.figure(figsize = [12, 4]);\n",
    "plt.plot(x, planck_distribution(x), label='Verteilung');\n",
    "plt.plot(xmax_planck, max_planck, '.', label='Maximum');\n",
    "plt.legend();"
   ]
  },
  {
   "cell_type": "markdown",
   "metadata": {},
   "source": [
    "Deutlich zu erkennen ist, dass die bestimmte Nullstelle der Funktion $g(x)$ den Maximalwert \n",
    "der Planck Verteilung erzeugt."
   ]
  },
  {
   "cell_type": "markdown",
   "metadata": {},
   "source": [
    "Eigenschaften der Verteilung:"
   ]
  },
  {
   "cell_type": "code",
   "execution_count": 7,
   "metadata": {},
   "outputs": [],
   "source": [
    "x_cutoff = 20"
   ]
  },
  {
   "cell_type": "code",
   "execution_count": 8,
   "metadata": {},
   "outputs": [],
   "source": [
    "xrandom = np.random.uniform(0, x_cutoff, size=100000)\n",
    "yrandom = np.random.uniform(0, max_planck+1, size=100000)"
   ]
  },
  {
   "cell_type": "code",
   "execution_count": 9,
   "metadata": {},
   "outputs": [
    {
     "name": "stdout",
     "output_type": "stream",
     "text": [
      "1.4447407789994031\n"
     ]
    }
   ],
   "source": [
    "start_time = timeit.default_timer()\n",
    "planck_random, all_planck_random = neumann_random(xrandom, yrandom, 0, x_cutoff, \n",
    "                                                  100000, planck_distribution)\n",
    "elapsed_a = timeit.default_timer() - start_time\n",
    "print(elapsed_a)"
   ]
  },
  {
   "cell_type": "code",
   "execution_count": 10,
   "metadata": {},
   "outputs": [
    {
     "data": {
      "text/plain": [
       "<Figure size 432x288 with 0 Axes>"
      ]
     },
     "metadata": {},
     "output_type": "display_data"
    },
    {
     "data": {
      "image/png": "[encoded data removed]",
      "text/plain": [
       "<Figure size 864x288 with 1 Axes>"
      ]
     },
     "metadata": {
      "needs_background": "light"
     },
     "output_type": "display_data"
    }
   ],
   "source": [
    "plt.clf()\n",
    "plt.figure(figsize = [12, 4]);\n",
    "plt.hist(planck_random, bins=np.linspace(0, x_cutoff, 5 * x_cutoff));\n",
    "plt.xlabel('x');\n",
    "plt.ylabel('p');"
   ]
  },
  {
   "cell_type": "code",
   "execution_count": 11,
   "metadata": {},
   "outputs": [
    {
     "name": "stdout",
     "output_type": "stream",
     "text": [
      "Es wurden 100000 Zufallszahlen erzeugt.\n",
      "Dafür wurden 2000000 Zufallszahlen verworfen.\n"
     ]
    }
   ],
   "source": [
    "print('Es wurden',len(planck_random), 'Zufallszahlen erzeugt.')\n",
    "print('Dafür wurden', len(all_planck_random)-len(planck_random),'Zufallszahlen verworfen.')"
   ]
  },
  {
   "cell_type": "markdown",
   "metadata": {},
   "source": [
    "### Aufgabenteil b)\n",
    "Bestimme zunächst den Schnittpunkt der beiden Teilfunktion von $g(x)$:\n",
    "\n",
    "$$\\begin{aligned}\n",
    "y_\\mathrm{max}&=200Nx^{-0.1}\\exp(-x^{0,9})\\\\\n",
    "0&=200Nx^{-0.1}\\exp(-x^{0,9})-y_\\mathrm{max}=:t(x)\n",
    "\\end{aligned}$$\n",
    "\n",
    "Verwende wieder wie oben die Funktion `brentq`, um die Nullstelle zu bestimmen."
   ]
  },
  {
   "cell_type": "code",
   "execution_count": 12,
   "metadata": {},
   "outputs": [],
   "source": [
    "def t(x):\n",
    "    ymax = 0.21888647009110665\n",
    "    return 200 * 15/np.pi**4 * x**(-0.1) * np.exp(-x**(0.9)) - ymax"
   ]
  },
  {
   "cell_type": "code",
   "execution_count": 13,
   "metadata": {},
   "outputs": [
    {
     "name": "stdout",
     "output_type": "stream",
     "text": [
      "x_s liegt bei 5.678208598337558\n"
     ]
    }
   ],
   "source": [
    "x_s = scipy.optimize.brentq(t, 2, 10)\n",
    "print('x_s liegt bei',x_s)"
   ]
  },
  {
   "cell_type": "code",
   "execution_count": 14,
   "metadata": {},
   "outputs": [
    {
     "name": "stderr",
     "output_type": "stream",
     "text": [
      "/home/beckstev/.local/anaconda3/lib/python3.7/site-packages/ipykernel_launcher.py:2: RuntimeWarning: invalid value encountered in true_divide\n",
      "  \n"
     ]
    },
    {
     "data": {
      "text/plain": [
       "<Figure size 432x288 with 0 Axes>"
      ]
     },
     "metadata": {},
     "output_type": "display_data"
    },
    {
     "data": {
      "image/png": "[encoded data removed]",
      "text/plain": [
       "<Figure size 864x288 with 1 Axes>"
      ]
     },
     "metadata": {
      "needs_background": "light"
     },
     "output_type": "display_data"
    }
   ],
   "source": [
    "plt.clf()\n",
    "plt.figure(figsize = [12, 4]);\n",
    "\n",
    "x = np.linspace(0, 20, 1000);\n",
    "x_lower = np.linspace(0, x_s, 1000)\n",
    "x_upper = np.linspace(x_s, x_cutoff, 1000)\n",
    "\n",
    "\n",
    "plt.plot(x, planck_distribution(x), label='Verteilung');\n",
    "plt.plot(xmax_planck, max_planck, '.', label='Maximum');\n",
    "plt.plot(x_lower, np.ones(len(x_lower)) * max_planck, '-', label=r'$Einhüllende \\, g_1(x)$');\n",
    "plt.plot(x_upper, t(x_upper) + max_planck, '-', label=r'$Einhüllende\\, g_2(x)$');\n",
    "\n",
    "plt.xlabel('x')\n",
    "plt.ylabel('p')\n",
    "plt.legend();"
   ]
  },
  {
   "cell_type": "markdown",
   "metadata": {},
   "source": [
    "Bestimmte die Transformationsvorschrift, um die gleichverteilten Zufallszahlen in \n",
    "$g_2(x)=200Nx^{-0.1}\\exp\\left(-x^{0.9}\\right)$ zu transformieren.Bestimme zunächst die Normierung:\n",
    "\n",
    "$$\\begin{aligned}\n",
    "1&=\\int_{x_s}^{x_ {cutoff}} 200Nx^{-0.1}\\exp\\left(-x^{0.9}\\right)\\mathrm{d}x\\\\\n",
    "\\Leftrightarrow \\quad N&=\\frac{-9}{2000}\\left(\\exp\\left(-x_{cutoff}^{0.9}\\right)-\\exp\\left(-x_s^{0.9}\\right)\\right)^{-1}\n",
    "\\end{aligned}$$\n",
    "\n",
    "Nun die Transformationsvorschrift\n",
    "$$\\begin{aligned}\n",
    "F(x)&=\\frac{2000N}{9}\\int_{x_s}^{x} x'^{-0.1}\\exp\\left(-x'^{0.9}\\right)\\mathrm{d}x\\\\\n",
    "&=-\\frac{2000N}{9}\\left[\\exp\\left(-x^{0.9}\\right)-\\exp\\left(-x_s'^{0.9}\\right)\\right]\\overset{!}{=}u\\\\\n",
    "\\Leftrightarrow \\quad T(u):= x &= \\left(-\\ln\\left(\\frac{-9u}{2000N}+\\exp\\left(-x_s^{0.9}\\right)\\right)\\right)^\\frac{10}{9}\n",
    "\\end{aligned}$$"
   ]
  },
  {
   "cell_type": "markdown",
   "metadata": {},
   "source": [
    "Definiere die neuen Funktion."
   ]
  },
  {
   "cell_type": "code",
   "execution_count": 15,
   "metadata": {},
   "outputs": [],
   "source": [
    "# majorant function given by the task\n",
    "def majoranten_function_g2(x):\n",
    "    N =  15 / np.pi**4\n",
    "    return 200 * N * x**(-0.1) * np.exp(-x**(0.9))"
   ]
  },
  {
   "cell_type": "code",
   "execution_count": 16,
   "metadata": {},
   "outputs": [],
   "source": [
    "# majorant function with new nomination\n",
    "def majoranten_function_g2_norm_new(x):\n",
    "    N_new =  -9/(2000) /(np.exp(-x_cutoff**(0.9))-np.exp(-x_s**(0.9)))\n",
    "    return 200 * N_new * x**(-0.1) * np.exp(-x**(0.9))"
   ]
  },
  {
   "cell_type": "code",
   "execution_count": 17,
   "metadata": {},
   "outputs": [],
   "source": [
    "# Transformation function\n",
    "def T(u, x_s = 5.678208598337558, x_cutoff = 20):\n",
    "    N_new = -9/(2000) /(np.exp(-x_cutoff**(0.9))-np.exp(-x_s**(0.9)))\n",
    "    return (-np.log(-9*u / (2000*N_new) + np.exp(-x_s**(0.9))) )**(10/9)"
   ]
  },
  {
   "cell_type": "code",
   "execution_count": 18,
   "metadata": {},
   "outputs": [],
   "source": [
    "randomnumbers = np.random.uniform(size=100000)\n",
    "xrandom_g2 = T(randomnumbers)\n",
    "yrandom_g2 = t(xrandom_g2)"
   ]
  },
  {
   "cell_type": "code",
   "execution_count": 19,
   "metadata": {},
   "outputs": [
    {
     "name": "stderr",
     "output_type": "stream",
     "text": [
      "/home/beckstev/.local/anaconda3/lib/python3.7/site-packages/matplotlib/axes/_axes.py:6571: UserWarning: The 'normed' kwarg is deprecated, and has been replaced by the 'density' kwarg.\n",
      "  warnings.warn(\"The 'normed' kwarg is deprecated, and has been \"\n"
     ]
    },
    {
     "data": {
      "text/plain": [
       "Text(0,0.5,'p')"
      ]
     },
     "execution_count": 19,
     "metadata": {},
     "output_type": "execute_result"
    },
    {
     "data": {
      "image/png": "[encoded data removed]",
      "text/plain": [
       "<Figure size 864x288 with 1 Axes>"
      ]
     },
     "metadata": {
      "needs_background": "light"
     },
     "output_type": "display_data"
    }
   ],
   "source": [
    "plt.figure(figsize = [12, 4]);\n",
    "x = np.linspace(x_s, x_cutoff, 2000)\n",
    "\n",
    "plt.hist(xrandom_g2, bins=np.linspace(x_s, x_cutoff, 100), normed=True, label ='Zufallszahlen');\n",
    "plt.plot(x, majoranten_function_g2_norm_new(x), label=r'$\\mathrm{Majorante}, \\, N_{neu}$')\n",
    "plt.plot(x, majoranten_function_g2(x), label=r'$\\mathrm{Majorante}, N_{alt}$')\n",
    "plt.plot(x, planck_distribution(x), label='PlanckVerteilung');\n",
    "plt.legend()\n",
    "plt.xlabel('x')\n",
    "plt.ylabel('p')"
   ]
  },
  {
   "cell_type": "markdown",
   "metadata": {},
   "source": [
    "Die mit der Transformation generierten Zufallszahlen sind nach der Majorante (neue Normierung) verteilt. Somit ist die bestimmte Transformationsformel korrekt."
   ]
  },
  {
   "cell_type": "markdown",
   "metadata": {},
   "source": [
    "Es muss überürpft werden, wie viele Zufallszahlen aus den jeweiligen Bereich gezogen werden müssen, weil die Flächen nicht gleichverteilt sind."
   ]
  },
  {
   "cell_type": "code",
   "execution_count": 20,
   "metadata": {},
   "outputs": [
    {
     "name": "stdout",
     "output_type": "stream",
     "text": [
      "Wir benötigen 81 % mehr Zahlen aus dem gleichverteilten Bereich\n"
     ]
    }
   ],
   "source": [
    "N =  15 / np.pi**4\n",
    "norm = x_s * max_planck + 2000 / 9 * N * (np.exp(-x_s**(9/10)))\n",
    "\n",
    "\n",
    "percantage_of_uniform = x_s * max_planck/ norm \n",
    "percantage_of_majorant = 1 - percantage_of_uniform\n",
    "\n",
    "print(f'Wir benötigen {int(percantage_of_uniform*100)} % mehr Zahlen aus dem geleic')"
   ]
  },
  {
   "cell_type": "code",
   "execution_count": 21,
   "metadata": {},
   "outputs": [],
   "source": [
    "def new_neumann(xrandom, yrandom, x_s, number_of_numbers, majoranten_function_lower, majoranten_transformation_upper, majoranten_function_upper, function):\n",
    "    xrandom[xrandom > x_s] = majoranten_transformation_upper(np.random.uniform(size=len(xrandom[ xrandom > x_s])))\n",
    "    \n",
    "    \n",
    "    xrandom_lower = xrandom[xrandom <= x_s] \n",
    "    xrandom_valid_lower = xrandom_lower[yrandom[xrandom <= x_s] * majoranten_function_lower < function(xrandom_lower)]\n",
    "    \n",
    "    xrandom_upper = xrandom[xrandom > x_s]\n",
    "    xrandom_valid_upper = xrandom_upper[yrandom[xrandom  > x_s] * majoranten_function_upper(xrandom_upper) < function(xrandom_upper)]\n",
    "    i = 0\n",
    "    # generate as long as needed new number\n",
    "    while len(xrandom_valid_lower) + len(xrandom_valid_upper) < number_of_numbers:\n",
    "        try:\n",
    "            # check how many numbers are missing\n",
    "            missing_numbers = int(2 * (len(xrandom) - len(xrandom_valid_lower) + len(xrandom_valid_upper)))\n",
    "            \n",
    "            #generate new_numbers in both definiton areas\n",
    "            more_xrandom_upper = majoranten_transformation_upper(np.random.uniform( size=int(missing_numbers *0.19+i)))\n",
    "            more_xrandom_lower = np.random.uniform(0, x_s, size=int(missing_numbers*0.81) )\n",
    "            #make one big array\n",
    "            more_xrandom = np.append(more_xrandom_lower, more_xrandom_upper)\n",
    "            # append to start array\n",
    "            xrandom = np.append(xrandom, more_xrandom)\n",
    "            # generate new random numbers\n",
    "            yrandom = np.append(yrandom, np.random.uniform(size=int(missing_numbers)-1 ))\n",
    "            # get lower numbers\n",
    "            xrandom_lower = xrandom[xrandom <= x_s] \n",
    "            # save them to valid xnumbers\n",
    "            xrandom_valid_lower = xrandom_lower[yrandom[xrandom <= x_s] * majoranten_function_lower <= function(xrandom_lower)]\n",
    "            #equal here\n",
    "            xrandom_upper = xrandom[xrandom > x_s]\n",
    "            xrandom_valid_upper = xrandom_upper[yrandom[xrandom  > x_s] * majoranten_function_upper(xrandom_upper) <= function(xrandom_upper)]\n",
    "       \n",
    "    # Just to be sure if somethin goes wrong with the indexes\n",
    "        except IndexError as e:\n",
    "            i = -1 * (len(xrandom) - len(yrandom))\n",
    "            print(i)\n",
    "            print(e)\n",
    "            if np.abs(i)>=3:\n",
    "                print('Savety Break, please restart')\n",
    "                break\n",
    "     # return an array with valid numbers. To get the required number of numbers I generate a random number of index values           \n",
    "    return np.append(xrandom_valid_lower, xrandom_valid_upper)[np.random.randint(0, len(xrandom_valid_lower)+len(xrandom_valid_upper), number_of_numbers)], xrandom"
   ]
  },
  {
   "cell_type": "code",
   "execution_count": 27,
   "metadata": {},
   "outputs": [],
   "source": [
    "x_randomnumbers_lower = np.random.uniform(0,x_s, size = int(100000*0.81))\n",
    "x_randomnumber_upper = np.random.uniform(x_s, x_cutoff, size = int(100000*0.19))\n",
    "x_randomnumbers_1 = np.append(x_randomnumbers_lower, x_randomnumber_upper )\n",
    "\n",
    "y_randomnumbers_1 = np.random.uniform(size=100000)"
   ]
  },
  {
   "cell_type": "code",
   "execution_count": 28,
   "metadata": {},
   "outputs": [
    {
     "name": "stdout",
     "output_type": "stream",
     "text": [
      "0.0685556930002349\n"
     ]
    }
   ],
   "source": [
    "start_time = timeit.default_timer()\n",
    "# Algorithm to generate random_numbers with important sampling. The function requires: \n",
    "# two arrays of random numbers, x_s, how many numbers should be generated \n",
    "# the majorante of the first intervall, the transformation function for the second intervall, \n",
    "# the majorante of the second intervall, the real distribution (here planck distribution)\n",
    "\n",
    "new_randonnumbers, allgenerated_numbers = new_neumann(x_randomnumbers_1, y_randomnumbers_1, \n",
    "                                   x_s, 100000, max_planck, T, majoranten_function_g2, \n",
    "                                   planck_distribution)\n",
    "elapsed_b = timeit.default_timer() - start_time\n",
    "print(elapsed_b)"
   ]
  },
  {
   "cell_type": "code",
   "execution_count": 29,
   "metadata": {},
   "outputs": [
    {
     "data": {
      "image/png": "[encoded data removed]",
      "text/plain": [
       "<Figure size 432x288 with 1 Axes>"
      ]
     },
     "metadata": {
      "needs_background": "light"
     },
     "output_type": "display_data"
    }
   ],
   "source": [
    "plt.hist(new_randonnumbers, bins=np.linspace(0, x_cutoff, 100));\n",
    "plt.xlabel('x');\n",
    "plt.ylabel('N');"
   ]
  },
  {
   "cell_type": "markdown",
   "metadata": {},
   "source": [
    "Sieht gut aus."
   ]
  },
  {
   "cell_type": "code",
   "execution_count": 30,
   "metadata": {},
   "outputs": [
    {
     "name": "stdout",
     "output_type": "stream",
     "text": [
      "Es wurden 100000 Zufallszahlen erzeugt.\n",
      "Dafür wurden 114021  Zufallszahlen verworfen.\n"
     ]
    }
   ],
   "source": [
    "print('Es wurden',len(new_randonnumbers), 'Zufallszahlen erzeugt.')\n",
    "print('Dafür wurden', len(allgenerated_numbers)-len(new_randonnumbers),' Zufallszahlen verworfen.')"
   ]
  },
  {
   "cell_type": "markdown",
   "metadata": {},
   "source": [
    "### Aufgabenteil c)\n",
    "\n",
    "Bei Aufgabenteil __a)__ wurden in $1.3\\,\\mathrm{s}$ $200000$ Zufallszahlen verworfen. generiert.\n",
    "\n",
    "Bei Aufgabenteil __b)__ wurden in $0.058\\,\\mathrm{s}$ $57082$ Zufallszahlen verworfen."
   ]
  },
  {
   "cell_type": "code",
   "execution_count": 31,
   "metadata": {},
   "outputs": [
    {
     "name": "stderr",
     "output_type": "stream",
     "text": [
      "/home/beckstev/.local/anaconda3/lib/python3.7/site-packages/matplotlib/axes/_axes.py:6571: UserWarning: The 'normed' kwarg is deprecated, and has been replaced by the 'density' kwarg.\n",
      "  warnings.warn(\"The 'normed' kwarg is deprecated, and has been \"\n",
      "/home/beckstev/.local/anaconda3/lib/python3.7/site-packages/ipykernel_launcher.py:2: RuntimeWarning: invalid value encountered in true_divide\n",
      "  \n"
     ]
    },
    {
     "data": {
      "text/plain": [
       "<matplotlib.legend.Legend at 0x7f6b27575438>"
      ]
     },
     "execution_count": 31,
     "metadata": {},
     "output_type": "execute_result"
    },
    {
     "data": {
      "image/png": "[encoded data removed]",
      "text/plain": [
       "<Figure size 720x360 with 2 Axes>"
      ]
     },
     "metadata": {
      "needs_background": "light"
     },
     "output_type": "display_data"
    }
   ],
   "source": [
    "x = np.linspace(0, x_cutoff, 1000)\n",
    "\n",
    "fig = plt.figure(figsize = (10, 5))\n",
    "\n",
    "\n",
    "fig.add_subplot(121)\n",
    "plt.title('Aufgabenteil a)')\n",
    "plt.hist(planck_random, bins=np.linspace(0, x_cutoff, 5 * x_cutoff), \n",
    "         normed = True, label='Zufallszahlen');\n",
    "plt.plot(x, planck_distribution(x), label='Planckverteilung');\n",
    "plt.xlabel('x')\n",
    "plt.ylabel('p')\n",
    "plt.legend()\n",
    "\n",
    "fig.add_subplot(122)\n",
    "plt.title('Aufgabenteil b)')\n",
    "plt.hist(new_randonnumbers, bins=np.linspace(0, x_cutoff, 5 * x_cutoff),\n",
    "         normed = True, label='Zufallszahlen');\n",
    "plt.plot(x, planck_distribution(x), label='Planckverteilung');\n",
    "plt.xlabel('x')\n",
    "plt.ylabel('p')\n",
    "plt.legend()"
   ]
  },
  {
   "cell_type": "markdown",
   "metadata": {},
   "source": [
    "## Aufgabe 9"
   ]
  },
  {
   "cell_type": "code",
   "execution_count": 32,
   "metadata": {},
   "outputs": [],
   "source": [
    "def metropolis_algorithmus(x_start, step_size, PDF, length):\n",
    "    # list to save samples\n",
    "    x_sample = [x_start]\n",
    "    # list to save interation step\n",
    "    i_list = [0]\n",
    "    \n",
    "    for i in range(length):\n",
    "        # save iteration index\n",
    "        i_list.append(i)\n",
    "        # generate new random number in step_size intervall\n",
    "        x_new = np.random.uniform(x_sample[-1]-step_size, x_sample[-1]+step_size)\n",
    "        # check if generated number is negative, if so we stay at our last position\n",
    "        if x_new < 0:\n",
    "            x_sample.append(x_sample[-1])\n",
    "        else:\n",
    "            #generate M_ij\n",
    "            M_ij = min((1, PDF(x_new)/PDF(x_sample[-1])))    \n",
    "            zeta = np.random.uniform()\n",
    "            # check if the new x value is accepted or not\n",
    "            if zeta <= M_ij:\n",
    "                x_sample.append(x_new)\n",
    "            else:\n",
    "                x_sample.append(x_sample[-1])  \n",
    "    \n",
    "    return np.array(x_sample), i_list"
   ]
  },
  {
   "cell_type": "markdown",
   "metadata": {},
   "source": [
    "Generiere nochmal Planck Verteilte Zahlen:"
   ]
  },
  {
   "cell_type": "code",
   "execution_count": 33,
   "metadata": {},
   "outputs": [],
   "source": [
    "sample_x, i_list = metropolis_algorithmus(30, 2, planck_distribution, 100000);"
   ]
  },
  {
   "cell_type": "code",
   "execution_count": 34,
   "metadata": {},
   "outputs": [
    {
     "data": {
      "text/plain": [
       "Text(0,0.5,'N')"
      ]
     },
     "execution_count": 34,
     "metadata": {},
     "output_type": "execute_result"
    },
    {
     "data": {
      "image/png": "[encoded data removed]",
      "text/plain": [
       "<Figure size 432x288 with 1 Axes>"
      ]
     },
     "metadata": {
      "needs_background": "light"
     },
     "output_type": "display_data"
    }
   ],
   "source": [
    "plt.hist(sample_x, bins = np.linspace(0, 20, 100));\n",
    "plt.xlabel('x')\n",
    "plt.ylabel('N')"
   ]
  },
  {
   "cell_type": "markdown",
   "metadata": {},
   "source": [
    "Wie gefordert ist eine Planckverteilung zu erkennen"
   ]
  },
  {
   "cell_type": "code",
   "execution_count": 35,
   "metadata": {},
   "outputs": [
    {
     "data": {
      "image/png": "[encoded data removed]",
      "text/plain": [
       "<Figure size 432x288 with 1 Axes>"
      ]
     },
     "metadata": {
      "needs_background": "light"
     },
     "output_type": "display_data"
    }
   ],
   "source": [
    "plt.plot(i_list, sample_x)\n",
    "plt.xlabel('Iteraration step')\n",
    "plt.ylabel('Random number')\n",
    "plt.xscale('log')"
   ]
  },
  {
   "cell_type": "markdown",
   "metadata": {},
   "source": [
    "Deutlich ist eine Einlaufphase zu erkennen, bei der die Zufallszahl erstmal zur Verteilung _laufen_ muss."
   ]
  }
 ],
 "metadata": {
  "kernelspec": {
   "display_name": "Python 3",
   "language": "python",
   "name": "python3"
  },
  "language_info": {
   "codemirror_mode": {
    "name": "ipython",
    "version": 3
   },
   "file_extension": ".py",
   "mimetype": "text/x-python",
   "name": "python",
   "nbconvert_exporter": "python",
   "pygments_lexer": "ipython3",
   "version": "3.7.0"
  }
 },
 "nbformat": 4,
 "nbformat_minor": 2
}
