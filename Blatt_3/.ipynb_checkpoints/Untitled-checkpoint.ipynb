{
 "cells": [
  {
   "cell_type": "markdown",
   "metadata": {},
   "source": [
    "# SMD Übungszettel Nr.3"
   ]
  },
  {
   "cell_type": "markdown",
   "metadata": {},
   "source": [
    "__Abagbe von: Pape, Kusurmann, Becker__"
   ]
  },
  {
   "cell_type": "code",
   "execution_count": 175,
   "metadata": {},
   "outputs": [],
   "source": [
    "import numpy as np\n",
    "import matplotlib.pyplot as plt\n",
    "import scipy.optimize \n",
    "from joblib import Parallel, delayed\n",
    "import collections\n",
    "\n",
    "np.random.seed(8)"
   ]
  },
  {
   "cell_type": "markdown",
   "metadata": {},
   "source": [
    "## Aufgabe 8"
   ]
  },
  {
   "cell_type": "code",
   "execution_count": 266,
   "metadata": {},
   "outputs": [],
   "source": [
    "def neumann_random(random_numbers_x, random_numbers_y, real_x_values, real_y_values):\n",
    "    good_number = []\n",
    "    for i in range(len(real_x_values)):\n",
    "        possible_u_1_index = np.abs(random_numbers_x - real_x_values[i]) < 3e-3\n",
    "        possible_u_2_index = random_numbers_y < real_y_values[i]\n",
    "        valid_numbers = random_numbers_x[(possible_u_1_index == True) & (possible_u_2_index == True)]\n",
    "       \n",
    "        good_number.extend(valid_numbers.tolist())\n",
    "\n",
    "    return np.array(good_number) "
   ]
  },
  {
   "cell_type": "code",
   "execution_count": null,
   "metadata": {},
   "outputs": [],
   "source": [
    "def neumann_random_new(real_x_values, real_y_values, number_of_random_numbers):\n",
    "    good_number = []\n",
    "    for i in range(len(real_x_values)):\n",
    "        possible_u_1_index = np.abs(random_numbers_x - real_x_values[i]) < 3e-3\n",
    "        possible_u_2_index = random_numbers_y < real_y_values[i]\n",
    "        valid_numbers = random_numbers_x[(possible_u_1_index == True) & (possible_u_2_index == True)]\n",
    "       \n",
    "        good_number.extend(valid_numbers.tolist())\n",
    "\n",
    "    return np.array(good_number) "
   ]
  },
  {
   "cell_type": "code",
   "execution_count": 204,
   "metadata": {},
   "outputs": [],
   "source": [
    "def planck_distribution(x):\n",
    "    return np.pi**4/15 * (x**3) / (np.exp(x) - 1)"
   ]
  },
  {
   "cell_type": "markdown",
   "metadata": {},
   "source": [
    "Bestimmte Maximum der Planckverteilung:\n",
    "\n",
    "$$\\begin{aligned}\n",
    "f(x)&=N\\frac{x^3}{\\exp(x)-1}\\\\\n",
    "f'(x)&=N\\left(\\frac{3x^2(\\exp(x)-1)-x^3\\exp(x)}{\\left(\\exp(x)-1\\right)^2}\\right)\\overset{!}{=}0\\\\\n",
    "\\Rightarrow \\quad h(x)&:=\\exp(x)(3-x)-3=0\n",
    "\\end{aligned}$$\n",
    "Verwende die Funktion `brentq`, um die Nullstellen der Funktion $g(x)$ zu bestimmen."
   ]
  },
  {
   "cell_type": "code",
   "execution_count": 17,
   "metadata": {},
   "outputs": [],
   "source": [
    "def h(x):\n",
    "    return np.exp(x) * (3 - x) - 3"
   ]
  },
  {
   "cell_type": "code",
   "execution_count": 65,
   "metadata": {},
   "outputs": [
    {
     "name": "stdout",
     "output_type": "stream",
     "text": [
      "Maximum der Planck Verteilung 9.230715824256304\n"
     ]
    }
   ],
   "source": [
    "xmax_planck =  scipy.optimize.brentq(g, 2, 10)\n",
    "max_planck = planck_distribution(xmax_planck)\n",
    "print('Maximum der Planck Verteilung', max_planck)"
   ]
  },
  {
   "cell_type": "code",
   "execution_count": 560,
   "metadata": {},
   "outputs": [
    {
     "name": "stderr",
     "output_type": "stream",
     "text": [
      "/home/beckstev/.local/anaconda3/lib/python3.7/site-packages/ipykernel_launcher.py:2: RuntimeWarning: invalid value encountered in true_divide\n",
      "  \n"
     ]
    },
    {
     "data": {
      "image/png": "[encoded data removed]",
      "text/plain": [
       "<Figure size 864x288 with 1 Axes>"
      ]
     },
     "metadata": {
      "needs_background": "light"
     },
     "output_type": "display_data"
    }
   ],
   "source": [
    "x = np.linspace(0, 20, 1000);\n",
    "plt.figure(figsize = [12, 4]);\n",
    "plt.plot(x, planck_distribution(x), label='Verteilung');\n",
    "plt.plot(xmax_planck, max_planck, '.', label='Maximum');\n",
    "plt.legend();"
   ]
  },
  {
   "cell_type": "markdown",
   "metadata": {},
   "source": [
    "Deutlich zu erkennen ist, dass die bestimmte Nullstelle der Funktion $g(x)$ den Maximalwert \n",
    "der Planck Verteilung erzeugt."
   ]
  },
  {
   "cell_type": "markdown",
   "metadata": {},
   "source": [
    "Eigenschaften der Verteilung:"
   ]
  },
  {
   "cell_type": "code",
   "execution_count": 249,
   "metadata": {},
   "outputs": [],
   "source": [
    "number_of_numbers = 100000\n",
    "x_cutoff = 20"
   ]
  },
  {
   "cell_type": "code",
   "execution_count": 276,
   "metadata": {},
   "outputs": [
    {
     "name": "stdout",
     "output_type": "stream",
     "text": [
      "100000\n"
     ]
    },
    {
     "name": "stderr",
     "output_type": "stream",
     "text": [
      "/home/beckstev/.local/anaconda3/lib/python3.7/site-packages/ipykernel_launcher.py:1: DeprecationWarning: object of type <class 'float'> cannot be safely interpreted as an integer.\n",
      "  \"\"\"Entry point for launching an IPython kernel.\n"
     ]
    }
   ],
   "source": [
    "x = np.linspace(0, x_cutoff, number_of_numbers/50)\n",
    "\n",
    "xrandom = np.random.uniform(0, x_cutoff, size=number_of_numbers)\n",
    "yrandom = np.random.uniform(0, max_planck+1, size=number_of_numbers)\n",
    "print(len(yrandom))"
   ]
  },
  {
   "cell_type": "code",
   "execution_count": 277,
   "metadata": {},
   "outputs": [
    {
     "name": "stderr",
     "output_type": "stream",
     "text": [
      "/home/beckstev/.local/anaconda3/lib/python3.7/site-packages/ipykernel_launcher.py:2: RuntimeWarning: invalid value encountered in true_divide\n",
      "  \n",
      "/home/beckstev/.local/anaconda3/lib/python3.7/site-packages/ipykernel_launcher.py:5: RuntimeWarning: invalid value encountered in less\n",
      "  \"\"\"\n"
     ]
    }
   ],
   "source": [
    "planck_random = neumann_random(xrandom, yrandom, x, planck_distribution(x));"
   ]
  },
  {
   "cell_type": "code",
   "execution_count": 278,
   "metadata": {},
   "outputs": [
    {
     "name": "stdout",
     "output_type": "stream",
     "text": [
      "12288 [(0.10948303873438148, 1), (0.11960133699038256, 1)]\n"
     ]
    },
    {
     "data": {
      "text/plain": [
       "<Figure size 432x288 with 0 Axes>"
      ]
     },
     "metadata": {},
     "output_type": "display_data"
    },
    {
     "data": {
      "image/png": "[encoded data removed]",
      "text/plain": [
       "<Figure size 864x288 with 1 Axes>"
      ]
     },
     "metadata": {
      "needs_background": "light"
     },
     "output_type": "display_data"
    }
   ],
   "source": [
    "print(len(planck_random),collections.Counter(planck_random).most_common(2))\n",
    "plt.clf()\n",
    "plt.figure(figsize = [12, 4]);\n",
    "plt.hist(planck_random, bins=np.linspace(0, x_cutoff, 5 * x_cutoff));"
   ]
  },
  {
   "cell_type": "markdown",
   "metadata": {},
   "source": [
    "### Aufgabenteil b)\n",
    "Bestimme zunächst den Schnittpunkt der beiden Teilfunktion von $g(x)$:\n",
    "\n",
    "$$\\begin{aligned}\n",
    "y_\\mathrm{max}&=200Nx^{-0.1}\\exp(-x^{0,9})\\\\\n",
    "0&=200Nx^{-0.1}\\exp(-x^{0,9})-y_\\mathrm{max}=:t(x)\n",
    "\\end{aligned}$$\n",
    "\n",
    "Verwende wieder wie oben die Funktion `brentq`, um die Nullstelle zu bestimmen."
   ]
  },
  {
   "cell_type": "code",
   "execution_count": 301,
   "metadata": {},
   "outputs": [],
   "source": [
    "def t(x):\n",
    "    ymax = 9.230715824256304\n",
    "    return 200 * (np.pi**4)/15 * x**(-0.1) * np.exp(-x**(0.9)) - ymax"
   ]
  },
  {
   "cell_type": "code",
   "execution_count": 303,
   "metadata": {},
   "outputs": [
    {
     "name": "stdout",
     "output_type": "stream",
     "text": [
      "x_s liegt bei 5.678208598337558\n"
     ]
    }
   ],
   "source": [
    "x_s = scipy.optimize.brentq(t, 2, 10)\n",
    "print('x_s liegt bei',x_s)"
   ]
  },
  {
   "cell_type": "code",
   "execution_count": 305,
   "metadata": {},
   "outputs": [
    {
     "name": "stderr",
     "output_type": "stream",
     "text": [
      "/home/beckstev/.local/anaconda3/lib/python3.7/site-packages/ipykernel_launcher.py:2: RuntimeWarning: invalid value encountered in true_divide\n",
      "  \n"
     ]
    },
    {
     "data": {
      "text/plain": [
       "<Figure size 432x288 with 0 Axes>"
      ]
     },
     "metadata": {},
     "output_type": "display_data"
    },
    {
     "data": {
      "image/png": "[encoded data removed]",
      "text/plain": [
       "<Figure size 864x288 with 1 Axes>"
      ]
     },
     "metadata": {
      "needs_background": "light"
     },
     "output_type": "display_data"
    }
   ],
   "source": [
    "plt.clf()\n",
    "plt.figure(figsize = [12, 4]);\n",
    "\n",
    "x = np.linspace(0, 20, 1000);\n",
    "x_lower = np.linspace(0, x_s, 1000)\n",
    "x_upper = np.linspace(x_s, x_cutoff, 1000)\n",
    "\n",
    "\n",
    "plt.plot(x, planck_distribution(x), label='Verteilung');\n",
    "plt.plot(xmax_planck, max_planck, '.', label='Maximum');\n",
    "plt.plot(x_lower, np.ones(len(x_lower)) * max_planck, '-', label='Einhüllende');\n",
    "plt.plot(x_upper, t(x_upper) + max_planck, '-', label='Einhüllende');\n",
    "\n",
    "plt.legend();"
   ]
  },
  {
   "cell_type": "markdown",
   "metadata": {},
   "source": [
    "Bestimmte die Transformationsvorschrift, um die gleichverteilten Zufallszahlen in \n",
    "$g_2(x)=200Nx^{-0.1}\\exp\\left(-x^{0.9}\\right)$ zu transformieren.Bestimme zunächst die Normierung:\n",
    "\n",
    "$$\\begin{aligned}\n",
    "1&=\\int_{x_s}^{x_cutoff} 200Nx^{-0.1}\\exp\\left(-x^{0.9}\\right)\\mathrm{d}x\\\\\n",
    "\\Leftrightarrow \\quad N&=\\frac{-2000}{9}\\left(\\exp\\left(-x_{cutoff}^{0.9}\\right)-\\exp\\left(-x_s^{0.9}\\right)\\right)^{-1}\n",
    "\\end{aligned}$$\n",
    "\n",
    "Nun die Transformationsvorschrift\n",
    "$$\\begin{aligned}\n",
    "F(x)&=200N\\int_{x_s}^{x} x'^{-0.1}\\exp\\left(-x'^{0.9}\\right)\\mathrm{d}x\\\\\n",
    "&=200N\\left[\\exp\\left(-x^{0.9}\\right)-\\exp\\left(-x_s'^{0.9}\\right)\\right]\\overset{!}{=}u\\\\\n",
    "\\Leftrightarrow \\quad T(u):= x &= \\left(-\\ln\\left(\\frac{-9u}{2000N}+\\exp\\left(-x_s^{0.9}\\right)\\right)\\right)^\\frac{10}{9}\n",
    "\\end{aligned}$$"
   ]
  },
  {
   "cell_type": "code",
   "execution_count": 432,
   "metadata": {},
   "outputs": [],
   "source": [
    "def T(u, x_s, x_cutoff):\n",
    "    N = np.pi**4/15\n",
    "    N_new = -9/(2000) /(np.exp(-x_cutoff**(0.9))-np.exp(-x_s**(0.9)))\n",
    "    return (-np.log(-9*u / (2000*N_new) + np.exp(-x_s**(0.9))) )**(10/9)"
   ]
  },
  {
   "cell_type": "code",
   "execution_count": 485,
   "metadata": {},
   "outputs": [],
   "source": [
    "randomnumbers = np.random.uniform(size=10000)\n",
    "xrandom_g2 = T(randomnumbers, x_s, x_cutoff)"
   ]
  },
  {
   "cell_type": "code",
   "execution_count": 493,
   "metadata": {},
   "outputs": [
    {
     "name": "stderr",
     "output_type": "stream",
     "text": [
      "/home/beckstev/.local/anaconda3/lib/python3.7/site-packages/matplotlib/axes/_axes.py:6571: UserWarning: The 'normed' kwarg is deprecated, and has been replaced by the 'density' kwarg.\n",
      "  warnings.warn(\"The 'normed' kwarg is deprecated, and has been \"\n"
     ]
    },
    {
     "data": {
      "text/plain": [
       "<matplotlib.legend.Legend at 0x7f9da0a0d908>"
      ]
     },
     "execution_count": 493,
     "metadata": {},
     "output_type": "execute_result"
    },
    {
     "data": {
      "image/png": "[encoded data removed]",
      "text/plain": [
       "<Figure size 864x288 with 1 Axes>"
      ]
     },
     "metadata": {
      "needs_background": "light"
     },
     "output_type": "display_data"
    }
   ],
   "source": [
    "plt.figure(figsize = [12, 4]);\n",
    "test = np.linspace(x_s, x_cutoff, 2000)\n",
    "plt.hist(yrandom_g2, bins=np.linspace(x_s, x_cutoff, 100), normed=True, label ='Zufallszahlen');\n",
    "\n",
    "plt.plot(x_2, planck_distribution(x_2)/max_planck, label='PlanckVerteilung');\n",
    "plt.legend()"
   ]
  },
  {
   "cell_type": "markdown",
   "metadata": {},
   "source": [
    "Die Transformation schaut gut aus. Deutlich ist zu erkennen, wie die die Zufallsverteilung über der Planck-Verteilung liegt."
   ]
  },
  {
   "cell_type": "code",
   "execution_count": 494,
   "metadata": {},
   "outputs": [
    {
     "name": "stderr",
     "output_type": "stream",
     "text": [
      "/home/beckstev/.local/anaconda3/lib/python3.7/site-packages/ipykernel_launcher.py:1: DeprecationWarning: object of type <class 'float'> cannot be safely interpreted as an integer.\n",
      "  \"\"\"Entry point for launching an IPython kernel.\n",
      "/home/beckstev/.local/anaconda3/lib/python3.7/site-packages/ipykernel_launcher.py:2: DeprecationWarning: object of type <class 'float'> cannot be safely interpreted as an integer.\n",
      "  \n"
     ]
    },
    {
     "name": "stdout",
     "output_type": "stream",
     "text": [
      "100000 100000\n"
     ]
    }
   ],
   "source": [
    "x_1 = np.linspace(0, x_s, number_of_numbers/50)\n",
    "x_2 = np.linspace(x_s, x_cutoff, number_of_numbers/50)\n",
    "\n",
    "xrandom_g1 = np.random.uniform(0, x_s, size=number_of_numbers)\n",
    "yrandom_g1 = np.random.uniform(0, max_planck+1, size=number_of_numbers)\n",
    "\n",
    "\n",
    "randomnumbers = np.random.uniform(size=number_of_numbers)\n",
    "xrandom_g2 = T(randomnumbers, x_s, x_cutoff)\n",
    "yrandom_g2= t(xrandom_g2) + max_planck\n",
    "print(len(xrandom_g2), len(yrandom_g2))\n",
    "\n",
    "#randomplanck_g1 = neumann_random(xrandom_g1, yrandom_g1, x_1, planck_distribution(x_1))\n",
    "randomplanck_g2 = neumann_random(xrandom_g2, yrandom_g2, x_2, planck_distribution(x_2)*2)"
   ]
  },
  {
   "cell_type": "code",
   "execution_count": 507,
   "metadata": {},
   "outputs": [
    {
     "name": "stdout",
     "output_type": "stream",
     "text": [
      "[(6.125390320954112, 1), (6.124663048848243, 1)]\n",
      "[(0.04550858698888052, 3), (0.07959211130910071, 3)]\n"
     ]
    }
   ],
   "source": [
    "print(collections.Counter(randomplanck_g2).most_common(2))\n",
    "print(collections.Counter( randomplanck_g1).most_common(2))"
   ]
  },
  {
   "cell_type": "code",
   "execution_count": 508,
   "metadata": {},
   "outputs": [
    {
     "data": {
      "image/png": "[encoded data removed]",
      "text/plain": [
       "<Figure size 432x288 with 1 Axes>"
      ]
     },
     "metadata": {
      "needs_background": "light"
     },
     "output_type": "display_data"
    }
   ],
   "source": [
    "plt.hist(randomplanck_g1, bins=np.linspace(0, x_s, 100));\n",
    "plt.hist(randomplanck_g2, bins=np.linspace(x_s, x_cutoff, 100));"
   ]
  },
  {
   "cell_type": "markdown",
   "metadata": {},
   "source": [
    "## Aufgabe 9"
   ]
  },
  {
   "cell_type": "code",
   "execution_count": 566,
   "metadata": {},
   "outputs": [],
   "source": [
    "def metropolis_algorithmus(x_start, step_size, PDF, length):\n",
    "    x_sample = [x_start]\n",
    "    for i in range(length):\n",
    "        \n",
    "        x_new = np.random.uniform(x_sample[-1]-step_size, x_sample[-1]+step_size)\n",
    "        M_ij = min((1, PDF(x_new)/PDF(x_sample[-1]) ))\n",
    "        \n",
    "        zeta = np.random.uniform()\n",
    "        #print('\\n', PDF(x_new)/PDF(x_sample[-1]),M_ij,zeta)\n",
    "        if zeta <= M_ij:\n",
    "            #print('Angenommen')\n",
    "            x_sample.append(x_new)\n",
    "        else:\n",
    "            #print('Rejected')\n",
    "            x_sample.append(x_sample[-1])  \n",
    "    \n",
    "    return np.array(x_sample)"
   ]
  },
  {
   "cell_type": "markdown",
   "metadata": {},
   "source": [
    "Generiere nochmal Planck Verteilte Zahlen:"
   ]
  },
  {
   "cell_type": "code",
   "execution_count": 567,
   "metadata": {},
   "outputs": [],
   "source": [
    "sample_x = metropolis_algorithmus(30, 2, planck_distribution, 1000000)"
   ]
  },
  {
   "cell_type": "code",
   "execution_count": 568,
   "metadata": {},
   "outputs": [
    {
     "data": {
      "image/png": "[encoded data removed]",
      "text/plain": [
       "<Figure size 432x288 with 1 Axes>"
      ]
     },
     "metadata": {
      "needs_background": "light"
     },
     "output_type": "display_data"
    }
   ],
   "source": [
    "plt.hist(sample_x, bins=np.linspace(0, 20, 50));"
   ]
  },
  {
   "cell_type": "code",
   "execution_count": null,
   "metadata": {},
   "outputs": [],
   "source": []
  }
 ],
 "metadata": {
  "kernelspec": {
   "display_name": "Python 3",
   "language": "python",
   "name": "python3"
  },
  "language_info": {
   "codemirror_mode": {
    "name": "ipython",
    "version": 3
   },
   "file_extension": ".py",
   "mimetype": "text/x-python",
   "name": "python",
   "nbconvert_exporter": "python",
   "pygments_lexer": "ipython3",
   "version": "3.7.0"
  }
 },
 "nbformat": 4,
 "nbformat_minor": 2
}
