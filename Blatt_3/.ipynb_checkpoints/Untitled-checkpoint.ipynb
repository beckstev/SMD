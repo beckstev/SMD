{
 "cells": [
  {
   "cell_type": "markdown",
   "metadata": {},
   "source": [
    "# SMD Übungszettel Nr.3"
   ]
  },
  {
   "cell_type": "markdown",
   "metadata": {},
   "source": [
    "__Abagbe von: Pape, Kusurmann, Becker__"
   ]
  },
  {
   "cell_type": "code",
   "execution_count": 1,
   "metadata": {},
   "outputs": [],
   "source": [
    "import numpy as np\n",
    "import matplotlib.pyplot as plt\n",
    "import scipy.optimize \n",
    "from joblib import Parallel, delayed\n",
    "import collections\n",
    "\n",
    "np.random.seed(8)"
   ]
  },
  {
   "cell_type": "markdown",
   "metadata": {},
   "source": [
    "## Aufgabe 8"
   ]
  },
  {
   "cell_type": "code",
   "execution_count": 2,
   "metadata": {},
   "outputs": [],
   "source": [
    "def neumann_random(random_numbers_x, random_numbers_y, real_x_values, real_y_values):\n",
    "    good_number = []\n",
    "    for i in range(len(real_x_values)):\n",
    "        possible_u_1_index = np.abs(random_numbers_x - real_x_values[i]) < 1e-3\n",
    "        possible_u_2_index = random_numbers_y < real_y_values[i]\n",
    "        valid_numbers = random_numbers_x[(possible_u_1_index == True) & (possible_u_2_index == True)]\n",
    "       \n",
    "        good_number.extend(valid_numbers.tolist())\n",
    "\n",
    "    return np.array(good_number) "
   ]
  },
  {
   "cell_type": "code",
   "execution_count": 3,
   "metadata": {},
   "outputs": [],
   "source": [
    "def neumann_random_new(random_x, random_y, number_of_numbers, xmin, xmax, function):\n",
    "    random_numbers = random_x[random_y <= function(random_x)]\n",
    "    if len(random_numbers) < number_of_numbers:\n",
    "        more_random_numbers = []\n",
    "        garbage_counter = 0\n",
    "        while len(more_random_numbers) + len(random_numbers) < number_of_numbers:\n",
    "            xnumber = np.random.uniform(xmin, xmax)\n",
    "            if len(random_x[random_x == xnumber] != 0):\n",
    "                print('Doppel Ziehung')\n",
    "            else:\n",
    "                ynumber = np.random.uniform()\n",
    "                if ynumber <= function(xnumber):\n",
    "                    more_random_numbers.append(xnumber)\n",
    "                else:\n",
    "                    garbage_counter += 1\n",
    "        return np.append(random_numbers, np.array(more_random_numbers)), garbage_counter        \n",
    "    else:\n",
    "        return random_numbers, 0 "
   ]
  },
  {
   "cell_type": "code",
   "execution_count": 4,
   "metadata": {},
   "outputs": [],
   "source": [
    "def planck_distribution(x):\n",
    "    return 15/np.pi**4 * (x**3) / (np.exp(x) - 1)"
   ]
  },
  {
   "cell_type": "markdown",
   "metadata": {},
   "source": [
    "Bestimmte Maximum der Planckverteilung:\n",
    "\n",
    "$$\\begin{aligned}\n",
    "f(x)&=N\\frac{x^3}{\\exp(x)-1}\\\\\n",
    "f'(x)&=N\\left(\\frac{3x^2(\\exp(x)-1)-x^3\\exp(x)}{\\left(\\exp(x)-1\\right)^2}\\right)\\overset{!}{=}0\\\\\n",
    "\\Rightarrow \\quad h(x)&:=\\exp(x)(3-x)-3=0\n",
    "\\end{aligned}$$\n",
    "Verwende die Funktion `brentq`, um die Nullstellen der Funktion $g(x)$ zu bestimmen."
   ]
  },
  {
   "cell_type": "code",
   "execution_count": 5,
   "metadata": {},
   "outputs": [],
   "source": [
    "def h(x):\n",
    "    return np.exp(x) * (3 - x) - 3"
   ]
  },
  {
   "cell_type": "code",
   "execution_count": 6,
   "metadata": {},
   "outputs": [
    {
     "name": "stdout",
     "output_type": "stream",
     "text": [
      "Maximum der Planck Verteilung 0.21888647009110665\n"
     ]
    }
   ],
   "source": [
    "xmax_planck =  scipy.optimize.brentq(h, 2, 10)\n",
    "max_planck = planck_distribution(xmax_planck)\n",
    "print('Maximum der Planck Verteilung', max_planck)"
   ]
  },
  {
   "cell_type": "code",
   "execution_count": 7,
   "metadata": {},
   "outputs": [
    {
     "name": "stderr",
     "output_type": "stream",
     "text": [
      "/home/beckstev/.local/anaconda3/lib/python3.7/site-packages/ipykernel_launcher.py:2: RuntimeWarning: invalid value encountered in true_divide\n",
      "  \n"
     ]
    },
    {
     "data": {
      "image/png": "[encoded data removed]",
      "text/plain": [
       "<Figure size 864x288 with 1 Axes>"
      ]
     },
     "metadata": {
      "needs_background": "light"
     },
     "output_type": "display_data"
    }
   ],
   "source": [
    "x = np.linspace(0, 20, 1000);\n",
    "plt.figure(figsize = [12, 4]);\n",
    "plt.plot(x, planck_distribution(x), label='Verteilung');\n",
    "plt.plot(xmax_planck, max_planck, '.', label='Maximum');\n",
    "plt.legend();"
   ]
  },
  {
   "cell_type": "markdown",
   "metadata": {},
   "source": [
    "Deutlich zu erkennen ist, dass die bestimmte Nullstelle der Funktion $g(x)$ den Maximalwert \n",
    "der Planck Verteilung erzeugt."
   ]
  },
  {
   "cell_type": "markdown",
   "metadata": {},
   "source": [
    "Eigenschaften der Verteilung:"
   ]
  },
  {
   "cell_type": "code",
   "execution_count": 8,
   "metadata": {},
   "outputs": [],
   "source": [
    "number_of_numbers = 100000\n",
    "x_cutoff = 20"
   ]
  },
  {
   "cell_type": "code",
   "execution_count": 9,
   "metadata": {},
   "outputs": [
    {
     "name": "stdout",
     "output_type": "stream",
     "text": [
      "100000\n"
     ]
    },
    {
     "name": "stderr",
     "output_type": "stream",
     "text": [
      "/home/beckstev/.local/anaconda3/lib/python3.7/site-packages/ipykernel_launcher.py:1: DeprecationWarning: object of type <class 'float'> cannot be safely interpreted as an integer.\n",
      "  \"\"\"Entry point for launching an IPython kernel.\n"
     ]
    }
   ],
   "source": [
    "x = np.linspace(0, x_cutoff, number_of_numbers/50)\n",
    "\n",
    "xrandom = np.random.uniform(0, x_cutoff, size=number_of_numbers)\n",
    "yrandom = np.random.uniform(0, max_planck+1, size=number_of_numbers)\n",
    "print(len(yrandom))"
   ]
  },
  {
   "cell_type": "code",
   "execution_count": 10,
   "metadata": {},
   "outputs": [
    {
     "name": "stderr",
     "output_type": "stream",
     "text": [
      "/home/beckstev/.local/anaconda3/lib/python3.7/site-packages/ipykernel_launcher.py:2: RuntimeWarning: invalid value encountered in true_divide\n",
      "  \n",
      "/home/beckstev/.local/anaconda3/lib/python3.7/site-packages/ipykernel_launcher.py:5: RuntimeWarning: invalid value encountered in less\n",
      "  \"\"\"\n"
     ]
    }
   ],
   "source": [
    "planck_random = neumann_random(xrandom, yrandom, x, planck_distribution(x));"
   ]
  },
  {
   "cell_type": "code",
   "execution_count": 11,
   "metadata": {},
   "outputs": [
    {
     "data": {
      "text/plain": [
       "<Figure size 432x288 with 0 Axes>"
      ]
     },
     "metadata": {},
     "output_type": "display_data"
    },
    {
     "data": {
      "image/png": "[encoded data removed]",
      "text/plain": [
       "<Figure size 864x288 with 1 Axes>"
      ]
     },
     "metadata": {
      "needs_background": "light"
     },
     "output_type": "display_data"
    }
   ],
   "source": [
    "plt.clf()\n",
    "plt.figure(figsize = [12, 4]);\n",
    "plt.hist(planck_random, bins=np.linspace(0, x_cutoff, 5 * x_cutoff));"
   ]
  },
  {
   "cell_type": "code",
   "execution_count": 12,
   "metadata": {},
   "outputs": [],
   "source": [
    "test, garbage_old = neumann_random_new(xrandom, yrandom, 100000, 0, x_cutoff, planck_distribution)\n",
    "\n",
    "#plt.hist(neumann_random_new(xrandom, yrandom, 10, planck_distribution), bins=np.linspace(0, x_cutoff, 5 * x_cutoff));"
   ]
  },
  {
   "cell_type": "code",
   "execution_count": 13,
   "metadata": {},
   "outputs": [
    {
     "name": "stdout",
     "output_type": "stream",
     "text": [
      "1817268\n"
     ]
    }
   ],
   "source": [
    "print(garbage_old)"
   ]
  },
  {
   "cell_type": "code",
   "execution_count": 14,
   "metadata": {},
   "outputs": [
    {
     "data": {
      "image/png": "[encoded data removed]",
      "text/plain": [
       "<Figure size 864x288 with 1 Axes>"
      ]
     },
     "metadata": {
      "needs_background": "light"
     },
     "output_type": "display_data"
    }
   ],
   "source": [
    "plt.figure(figsize = [12, 4]);\n",
    "plt.hist(test, np.linspace(0, x_cutoff, 5 * x_cutoff));"
   ]
  },
  {
   "cell_type": "markdown",
   "metadata": {},
   "source": [
    "### Aufgabenteil b)\n",
    "Bestimme zunächst den Schnittpunkt der beiden Teilfunktion von $g(x)$:\n",
    "\n",
    "$$\\begin{aligned}\n",
    "y_\\mathrm{max}&=200Nx^{-0.1}\\exp(-x^{0,9})\\\\\n",
    "0&=200Nx^{-0.1}\\exp(-x^{0,9})-y_\\mathrm{max}=:t(x)\n",
    "\\end{aligned}$$\n",
    "\n",
    "Verwende wieder wie oben die Funktion `brentq`, um die Nullstelle zu bestimmen."
   ]
  },
  {
   "cell_type": "code",
   "execution_count": 15,
   "metadata": {},
   "outputs": [],
   "source": [
    "def t(x):\n",
    "    ymax = 0.21888647009110665\n",
    "    return 200 * 15/np.pi**4 * x**(-0.1) * np.exp(-x**(0.9)) - ymax"
   ]
  },
  {
   "cell_type": "code",
   "execution_count": 16,
   "metadata": {},
   "outputs": [
    {
     "name": "stdout",
     "output_type": "stream",
     "text": [
      "x_s liegt bei 5.678208598337558\n"
     ]
    }
   ],
   "source": [
    "x_s = scipy.optimize.brentq(t, 2, 10)\n",
    "print('x_s liegt bei',x_s)"
   ]
  },
  {
   "cell_type": "code",
   "execution_count": 17,
   "metadata": {},
   "outputs": [
    {
     "name": "stderr",
     "output_type": "stream",
     "text": [
      "/home/beckstev/.local/anaconda3/lib/python3.7/site-packages/ipykernel_launcher.py:2: RuntimeWarning: invalid value encountered in true_divide\n",
      "  \n"
     ]
    },
    {
     "data": {
      "text/plain": [
       "<Figure size 432x288 with 0 Axes>"
      ]
     },
     "metadata": {},
     "output_type": "display_data"
    },
    {
     "data": {
      "image/png": "[encoded data removed]",
      "text/plain": [
       "<Figure size 864x288 with 1 Axes>"
      ]
     },
     "metadata": {
      "needs_background": "light"
     },
     "output_type": "display_data"
    }
   ],
   "source": [
    "plt.clf()\n",
    "plt.figure(figsize = [12, 4]);\n",
    "\n",
    "x = np.linspace(0, 20, 1000);\n",
    "x_lower = np.linspace(0, x_s, 1000)\n",
    "x_upper = np.linspace(x_s, x_cutoff, 1000)\n",
    "\n",
    "\n",
    "plt.plot(x, planck_distribution(x), label='Verteilung');\n",
    "plt.plot(xmax_planck, max_planck, '.', label='Maximum');\n",
    "plt.plot(x_lower, np.ones(len(x_lower)) * max_planck, '-', label=r'$Einhüllende \\, g_1(x)$');\n",
    "plt.plot(x_upper, t(x_upper) + max_planck, '-', label=r'$Einhüllende\\, g_2(x)$');\n",
    "\n",
    "plt.legend();"
   ]
  },
  {
   "cell_type": "markdown",
   "metadata": {},
   "source": [
    "Bestimmte die Transformationsvorschrift, um die gleichverteilten Zufallszahlen in \n",
    "$g_2(x)=200Nx^{-0.1}\\exp\\left(-x^{0.9}\\right)$ zu transformieren.Bestimme zunächst die Normierung:\n",
    "\n",
    "$$\\begin{aligned}\n",
    "1&=\\int_{x_s}^{x_ {cutoff}} 200Nx^{-0.1}\\exp\\left(-x^{0.9}\\right)\\mathrm{d}x\\\\\n",
    "\\Leftrightarrow \\quad N&=\\frac{-9}{2000}\\left(\\exp\\left(-x_{cutoff}^{0.9}\\right)-\\exp\\left(-x_s^{0.9}\\right)\\right)^{-1}\n",
    "\\end{aligned}$$\n",
    "\n",
    "Nun die Transformationsvorschrift\n",
    "$$\\begin{aligned}\n",
    "F(x)&=\\frac{2000N}{9}\\int_{x_s}^{x} x'^{-0.1}\\exp\\left(-x'^{0.9}\\right)\\mathrm{d}x\\\\\n",
    "&=-\\frac{2000N}{9}\\left[\\exp\\left(-x^{0.9}\\right)-\\exp\\left(-x_s'^{0.9}\\right)\\right]\\overset{!}{=}u\\\\\n",
    "\\Leftrightarrow \\quad T(u):= x &= \\left(-\\ln\\left(\\frac{-9u}{2000N}+\\exp\\left(-x_s^{0.9}\\right)\\right)\\right)^\\frac{10}{9}\n",
    "\\end{aligned}$$"
   ]
  },
  {
   "cell_type": "code",
   "execution_count": 18,
   "metadata": {},
   "outputs": [],
   "source": [
    "def T(u, x_s = 5.678208598337558, x_cutoff = 20):\n",
    "    N_new = -9/(2000) /(np.exp(-x_cutoff**(0.9))-np.exp(-x_s**(0.9)))\n",
    "    return (-np.log(-9*u / (2000*N_new) + np.exp(-x_s**(0.9))) )**(10/9)"
   ]
  },
  {
   "cell_type": "code",
   "execution_count": 19,
   "metadata": {},
   "outputs": [
    {
     "ename": "NameError",
     "evalue": "name 'randomnumbers' is not defined",
     "output_type": "error",
     "traceback": [
      "\u001b[0;31m---------------------------------------------------------------------------\u001b[0m",
      "\u001b[0;31mNameError\u001b[0m                                 Traceback (most recent call last)",
      "\u001b[0;32m<ipython-input-19-fe0c644c6292>\u001b[0m in \u001b[0;36m<module>\u001b[0;34m()\u001b[0m\n\u001b[1;32m      1\u001b[0m \u001b[0mplt\u001b[0m\u001b[0;34m.\u001b[0m\u001b[0mfigure\u001b[0m\u001b[0;34m(\u001b[0m\u001b[0mfigsize\u001b[0m \u001b[0;34m=\u001b[0m \u001b[0;34m[\u001b[0m\u001b[0;36m12\u001b[0m\u001b[0;34m,\u001b[0m \u001b[0;36m4\u001b[0m\u001b[0;34m]\u001b[0m\u001b[0;34m)\u001b[0m\u001b[0;34m;\u001b[0m\u001b[0;34m\u001b[0m\u001b[0m\n\u001b[1;32m      2\u001b[0m \u001b[0mtest\u001b[0m \u001b[0;34m=\u001b[0m \u001b[0mnp\u001b[0m\u001b[0;34m.\u001b[0m\u001b[0mlinspace\u001b[0m\u001b[0;34m(\u001b[0m\u001b[0mx_s\u001b[0m\u001b[0;34m,\u001b[0m \u001b[0mx_cutoff\u001b[0m\u001b[0;34m,\u001b[0m \u001b[0;36m2000\u001b[0m\u001b[0;34m)\u001b[0m\u001b[0;34m\u001b[0m\u001b[0m\n\u001b[0;32m----> 3\u001b[0;31m \u001b[0mxrandom_g2\u001b[0m \u001b[0;34m=\u001b[0m \u001b[0mT\u001b[0m\u001b[0;34m(\u001b[0m\u001b[0mrandomnumbers\u001b[0m\u001b[0;34m)\u001b[0m\u001b[0;34m\u001b[0m\u001b[0m\n\u001b[0m\u001b[1;32m      4\u001b[0m \u001b[0mplt\u001b[0m\u001b[0;34m.\u001b[0m\u001b[0mhist\u001b[0m\u001b[0;34m(\u001b[0m\u001b[0mxrandom_g2\u001b[0m\u001b[0;34m,\u001b[0m \u001b[0mbins\u001b[0m\u001b[0;34m=\u001b[0m\u001b[0mnp\u001b[0m\u001b[0;34m.\u001b[0m\u001b[0mlinspace\u001b[0m\u001b[0;34m(\u001b[0m\u001b[0mx_s\u001b[0m\u001b[0;34m,\u001b[0m \u001b[0mx_cutoff\u001b[0m\u001b[0;34m,\u001b[0m \u001b[0;36m100\u001b[0m\u001b[0;34m)\u001b[0m\u001b[0;34m,\u001b[0m \u001b[0mnormed\u001b[0m\u001b[0;34m=\u001b[0m\u001b[0;32mTrue\u001b[0m\u001b[0;34m,\u001b[0m \u001b[0mlabel\u001b[0m \u001b[0;34m=\u001b[0m\u001b[0;34m'Zufallszahlen'\u001b[0m\u001b[0;34m)\u001b[0m\u001b[0;34m;\u001b[0m\u001b[0;34m\u001b[0m\u001b[0m\n\u001b[1;32m      5\u001b[0m \u001b[0mplt\u001b[0m\u001b[0;34m.\u001b[0m\u001b[0mplot\u001b[0m\u001b[0;34m(\u001b[0m\u001b[0mtestx\u001b[0m\u001b[0;34m,\u001b[0m \u001b[0mmajoranten_function_g2\u001b[0m\u001b[0;34m(\u001b[0m\u001b[0mtestx\u001b[0m\u001b[0;34m)\u001b[0m\u001b[0;34m,\u001b[0m \u001b[0mlabel\u001b[0m\u001b[0;34m=\u001b[0m\u001b[0;34m'Majorante'\u001b[0m\u001b[0;34m)\u001b[0m\u001b[0;34m\u001b[0m\u001b[0m\n",
      "\u001b[0;31mNameError\u001b[0m: name 'randomnumbers' is not defined"
     ]
    },
    {
     "data": {
      "text/plain": [
       "<Figure size 864x288 with 0 Axes>"
      ]
     },
     "metadata": {},
     "output_type": "display_data"
    }
   ],
   "source": [
    "plt.figure(figsize = [12, 4]);\n",
    "test = np.linspace(x_s, x_cutoff, 2000)\n",
    "#xrandom_g2 = T(randomnumbers)\n",
    "plt.hist(xrandom_g2, bins=np.linspace(x_s, x_cutoff, 100), normed=True, label ='Zufallszahlen');\n",
    "plt.plot(testx, majoranten_function_g2(testx), label='Majorante')\n",
    "plt.plot(test, planck_distribution(test)/max_planck, label='PlanckVerteilung');\n",
    "plt.legend()\n"
   ]
  },
  {
   "cell_type": "code",
   "execution_count": null,
   "metadata": {},
   "outputs": [],
   "source": [
    "plt.figure(figsize = [12, 4]);\n",
    "test = np.linspace(x_s, x_cutoff, 2000)\n",
    "plt.hist(xrandom_g2, bins=np.linspace(x_s, x_cutoff, 100), normed=True, label ='Zufallszahlen');\n",
    "plt.plot(testx, majoranten_function_g2(testx), label='Majorante')\n",
    "plt.plot(test, planck_distribution(test)/max_planck, label='PlanckVerteilung');\n",
    "plt.legend()\n",
    "plt.ylim(0,0.04)\n",
    "plt.xlim(8, x_cutoff)"
   ]
  },
  {
   "cell_type": "markdown",
   "metadata": {},
   "source": [
    "Die Transformation besitzt die Form einer Planck Verteilung. Jedoch ist deutlich zu erkennen, dass im Bereich von $x\\,\\tilde{\\in}\\left[9,13\\right]$ die Majorante **keine** Majorante ist."
   ]
  },
  {
   "cell_type": "code",
   "execution_count": null,
   "metadata": {},
   "outputs": [],
   "source": [
    "def neumann_majoranten(random_x, random_y, number_of_numbers, majoranten_intervall, majoranten_function, function):\n",
    "    random_numbers = random_x[random_y <= function(random_x)]\n",
    "    more_random_numbers = []\n",
    "    intervall = []\n",
    "    x_transformed_list=[]\n",
    "    if len(random_numbers) < number_of_numbers:\n",
    "        garbage_counter = 0\n",
    "        \n",
    "        while len(more_random_numbers) + len(random_numbers) < number_of_numbers:\n",
    "            # majoranten_intervall is a list of tupels\n",
    "            xintervall = np.random.uniform(majoranten_intervall[0][0], majoranten_intervall[-1][-1])*0.0867    \n",
    "            \n",
    "           \n",
    "            for intervall_number in range(len(majoranten_intervall)):\n",
    "                 # check in wich intervall xintervall belongs\n",
    "                if xintervall <= majoranten_intervall[intervall_number][-1]:\n",
    "                    intervall.append(intervall_number)\n",
    "                    # check if intervall has a majorant function\n",
    "                    if majoranten_function[intervall_number][0]!= None:\n",
    "                        # transform a uniform x with calculated transformation function\n",
    "                        x_transformed = majoranten_function[intervall_number][0](np.random.uniform())\n",
    "                        x_transformed_list.append(x_transformed)\n",
    "                        #check if x_transformed already exists in random_x\n",
    "                        if len(random_x[random_x == x_transformed])!= 0:\n",
    "                            print('Doppel Ziehung')\n",
    "                        else:\n",
    "                            y_random = np.random.uniform()\n",
    "                            \n",
    "                            #print(y_random * majoranten_function[intervall_number][1](x_transformed), function(x_transformed))\n",
    "                            # accept x_transformed as random number, if the condition from the lecture is True\n",
    "                            if y_random * majoranten_function[intervall_number][1](x_transformed) < function(x_transformed):\n",
    "                                #print('Akzeptiert')\n",
    "                                more_random_numbers.append(x_transformed)\n",
    "                            else:\n",
    "                                #print('Rejected')\n",
    "                                garbage_counter += 1\n",
    "                    else:\n",
    "                        xnumber = np.random.uniform(majoranten_intervall[intervall_number][0], majoranten_intervall[intervall_number][-1])\n",
    "                        # If the intervall does not have any majorantfunction, just do normal rejection sampling\n",
    "                        if len(random_x[random_x == xnumber]) != 0:\n",
    "                            print('Doppel Ziehung')\n",
    "                        else:\n",
    "                            ynumber = np.random.uniform()\n",
    "                            if ynumber <= function(xnumber):\n",
    "                                more_random_numbers.append(xnumber)\n",
    "                            else:\n",
    "                                garbage_counter += 1      \n",
    "                else:\n",
    "                    pass \n",
    "        return np.append(random_numbers, np.array(more_random_numbers)), garbage_counter, np.array(intervall), np.array(x_transformed_list)\n",
    "    else:\n",
    "        return np.append(random_numbers, np.array(more_random_numbers)), 0"
   ]
  },
  {
   "cell_type": "code",
   "execution_count": null,
   "metadata": {},
   "outputs": [],
   "source": [
    "def majoranten_function_g2(x):\n",
    "    N_new = -9/(2000) /(np.exp(-x_cutoff**(0.9))-np.exp(-x_s**(0.9)))\n",
    "    return 200 * N_new * x**(-0.1) * np.exp(-x**(0.9))"
   ]
  },
  {
   "cell_type": "code",
   "execution_count": null,
   "metadata": {},
   "outputs": [],
   "source": [
    "xrandom_g2 = T(randomnumbers)\n",
    "yrandom_g2 = t(xrandom_g2)\n",
    "\n",
    "# Created intervalls, which I can use in neumann_majoranten function\n",
    "majoranten_intervall = [(0, x_s), (x_s, x_cutoff)]\n",
    "# Each Intervall owns a transformation function, T and a majoranten function. If it have a constant majorante\n",
    "# I choosed the argument None, at will do normal rejection sampling\n",
    "\n",
    "majoranten_function = [(None, None), (T, majoranten_function_g2)]\n",
    "\n",
    "\n",
    "test, garbage, intervall, xtransformed = neumann_majoranten(np.array([1]), np.array([1]), 10000, majoranten_intervall, majoranten_function, planck_distribution)"
   ]
  },
  {
   "cell_type": "code",
   "execution_count": null,
   "metadata": {},
   "outputs": [],
   "source": [
    "print(len(test), garbage)\n",
    "print(collections.Counter(test).most_common(1))\n",
    "plt.hist(test, bins=np.linspace(0, x_cutoff, 100), normed=True)"
   ]
  },
  {
   "cell_type": "code",
   "execution_count": null,
   "metadata": {},
   "outputs": [],
   "source": [
    "plt.hist(intervall);"
   ]
  },
  {
   "cell_type": "code",
   "execution_count": null,
   "metadata": {},
   "outputs": [],
   "source": [
    "x = np.linspace(0.001, x_s)\n",
    "sum_lower = sum(planck_distribution(x))\n",
    "\n",
    "x= np.linspace(x_s, x_cutoff)\n",
    "sum_upper = sum(planck_distribution(x))\n",
    "\n",
    "\n",
    "sum_upper/sum_lower"
   ]
  },
  {
   "cell_type": "code",
   "execution_count": null,
   "metadata": {},
   "outputs": [],
   "source": [
    "x = np.linspace(5, 20, 100)\n",
    "xnorm = np.linspace(0,1, 100)\n",
    "plt.hist(xtransformed, bins=np.linspace(5,20,50),normed=True);\n",
    "#plt.plot(x, planck_distribution(x), label='Planck')\n",
    "#plt.plot(xnorm, T(xnorm), label ='Majorante')\n",
    "plt.plot(x, majoranten_function_g2(x), label='Majorante')\n",
    "plt.axvline(x_s)\n",
    "plt.ylim(0, 0.6)\n",
    "plt.xlim(6,20)\n",
    "plt.legend()"
   ]
  },
  {
   "cell_type": "markdown",
   "metadata": {},
   "source": [
    "Es ergibt sich die Form der Planck Verteilung, jedoch ist die Verteilung nicht stetig. \n",
    "Es werden zu viele Zahlen im Intervall $x>x_S$ akzeptiert."
   ]
  },
  {
   "cell_type": "code",
   "execution_count": null,
   "metadata": {},
   "outputs": [],
   "source": [
    "x_1 = np.linspace(0, x_s, number_of_numbers)\n",
    "x_2 = np.linspace(x_s, x_cutoff, number_of_numbers)\n",
    "\n",
    "xrandom_g1 = np.random.uniform(0, x_s, size=number_of_numbers)\n",
    "yrandom_g1 = np.random.uniform(0, max_planck+1, size=number_of_numbers)\n",
    "\n",
    "\n",
    "randomnumbers = np.random.uniform(size=number_of_numbers)\n",
    "xrandom_g2 = T(randomnumbers, x_s, x_cutoff)\n",
    "yrandom_g2 = np.random.uniform(size=number_of_numbers)\n",
    "\n",
    "randomplanck_g1 = neumann_random(xrandom_g1, yrandom_g1, x_1, planck_distribution(x_1));\n",
    "randomplanck_g2 = neumann_random(xrandom_g2, yrandom_g2, x_2, planck_distribution(x_2)/ majoranten_function_g2(xrandom_g2) );"
   ]
  },
  {
   "cell_type": "code",
   "execution_count": null,
   "metadata": {},
   "outputs": [],
   "source": [
    "plt.hist(randomplanck_g1, bins=np.linspace(0, x_s, 100));\n",
    "plt.hist(randomplanck_g2, bins=np.linspace(x_s, x_cutoff, 100));"
   ]
  },
  {
   "cell_type": "markdown",
   "metadata": {},
   "source": [
    "Das gleiche Problem zeigt sich auch, wenn das _Von Neumann Verfahren_ für jedes Intervall einzelt verwendet wird. Bei diesem Verfahren kann die Anzahl der Randomnumbers aber nicht festgelegt werden."
   ]
  },
  {
   "cell_type": "markdown",
   "metadata": {},
   "source": [
    "## Aufgabe 9"
   ]
  },
  {
   "cell_type": "code",
   "execution_count": null,
   "metadata": {},
   "outputs": [],
   "source": [
    "def metropolis_algorithmus(x_start, step_size, PDF, length):\n",
    "    x_sample = [x_start]\n",
    "    i_list = [0]\n",
    "    for i in range(length):\n",
    "        i_list.append(i)\n",
    "        x_new = np.random.uniform(x_sample[-1]-step_size, x_sample[-1]+step_size)\n",
    "        if x_new < 0:\n",
    "            x_sample.append(x_sample[-1])\n",
    "        else:\n",
    "            M_ij = min((1, PDF(x_new)/PDF(x_sample[-1])))    \n",
    "            zeta = np.random.uniform()\n",
    "            #print('\\n', PDF(x_new)/PDF(x_sample[-1]),M_ij,zeta)\n",
    "            if zeta <= M_ij:\n",
    "                x_sample.append(x_new)\n",
    "            else:\n",
    "                x_sample.append(x_sample[-1])  \n",
    "    \n",
    "    return np.array(x_sample), i_list"
   ]
  },
  {
   "cell_type": "markdown",
   "metadata": {},
   "source": [
    "Generiere nochmal Planck Verteilte Zahlen:"
   ]
  },
  {
   "cell_type": "code",
   "execution_count": null,
   "metadata": {},
   "outputs": [],
   "source": [
    "sample_x, i_list = metropolis_algorithmus(30, 2, planck_distribution, 100000);"
   ]
  },
  {
   "cell_type": "code",
   "execution_count": null,
   "metadata": {},
   "outputs": [],
   "source": [
    "plt.hist(sample_x, bins = np.linspace(0, 20, 100));"
   ]
  },
  {
   "cell_type": "code",
   "execution_count": null,
   "metadata": {},
   "outputs": [],
   "source": [
    "#plt.hist(sample_x, bins=np.linspace(0, 20, 10));\n",
    "plt.plot(i_list, sample_x)\n",
    "plt.xlabel('Iteraration step')\n",
    "plt.ylabel('Random number')\n",
    "plt.xscale('log')"
   ]
  },
  {
   "cell_type": "code",
   "execution_count": null,
   "metadata": {},
   "outputs": [],
   "source": [
    "y"
   ]
  }
 ],
 "metadata": {
  "kernelspec": {
   "display_name": "Python 3",
   "language": "python",
   "name": "python3"
  },
  "language_info": {
   "codemirror_mode": {
    "name": "ipython",
    "version": 3
   },
   "file_extension": ".py",
   "mimetype": "text/x-python",
   "name": "python",
   "nbconvert_exporter": "python",
   "pygments_lexer": "ipython3",
   "version": "3.7.0"
  }
 },
 "nbformat": 4,
 "nbformat_minor": 2
}
