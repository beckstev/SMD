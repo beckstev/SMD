{
 "cells": [
  {
   "cell_type": "markdown",
   "metadata": {},
   "source": [
    "# SMD Übungszettel Nr.3"
   ]
  },
  {
   "cell_type": "markdown",
   "metadata": {},
   "source": [
    "__Abagbe von: Pape, Kusurmann, Becker__"
   ]
  },
  {
   "cell_type": "code",
   "execution_count": 1,
   "metadata": {},
   "outputs": [],
   "source": [
    "import numpy as np\n",
    "import matplotlib.pyplot as plt\n",
    "import scipy.optimize \n",
    "from joblib import Parallel, delayed\n",
    "import collections\n",
    "\n",
    "np.random.seed(8)"
   ]
  },
  {
   "cell_type": "markdown",
   "metadata": {},
   "source": [
    "## Aufgabe 8"
   ]
  },
  {
   "cell_type": "code",
   "execution_count": 159,
   "metadata": {},
   "outputs": [],
   "source": [
    "def neumann_random(random_numbers_x, random_numbers_y, real_x_values, real_y_values):\n",
    "    good_number = []\n",
    "    for i in range(len(real_x_values)):\n",
    "        possible_u_1_index = np.abs(random_numbers_x - real_x_values[i]) < 1e-3\n",
    "        possible_u_2_index = random_numbers_y < real_y_values[i]\n",
    "        valid_numbers = random_numbers_x[(possible_u_1_index == True) & (possible_u_2_index == True)]\n",
    "       \n",
    "        good_number.extend(valid_numbers.tolist())\n",
    "\n",
    "    return np.array(good_number) "
   ]
  },
  {
   "cell_type": "code",
   "execution_count": 154,
   "metadata": {},
   "outputs": [],
   "source": [
    "def neumann_random_new(random_x, random_y, number_of_numbers, xmin, xmax, function):\n",
    "    random_numbers = random_x[random_y <= function(random_x)]\n",
    "    if len(random_numbers) < number_of_numbers:\n",
    "        more_random_numbers = []\n",
    "        garbage_counter = 0\n",
    "        while len(more_random_numbers) + len(random_numbers) < number_of_numbers:\n",
    "            xnumber = np.random.uniform(xmin, xmax)\n",
    "            if len(random_x[random_x == xnumber] != 0):\n",
    "                print('Doppel Ziehung')\n",
    "            else:\n",
    "                ynumber = np.random.uniform()\n",
    "                if ynumber <= function(xnumber):\n",
    "                    more_random_numbers.append(xnumber)\n",
    "                else:\n",
    "                    garbage_counter += 1\n",
    "        return np.append(random_numbers, np.array(more_random_numbers)), garbage_counter        \n",
    "    else:\n",
    "        return random_numbers, 0 "
   ]
  },
  {
   "cell_type": "code",
   "execution_count": 45,
   "metadata": {},
   "outputs": [],
   "source": [
    "def planck_distribution(x):\n",
    "    return 15/np.pi**4 * (x**3) / (np.exp(x) - 1)"
   ]
  },
  {
   "cell_type": "markdown",
   "metadata": {},
   "source": [
    "Bestimmte Maximum der Planckverteilung:\n",
    "\n",
    "$$\\begin{aligned}\n",
    "f(x)&=N\\frac{x^3}{\\exp(x)-1}\\\\\n",
    "f'(x)&=N\\left(\\frac{3x^2(\\exp(x)-1)-x^3\\exp(x)}{\\left(\\exp(x)-1\\right)^2}\\right)\\overset{!}{=}0\\\\\n",
    "\\Rightarrow \\quad h(x)&:=\\exp(x)(3-x)-3=0\n",
    "\\end{aligned}$$\n",
    "Verwende die Funktion `brentq`, um die Nullstellen der Funktion $g(x)$ zu bestimmen."
   ]
  },
  {
   "cell_type": "code",
   "execution_count": 4,
   "metadata": {},
   "outputs": [],
   "source": [
    "def h(x):\n",
    "    return np.exp(x) * (3 - x) - 3"
   ]
  },
  {
   "cell_type": "code",
   "execution_count": 47,
   "metadata": {},
   "outputs": [
    {
     "name": "stdout",
     "output_type": "stream",
     "text": [
      "Maximum der Planck Verteilung 0.21888647009110665\n"
     ]
    }
   ],
   "source": [
    "xmax_planck =  scipy.optimize.brentq(h, 2, 10)\n",
    "max_planck = planck_distribution(xmax_planck)\n",
    "print('Maximum der Planck Verteilung', max_planck)"
   ]
  },
  {
   "cell_type": "code",
   "execution_count": 48,
   "metadata": {},
   "outputs": [
    {
     "name": "stderr",
     "output_type": "stream",
     "text": [
      "/home/beckstev/.local/anaconda3/lib/python3.7/site-packages/ipykernel_launcher.py:2: RuntimeWarning: invalid value encountered in true_divide\n",
      "  \n"
     ]
    },
    {
     "data": {
      "image/png": "[encoded data removed]",
      "text/plain": [
       "<Figure size 864x288 with 1 Axes>"
      ]
     },
     "metadata": {
      "needs_background": "light"
     },
     "output_type": "display_data"
    }
   ],
   "source": [
    "x = np.linspace(0, 20, 1000);\n",
    "plt.figure(figsize = [12, 4]);\n",
    "plt.plot(x, planck_distribution(x), label='Verteilung');\n",
    "plt.plot(xmax_planck, max_planck, '.', label='Maximum');\n",
    "plt.legend();"
   ]
  },
  {
   "cell_type": "markdown",
   "metadata": {},
   "source": [
    "Deutlich zu erkennen ist, dass die bestimmte Nullstelle der Funktion $g(x)$ den Maximalwert \n",
    "der Planck Verteilung erzeugt."
   ]
  },
  {
   "cell_type": "markdown",
   "metadata": {},
   "source": [
    "Eigenschaften der Verteilung:"
   ]
  },
  {
   "cell_type": "code",
   "execution_count": 7,
   "metadata": {},
   "outputs": [],
   "source": [
    "number_of_numbers = 100000\n",
    "x_cutoff = 20"
   ]
  },
  {
   "cell_type": "code",
   "execution_count": 49,
   "metadata": {},
   "outputs": [
    {
     "name": "stdout",
     "output_type": "stream",
     "text": [
      "100000\n"
     ]
    },
    {
     "name": "stderr",
     "output_type": "stream",
     "text": [
      "/home/beckstev/.local/anaconda3/lib/python3.7/site-packages/ipykernel_launcher.py:1: DeprecationWarning: object of type <class 'float'> cannot be safely interpreted as an integer.\n",
      "  \"\"\"Entry point for launching an IPython kernel.\n"
     ]
    }
   ],
   "source": [
    "x = np.linspace(0, x_cutoff, number_of_numbers/50)\n",
    "\n",
    "xrandom = np.random.uniform(0, x_cutoff, size=number_of_numbers)\n",
    "yrandom = np.random.uniform(0, max_planck+1, size=number_of_numbers)\n",
    "print(len(yrandom))"
   ]
  },
  {
   "cell_type": "code",
   "execution_count": 9,
   "metadata": {},
   "outputs": [
    {
     "name": "stderr",
     "output_type": "stream",
     "text": [
      "/home/beckstev/.local/anaconda3/lib/python3.7/site-packages/ipykernel_launcher.py:2: RuntimeWarning: invalid value encountered in true_divide\n",
      "  \n",
      "/home/beckstev/.local/anaconda3/lib/python3.7/site-packages/ipykernel_launcher.py:5: RuntimeWarning: invalid value encountered in less\n",
      "  \"\"\"\n"
     ]
    }
   ],
   "source": [
    "planck_random = neumann_random(xrandom, yrandom, x, planck_distribution(x));"
   ]
  },
  {
   "cell_type": "code",
   "execution_count": 146,
   "metadata": {},
   "outputs": [
    {
     "data": {
      "text/plain": [
       "<Figure size 432x288 with 0 Axes>"
      ]
     },
     "metadata": {},
     "output_type": "display_data"
    },
    {
     "data": {
      "image/png": "[encoded data removed]",
      "text/plain": [
       "<Figure size 864x288 with 1 Axes>"
      ]
     },
     "metadata": {
      "needs_background": "light"
     },
     "output_type": "display_data"
    }
   ],
   "source": [
    "plt.clf()\n",
    "plt.figure(figsize = [12, 4]);\n",
    "plt.hist(planck_random, bins=np.linspace(0, x_cutoff, 5 * x_cutoff));"
   ]
  },
  {
   "cell_type": "code",
   "execution_count": 153,
   "metadata": {},
   "outputs": [],
   "source": [
    "test, garbage = neumann_random_new(xrandom, yrandom, 100000, 0, x_cutoff, planck_distribution)\n",
    "\n",
    "#plt.hist(neumann_random_new(xrandom, yrandom, 10, planck_distribution), bins=np.linspace(0, x_cutoff, 5 * x_cutoff));"
   ]
  },
  {
   "cell_type": "code",
   "execution_count": 156,
   "metadata": {},
   "outputs": [
    {
     "data": {
      "image/png": "[encoded data removed]",
      "text/plain": [
       "<Figure size 864x288 with 1 Axes>"
      ]
     },
     "metadata": {
      "needs_background": "light"
     },
     "output_type": "display_data"
    }
   ],
   "source": [
    "plt.figure(figsize = [12, 4]);\n",
    "plt.hist(test, np.linspace(0, x_cutoff, 5 * x_cutoff));"
   ]
  },
  {
   "cell_type": "markdown",
   "metadata": {},
   "source": [
    "### Aufgabenteil b)\n",
    "Bestimme zunächst den Schnittpunkt der beiden Teilfunktion von $g(x)$:\n",
    "\n",
    "$$\\begin{aligned}\n",
    "y_\\mathrm{max}&=200Nx^{-0.1}\\exp(-x^{0,9})\\\\\n",
    "0&=200Nx^{-0.1}\\exp(-x^{0,9})-y_\\mathrm{max}=:t(x)\n",
    "\\end{aligned}$$\n",
    "\n",
    "Verwende wieder wie oben die Funktion `brentq`, um die Nullstelle zu bestimmen."
   ]
  },
  {
   "cell_type": "code",
   "execution_count": 66,
   "metadata": {},
   "outputs": [],
   "source": [
    "def t(x):\n",
    "    ymax = 0.21888647009110665\n",
    "    return 200 * 15/np.pi**4 * x**(-0.1) * np.exp(-x**(0.9)) - ymax"
   ]
  },
  {
   "cell_type": "code",
   "execution_count": 238,
   "metadata": {},
   "outputs": [
    {
     "name": "stdout",
     "output_type": "stream",
     "text": [
      "x_s liegt bei 5.678208598337558\n"
     ]
    }
   ],
   "source": [
    "x_s = scipy.optimize.brentq(t, 2, 10)\n",
    "print('x_s liegt bei',x_s)"
   ]
  },
  {
   "cell_type": "code",
   "execution_count": 68,
   "metadata": {},
   "outputs": [
    {
     "name": "stderr",
     "output_type": "stream",
     "text": [
      "/home/beckstev/.local/anaconda3/lib/python3.7/site-packages/ipykernel_launcher.py:2: RuntimeWarning: invalid value encountered in true_divide\n",
      "  \n"
     ]
    },
    {
     "data": {
      "text/plain": [
       "<Figure size 432x288 with 0 Axes>"
      ]
     },
     "metadata": {},
     "output_type": "display_data"
    },
    {
     "data": {
      "image/png": "[encoded data removed]",
      "text/plain": [
       "<Figure size 864x288 with 1 Axes>"
      ]
     },
     "metadata": {
      "needs_background": "light"
     },
     "output_type": "display_data"
    }
   ],
   "source": [
    "plt.clf()\n",
    "plt.figure(figsize = [12, 4]);\n",
    "\n",
    "x = np.linspace(0, 20, 1000);\n",
    "x_lower = np.linspace(0, x_s, 1000)\n",
    "x_upper = np.linspace(x_s, x_cutoff, 1000)\n",
    "\n",
    "\n",
    "plt.plot(x, planck_distribution(x), label='Verteilung');\n",
    "plt.plot(xmax_planck, max_planck, '.', label='Maximum');\n",
    "plt.plot(x_lower, np.ones(len(x_lower)) * max_planck, '-', label=r'$Einhüllende \\, g_1(x)$');\n",
    "plt.plot(x_upper, t(x_upper) + max_planck, '-', label=r'$Einhüllende\\, g_2(x)$');\n",
    "\n",
    "plt.legend();"
   ]
  },
  {
   "cell_type": "markdown",
   "metadata": {},
   "source": [
    "Bestimmte die Transformationsvorschrift, um die gleichverteilten Zufallszahlen in \n",
    "$g_2(x)=200Nx^{-0.1}\\exp\\left(-x^{0.9}\\right)$ zu transformieren.Bestimme zunächst die Normierung:\n",
    "\n",
    "$$\\begin{aligned}\n",
    "1&=\\int_{x_s}^{x_ {cutoff}} 200Nx^{-0.1}\\exp\\left(-x^{0.9}\\right)\\mathrm{d}x\\\\\n",
    "\\Leftrightarrow \\quad N&=\\frac{-2000}{9}\\left(\\exp\\left(-x_{cutoff}^{0.9}\\right)-\\exp\\left(-x_s^{0.9}\\right)\\right)^{-1}\n",
    "\\end{aligned}$$\n",
    "\n",
    "Nun die Transformationsvorschrift\n",
    "$$\\begin{aligned}\n",
    "F(x)&=\\frac{2000N}{9}\\int_{x_s}^{x} x'^{-0.1}\\exp\\left(-x'^{0.9}\\right)\\mathrm{d}x\\\\\n",
    "&=-\\frac{2000N}{9}\\left[\\exp\\left(-x^{0.9}\\right)-\\exp\\left(-x_s'^{0.9}\\right)\\right]\\overset{!}{=}u\\\\\n",
    "\\Leftrightarrow \\quad T(u):= x &= \\left(-\\ln\\left(\\frac{-9u}{2000N}+\\exp\\left(-x_s^{0.9}\\right)\\right)\\right)^\\frac{10}{9}\n",
    "\\end{aligned}$$"
   ]
  },
  {
   "cell_type": "code",
   "execution_count": 212,
   "metadata": {},
   "outputs": [],
   "source": [
    "def T(u, x_s = 5.678208598337558, x_cutoff = 20):\n",
    "    N_new = -9/(2000) /(np.exp(-x_cutoff**(0.9))-np.exp(-x_s**(0.9)))\n",
    "    return (-np.log(-9*u / (2000*N_new) + np.exp(-x_s**(0.9))) )**(10/9)"
   ]
  },
  {
   "cell_type": "code",
   "execution_count": 270,
   "metadata": {},
   "outputs": [
    {
     "name": "stdout",
     "output_type": "stream",
     "text": [
      "[ 5.6782086   5.67953238  5.68085752  5.68218402  5.68351189  5.68484112\n",
      "  5.68617172  5.68750369  5.68883704  5.69017177  5.69150787  5.69284536\n",
      "  5.69418423  5.69552449  5.69686615  5.69820919  5.69955364  5.70089948\n",
      "  5.70224673  5.70359539  5.70494545  5.70629692  5.70764981  5.70900412\n",
      "  5.71035985  5.711717    5.71307557  5.71443558  5.71579702  5.71715989\n",
      "  5.7185242   5.71988996  5.72125715  5.7226258   5.72399589  5.72536744\n",
      "  5.72674044  5.72811491  5.72949083  5.73086823  5.73224709  5.73362742\n",
      "  5.73500923  5.73639251  5.73777728  5.73916353  5.74055126  5.74194049\n",
      "  5.74333121  5.74472343  5.74611715  5.74751237  5.7489091   5.75030734\n",
      "  5.75170709  5.75310835  5.75451114  5.75591545  5.75732128  5.75872864\n",
      "  5.76013754  5.76154797  5.76295994  5.76437345  5.76578851  5.76720512\n",
      "  5.76862328  5.77004299  5.77146427  5.7728871   5.7743115   5.77573748\n",
      "  5.77716502  5.77859414  5.78002484  5.78145712  5.78289099  5.78432645\n",
      "  5.7857635   5.78720215  5.7886424   5.79008425  5.79152771  5.79297279\n",
      "  5.79441947  5.79586778  5.7973177   5.79876925  5.80022243  5.80167724\n",
      "  5.80313369  5.80459178  5.80605151  5.80751289  5.80897592  5.8104406\n",
      "  5.81190694  5.81337495  5.81484461  5.81631595  5.81778896  5.81926365\n",
      "  5.82074002  5.82221807  5.82369781  5.82517924  5.82666237  5.82814719\n",
      "  5.82963372  5.83112196  5.83261191  5.83410357  5.83559696  5.83709206\n",
      "  5.83858889  5.84008746  5.84158775  5.84308979  5.84459357  5.84609909\n",
      "  5.84760637  5.8491154   5.85062619  5.85213874  5.85365306  5.85516914\n",
      "  5.85668701  5.85820665  5.85972808  5.86125129  5.86277629  5.86430309\n",
      "  5.86583169  5.8673621   5.86889431  5.87042833  5.87196417  5.87350183\n",
      "  5.87504132  5.87658264  5.87812579  5.87967077  5.8812176   5.88276628\n",
      "  5.88431681  5.88586919  5.88742343  5.88897954  5.89053752  5.89209736\n",
      "  5.89365909  5.8952227   5.89678819  5.89835558  5.89992486  5.90149604\n",
      "  5.90306912  5.90464412  5.90622103  5.90779985  5.9093806   5.91096328\n",
      "  5.91254789  5.91413443  5.91572292  5.91731335  5.91890574  5.92050007\n",
      "  5.92209637  5.92369464  5.92529487  5.92689708  5.92850127  5.93010745\n",
      "  5.93171561  5.93332576  5.93493792  5.93655208  5.93816825  5.93978643\n",
      "  5.94140663  5.94302885  5.94465311  5.94627939  5.94790772  5.94953809\n",
      "  5.9511705   5.95280497  5.9544415   5.9560801   5.95772076  5.9593635\n",
      "  5.96100832  5.96265522  5.96430421  5.9659553   5.96760849  5.96926378\n",
      "  5.97092119  5.97258071  5.97424236  5.97590613  5.97757203  5.97924007\n",
      "  5.98091026  5.98258259  5.98425708  5.98593372  5.98761254  5.98929352\n",
      "  5.99097668  5.99266202  5.99434955  5.99603927  5.99773119  5.99942532\n",
      "  6.00112165  6.00282021  6.00452098  6.00622398  6.00792921  6.00963668\n",
      "  6.0113464   6.01305837  6.01477259  6.01648907  6.01820783  6.01992885\n",
      "  6.02165216  6.02337775  6.02510564  6.02683582  6.02856831  6.03030311\n",
      "  6.03204022  6.03377965  6.03552142  6.03726551  6.03901195  6.04076074\n",
      "  6.04251188  6.04426538  6.04602124  6.04777948  6.04954009  6.05130309\n",
      "  6.05306848  6.05483627  6.05660646  6.05837906  6.06015408  6.06193152\n",
      "  6.06371139  6.0654937   6.06727845  6.06906565  6.07085531  6.07264743\n",
      "  6.07444202  6.07623909  6.07803864  6.07984068  6.08164522  6.08345226\n",
      "  6.08526181  6.08707388  6.08888847  6.09070559  6.09252526  6.09434746\n",
      "  6.09617222  6.09799954  6.09982943  6.10166189  6.10349693  6.10533456\n",
      "  6.10717478  6.10901761  6.11086304  6.1127111   6.11456177  6.11641508\n",
      "  6.11827103  6.12012963  6.12199087  6.12385478  6.12572136  6.12759062\n",
      "  6.12946256  6.13133719  6.13321452  6.13509456  6.13697731  6.13886279\n",
      "  6.140751    6.14264194  6.14453563  6.14643208  6.14833128  6.15023326\n",
      "  6.15213801  6.15404555  6.15595589  6.15786902  6.15978497  6.16170373\n",
      "  6.16362532  6.16554975  6.16747702  6.16940714  6.17134012  6.17327597\n",
      "  6.17521469  6.1771563   6.1791008   6.18104821  6.18299852  6.18495175\n",
      "  6.18690792  6.18886701  6.19082906  6.19279405  6.19476201  6.19673294\n",
      "  6.19870686  6.20068376  6.20266365  6.20464656  6.20663248  6.20862143\n",
      "  6.21061341  6.21260844  6.21460652  6.21660766  6.21861187  6.22061916\n",
      "  6.22262955  6.22464303  6.22665962  6.22867933  6.23070217  6.23272814\n",
      "  6.23475727  6.23678954  6.23882499  6.24086361  6.24290542  6.24495042\n",
      "  6.24699863  6.24905006  6.25110471  6.2531626   6.25522373  6.25728812\n",
      "  6.25935577  6.2614267   6.26350092  6.26557844  6.26765926  6.2697434\n",
      "  6.27183087  6.27392168  6.27601583  6.27811335  6.28021424  6.2823185\n",
      "  6.28442617  6.28653723  6.28865171  6.29076961  6.29289095  6.29501573\n",
      "  6.29714397  6.29927568  6.30141087  6.30354956  6.30569174  6.30783744\n",
      "  6.30998666  6.31213942  6.31429573  6.3164556   6.31861904  6.32078607\n",
      "  6.32295669  6.32513091  6.32730876  6.32949023  6.33167535  6.33386412\n",
      "  6.33605656  6.33825268  6.34045249  6.342656    6.34486323  6.34707419\n",
      "  6.34928888  6.35150733  6.35372955  6.35595554  6.35818532  6.36041891\n",
      "  6.36265632  6.36489755  6.36714263  6.36939156  6.37164436  6.37390104\n",
      "  6.37616162  6.37842611  6.38069451  6.38296686  6.38524315  6.3875234\n",
      "  6.38980763  6.39209585  6.39438807  6.39668431  6.39898458  6.4012889\n",
      "  6.40359727  6.40590972  6.40822626  6.41054689  6.41287165  6.41520053\n",
      "  6.41753357  6.41987076  6.42221212  6.42455767  6.42690743  6.42926141\n",
      "  6.43161962  6.43398208  6.43634881  6.43871981  6.44109511  6.44347472\n",
      "  6.44585866  6.44824693  6.45063957  6.45303658  6.45543797  6.45784377\n",
      "  6.46025399  6.46266865  6.46508776  6.46751133  6.4699394   6.47237196\n",
      "  6.47480904  6.47725066  6.47969683  6.48214757  6.48460289  6.48706282\n",
      "  6.48952736  6.49199654  6.49447038  6.49694888  6.49943208  6.50191998\n",
      "  6.5044126   6.50690997  6.50941209  6.51191899  6.51443069  6.5169472\n",
      "  6.51946854  6.52199474  6.5245258   6.52706175  6.5296026   6.53214838\n",
      "  6.53469911  6.53725479  6.53981546  6.54238113  6.54495182  6.54752754\n",
      "  6.55010833  6.5526942   6.55528516  6.55788125  6.56048247  6.56308885\n",
      "  6.56570041  6.56831717  6.57093915  6.57356638  6.57619886  6.57883662\n",
      "  6.58147969  6.58412808  6.58678182  6.58944092  6.59210542  6.59477532\n",
      "  6.59745065  6.60013144  6.60281771  6.60550947  6.60820675  6.61090958\n",
      "  6.61361797  6.61633194  6.61905153  6.62177675  6.62450763  6.62724419\n",
      "  6.62998645  6.63273444  6.63548818  6.63824769  6.64101301  6.64378414\n",
      "  6.64656112  6.64934398  6.65213273  6.6549274   6.65772801  6.6605346\n",
      "  6.66334718  6.66616578  6.66899043  6.67182115  6.67465797  6.67750091\n",
      "  6.68035001  6.68320528  6.68606676  6.68893446  6.69180842  6.69468867\n",
      "  6.69757522  6.70046812  6.70336738  6.70627304  6.70918511  6.71210364\n",
      "  6.71502865  6.71796016  6.72089821  6.72384282  6.72679402  6.72975185\n",
      "  6.73271633  6.73568749  6.73866537  6.74164998  6.74464137  6.74763956\n",
      "  6.75064458  6.75365646  6.75667524  6.75970095  6.76273361  6.76577327\n",
      "  6.76881994  6.77187367  6.77493448  6.77800241  6.7810775   6.78415976\n",
      "  6.78724925  6.79034598  6.79345     6.79656134  6.79968003  6.80280611\n",
      "  6.80593961  6.80908057  6.81222902  6.81538499  6.81854853  6.82171967\n",
      "  6.82489844  6.82808489  6.83127904  6.83448094  6.83769062  6.84090812\n",
      "  6.84413348  6.84736673  6.85060792  6.85385708  6.85711425  6.86037947\n",
      "  6.86365279  6.86693423  6.87022384  6.87352166  6.87682774  6.8801421\n",
      "  6.8834648   6.88679587  6.89013536  6.89348331  6.89683976  6.90020475\n",
      "  6.90357833  6.90696053  6.91035142  6.91375102  6.91715938  6.92057655\n",
      "  6.92400258  6.9274375   6.93088136  6.93433422  6.93779611  6.94126708\n",
      "  6.94474719  6.94823647  6.95173498  6.95524277  6.95875988  6.96228636\n",
      "  6.96582226  6.96936763  6.97292253  6.976487    6.98006109  6.98364486\n",
      "  6.98723836  6.99084164  6.99445475  6.99807774  7.00171068  7.00535361\n",
      "  7.00900658  7.01266966  7.0163429   7.02002635  7.02372008  7.02742413\n",
      "  7.03113857  7.03486344  7.03859882  7.04234476  7.04610132  7.04986856\n",
      "  7.05364653  7.0574353   7.06123494  7.0650455   7.06886704  7.07269963\n",
      "  7.07654333  7.0803982   7.08426431  7.08814173  7.09203052  7.09593074\n",
      "  7.09984247  7.10376576  7.1077007   7.11164734  7.11560575  7.11957601\n",
      "  7.12355819  7.12755235  7.13155857  7.13557692  7.13960747  7.1436503\n",
      "  7.14770548  7.15177309  7.15585319  7.15994588  7.16405121  7.16816928\n",
      "  7.17230016  7.17644393  7.18060067  7.18477046  7.18895338  7.19314952\n",
      "  7.19735894  7.20158175  7.20581803  7.21006785  7.2143313   7.21860848\n",
      "  7.22289947  7.22720436  7.23152323  7.23585618  7.2402033   7.24456469\n",
      "  7.24894042  7.2533306   7.25773533  7.26215469  7.26658879  7.27103771\n",
      "  7.27550157  7.27998046  7.28447448  7.28898373  7.29350831  7.29804833\n",
      "  7.3026039   7.30717511  7.31176208  7.31636491  7.32098371  7.32561859\n",
      "  7.33026966  7.33493704  7.33962084  7.34432117  7.34903815  7.35377189\n",
      "  7.35852252  7.36329016  7.36807492  7.37287692  7.3776963   7.38253317\n",
      "  7.38738767  7.39225991  7.39715003  7.40205816  7.40698442  7.41192896\n",
      "  7.41689191  7.42187341  7.42687358  7.43189257  7.43693053  7.44198759\n",
      "  7.4470639   7.4521596   7.45727484  7.46240976  7.46756453  7.47273929\n",
      "  7.4779342   7.48314941  7.48838508  7.49364136  7.49891843  7.50421644\n",
      "  7.50953556  7.51487595  7.52023779  7.52562125  7.53102649  7.5364537\n",
      "  7.54190305  7.54737473  7.5528689   7.55838577  7.5639255   7.5694883\n",
      "  7.57507435  7.58068385  7.58631698  7.59197396  7.59765498  7.60336024\n",
      "  7.60908995  7.61484431  7.62062354  7.62642786  7.63225747  7.6381126\n",
      "  7.64399347  7.6499003   7.65583333  7.66179278  7.66777889  7.67379189\n",
      "  7.67983202  7.68589953  7.69199467  7.69811768  7.70426883  7.71044835\n",
      "  7.71665652  7.72289361  7.72915987  7.73545558  7.74178101  7.74813645\n",
      "  7.75452218  7.76093848  7.76738564  7.77386397  7.78037375  7.7869153\n",
      "  7.79348892  7.80009493  7.80673364  7.81340538  7.82011047  7.82684924\n",
      "  7.83362204  7.84042919  7.84727106  7.85414798  7.86106033  7.86800846\n",
      "  7.87499273  7.88201354  7.88907125  7.89616625  7.90329893  7.9104697\n",
      "  7.91767896  7.92492711  7.93221458  7.93954179  7.94690918  7.95431717\n",
      "  7.96176622  7.96925678  7.97678932  7.98436429  7.99198217  7.99964346\n",
      "  8.00734864  8.01509821  8.02289268  8.03073258  8.03861842  8.04655074\n",
      "  8.0545301   8.06255704  8.07063213  8.07875595  8.08692908  8.09515212\n",
      "  8.10342568  8.11175037  8.12012683  8.12855569  8.13703761  8.14557326\n",
      "  8.15416331  8.16280846  8.17150941  8.18026687  8.18908159  8.1979543\n",
      "  8.20688576  8.21587676  8.22492808  8.23404054  8.24321494  8.25245215\n",
      "  8.261753    8.27111838  8.28054918  8.29004632  8.29961071  8.30924332\n",
      "  8.31894511  8.32871707  8.33856023  8.3484756   8.35846426  8.36852728\n",
      "  8.37866577  8.38888085  8.39917368  8.40954545  8.41999735  8.43053064\n",
      "  8.44114657  8.45184643  8.46263156  8.47350332  8.48446308  8.49551227\n",
      "  8.50665236  8.51788483  8.52921122  8.5406331   8.55215206  8.56376978\n",
      "  8.57548792  8.58730824  8.59923251  8.61126256  8.62340027  8.63564756\n",
      "  8.6480064   8.66047885  8.67306697  8.68577292  8.69859891  8.71154719\n",
      "  8.72462012  8.73782008  8.75114955  8.76461107  8.77820726  8.79194082\n",
      "  8.80581453  8.81983124  8.83399392  8.8483056   8.86276943  8.87738865\n",
      "  8.89216661  8.90710674  8.92221264  8.93748797  8.95293655  8.96856233\n",
      "  8.98436937  9.00036189  9.01654426  9.032921    9.0494968   9.06627651\n",
      "  9.08326516  9.10046799  9.1178904   9.13553803  9.15341673  9.17153257\n",
      "  9.18989188  9.20850123  9.22736747  9.24649772  9.26589942  9.28558031\n",
      "  9.30554847  9.32581235  9.34638075  9.3672629   9.38846842  9.4100074\n",
      "  9.43189041  9.45412853  9.47673336  9.49971711  9.52309257  9.54687323\n",
      "  9.57107326  9.59570758  9.62079195  9.64634296  9.67237816  9.69891611\n",
      "  9.72597643  9.75357993  9.78174868  9.81050612  9.83987718  9.86988839\n",
      "  9.90056804  9.93194635  9.9640556   9.99693039 10.0306078  10.06512768\n",
      " 10.10053292 10.13686975 10.17418811 10.21254208 10.25199029 10.2925965\n",
      " 10.33443021 10.37756733 10.42209103 10.4680927  10.51567302 10.56494332\n",
      " 10.6160271  10.66906188 10.72420141 10.7816183  10.84150728 10.90408907\n",
      " 10.96961532 11.03837456 11.11069982 11.18697829 11.26766368 11.35329238\n",
      " 11.44450486 11.54207441 11.64694654 11.76029422 11.88359715 12.01875881\n",
      " 12.16828534 12.33556987 12.5253671  12.74463474 13.00414478 13.32190303\n",
      " 13.73153374 14.30796387 15.28586075 20.        ]\n"
     ]
    }
   ],
   "source": [
    "randomnumbers = np.random.uniform(size=10000)\n",
    "\n",
    "xrandom_g2 = T(randomnumbers)\n",
    "\n",
    "testx = T(np.linspace(0,1,1000));"
   ]
  },
  {
   "cell_type": "code",
   "execution_count": 275,
   "metadata": {},
   "outputs": [
    {
     "name": "stderr",
     "output_type": "stream",
     "text": [
      "/home/beckstev/.local/anaconda3/lib/python3.7/site-packages/matplotlib/axes/_axes.py:6571: UserWarning: The 'normed' kwarg is deprecated, and has been replaced by the 'density' kwarg.\n",
      "  warnings.warn(\"The 'normed' kwarg is deprecated, and has been \"\n"
     ]
    },
    {
     "data": {
      "text/plain": [
       "<matplotlib.legend.Legend at 0x7fdcc72627b8>"
      ]
     },
     "execution_count": 275,
     "metadata": {},
     "output_type": "execute_result"
    },
    {
     "data": {
      "image/png": "[encoded data removed]",
      "text/plain": [
       "<Figure size 864x288 with 1 Axes>"
      ]
     },
     "metadata": {
      "needs_background": "light"
     },
     "output_type": "display_data"
    }
   ],
   "source": [
    "plt.figure(figsize = [12, 4]);\n",
    "test = np.linspace(x_s, x_cutoff, 2000)\n",
    "plt.hist(xrandom_g2, bins=np.linspace(x_s, x_cutoff, 100), normed=True, label ='Zufallszahlen');\n",
    "plt.plot(testx, majoranten_function_g2(testx), label='Majorante')\n",
    "plt.plot(test, planck_distribution(test)/max_planck, label='PlanckVerteilung');\n",
    "plt.legend()"
   ]
  },
  {
   "cell_type": "markdown",
   "metadata": {},
   "source": [
    "Die Transformation schaut gut aus. Deutlich ist zu erkennen, wie die die Zufallsverteilung über der Planck-Verteilung liegt."
   ]
  },
  {
   "cell_type": "code",
   "execution_count": 241,
   "metadata": {},
   "outputs": [
    {
     "name": "stderr",
     "output_type": "stream",
     "text": [
      "/home/beckstev/.local/anaconda3/lib/python3.7/site-packages/ipykernel_launcher.py:3: RuntimeWarning: invalid value encountered in log\n",
      "  This is separate from the ipykernel package so we can avoid doing imports until\n"
     ]
    },
    {
     "data": {
      "text/plain": [
       "nan"
      ]
     },
     "execution_count": 241,
     "metadata": {},
     "output_type": "execute_result"
    }
   ],
   "source": [
    "T(t(1))"
   ]
  },
  {
   "cell_type": "code",
   "execution_count": 279,
   "metadata": {},
   "outputs": [],
   "source": [
    "def neumann_majoranten(random_x, random_y, number_of_numbers, majoranten_intervall, majoranten_function, function):\n",
    "    random_numbers = random_x[random_y <= function(random_x)]\n",
    "    more_random_numbers = []\n",
    "    if len(random_numbers) < number_of_numbers:\n",
    "        garbage_counter = 0\n",
    "        \n",
    "        while len(more_random_numbers) + len(random_numbers) < number_of_numbers:\n",
    "            # majoranten_intervall is a list of tupels\n",
    "            xintervall = np.random.uniform(majoranten_intervall[0][0], majoranten_intervall[-1][-1])          \n",
    "            \n",
    "            for intervall_number in range(len(majoranten_intervall)):\n",
    "                if xintervall <= majoranten_intervall[intervall_number][-1]:\n",
    "                    # transform uniform to selected intervall\n",
    "                    if majoranten_function[intervall_number][0]!= None:\n",
    "                        x_transformed = majoranten_function[intervall_number][0](np.random.uniform())\n",
    "                        if len(random_x[random_x == x_transformed])!= 0:\n",
    "                            print('Doppel Ziehung')\n",
    "                        else:\n",
    "                            y_random = np.random.uniform()\n",
    "                            if y_random < function(x_transformed):\n",
    "                                more_random_numbers.append(x_transformed)\n",
    "                            else:\n",
    "                                garbage_counter += 1\n",
    "                    else:\n",
    "                        xnumber = np.random.uniform(majoranten_intervall[intervall_number][0], majoranten_intervall[intervall_number][-1])\n",
    "                        if len(random_x[random_x == xnumber]) != 0:\n",
    "                            print('Doppel Ziehung')\n",
    "                        else:\n",
    "                            ynumber = np.random.uniform()\n",
    "                            if ynumber <= function(xnumber):\n",
    "                                more_random_numbers.append(xnumber)\n",
    "                            else:\n",
    "                                garbage_counter += 1\n",
    "                                     \n",
    "                            \n",
    "                            \n",
    "            \n",
    "                        \n",
    "                        \n",
    "                else:\n",
    "                    pass \n",
    "        return np.append(random_numbers, np.array(more_random_numbers)), garbage_counter\n",
    "    else:\n",
    "        return np.append(random_numbers, np.array(more_random_numbers)), 0"
   ]
  },
  {
   "cell_type": "code",
   "execution_count": 272,
   "metadata": {},
   "outputs": [],
   "source": [
    "def majoranten_function_g2(x):\n",
    "    N_new = -9/(2000) /(np.exp(-x_cutoff**(0.9))-np.exp(-x_s**(0.9)))\n",
    "    return 200 * N_new * x**(-0.1) * np.exp(-x**(0.9))"
   ]
  },
  {
   "cell_type": "code",
   "execution_count": 280,
   "metadata": {},
   "outputs": [],
   "source": [
    "xrandom_g2 = T(randomnumbers, x_s, x_cutoff)\n",
    "yrandom_g2 = t(xrandom_g2)\n",
    "\n",
    "majoranten_intervall = [ (0, x_s), (x_s, x_cutoff)]\n",
    "majoranten_function = [ (None, None), (T, majoranten_function_g2)]\n",
    "\n",
    "test, garbage = neumann_majoranten(np.array([1]), np.array([1]), 10000, majoranten_intervall, majoranten_function, planck_distribution)"
   ]
  },
  {
   "cell_type": "code",
   "execution_count": 281,
   "metadata": {},
   "outputs": [
    {
     "name": "stdout",
     "output_type": "stream",
     "text": [
      "10000 120344\n",
      "12.16538158236032\n"
     ]
    },
    {
     "data": {
      "image/png": "[encoded data removed]",
      "text/plain": [
       "<Figure size 432x288 with 1 Axes>"
      ]
     },
     "metadata": {
      "needs_background": "light"
     },
     "output_type": "display_data"
    }
   ],
   "source": [
    "print(len(test), garbage)\n",
    "print(max(test))\n",
    "plt.hist(test, bins=np.linspace(0, x_cutoff, 100));"
   ]
  },
  {
   "cell_type": "code",
   "execution_count": 175,
   "metadata": {},
   "outputs": [
    {
     "name": "stderr",
     "output_type": "stream",
     "text": [
      "/home/beckstev/.local/anaconda3/lib/python3.7/site-packages/ipykernel_launcher.py:1: DeprecationWarning: object of type <class 'float'> cannot be safely interpreted as an integer.\n",
      "  \"\"\"Entry point for launching an IPython kernel.\n",
      "/home/beckstev/.local/anaconda3/lib/python3.7/site-packages/ipykernel_launcher.py:2: DeprecationWarning: object of type <class 'float'> cannot be safely interpreted as an integer.\n",
      "  \n",
      "/home/beckstev/.local/anaconda3/lib/python3.7/site-packages/ipykernel_launcher.py:2: RuntimeWarning: invalid value encountered in true_divide\n",
      "  \n",
      "/home/beckstev/.local/anaconda3/lib/python3.7/site-packages/ipykernel_launcher.py:5: RuntimeWarning: invalid value encountered in less\n",
      "  \"\"\"\n"
     ]
    },
    {
     "name": "stdout",
     "output_type": "stream",
     "text": [
      "[-0.08292529 -0.04162382 -0.07294326 ... -0.11646115 -0.01654495\n",
      " -0.01037368] [9.67383841e-02 9.64094430e-02 9.60811794e-02 ... 2.57028524e-06\n",
      " 2.55468174e-06 2.53917199e-06]\n"
     ]
    }
   ],
   "source": [
    "x_1 = np.linspace(0, x_s, number_of_numbers/50)\n",
    "x_2 = np.linspace(x_s, x_cutoff, number_of_numbers/50)\n",
    "\n",
    "xrandom_g1 = np.random.uniform(0, x_s, size=number_of_numbers)\n",
    "yrandom_g1 = np.random.uniform(0, max_planck+1, size=number_of_numbers)\n",
    "\n",
    "\n",
    "randomnumbers = np.random.uniform(size=number_of_numbers)\n",
    "xrandom_g2 = T(randomnumbers, x_s, x_cutoff)\n",
    "yrandom_g2 = t(xrandom_g2)\n",
    "\n",
    "print(yrandom_g2,planck_distribution(x_2))\n",
    "randomplanck_g1 = neumann_random(xrandom_g1, yrandom_g1, x_1, planck_distribution(x_1))\n",
    "randomplanck_g2 = neumann_random(xrandom_g2, yrandom_g2, x_2, planck_distribution(x_2))"
   ]
  },
  {
   "cell_type": "code",
   "execution_count": 162,
   "metadata": {},
   "outputs": [
    {
     "name": "stdout",
     "output_type": "stream",
     "text": [
      "[(5.679206686374331, 1), (5.678261663806756, 1)]\n",
      "[(0.12460818231668007, 1), (0.1537108609784788, 1)]\n",
      "8382 27875\n"
     ]
    }
   ],
   "source": [
    "print(collections.Counter(randomplanck_g2).most_common(2))\n",
    "print(collections.Counter(randomplanck_g1).most_common(2))\n",
    "print(len(randomplanck_g1), len(randomplanck_g2))"
   ]
  },
  {
   "cell_type": "code",
   "execution_count": 163,
   "metadata": {},
   "outputs": [
    {
     "data": {
      "image/png": "[encoded data removed]",
      "text/plain": [
       "<Figure size 432x288 with 1 Axes>"
      ]
     },
     "metadata": {
      "needs_background": "light"
     },
     "output_type": "display_data"
    }
   ],
   "source": [
    "plt.hist(randomplanck_g1, bins=np.linspace(0, x_s, 100));\n",
    "plt.hist(randomplanck_g2, bins=np.linspace(x_s, x_cutoff, 100));"
   ]
  },
  {
   "cell_type": "markdown",
   "metadata": {},
   "source": [
    "## Aufgabe 9"
   ]
  },
  {
   "cell_type": "code",
   "execution_count": 20,
   "metadata": {},
   "outputs": [],
   "source": [
    "def metropolis_algorithmus(x_start, step_size, PDF, length):\n",
    "    x_sample = [x_start]\n",
    "    for i in range(length):\n",
    "        \n",
    "        x_new = np.random.uniform(x_sample[-1]-step_size, x_sample[-1]+step_size)\n",
    "        M_ij = min((1, PDF(x_new)/PDF(x_sample[-1]) ))\n",
    "        \n",
    "        zeta = np.random.uniform()\n",
    "        #print('\\n', PDF(x_new)/PDF(x_sample[-1]),M_ij,zeta)\n",
    "        if zeta <= M_ij:\n",
    "            #print('Angenommen')\n",
    "            x_sample.append(x_new)\n",
    "        else:\n",
    "            #print('Rejected')\n",
    "            x_sample.append(x_sample[-1])  \n",
    "    \n",
    "    return np.array(x_sample)"
   ]
  },
  {
   "cell_type": "markdown",
   "metadata": {},
   "source": [
    "Generiere nochmal Planck Verteilte Zahlen:"
   ]
  },
  {
   "cell_type": "code",
   "execution_count": 21,
   "metadata": {},
   "outputs": [],
   "source": [
    "sample_x = metropolis_algorithmus(30, 2, planck_distribution, 1000000)"
   ]
  },
  {
   "cell_type": "code",
   "execution_count": 22,
   "metadata": {},
   "outputs": [
    {
     "data": {
      "image/png": "[encoded data removed]",
      "text/plain": [
       "<Figure size 432x288 with 1 Axes>"
      ]
     },
     "metadata": {
      "needs_background": "light"
     },
     "output_type": "display_data"
    }
   ],
   "source": [
    "plt.hist(sample_x, bins=np.linspace(0, 20, 50));"
   ]
  },
  {
   "cell_type": "code",
   "execution_count": null,
   "metadata": {},
   "outputs": [],
   "source": []
  }
 ],
 "metadata": {
  "kernelspec": {
   "display_name": "Python 3",
   "language": "python",
   "name": "python3"
  },
  "language_info": {
   "codemirror_mode": {
    "name": "ipython",
    "version": 3
   },
   "file_extension": ".py",
   "mimetype": "text/x-python",
   "name": "python",
   "nbconvert_exporter": "python",
   "pygments_lexer": "ipython3",
   "version": "3.7.0"
  }
 },
 "nbformat": 4,
 "nbformat_minor": 2
}
